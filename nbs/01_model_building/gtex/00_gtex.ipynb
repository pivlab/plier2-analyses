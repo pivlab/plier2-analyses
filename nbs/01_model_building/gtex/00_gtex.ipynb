{
 "cells": [
  {
   "cell_type": "markdown",
   "id": "ca81bc7f",
   "metadata": {},
   "source": [
    "# GTEx model building with PLIER2 and PLIER"
   ]
  },
  {
   "cell_type": "markdown",
   "id": "e69fa323",
   "metadata": {
    "vscode": {
     "languageId": "r"
    }
   },
   "source": [
    "# PLIER2"
   ]
  },
  {
   "cell_type": "markdown",
   "id": "be805cf1",
   "metadata": {},
   "source": [
    "## Load libraries"
   ]
  },
  {
   "cell_type": "code",
   "execution_count": 2,
   "id": "b4ed5e6f",
   "metadata": {
    "vscode": {
     "languageId": "r"
    }
   },
   "outputs": [
    {
     "name": "stderr",
     "output_type": "stream",
     "text": [
      "\n",
      "Attaching package: ‘dplyr’\n",
      "\n",
      "\n",
      "The following objects are masked from ‘package:data.table’:\n",
      "\n",
      "    between, first, last\n",
      "\n",
      "\n",
      "The following objects are masked from ‘package:stats’:\n",
      "\n",
      "    filter, lag\n",
      "\n",
      "\n",
      "The following objects are masked from ‘package:base’:\n",
      "\n",
      "    intersect, setdiff, setequal, union\n",
      "\n",
      "\n",
      "Loading required package: Matrix\n",
      "\n",
      "Loaded glmnet 4.1-10\n",
      "\n",
      "here() starts at /home/msubirana/Documents/pivlab/plier2-analyses\n",
      "\n",
      "Loading required package: RColorBrewer\n",
      "\n",
      "Loading required package: gplots\n",
      "\n",
      "\n",
      "Attaching package: ‘gplots’\n",
      "\n",
      "\n",
      "The following object is masked from ‘package:stats’:\n",
      "\n",
      "    lowess\n",
      "\n",
      "\n",
      "Loading required package: pheatmap\n",
      "\n",
      "Loading required package: qvalue\n",
      "\n",
      "\n",
      "Attaching package: ‘PLIER2’\n",
      "\n",
      "\n",
      "The following objects are masked from ‘package:PLIER’:\n",
      "\n",
      "    num.pc, projectPLIER\n",
      "\n",
      "\n"
     ]
    }
   ],
   "source": [
    "if (!requireNamespace(\"PLIER\", quietly = TRUE)) {\n",
    "    devtools::install_github(\"wgmao/PLIER\")\n",
    "}\n",
    "\n",
    "# 3. Install PLIER2 (mchikina/PLIER2) if not already installed\n",
    "if (!requireNamespace(\"PLIER2\", quietly = TRUE)) {\n",
    "    REPO_PATH <- \"/home/msubirana/Documents/pivlab/PLIER2\"  # adjust\n",
    "    remotes::install_local(REPO_PATH, force = TRUE, dependencies = FALSE)\n",
    "}\n",
    "\n",
    "library(bigstatsr)\n",
    "library(data.table)\n",
    "library(dplyr)\n",
    "library(rsvd)\n",
    "library(glmnet)\n",
    "library(Matrix)\n",
    "library(knitr)\n",
    "library(here)\n",
    "library(PLIER)\n",
    "library(PLIER2)\n",
    "\n",
    "source(here(\"config.R\"))"
   ]
  },
  {
   "cell_type": "markdown",
   "id": "fc858c79",
   "metadata": {},
   "source": [
    "## Output directory"
   ]
  },
  {
   "cell_type": "code",
   "execution_count": 3,
   "id": "02f368b4",
   "metadata": {
    "vscode": {
     "languageId": "r"
    }
   },
   "outputs": [],
   "source": [
    "output_data_dir <- config$GTEx$DATASET_FOLDER\n",
    "dir.create(output_data_dir, showWarnings = FALSE, recursive = TRUE)"
   ]
  },
  {
   "cell_type": "markdown",
   "id": "bf137533",
   "metadata": {},
   "source": [
    "## Download GTEx "
   ]
  },
  {
   "cell_type": "code",
   "execution_count": 4,
   "id": "0a2bdbf8",
   "metadata": {
    "vscode": {
     "languageId": "r"
    }
   },
   "outputs": [
    {
     "name": "stderr",
     "output_type": "stream",
     "text": [
      "File already exists, skipping download.\n",
      "\n"
     ]
    }
   ],
   "source": [
    "url <- config$GTEx$URL\n",
    "dest_dir <-  config$GTEx$DATASET_FOLDER\n",
    "dest_gz  <- file.path(dest_dir, basename(url))\n",
    "\n",
    "if (!file.exists(dest_gz)) {\n",
    "  dir.create(dest_dir, recursive = TRUE, showWarnings = FALSE)\n",
    "  download.file(url, dest_gz, mode = \"wb\")\n",
    "  message(\"Downloaded to: \", dest_gz)\n",
    "} else {\n",
    "  message(\"File already exists, skipping download.\")\n",
    "}"
   ]
  },
  {
   "cell_type": "markdown",
   "id": "7680eee5",
   "metadata": {},
   "source": [
    "## Preprocess GTEx data"
   ]
  },
  {
   "cell_type": "code",
   "execution_count": 10,
   "id": "571e5e6b",
   "metadata": {
    "vscode": {
     "languageId": "r"
    }
   },
   "outputs": [
    {
     "name": "stderr",
     "output_type": "stream",
     "text": [
      "Output file already exists. Skipping.\n",
      "\n"
     ]
    }
   ],
   "source": [
    "exprs_path  <- file.path(config$GTEx$DATASET_FOLDER, 'GTEx_Analysis_2017-06-05_v8_RNASeQCv1.1.9_gene_tpm.gct.gz')\n",
    "output_file <- config$GTEx$DATASET_FILE\n",
    "\n",
    "if (!file.exists(output_file)) {\n",
    "  dir.create(dirname(output_file), recursive = TRUE, showWarnings = FALSE)\n",
    "  exprs_data <- read.table(exprs_path, header = TRUE, sep = \"\\t\", skip = 2, check.names = FALSE)\n",
    "  saveRDS(exprs_data, config$GTEx$DATASET_FILE)\n",
    "  message(\"File successfully written to: \", config$GTEx$DATASET_FILE)\n",
    "} else {\n",
    "  message(\"Output file already exists. Skipping.\")\n",
    "}\n",
    "\n",
    "# Aggregate in-place by 'description'\n",
    "gtex <- readRDS(here(config$GTEx$DATASET_FILE))\n",
    "gtex <- as.data.table(gtex)\n",
    "aggregated_gtex <- gtex[, lapply(.SD, sum), by = Description, .SDcols = is.numeric]\n",
    "\n",
    "genes <- aggregated_gtex$Description\n",
    "samples <- colnames(aggregated_gtex[, -1])\n",
    "data_mat <- as.matrix(aggregated_gtex[, -1])"
   ]
  },
  {
   "cell_type": "code",
   "execution_count": null,
   "id": "5bbf8778",
   "metadata": {
    "vscode": {
     "languageId": "r"
    }
   },
   "outputs": [
    {
     "name": "stderr",
     "output_type": "stream",
     "text": [
      "Output file already exists. Skipping.\n",
      "\n",
      "Applying log2 transformation\n",
      "\n",
      "No NA values found\n",
      "\n",
      "Applying Z-score transformation\n",
      "\n"
     ]
    }
   ],
   "source": [
    "# Create the FBM\n",
    "fbm_file <- file.path(output_data_dir, \"FBMgtex\")\n",
    "gtexFBM <- FBM(nrow = nrow(data_mat), ncol = ncol(data_mat), backingfile = fbm_file, create_bk = T)\n",
    "\n",
    "# Populate it with data\n",
    "block_size <- config$GENERAL$CHUNK_SIZE\n",
    "n_blocks <- ceiling(nrow(aggregated_gtex) / block_size)\n",
    "\n",
    "for (i in 1:n_blocks) {\n",
    "  start_row <- (i-1) * block_size + 1\n",
    "  end_row <- min(i * block_size, nrow(data_mat))\n",
    "  \n",
    "  gtexFBM[start_row:end_row, ] <- as.matrix(data_mat[start_row:end_row, ])\n",
    "}\n",
    "\n",
    "# Preprocess and z‑score FBM\n",
    "N_CORES <- config$GENERAL$N_CORES\n",
    "\n",
    "prep_gtex <- preprocessPLIER2FBM(\n",
    "  fbm        = gtexFBM,\n",
    "  mean_cutoff= config$GTEx$GENES_MEAN_CUTOFF,\n",
    "  var_cutoff = config$GTEx$GENES_VAR_CUTOFF,\n",
    "  ncores=N_CORES\n",
    ")\n",
    "\n",
    "gtex_fbm_filt <- prep_gtex$fbm_filtered\n",
    "gtex_rowStats <- prep_gtex$rowStats\n",
    "zscorePLIER2FBM(gtex_fbm_filt, gtex_rowStats, ncores=N_CORES)\n",
    "gtex_genes <- genes[prep_gtex$kept_rows]"
   ]
  },
  {
   "cell_type": "code",
   "execution_count": 9,
   "id": "a559e052",
   "metadata": {
    "vscode": {
     "languageId": "r"
    }
   },
   "outputs": [],
   "source": [
    "saveRDS(samples, file = file.path(output_data_dir, \"gtex_samples.rds\"))"
   ]
  },
  {
   "cell_type": "code",
   "execution_count": 15,
   "id": "2f59856a",
   "metadata": {
    "vscode": {
     "languageId": "r"
    }
   },
   "outputs": [],
   "source": [
    "saveRDS(gtex_genes, file = file.path(output_data_dir, \"gtex_genes.rds\"))"
   ]
  },
  {
   "cell_type": "code",
   "execution_count": 9,
   "id": "61aad3c9",
   "metadata": {
    "vscode": {
     "languageId": "r"
    }
   },
   "outputs": [],
   "source": [
    "saveRDS(gtex_fbm_filt, file = file.path(output_data_dir, \"gtex_fbm_filt.rds\"))"
   ]
  },
  {
   "cell_type": "markdown",
   "id": "62186aa8",
   "metadata": {},
   "source": [
    "## SVD computation and SVD K estimation"
   ]
  },
  {
   "cell_type": "code",
   "execution_count": 10,
   "id": "2610a71d",
   "metadata": {
    "vscode": {
     "languageId": "r"
    }
   },
   "outputs": [
    {
     "name": "stderr",
     "output_type": "stream",
     "text": [
      "Using SVD K = 17381\n",
      "\n"
     ]
    }
   ],
   "source": [
    "g_fb <- nrow(gtex_fbm_filt)\n",
    "samples_fb <- ncol(gtex_fbm_filt)\n",
    "SVD_K_gtex  <- min(g_fb, samples_fb) - 1\n",
    "\n",
    "message(\"Using SVD K = \", SVD_K_gtex)\n",
    "\n",
    "set.seed(config$GTEx$RANDOM_SVD_SEED)\n",
    "\n",
    "gtex_svdRes <- big_randomSVD(gtex_fbm_filt, k = SVD_K_gtex)"
   ]
  },
  {
   "cell_type": "code",
   "execution_count": null,
   "id": "5ff70b0f",
   "metadata": {
    "vscode": {
     "languageId": "r"
    }
   },
   "outputs": [],
   "source": [
    "g_fb <- nrow(gtex_fbm_filt)\n",
    "samples_fb <- ncol(gtex_fbm_filt)\n",
    "SVD_K_gtex  <- min(g_fb, samples_fb) - 1\n",
    "\n",
    "message(\"Using SVD K = \", SVD_K_gtex)\n",
    "\n",
    "set.seed(config$GTEx$RANDOM_SVD_SEED)\n",
    "\n",
    "N_CORES <- config$GTEx$PLIER_PARAMS$RANDOM_SVD_N_CORES\n",
    "\n",
    "if (N_CORES > 1) {\n",
    "  # if we are parallelizing, then disable BLAS parallelization\n",
    "  options(bigstatsr.check.parallel.blas = FALSE)\n",
    "  blas_nproc <- getOption(\"default.nproc.blas\")\n",
    "  options(default.nproc.blas = NULL)\n",
    "}\n",
    "\n",
    "gtex_svdRes=big_randomSVD(\n",
    "  gtex_fbm_filt,\n",
    "  k = SVD_K_gtex,\n",
    "  ncores = N_CORES\n",
    ")\n",
    "\n",
    "if (N_CORES > 1) {\n",
    "  # restore previous state\n",
    "  options(bigstatsr.check.parallel.blas = TRUE)\n",
    "  options(default.nproc.blas = blas_nproc)\n",
    "}"
   ]
  },
  {
   "cell_type": "code",
   "execution_count": 11,
   "id": "97faf531",
   "metadata": {
    "vscode": {
     "languageId": "r"
    }
   },
   "outputs": [],
   "source": [
    "saveRDS(gtex_svdRes, file = file.path(output_data_dir, \"gtex_svdRes.rds\"))"
   ]
  },
  {
   "cell_type": "markdown",
   "id": "dedb1810",
   "metadata": {},
   "source": [
    "## Estimate K for PLIER"
   ]
  },
  {
   "cell_type": "code",
   "execution_count": 12,
   "id": "52d08c85",
   "metadata": {
    "vscode": {
     "languageId": "r"
    }
   },
   "outputs": [
    {
     "name": "stderr",
     "output_type": "stream",
     "text": [
      "Inferred PLIER K = 206\n",
      "\n"
     ]
    }
   ],
   "source": [
    "PLIER_K_gtex <- num.pc(list(d = gtex_svdRes$d))\n",
    "message(\"Inferred PLIER K = \", PLIER_K_gtex)"
   ]
  },
  {
   "cell_type": "code",
   "execution_count": 13,
   "id": "910ff29c",
   "metadata": {
    "vscode": {
     "languageId": "r"
    }
   },
   "outputs": [],
   "source": [
    "saveRDS(PLIER_K_gtex, file = file.path(output_data_dir, \"PLIER_K_gtex.rds\"))"
   ]
  },
  {
   "cell_type": "markdown",
   "id": "d7cdcb0f",
   "metadata": {},
   "source": [
    "## PLIERbase initialization"
   ]
  },
  {
   "cell_type": "code",
   "execution_count": 14,
   "id": "4dc460fb",
   "metadata": {
    "vscode": {
     "languageId": "r"
    }
   },
   "outputs": [
    {
     "name": "stderr",
     "output_type": "stream",
     "text": [
      "****\n",
      "\n"
     ]
    },
    {
     "name": "stdout",
     "output_type": "stream",
     "text": [
      "[1] \"L1 is set to 67.1332478272621\"\n",
      "[1] \"L2 is set to 201.399743481786\"\n",
      "Progress 49 / 200 | Bdiff=0.000434, minCor=0.990968Converged at iteration= 49 | Bdiff=0.000434,  tol=0.000500     "
     ]
    }
   ],
   "source": [
    "gtex_baseRes <- PLIERbase(\n",
    "  Y      = gtex_fbm_filt,\n",
    "  k      = PLIER_K_gtex,\n",
    "  svdres = gtex_svdRes,\n",
    "  trace  = TRUE\n",
    ")"
   ]
  },
  {
   "cell_type": "code",
   "execution_count": 15,
   "id": "19c36ff0",
   "metadata": {
    "vscode": {
     "languageId": "r"
    }
   },
   "outputs": [],
   "source": [
    "saveRDS(gtex_baseRes, file = file.path(output_data_dir, \"gtex_PLIER2_baseRes.rds\"))"
   ]
  },
  {
   "cell_type": "markdown",
   "id": "6ee267bb",
   "metadata": {},
   "source": [
    "## Prepare pathway priors"
   ]
  },
  {
   "cell_type": "code",
   "execution_count": 41,
   "id": "ccad0fa0",
   "metadata": {
    "vscode": {
     "languageId": "r"
    }
   },
   "outputs": [
    {
     "name": "stderr",
     "output_type": "stream",
     "text": [
      "there are 13567 genes in the intersction between data and prior\n",
      "\n",
      "Removing 2020 pathways\n",
      "\n",
      "Presolving using dot method\n",
      "\n",
      "done\n",
      "\n"
     ]
    }
   ],
   "source": [
    "gtex_gmtList <- list(\n",
    "  GTEx_Tissues = getGMT(\"https://maayanlab.cloud/Enrichr/geneSetLibrary?mode=text&libraryName=GTEx_Tissues_V8_2023\"),\n",
    "  BP            = getGMT(\"https://maayanlab.cloud/Enrichr/geneSetLibrary?mode=text&libraryName=GO_Biological_Process_2025\"),\n",
    "  MSigDB        = getGMT(\"https://maayanlab.cloud/Enrichr/geneSetLibrary?mode=text&libraryName=MSigDB_Hallmark_2020\")\n",
    ")\n",
    "\n",
    "gtex_pathMat <- gmtListToSparseMat(gtex_gmtList)\n",
    "gtex_matched <- getMatchedPathwayMat(gtex_pathMat, gtex_genes)\n",
    "gtex_chatObj <- getChat(gtex_matched)"
   ]
  },
  {
   "cell_type": "code",
   "execution_count": null,
   "id": "f212e823",
   "metadata": {
    "vscode": {
     "languageId": "r"
    }
   },
   "outputs": [
    {
     "name": "stderr",
     "output_type": "stream",
     "text": [
      "there are 13567 genes in the intersction between data and prior\n",
      "\n",
      "Removing 2020 pathways\n",
      "\n",
      "Presolving using dot method\n",
      "\n",
      "done\n",
      "\n"
     ]
    }
   ],
   "source": [
    "gtex_gmtList <- list(\n",
    "  KEGG = getGMT(\"https://maayanlab.cloud/Enrichr/geneSetLibrary?mode=text&libraryName=KEGG_2021_Human\"),\n",
    "  BP = getGMT(\"https://maayanlab.cloud/Enrichr/geneSetLibrary?mode=text&libraryName=GO_Biological_Process_2025\"),\n",
    "  GTEx_Tissues = getGMT(\"https://maayanlab.cloud/Enrichr/geneSetLibrary?mode=text&libraryName=GTEx_Tissues_V8_2023\"),\n",
    ")\n",
    "\n",
    "# prefix each gene‐set name with its library to guarantee uniqueness\n",
    "for(lib in names(gtex_gmtList)) {\n",
    "  names(gtex_gmtList[[lib]]) <- paste0(lib, \"_\", names(gtex_gmtList[[lib]]))\n",
    "}\n",
    "\n",
    "gtex_pathMat <- gmtListToSparseMat(gtex_gmtList)\n",
    "gtex_matched <- getMatchedPathwayMat(gtex_pathMat, gtex_genes)\n",
    "gtex_chatObj <- getChat(gtex_matched)"
   ]
  },
  {
   "cell_type": "markdown",
   "id": "6526304d",
   "metadata": {},
   "source": [
    "## PLIERfull"
   ]
  },
  {
   "cell_type": "code",
   "execution_count": null,
   "id": "5673ed3a",
   "metadata": {
    "vscode": {
     "languageId": "r"
    }
   },
   "outputs": [
    {
     "name": "stderr",
     "output_type": "stream",
     "text": [
      "**PLIER v2 **\n",
      "\n",
      "using provided PLIERbase result\n",
      "\n",
      "L1=67.1332478272621; L2=201.399743481786\n",
      "\n"
     ]
    },
    {
     "name": "stdout",
     "output_type": "stream",
     "text": [
      "Progress 80 / 350 | Bdiff=0.000171 Number of annotated columns is 190, Number of annotated columns is 190, Number of annotated columns is 190, Number of annotated columns is 190, Number of annotated columns is 190, Number of annotated columns is 188, Number of annotated columns is 188, Number of annotated columns is 188, Number of annotated columns is 189, Number of annotated columns is 189, Number of annotated columns is 186, Number of annotated columns is 186, Number of annotated columns is 186, Number of annotated columns is 187, Number of annotated columns is 187, Number of annotated columns is 187, Number of annotated columns is 187, Number of annotated columns is 187, Number of annotated columns is 187, Number of annotated columns is 188, Number of annotated columns is 186, Number of annotated columns is 186, Number of annotated columns is 186, Number of annotated columns is 187, Number of annotated columns is 188, Number of annotated columns is 188, Number of annotated columns is 188, Number of annotated columns is 188, Number of annotated columns is 188, Number of annotated columns is 188, Number of annotated columns is 188, Number of annotated columns is 188, Number of annotated columns is 188, Number of annotated columns is 188, Number of annotated columns is 188, Number of annotated columns is 188, Number of annotated columns is 189, Number of annotated columns is 189, Number of annotated columns is 189"
     ]
    },
    {
     "name": "stderr",
     "output_type": "stream",
     "text": [
      "Bdiff is not decreasing\n",
      "\n"
     ]
    },
    {
     "name": "stdout",
     "output_type": "stream",
     "text": [
      "Progress 81 / 350 | Bdiff=0.00017189"
     ]
    },
    {
     "name": "stderr",
     "output_type": "stream",
     "text": [
      "Bdiff is not decreasing\n",
      "\n"
     ]
    },
    {
     "name": "stdout",
     "output_type": "stream",
     "text": [
      "Progress 82 / 350 | Bdiff=0.000177"
     ]
    },
    {
     "name": "stderr",
     "output_type": "stream",
     "text": [
      "Bdiff is not decreasing\n",
      "\n"
     ]
    },
    {
     "name": "stdout",
     "output_type": "stream",
     "text": [
      "Progress 83 / 350 | Bdiff=0.00017988"
     ]
    },
    {
     "name": "stderr",
     "output_type": "stream",
     "text": [
      "Bdiff is not decreasing\n",
      "\n"
     ]
    },
    {
     "name": "stdout",
     "output_type": "stream",
     "text": [
      "Progress 84 / 350 | Bdiff=0.000182"
     ]
    },
    {
     "name": "stderr",
     "output_type": "stream",
     "text": [
      "Bdiff is not decreasing\n",
      "\n"
     ]
    },
    {
     "name": "stdout",
     "output_type": "stream",
     "text": [
      "Progress 86 / 350 | Bdiff=0.00018789"
     ]
    },
    {
     "name": "stderr",
     "output_type": "stream",
     "text": [
      "Bdiff is not decreasing\n",
      "\n"
     ]
    },
    {
     "name": "stdout",
     "output_type": "stream",
     "text": [
      "Converged at 108 / 350 | Bdiff=0.000132, minCor=0.993962d columns is 189, Number of annotated columns is 190, Number of annotated columns is 190, Number of annotated columns is 190, Number of annotated columns is 190, Number of annotated columns is 190, Number of annotated columns is 190\n"
     ]
    },
    {
     "name": "stderr",
     "output_type": "stream",
     "text": [
      "Updating Z for CV\n",
      "\n",
      "crossValidation\n",
      "\n",
      "There are 162  LVs with AUC>0.70\n",
      "\n",
      "There are 129  LVs with AUC>0.90\n",
      "\n"
     ]
    }
   ],
   "source": [
    "gtex_fullRes <- PLIERfull(\n",
    "  Y                 = gtex_fbm_filt,\n",
    "  priorMat          = as.matrix(gtex_matched),\n",
    "  svdres            = gtex_svdRes,\n",
    "  plier.base.result = gtex_baseRes,\n",
    "  Chat              = gtex_chatObj,\n",
    "  k                 = PLIER_K_gtex,\n",
    "  doCrossval        = TRUE,\n",
    "  trace             = TRUE,\n",
    "  max.U.updates= config$GTEx$MAX_U_UPDATES\n",
    ")"
   ]
  },
  {
   "cell_type": "code",
   "execution_count": 43,
   "id": "032c868f",
   "metadata": {
    "vscode": {
     "languageId": "r"
    }
   },
   "outputs": [],
   "source": [
    "saveRDS(gtex_fullRes, file = file.path(output_data_dir, \"gtex_PLIER2.rds\"))"
   ]
  },
  {
   "cell_type": "markdown",
   "id": "dc178250",
   "metadata": {},
   "source": [
    "## Fix colnames and rownames"
   ]
  },
  {
   "cell_type": "code",
   "execution_count": null,
   "id": "21dc7bb3",
   "metadata": {
    "vscode": {
     "languageId": "r"
    }
   },
   "outputs": [],
   "source": [
    "gtex_fullRes <- readRDS(file.path(output_data_dir, \"gtex_PLIER2.rds\"))\n",
    "\n",
    "colnames(gtex_fullRes$B) <- samples\n",
    "\n",
    "colnames(gtex_fullRes$Z) <- paste0('LV', seq_len(ncol(gtex_fullRes$Z)))\n",
    "\n",
    "gtex_fullRes$summary <- gtex_fullRes$summary %>%\n",
    "    dplyr::rename(LV = `LV index`)  %>% \n",
    "    dplyr::mutate(LV = paste0('LV', LV))\n",
    "\n",
    "saveRDS(gtex_fullRes, file = file.path(output_data_dir, \"gtex_PLIER2.rds\"))"
   ]
  },
  {
   "cell_type": "markdown",
   "id": "947ca517",
   "metadata": {},
   "source": [
    "# PLIER"
   ]
  },
  {
   "cell_type": "markdown",
   "id": "cb463b2b",
   "metadata": {},
   "source": [
    "Run PLIER with the same inputs than PLIER2\n"
   ]
  },
  {
   "cell_type": "code",
   "execution_count": 53,
   "id": "95a907e4",
   "metadata": {
    "vscode": {
     "languageId": "r"
    }
   },
   "outputs": [
    {
     "name": "stderr",
     "output_type": "stream",
     "text": [
      "Removing 0 pathways with too few genes\n",
      "\n"
     ]
    },
    {
     "name": "stdout",
     "output_type": "stream",
     "text": [
      "[1] 201.3997\n",
      "[1] \"L2 is set to 201.399743481786\"\n",
      "[1] \"L1 is set to 100.699871740893\"\n"
     ]
    },
    {
     "name": "stderr",
     "output_type": "stream",
     "text": [
      "errorY (SVD based:best possible) = 0.3686\n",
      "\n",
      "New L3 is 0.000804733010124613\n",
      "\n",
      "New L3 is 0.000488095243523415\n",
      "\n",
      "New L3 is 0.000430742540575688\n",
      "\n",
      "New L3 is 0.000430742540575688\n",
      "\n",
      "New L3 is 0.000430742540575688\n",
      "\n",
      "New L3 is 0.000380128957869464\n",
      "\n",
      "New L3 is 0.000430742540575688\n",
      "\n",
      "New L3 is 0.000380128957869464\n",
      "\n",
      "Bdiff is not decreasing\n",
      "\n",
      "Bdiff is not decreasing\n",
      "\n",
      "Bdiff is not decreasing\n",
      "\n",
      "Bdiff is not decreasing\n",
      "\n",
      "Bdiff is not decreasing\n",
      "\n",
      "Bdiff is not decreasing\n",
      "\n",
      "converged at  iteration 179 Bdiff is not decreasing\n",
      "\n",
      "There are 132  LVs with AUC>0.70\n",
      "\n"
     ]
    }
   ],
   "source": [
    "gtex_plier = PLIER::PLIER(\n",
    "    gtex_fbm_filt[], \n",
    "    as.matrix(gtex_matched), \n",
    "    svdres = gtex_svdRes, \n",
    "    Chat = as.matrix(gtex_chatObj), \n",
    "    doCrossval = TRUE, \n",
    "    max.iter = config$GTEx$PLIER_PARAMS$MAX_ITER,\n",
    "    k = PLIER_K_gtex\n",
    "  )"
   ]
  },
  {
   "cell_type": "code",
   "execution_count": 54,
   "id": "ea2d0430",
   "metadata": {
    "vscode": {
     "languageId": "r"
    }
   },
   "outputs": [],
   "source": [
    "saveRDS(gtex_plier, file = file.path(output_data_dir, \"gtex_PLIER.rds\"))"
   ]
  },
  {
   "cell_type": "code",
   "execution_count": 5,
   "id": "f03a8b67",
   "metadata": {
    "vscode": {
     "languageId": "r"
    }
   },
   "outputs": [],
   "source": [
    "gtex_plier <- readRDS(file.path(output_data_dir, \"gtex_PLIER.rds\"))"
   ]
  },
  {
   "cell_type": "code",
   "execution_count": 6,
   "id": "e947a7e5",
   "metadata": {
    "vscode": {
     "languageId": "r"
    }
   },
   "outputs": [],
   "source": [
    "colnames(gtex_plier$Z) <- paste0('LV', seq_len(ncol(gtex_plier$Z)))"
   ]
  },
  {
   "cell_type": "code",
   "execution_count": 9,
   "id": "a6c00e0a",
   "metadata": {
    "vscode": {
     "languageId": "r"
    }
   },
   "outputs": [
    {
     "data": {
      "text/html": [
       "<table class=\"dataframe\">\n",
       "<caption>A matrix: 6 × 206 of type dbl</caption>\n",
       "<thead>\n",
       "\t<tr><th></th><th scope=col>LV1</th><th scope=col>LV2</th><th scope=col>LV3</th><th scope=col>LV4</th><th scope=col>LV5</th><th scope=col>LV6</th><th scope=col>LV7</th><th scope=col>LV8</th><th scope=col>LV9</th><th scope=col>LV10</th><th scope=col>⋯</th><th scope=col>LV197</th><th scope=col>LV198</th><th scope=col>LV199</th><th scope=col>LV200</th><th scope=col>LV201</th><th scope=col>LV202</th><th scope=col>LV203</th><th scope=col>LV204</th><th scope=col>LV205</th><th scope=col>LV206</th></tr>\n",
       "</thead>\n",
       "<tbody>\n",
       "\t<tr><th scope=row>WASH7P</th><td>0.0000000</td><td>0.02499416</td><td>0.000000000</td><td>0.00000000</td><td>0.076692203</td><td>0.00000000</td><td>0.01748135</td><td>0.00000000</td><td>0.09224386</td><td>0.0039521771</td><td>⋯</td><td>0.03193649</td><td>0.19097628</td><td>0.03509836</td><td>1.0084783</td><td>0.0000000</td><td>0.0005897013</td><td>0.00000000</td><td>0.017723577</td><td>0.00000000</td><td>0.00000000</td></tr>\n",
       "\t<tr><th scope=row>RP11-34P13.15</th><td>0.0000000</td><td>0.03599516</td><td>0.088766434</td><td>0.66692284</td><td>0.000000000</td><td>0.40973066</td><td>0.00000000</td><td>0.00000000</td><td>0.00000000</td><td>0.0000000000</td><td>⋯</td><td>0.00000000</td><td>0.00000000</td><td>0.17049253</td><td>0.2512257</td><td>0.2381905</td><td>0.0000000000</td><td>0.07925430</td><td>0.158438333</td><td>0.06908235</td><td>0.00000000</td></tr>\n",
       "\t<tr><th scope=row>RP11-34P13.16</th><td>0.0000000</td><td>0.04031925</td><td>0.051044799</td><td>0.68430944</td><td>0.006468101</td><td>0.44774443</td><td>0.00000000</td><td>0.00000000</td><td>0.00000000</td><td>0.0006706749</td><td>⋯</td><td>0.00000000</td><td>0.00000000</td><td>0.17280849</td><td>0.2140185</td><td>0.2540909</td><td>0.0000000000</td><td>0.09339478</td><td>0.169480128</td><td>0.07519298</td><td>0.00000000</td></tr>\n",
       "\t<tr><th scope=row>RP11-34P13.18</th><td>0.0000000</td><td>0.00000000</td><td>0.048702159</td><td>0.00000000</td><td>0.085199947</td><td>0.24553884</td><td>0.00000000</td><td>0.00000000</td><td>0.04624262</td><td>0.0000000000</td><td>⋯</td><td>0.03087897</td><td>0.00000000</td><td>0.00916668</td><td>0.8645280</td><td>0.1606547</td><td>0.0000000000</td><td>0.03617533</td><td>0.007241217</td><td>0.00000000</td><td>0.00000000</td></tr>\n",
       "\t<tr><th scope=row>AP006222.2</th><td>0.0000000</td><td>0.00000000</td><td>0.005665622</td><td>0.06150562</td><td>0.000000000</td><td>0.01158631</td><td>0.00000000</td><td>0.00000000</td><td>0.00000000</td><td>0.0000000000</td><td>⋯</td><td>0.00000000</td><td>0.03828548</td><td>0.01798606</td><td>0.3520241</td><td>0.2906519</td><td>0.0000000000</td><td>0.00000000</td><td>0.000000000</td><td>0.09057921</td><td>0.05701279</td></tr>\n",
       "\t<tr><th scope=row>MTND1P23</th><td>0.2806694</td><td>0.00000000</td><td>0.000000000</td><td>0.03020411</td><td>0.055460063</td><td>0.00000000</td><td>0.06821846</td><td>0.06779852</td><td>0.00000000</td><td>0.0000000000</td><td>⋯</td><td>0.02897674</td><td>0.29230921</td><td>0.00000000</td><td>0.0000000</td><td>0.1892596</td><td>0.0866651624</td><td>0.00000000</td><td>0.196224263</td><td>0.05855393</td><td>0.20566792</td></tr>\n",
       "</tbody>\n",
       "</table>\n"
      ],
      "text/latex": [
       "A matrix: 6 × 206 of type dbl\n",
       "\\begin{tabular}{r|lllllllllllllllllllll}\n",
       "  & LV1 & LV2 & LV3 & LV4 & LV5 & LV6 & LV7 & LV8 & LV9 & LV10 & ⋯ & LV197 & LV198 & LV199 & LV200 & LV201 & LV202 & LV203 & LV204 & LV205 & LV206\\\\\n",
       "\\hline\n",
       "\tWASH7P & 0.0000000 & 0.02499416 & 0.000000000 & 0.00000000 & 0.076692203 & 0.00000000 & 0.01748135 & 0.00000000 & 0.09224386 & 0.0039521771 & ⋯ & 0.03193649 & 0.19097628 & 0.03509836 & 1.0084783 & 0.0000000 & 0.0005897013 & 0.00000000 & 0.017723577 & 0.00000000 & 0.00000000\\\\\n",
       "\tRP11-34P13.15 & 0.0000000 & 0.03599516 & 0.088766434 & 0.66692284 & 0.000000000 & 0.40973066 & 0.00000000 & 0.00000000 & 0.00000000 & 0.0000000000 & ⋯ & 0.00000000 & 0.00000000 & 0.17049253 & 0.2512257 & 0.2381905 & 0.0000000000 & 0.07925430 & 0.158438333 & 0.06908235 & 0.00000000\\\\\n",
       "\tRP11-34P13.16 & 0.0000000 & 0.04031925 & 0.051044799 & 0.68430944 & 0.006468101 & 0.44774443 & 0.00000000 & 0.00000000 & 0.00000000 & 0.0006706749 & ⋯ & 0.00000000 & 0.00000000 & 0.17280849 & 0.2140185 & 0.2540909 & 0.0000000000 & 0.09339478 & 0.169480128 & 0.07519298 & 0.00000000\\\\\n",
       "\tRP11-34P13.18 & 0.0000000 & 0.00000000 & 0.048702159 & 0.00000000 & 0.085199947 & 0.24553884 & 0.00000000 & 0.00000000 & 0.04624262 & 0.0000000000 & ⋯ & 0.03087897 & 0.00000000 & 0.00916668 & 0.8645280 & 0.1606547 & 0.0000000000 & 0.03617533 & 0.007241217 & 0.00000000 & 0.00000000\\\\\n",
       "\tAP006222.2 & 0.0000000 & 0.00000000 & 0.005665622 & 0.06150562 & 0.000000000 & 0.01158631 & 0.00000000 & 0.00000000 & 0.00000000 & 0.0000000000 & ⋯ & 0.00000000 & 0.03828548 & 0.01798606 & 0.3520241 & 0.2906519 & 0.0000000000 & 0.00000000 & 0.000000000 & 0.09057921 & 0.05701279\\\\\n",
       "\tMTND1P23 & 0.2806694 & 0.00000000 & 0.000000000 & 0.03020411 & 0.055460063 & 0.00000000 & 0.06821846 & 0.06779852 & 0.00000000 & 0.0000000000 & ⋯ & 0.02897674 & 0.29230921 & 0.00000000 & 0.0000000 & 0.1892596 & 0.0866651624 & 0.00000000 & 0.196224263 & 0.05855393 & 0.20566792\\\\\n",
       "\\end{tabular}\n"
      ],
      "text/markdown": [
       "\n",
       "A matrix: 6 × 206 of type dbl\n",
       "\n",
       "| <!--/--> | LV1 | LV2 | LV3 | LV4 | LV5 | LV6 | LV7 | LV8 | LV9 | LV10 | ⋯ | LV197 | LV198 | LV199 | LV200 | LV201 | LV202 | LV203 | LV204 | LV205 | LV206 |\n",
       "|---|---|---|---|---|---|---|---|---|---|---|---|---|---|---|---|---|---|---|---|---|---|\n",
       "| WASH7P | 0.0000000 | 0.02499416 | 0.000000000 | 0.00000000 | 0.076692203 | 0.00000000 | 0.01748135 | 0.00000000 | 0.09224386 | 0.0039521771 | ⋯ | 0.03193649 | 0.19097628 | 0.03509836 | 1.0084783 | 0.0000000 | 0.0005897013 | 0.00000000 | 0.017723577 | 0.00000000 | 0.00000000 |\n",
       "| RP11-34P13.15 | 0.0000000 | 0.03599516 | 0.088766434 | 0.66692284 | 0.000000000 | 0.40973066 | 0.00000000 | 0.00000000 | 0.00000000 | 0.0000000000 | ⋯ | 0.00000000 | 0.00000000 | 0.17049253 | 0.2512257 | 0.2381905 | 0.0000000000 | 0.07925430 | 0.158438333 | 0.06908235 | 0.00000000 |\n",
       "| RP11-34P13.16 | 0.0000000 | 0.04031925 | 0.051044799 | 0.68430944 | 0.006468101 | 0.44774443 | 0.00000000 | 0.00000000 | 0.00000000 | 0.0006706749 | ⋯ | 0.00000000 | 0.00000000 | 0.17280849 | 0.2140185 | 0.2540909 | 0.0000000000 | 0.09339478 | 0.169480128 | 0.07519298 | 0.00000000 |\n",
       "| RP11-34P13.18 | 0.0000000 | 0.00000000 | 0.048702159 | 0.00000000 | 0.085199947 | 0.24553884 | 0.00000000 | 0.00000000 | 0.04624262 | 0.0000000000 | ⋯ | 0.03087897 | 0.00000000 | 0.00916668 | 0.8645280 | 0.1606547 | 0.0000000000 | 0.03617533 | 0.007241217 | 0.00000000 | 0.00000000 |\n",
       "| AP006222.2 | 0.0000000 | 0.00000000 | 0.005665622 | 0.06150562 | 0.000000000 | 0.01158631 | 0.00000000 | 0.00000000 | 0.00000000 | 0.0000000000 | ⋯ | 0.00000000 | 0.03828548 | 0.01798606 | 0.3520241 | 0.2906519 | 0.0000000000 | 0.00000000 | 0.000000000 | 0.09057921 | 0.05701279 |\n",
       "| MTND1P23 | 0.2806694 | 0.00000000 | 0.000000000 | 0.03020411 | 0.055460063 | 0.00000000 | 0.06821846 | 0.06779852 | 0.00000000 | 0.0000000000 | ⋯ | 0.02897674 | 0.29230921 | 0.00000000 | 0.0000000 | 0.1892596 | 0.0866651624 | 0.00000000 | 0.196224263 | 0.05855393 | 0.20566792 |\n",
       "\n"
      ],
      "text/plain": [
       "              LV1       LV2        LV3         LV4        LV5        \n",
       "WASH7P        0.0000000 0.02499416 0.000000000 0.00000000 0.076692203\n",
       "RP11-34P13.15 0.0000000 0.03599516 0.088766434 0.66692284 0.000000000\n",
       "RP11-34P13.16 0.0000000 0.04031925 0.051044799 0.68430944 0.006468101\n",
       "RP11-34P13.18 0.0000000 0.00000000 0.048702159 0.00000000 0.085199947\n",
       "AP006222.2    0.0000000 0.00000000 0.005665622 0.06150562 0.000000000\n",
       "MTND1P23      0.2806694 0.00000000 0.000000000 0.03020411 0.055460063\n",
       "              LV6        LV7        LV8        LV9        LV10         ⋯\n",
       "WASH7P        0.00000000 0.01748135 0.00000000 0.09224386 0.0039521771 ⋯\n",
       "RP11-34P13.15 0.40973066 0.00000000 0.00000000 0.00000000 0.0000000000 ⋯\n",
       "RP11-34P13.16 0.44774443 0.00000000 0.00000000 0.00000000 0.0006706749 ⋯\n",
       "RP11-34P13.18 0.24553884 0.00000000 0.00000000 0.04624262 0.0000000000 ⋯\n",
       "AP006222.2    0.01158631 0.00000000 0.00000000 0.00000000 0.0000000000 ⋯\n",
       "MTND1P23      0.00000000 0.06821846 0.06779852 0.00000000 0.0000000000 ⋯\n",
       "              LV197      LV198      LV199      LV200     LV201     LV202       \n",
       "WASH7P        0.03193649 0.19097628 0.03509836 1.0084783 0.0000000 0.0005897013\n",
       "RP11-34P13.15 0.00000000 0.00000000 0.17049253 0.2512257 0.2381905 0.0000000000\n",
       "RP11-34P13.16 0.00000000 0.00000000 0.17280849 0.2140185 0.2540909 0.0000000000\n",
       "RP11-34P13.18 0.03087897 0.00000000 0.00916668 0.8645280 0.1606547 0.0000000000\n",
       "AP006222.2    0.00000000 0.03828548 0.01798606 0.3520241 0.2906519 0.0000000000\n",
       "MTND1P23      0.02897674 0.29230921 0.00000000 0.0000000 0.1892596 0.0866651624\n",
       "              LV203      LV204       LV205      LV206     \n",
       "WASH7P        0.00000000 0.017723577 0.00000000 0.00000000\n",
       "RP11-34P13.15 0.07925430 0.158438333 0.06908235 0.00000000\n",
       "RP11-34P13.16 0.09339478 0.169480128 0.07519298 0.00000000\n",
       "RP11-34P13.18 0.03617533 0.007241217 0.00000000 0.00000000\n",
       "AP006222.2    0.00000000 0.000000000 0.09057921 0.05701279\n",
       "MTND1P23      0.00000000 0.196224263 0.05855393 0.20566792"
      ]
     },
     "metadata": {},
     "output_type": "display_data"
    },
    {
     "data": {
      "text/html": [
       "<style>\n",
       ".list-inline {list-style: none; margin:0; padding: 0}\n",
       ".list-inline>li {display: inline-block}\n",
       ".list-inline>li:not(:last-child)::after {content: \"\\00b7\"; padding: 0 .5ex}\n",
       "</style>\n",
       "<ol class=list-inline><li>21613</li><li>206</li></ol>\n"
      ],
      "text/latex": [
       "\\begin{enumerate*}\n",
       "\\item 21613\n",
       "\\item 206\n",
       "\\end{enumerate*}\n"
      ],
      "text/markdown": [
       "1. 21613\n",
       "2. 206\n",
       "\n",
       "\n"
      ],
      "text/plain": [
       "[1] 21613   206"
      ]
     },
     "metadata": {},
     "output_type": "display_data"
    }
   ],
   "source": [
    "head(gtex_plier$Z)\n",
    "dim(gtex_plier$Z)"
   ]
  },
  {
   "cell_type": "code",
   "execution_count": 8,
   "metadata": {
    "vscode": {
     "languageId": "r"
    }
   },
   "outputs": [],
   "source": [
    "gtex_plier$summary <- gtex_plier$summary %>%\n",
    "    dplyr::rename(LV = `LV index`)  %>% \n",
    "    dplyr::mutate(LV = paste0('LV', LV))"
   ]
  },
  {
   "cell_type": "code",
   "execution_count": 9,
   "id": "d917b1bc",
   "metadata": {
    "vscode": {
     "languageId": "r"
    }
   },
   "outputs": [
    {
     "data": {
      "text/html": [
       "<table class=\"dataframe\">\n",
       "<caption>A data.frame: 6 × 5</caption>\n",
       "<thead>\n",
       "\t<tr><th></th><th scope=col>pathway</th><th scope=col>LV</th><th scope=col>AUC</th><th scope=col>p-value</th><th scope=col>FDR</th></tr>\n",
       "\t<tr><th></th><th scope=col>&lt;chr&gt;</th><th scope=col>&lt;chr&gt;</th><th scope=col>&lt;dbl&gt;</th><th scope=col>&lt;dbl&gt;</th><th scope=col>&lt;dbl&gt;</th></tr>\n",
       "</thead>\n",
       "<tbody>\n",
       "\t<tr><th scope=row>1</th><td>Cells - EBV-transformed Lymphocytes Female 20-29 Up</td><td>LV1</td><td>0.9917422</td><td>7.193265e-12</td><td>2.380514e-11</td></tr>\n",
       "\t<tr><th scope=row>2</th><td>Cells - EBV-transformed Lymphocytes Male 30-39 Up  </td><td>LV1</td><td>0.9889461</td><td>2.023296e-12</td><td>7.484304e-12</td></tr>\n",
       "\t<tr><th scope=row>3</th><td>Cells - EBV-transformed Lymphocytes Female 50-59 Up</td><td>LV1</td><td>0.9887520</td><td>2.063090e-12</td><td>7.588951e-12</td></tr>\n",
       "\t<tr><th scope=row>4</th><td>Cells - EBV-transformed Lymphocytes Male 60-69 Up  </td><td>LV1</td><td>0.9872147</td><td>2.406492e-12</td><td>8.754499e-12</td></tr>\n",
       "\t<tr><th scope=row>5</th><td>Cells - EBV-transformed Lymphocytes Male 20-29 Up  </td><td>LV1</td><td>0.9967393</td><td>9.200835e-13</td><td>3.674035e-12</td></tr>\n",
       "\t<tr><th scope=row>6</th><td>Cells - EBV-transformed Lymphocytes Female 40-49 Up</td><td>LV1</td><td>0.9805983</td><td>4.643783e-12</td><td>1.601054e-11</td></tr>\n",
       "</tbody>\n",
       "</table>\n"
      ],
      "text/latex": [
       "A data.frame: 6 × 5\n",
       "\\begin{tabular}{r|lllll}\n",
       "  & pathway & LV & AUC & p-value & FDR\\\\\n",
       "  & <chr> & <chr> & <dbl> & <dbl> & <dbl>\\\\\n",
       "\\hline\n",
       "\t1 & Cells - EBV-transformed Lymphocytes Female 20-29 Up & LV1 & 0.9917422 & 7.193265e-12 & 2.380514e-11\\\\\n",
       "\t2 & Cells - EBV-transformed Lymphocytes Male 30-39 Up   & LV1 & 0.9889461 & 2.023296e-12 & 7.484304e-12\\\\\n",
       "\t3 & Cells - EBV-transformed Lymphocytes Female 50-59 Up & LV1 & 0.9887520 & 2.063090e-12 & 7.588951e-12\\\\\n",
       "\t4 & Cells - EBV-transformed Lymphocytes Male 60-69 Up   & LV1 & 0.9872147 & 2.406492e-12 & 8.754499e-12\\\\\n",
       "\t5 & Cells - EBV-transformed Lymphocytes Male 20-29 Up   & LV1 & 0.9967393 & 9.200835e-13 & 3.674035e-12\\\\\n",
       "\t6 & Cells - EBV-transformed Lymphocytes Female 40-49 Up & LV1 & 0.9805983 & 4.643783e-12 & 1.601054e-11\\\\\n",
       "\\end{tabular}\n"
      ],
      "text/markdown": [
       "\n",
       "A data.frame: 6 × 5\n",
       "\n",
       "| <!--/--> | pathway &lt;chr&gt; | LV &lt;chr&gt; | AUC &lt;dbl&gt; | p-value &lt;dbl&gt; | FDR &lt;dbl&gt; |\n",
       "|---|---|---|---|---|---|\n",
       "| 1 | Cells - EBV-transformed Lymphocytes Female 20-29 Up | LV1 | 0.9917422 | 7.193265e-12 | 2.380514e-11 |\n",
       "| 2 | Cells - EBV-transformed Lymphocytes Male 30-39 Up   | LV1 | 0.9889461 | 2.023296e-12 | 7.484304e-12 |\n",
       "| 3 | Cells - EBV-transformed Lymphocytes Female 50-59 Up | LV1 | 0.9887520 | 2.063090e-12 | 7.588951e-12 |\n",
       "| 4 | Cells - EBV-transformed Lymphocytes Male 60-69 Up   | LV1 | 0.9872147 | 2.406492e-12 | 8.754499e-12 |\n",
       "| 5 | Cells - EBV-transformed Lymphocytes Male 20-29 Up   | LV1 | 0.9967393 | 9.200835e-13 | 3.674035e-12 |\n",
       "| 6 | Cells - EBV-transformed Lymphocytes Female 40-49 Up | LV1 | 0.9805983 | 4.643783e-12 | 1.601054e-11 |\n",
       "\n"
      ],
      "text/plain": [
       "  pathway                                             LV  AUC      \n",
       "1 Cells - EBV-transformed Lymphocytes Female 20-29 Up LV1 0.9917422\n",
       "2 Cells - EBV-transformed Lymphocytes Male 30-39 Up   LV1 0.9889461\n",
       "3 Cells - EBV-transformed Lymphocytes Female 50-59 Up LV1 0.9887520\n",
       "4 Cells - EBV-transformed Lymphocytes Male 60-69 Up   LV1 0.9872147\n",
       "5 Cells - EBV-transformed Lymphocytes Male 20-29 Up   LV1 0.9967393\n",
       "6 Cells - EBV-transformed Lymphocytes Female 40-49 Up LV1 0.9805983\n",
       "  p-value      FDR         \n",
       "1 7.193265e-12 2.380514e-11\n",
       "2 2.023296e-12 7.484304e-12\n",
       "3 2.063090e-12 7.588951e-12\n",
       "4 2.406492e-12 8.754499e-12\n",
       "5 9.200835e-13 3.674035e-12\n",
       "6 4.643783e-12 1.601054e-11"
      ]
     },
     "metadata": {},
     "output_type": "display_data"
    }
   ],
   "source": [
    "head(gtex_plier$summary)"
   ]
  },
  {
   "cell_type": "code",
   "execution_count": 13,
   "id": "1040c430",
   "metadata": {
    "vscode": {
     "languageId": "r"
    }
   },
   "outputs": [
    {
     "data": {
      "text/html": [
       "<table class=\"dataframe\">\n",
       "<caption>A matrix: 6 × 17382 of type dbl</caption>\n",
       "<thead>\n",
       "\t<tr><th></th><th scope=col>GTEX-1117F-0226-SM-5GZZ7</th><th scope=col>GTEX-1117F-0426-SM-5EGHI</th><th scope=col>GTEX-1117F-0526-SM-5EGHJ</th><th scope=col>GTEX-1117F-0626-SM-5N9CS</th><th scope=col>GTEX-1117F-0726-SM-5GIEN</th><th scope=col>GTEX-1117F-1326-SM-5EGHH</th><th scope=col>GTEX-1117F-2426-SM-5EGGH</th><th scope=col>GTEX-1117F-2526-SM-5GZY6</th><th scope=col>GTEX-1117F-2826-SM-5GZXL</th><th scope=col>GTEX-1117F-2926-SM-5GZYI</th><th scope=col>⋯</th><th scope=col>GTEX-ZZPU-1126-SM-5N9CW</th><th scope=col>GTEX-ZZPU-1226-SM-5N9CK</th><th scope=col>GTEX-ZZPU-1326-SM-5GZWS</th><th scope=col>GTEX-ZZPU-1426-SM-5GZZ6</th><th scope=col>GTEX-ZZPU-1826-SM-5E43L</th><th scope=col>GTEX-ZZPU-2126-SM-5EGIU</th><th scope=col>GTEX-ZZPU-2226-SM-5EGIV</th><th scope=col>GTEX-ZZPU-2426-SM-5E44I</th><th scope=col>GTEX-ZZPU-2626-SM-5E45Y</th><th scope=col>GTEX-ZZPU-2726-SM-5NQ8O</th></tr>\n",
       "</thead>\n",
       "<tbody>\n",
       "\t<tr><th scope=row>1,Cells - EBV-transformed Lymphocytes Male 40-49 Up</th><td> 0.46617279</td><td>-0.160274908</td><td> 0.73189638</td><td> 0.03673337</td><td>-0.16036737</td><td> 0.27011287</td><td> 0.34155448</td><td> 0.18709101</td><td> 0.124303805</td><td> 0.17580335</td><td>⋯</td><td>-0.23524018</td><td>-0.04565981</td><td> 0.192526401</td><td>-0.07712182</td><td> 0.18866958</td><td> 0.49366655</td><td> 0.083557804</td><td> 0.34700683</td><td>-0.3813536716</td><td> 0.23392498</td></tr>\n",
       "\t<tr><th scope=row>2,Colon - Transverse Male 70-79 Up</th><td>-0.05482741</td><td> 0.031944407</td><td>-0.07119695</td><td>-0.03778371</td><td> 0.07130929</td><td>-0.03862763</td><td>-0.10123493</td><td>-0.01607100</td><td>-0.094175281</td><td>-0.04041773</td><td>⋯</td><td> 0.03768582</td><td> 0.01823106</td><td>-0.086882211</td><td> 0.19412630</td><td> 0.28690821</td><td>-0.08885060</td><td> 0.038956649</td><td>-0.06684843</td><td> 0.0695568037</td><td>-0.04009313</td></tr>\n",
       "\t<tr><th scope=row>LV 3</th><td>-0.18970150</td><td> 0.084744719</td><td>-0.04421499</td><td>-0.12689688</td><td>-0.01891176</td><td>-0.03325522</td><td>-0.20798620</td><td> 0.89332084</td><td>-0.003713821</td><td> 0.04296174</td><td>⋯</td><td>-0.01377714</td><td>-0.08280761</td><td> 0.009087268</td><td> 0.09793773</td><td> 0.05386236</td><td>-0.19782578</td><td> 0.423212881</td><td> 0.07848064</td><td>-0.0234689283</td><td>-0.05235816</td></tr>\n",
       "\t<tr><th scope=row>4,Whole Blood Female 50-59 Up</th><td>-0.16835215</td><td>-0.005646782</td><td>-0.14882507</td><td>-0.13028856</td><td> 0.04456463</td><td>-0.14427548</td><td>-0.09085780</td><td>-0.08721934</td><td>-0.070949456</td><td>-0.13710315</td><td>⋯</td><td> 0.02282449</td><td>-0.16052529</td><td>-0.080124805</td><td>-0.05021261</td><td>-0.11735479</td><td>-0.09932323</td><td>-0.088999635</td><td>-0.05632542</td><td> 0.0002726316</td><td>-0.06148682</td></tr>\n",
       "\t<tr><th scope=row>5,Myc Targets V1</th><td> 0.22784539</td><td> 0.135854387</td><td> 0.02489118</td><td> 0.14955940</td><td>-0.35129585</td><td> 0.06705728</td><td> 0.04226745</td><td> 0.15924572</td><td> 0.305569910</td><td> 0.14872014</td><td>⋯</td><td>-0.19613522</td><td> 0.17144165</td><td>-0.187114670</td><td>-0.06161684</td><td> 0.01157285</td><td> 0.04681580</td><td> 0.413042999</td><td>-0.09198360</td><td> 0.2846712048</td><td> 0.04444101</td></tr>\n",
       "\t<tr><th scope=row>LV 6</th><td>-0.14773172</td><td>-0.090280367</td><td>-0.09726386</td><td>-0.17305484</td><td>-0.10486026</td><td>-0.16211997</td><td>-0.24268387</td><td>-0.18460777</td><td>-0.137521121</td><td>-0.15737880</td><td>⋯</td><td> 0.05857534</td><td> 0.05339165</td><td> 0.067576095</td><td> 0.03867730</td><td> 0.09123170</td><td> 0.09281796</td><td> 0.009773036</td><td> 0.06410904</td><td> 0.0467131491</td><td> 0.09168696</td></tr>\n",
       "</tbody>\n",
       "</table>\n"
      ],
      "text/latex": [
       "A matrix: 6 × 17382 of type dbl\n",
       "\\begin{tabular}{r|lllllllllllllllllllll}\n",
       "  & GTEX-1117F-0226-SM-5GZZ7 & GTEX-1117F-0426-SM-5EGHI & GTEX-1117F-0526-SM-5EGHJ & GTEX-1117F-0626-SM-5N9CS & GTEX-1117F-0726-SM-5GIEN & GTEX-1117F-1326-SM-5EGHH & GTEX-1117F-2426-SM-5EGGH & GTEX-1117F-2526-SM-5GZY6 & GTEX-1117F-2826-SM-5GZXL & GTEX-1117F-2926-SM-5GZYI & ⋯ & GTEX-ZZPU-1126-SM-5N9CW & GTEX-ZZPU-1226-SM-5N9CK & GTEX-ZZPU-1326-SM-5GZWS & GTEX-ZZPU-1426-SM-5GZZ6 & GTEX-ZZPU-1826-SM-5E43L & GTEX-ZZPU-2126-SM-5EGIU & GTEX-ZZPU-2226-SM-5EGIV & GTEX-ZZPU-2426-SM-5E44I & GTEX-ZZPU-2626-SM-5E45Y & GTEX-ZZPU-2726-SM-5NQ8O\\\\\n",
       "\\hline\n",
       "\t1,Cells - EBV-transformed Lymphocytes Male 40-49 Up &  0.46617279 & -0.160274908 &  0.73189638 &  0.03673337 & -0.16036737 &  0.27011287 &  0.34155448 &  0.18709101 &  0.124303805 &  0.17580335 & ⋯ & -0.23524018 & -0.04565981 &  0.192526401 & -0.07712182 &  0.18866958 &  0.49366655 &  0.083557804 &  0.34700683 & -0.3813536716 &  0.23392498\\\\\n",
       "\t2,Colon - Transverse Male 70-79 Up & -0.05482741 &  0.031944407 & -0.07119695 & -0.03778371 &  0.07130929 & -0.03862763 & -0.10123493 & -0.01607100 & -0.094175281 & -0.04041773 & ⋯ &  0.03768582 &  0.01823106 & -0.086882211 &  0.19412630 &  0.28690821 & -0.08885060 &  0.038956649 & -0.06684843 &  0.0695568037 & -0.04009313\\\\\n",
       "\tLV 3 & -0.18970150 &  0.084744719 & -0.04421499 & -0.12689688 & -0.01891176 & -0.03325522 & -0.20798620 &  0.89332084 & -0.003713821 &  0.04296174 & ⋯ & -0.01377714 & -0.08280761 &  0.009087268 &  0.09793773 &  0.05386236 & -0.19782578 &  0.423212881 &  0.07848064 & -0.0234689283 & -0.05235816\\\\\n",
       "\t4,Whole Blood Female 50-59 Up & -0.16835215 & -0.005646782 & -0.14882507 & -0.13028856 &  0.04456463 & -0.14427548 & -0.09085780 & -0.08721934 & -0.070949456 & -0.13710315 & ⋯ &  0.02282449 & -0.16052529 & -0.080124805 & -0.05021261 & -0.11735479 & -0.09932323 & -0.088999635 & -0.05632542 &  0.0002726316 & -0.06148682\\\\\n",
       "\t5,Myc Targets V1 &  0.22784539 &  0.135854387 &  0.02489118 &  0.14955940 & -0.35129585 &  0.06705728 &  0.04226745 &  0.15924572 &  0.305569910 &  0.14872014 & ⋯ & -0.19613522 &  0.17144165 & -0.187114670 & -0.06161684 &  0.01157285 &  0.04681580 &  0.413042999 & -0.09198360 &  0.2846712048 &  0.04444101\\\\\n",
       "\tLV 6 & -0.14773172 & -0.090280367 & -0.09726386 & -0.17305484 & -0.10486026 & -0.16211997 & -0.24268387 & -0.18460777 & -0.137521121 & -0.15737880 & ⋯ &  0.05857534 &  0.05339165 &  0.067576095 &  0.03867730 &  0.09123170 &  0.09281796 &  0.009773036 &  0.06410904 &  0.0467131491 &  0.09168696\\\\\n",
       "\\end{tabular}\n"
      ],
      "text/markdown": [
       "\n",
       "A matrix: 6 × 17382 of type dbl\n",
       "\n",
       "| <!--/--> | GTEX-1117F-0226-SM-5GZZ7 | GTEX-1117F-0426-SM-5EGHI | GTEX-1117F-0526-SM-5EGHJ | GTEX-1117F-0626-SM-5N9CS | GTEX-1117F-0726-SM-5GIEN | GTEX-1117F-1326-SM-5EGHH | GTEX-1117F-2426-SM-5EGGH | GTEX-1117F-2526-SM-5GZY6 | GTEX-1117F-2826-SM-5GZXL | GTEX-1117F-2926-SM-5GZYI | ⋯ | GTEX-ZZPU-1126-SM-5N9CW | GTEX-ZZPU-1226-SM-5N9CK | GTEX-ZZPU-1326-SM-5GZWS | GTEX-ZZPU-1426-SM-5GZZ6 | GTEX-ZZPU-1826-SM-5E43L | GTEX-ZZPU-2126-SM-5EGIU | GTEX-ZZPU-2226-SM-5EGIV | GTEX-ZZPU-2426-SM-5E44I | GTEX-ZZPU-2626-SM-5E45Y | GTEX-ZZPU-2726-SM-5NQ8O |\n",
       "|---|---|---|---|---|---|---|---|---|---|---|---|---|---|---|---|---|---|---|---|---|---|\n",
       "| 1,Cells - EBV-transformed Lymphocytes Male 40-49 Up |  0.46617279 | -0.160274908 |  0.73189638 |  0.03673337 | -0.16036737 |  0.27011287 |  0.34155448 |  0.18709101 |  0.124303805 |  0.17580335 | ⋯ | -0.23524018 | -0.04565981 |  0.192526401 | -0.07712182 |  0.18866958 |  0.49366655 |  0.083557804 |  0.34700683 | -0.3813536716 |  0.23392498 |\n",
       "| 2,Colon - Transverse Male 70-79 Up | -0.05482741 |  0.031944407 | -0.07119695 | -0.03778371 |  0.07130929 | -0.03862763 | -0.10123493 | -0.01607100 | -0.094175281 | -0.04041773 | ⋯ |  0.03768582 |  0.01823106 | -0.086882211 |  0.19412630 |  0.28690821 | -0.08885060 |  0.038956649 | -0.06684843 |  0.0695568037 | -0.04009313 |\n",
       "| LV 3 | -0.18970150 |  0.084744719 | -0.04421499 | -0.12689688 | -0.01891176 | -0.03325522 | -0.20798620 |  0.89332084 | -0.003713821 |  0.04296174 | ⋯ | -0.01377714 | -0.08280761 |  0.009087268 |  0.09793773 |  0.05386236 | -0.19782578 |  0.423212881 |  0.07848064 | -0.0234689283 | -0.05235816 |\n",
       "| 4,Whole Blood Female 50-59 Up | -0.16835215 | -0.005646782 | -0.14882507 | -0.13028856 |  0.04456463 | -0.14427548 | -0.09085780 | -0.08721934 | -0.070949456 | -0.13710315 | ⋯ |  0.02282449 | -0.16052529 | -0.080124805 | -0.05021261 | -0.11735479 | -0.09932323 | -0.088999635 | -0.05632542 |  0.0002726316 | -0.06148682 |\n",
       "| 5,Myc Targets V1 |  0.22784539 |  0.135854387 |  0.02489118 |  0.14955940 | -0.35129585 |  0.06705728 |  0.04226745 |  0.15924572 |  0.305569910 |  0.14872014 | ⋯ | -0.19613522 |  0.17144165 | -0.187114670 | -0.06161684 |  0.01157285 |  0.04681580 |  0.413042999 | -0.09198360 |  0.2846712048 |  0.04444101 |\n",
       "| LV 6 | -0.14773172 | -0.090280367 | -0.09726386 | -0.17305484 | -0.10486026 | -0.16211997 | -0.24268387 | -0.18460777 | -0.137521121 | -0.15737880 | ⋯ |  0.05857534 |  0.05339165 |  0.067576095 |  0.03867730 |  0.09123170 |  0.09281796 |  0.009773036 |  0.06410904 |  0.0467131491 |  0.09168696 |\n",
       "\n"
      ],
      "text/plain": [
       "                                                    GTEX-1117F-0226-SM-5GZZ7\n",
       "1,Cells - EBV-transformed Lymphocytes Male 40-49 Up  0.46617279             \n",
       "2,Colon - Transverse Male 70-79 Up                  -0.05482741             \n",
       "LV 3                                                -0.18970150             \n",
       "4,Whole Blood Female 50-59 Up                       -0.16835215             \n",
       "5,Myc Targets V1                                     0.22784539             \n",
       "LV 6                                                -0.14773172             \n",
       "                                                    GTEX-1117F-0426-SM-5EGHI\n",
       "1,Cells - EBV-transformed Lymphocytes Male 40-49 Up -0.160274908            \n",
       "2,Colon - Transverse Male 70-79 Up                   0.031944407            \n",
       "LV 3                                                 0.084744719            \n",
       "4,Whole Blood Female 50-59 Up                       -0.005646782            \n",
       "5,Myc Targets V1                                     0.135854387            \n",
       "LV 6                                                -0.090280367            \n",
       "                                                    GTEX-1117F-0526-SM-5EGHJ\n",
       "1,Cells - EBV-transformed Lymphocytes Male 40-49 Up  0.73189638             \n",
       "2,Colon - Transverse Male 70-79 Up                  -0.07119695             \n",
       "LV 3                                                -0.04421499             \n",
       "4,Whole Blood Female 50-59 Up                       -0.14882507             \n",
       "5,Myc Targets V1                                     0.02489118             \n",
       "LV 6                                                -0.09726386             \n",
       "                                                    GTEX-1117F-0626-SM-5N9CS\n",
       "1,Cells - EBV-transformed Lymphocytes Male 40-49 Up  0.03673337             \n",
       "2,Colon - Transverse Male 70-79 Up                  -0.03778371             \n",
       "LV 3                                                -0.12689688             \n",
       "4,Whole Blood Female 50-59 Up                       -0.13028856             \n",
       "5,Myc Targets V1                                     0.14955940             \n",
       "LV 6                                                -0.17305484             \n",
       "                                                    GTEX-1117F-0726-SM-5GIEN\n",
       "1,Cells - EBV-transformed Lymphocytes Male 40-49 Up -0.16036737             \n",
       "2,Colon - Transverse Male 70-79 Up                   0.07130929             \n",
       "LV 3                                                -0.01891176             \n",
       "4,Whole Blood Female 50-59 Up                        0.04456463             \n",
       "5,Myc Targets V1                                    -0.35129585             \n",
       "LV 6                                                -0.10486026             \n",
       "                                                    GTEX-1117F-1326-SM-5EGHH\n",
       "1,Cells - EBV-transformed Lymphocytes Male 40-49 Up  0.27011287             \n",
       "2,Colon - Transverse Male 70-79 Up                  -0.03862763             \n",
       "LV 3                                                -0.03325522             \n",
       "4,Whole Blood Female 50-59 Up                       -0.14427548             \n",
       "5,Myc Targets V1                                     0.06705728             \n",
       "LV 6                                                -0.16211997             \n",
       "                                                    GTEX-1117F-2426-SM-5EGGH\n",
       "1,Cells - EBV-transformed Lymphocytes Male 40-49 Up  0.34155448             \n",
       "2,Colon - Transverse Male 70-79 Up                  -0.10123493             \n",
       "LV 3                                                -0.20798620             \n",
       "4,Whole Blood Female 50-59 Up                       -0.09085780             \n",
       "5,Myc Targets V1                                     0.04226745             \n",
       "LV 6                                                -0.24268387             \n",
       "                                                    GTEX-1117F-2526-SM-5GZY6\n",
       "1,Cells - EBV-transformed Lymphocytes Male 40-49 Up  0.18709101             \n",
       "2,Colon - Transverse Male 70-79 Up                  -0.01607100             \n",
       "LV 3                                                 0.89332084             \n",
       "4,Whole Blood Female 50-59 Up                       -0.08721934             \n",
       "5,Myc Targets V1                                     0.15924572             \n",
       "LV 6                                                -0.18460777             \n",
       "                                                    GTEX-1117F-2826-SM-5GZXL\n",
       "1,Cells - EBV-transformed Lymphocytes Male 40-49 Up  0.124303805            \n",
       "2,Colon - Transverse Male 70-79 Up                  -0.094175281            \n",
       "LV 3                                                -0.003713821            \n",
       "4,Whole Blood Female 50-59 Up                       -0.070949456            \n",
       "5,Myc Targets V1                                     0.305569910            \n",
       "LV 6                                                -0.137521121            \n",
       "                                                    GTEX-1117F-2926-SM-5GZYI ⋯\n",
       "1,Cells - EBV-transformed Lymphocytes Male 40-49 Up  0.17580335              ⋯\n",
       "2,Colon - Transverse Male 70-79 Up                  -0.04041773              ⋯\n",
       "LV 3                                                 0.04296174              ⋯\n",
       "4,Whole Blood Female 50-59 Up                       -0.13710315              ⋯\n",
       "5,Myc Targets V1                                     0.14872014              ⋯\n",
       "LV 6                                                -0.15737880              ⋯\n",
       "                                                    GTEX-ZZPU-1126-SM-5N9CW\n",
       "1,Cells - EBV-transformed Lymphocytes Male 40-49 Up -0.23524018            \n",
       "2,Colon - Transverse Male 70-79 Up                   0.03768582            \n",
       "LV 3                                                -0.01377714            \n",
       "4,Whole Blood Female 50-59 Up                        0.02282449            \n",
       "5,Myc Targets V1                                    -0.19613522            \n",
       "LV 6                                                 0.05857534            \n",
       "                                                    GTEX-ZZPU-1226-SM-5N9CK\n",
       "1,Cells - EBV-transformed Lymphocytes Male 40-49 Up -0.04565981            \n",
       "2,Colon - Transverse Male 70-79 Up                   0.01823106            \n",
       "LV 3                                                -0.08280761            \n",
       "4,Whole Blood Female 50-59 Up                       -0.16052529            \n",
       "5,Myc Targets V1                                     0.17144165            \n",
       "LV 6                                                 0.05339165            \n",
       "                                                    GTEX-ZZPU-1326-SM-5GZWS\n",
       "1,Cells - EBV-transformed Lymphocytes Male 40-49 Up  0.192526401           \n",
       "2,Colon - Transverse Male 70-79 Up                  -0.086882211           \n",
       "LV 3                                                 0.009087268           \n",
       "4,Whole Blood Female 50-59 Up                       -0.080124805           \n",
       "5,Myc Targets V1                                    -0.187114670           \n",
       "LV 6                                                 0.067576095           \n",
       "                                                    GTEX-ZZPU-1426-SM-5GZZ6\n",
       "1,Cells - EBV-transformed Lymphocytes Male 40-49 Up -0.07712182            \n",
       "2,Colon - Transverse Male 70-79 Up                   0.19412630            \n",
       "LV 3                                                 0.09793773            \n",
       "4,Whole Blood Female 50-59 Up                       -0.05021261            \n",
       "5,Myc Targets V1                                    -0.06161684            \n",
       "LV 6                                                 0.03867730            \n",
       "                                                    GTEX-ZZPU-1826-SM-5E43L\n",
       "1,Cells - EBV-transformed Lymphocytes Male 40-49 Up  0.18866958            \n",
       "2,Colon - Transverse Male 70-79 Up                   0.28690821            \n",
       "LV 3                                                 0.05386236            \n",
       "4,Whole Blood Female 50-59 Up                       -0.11735479            \n",
       "5,Myc Targets V1                                     0.01157285            \n",
       "LV 6                                                 0.09123170            \n",
       "                                                    GTEX-ZZPU-2126-SM-5EGIU\n",
       "1,Cells - EBV-transformed Lymphocytes Male 40-49 Up  0.49366655            \n",
       "2,Colon - Transverse Male 70-79 Up                  -0.08885060            \n",
       "LV 3                                                -0.19782578            \n",
       "4,Whole Blood Female 50-59 Up                       -0.09932323            \n",
       "5,Myc Targets V1                                     0.04681580            \n",
       "LV 6                                                 0.09281796            \n",
       "                                                    GTEX-ZZPU-2226-SM-5EGIV\n",
       "1,Cells - EBV-transformed Lymphocytes Male 40-49 Up  0.083557804           \n",
       "2,Colon - Transverse Male 70-79 Up                   0.038956649           \n",
       "LV 3                                                 0.423212881           \n",
       "4,Whole Blood Female 50-59 Up                       -0.088999635           \n",
       "5,Myc Targets V1                                     0.413042999           \n",
       "LV 6                                                 0.009773036           \n",
       "                                                    GTEX-ZZPU-2426-SM-5E44I\n",
       "1,Cells - EBV-transformed Lymphocytes Male 40-49 Up  0.34700683            \n",
       "2,Colon - Transverse Male 70-79 Up                  -0.06684843            \n",
       "LV 3                                                 0.07848064            \n",
       "4,Whole Blood Female 50-59 Up                       -0.05632542            \n",
       "5,Myc Targets V1                                    -0.09198360            \n",
       "LV 6                                                 0.06410904            \n",
       "                                                    GTEX-ZZPU-2626-SM-5E45Y\n",
       "1,Cells - EBV-transformed Lymphocytes Male 40-49 Up -0.3813536716          \n",
       "2,Colon - Transverse Male 70-79 Up                   0.0695568037          \n",
       "LV 3                                                -0.0234689283          \n",
       "4,Whole Blood Female 50-59 Up                        0.0002726316          \n",
       "5,Myc Targets V1                                     0.2846712048          \n",
       "LV 6                                                 0.0467131491          \n",
       "                                                    GTEX-ZZPU-2726-SM-5NQ8O\n",
       "1,Cells - EBV-transformed Lymphocytes Male 40-49 Up  0.23392498            \n",
       "2,Colon - Transverse Male 70-79 Up                  -0.04009313            \n",
       "LV 3                                                -0.05235816            \n",
       "4,Whole Blood Female 50-59 Up                       -0.06148682            \n",
       "5,Myc Targets V1                                     0.04444101            \n",
       "LV 6                                                 0.09168696            "
      ]
     },
     "metadata": {},
     "output_type": "display_data"
    },
    {
     "data": {
      "text/html": [
       "<style>\n",
       ".list-inline {list-style: none; margin:0; padding: 0}\n",
       ".list-inline>li {display: inline-block}\n",
       ".list-inline>li:not(:last-child)::after {content: \"\\00b7\"; padding: 0 .5ex}\n",
       "</style>\n",
       "<ol class=list-inline><li>206</li><li>17382</li></ol>\n"
      ],
      "text/latex": [
       "\\begin{enumerate*}\n",
       "\\item 206\n",
       "\\item 17382\n",
       "\\end{enumerate*}\n"
      ],
      "text/markdown": [
       "1. 206\n",
       "2. 17382\n",
       "\n",
       "\n"
      ],
      "text/plain": [
       "[1]   206 17382"
      ]
     },
     "metadata": {},
     "output_type": "display_data"
    }
   ],
   "source": [
    "head(gtex_plier$B)\n",
    "dim(gtex_plier$B)"
   ]
  },
  {
   "cell_type": "code",
   "execution_count": 12,
   "id": "191452de",
   "metadata": {
    "vscode": {
     "languageId": "r"
    }
   },
   "outputs": [],
   "source": [
    "colnames(gtex_plier$B) <- samples"
   ]
  },
  {
   "cell_type": "code",
   "execution_count": 14,
   "id": "e15c2c71",
   "metadata": {
    "vscode": {
     "languageId": "r"
    }
   },
   "outputs": [],
   "source": [
    "saveRDS(gtex_plier, file = file.path(output_data_dir, \"gtex_PLIER.rds\"))"
   ]
  }
 ],
 "metadata": {
  "kernelspec": {
   "display_name": "R",
   "language": "R",
   "name": "ir"
  },
  "language_info": {
   "codemirror_mode": "r",
   "file_extension": ".r",
   "mimetype": "text/x-r-source",
   "name": "R",
   "pygments_lexer": "r",
   "version": "4.3.3"
  }
 },
 "nbformat": 4,
 "nbformat_minor": 5
}
