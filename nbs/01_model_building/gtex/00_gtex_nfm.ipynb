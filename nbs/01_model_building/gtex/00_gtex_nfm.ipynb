{
 "cells": [
  {
   "cell_type": "markdown",
   "id": "ca81bc7f",
   "metadata": {},
   "source": [
    "# GTEx model building with PLIER2 and PLIER"
   ]
  },
  {
   "cell_type": "markdown",
   "id": "e69fa323",
   "metadata": {
    "vscode": {
     "languageId": "r"
    }
   },
   "source": [
    "# PLIER2"
   ]
  },
  {
   "cell_type": "markdown",
   "id": "be805cf1",
   "metadata": {},
   "source": [
    "## Load libraries"
   ]
  },
  {
   "cell_type": "code",
   "execution_count": 1,
   "id": "59564941",
   "metadata": {
    "vscode": {
     "languageId": "r"
    }
   },
   "outputs": [
    {
     "name": "stderr",
     "output_type": "stream",
     "text": [
      "here() starts at /home/msubirana/Documents/pivlab/plier2-analyses\n",
      "\n"
     ]
    }
   ],
   "source": [
    "library(data.table)\n",
    "library(here)"
   ]
  },
  {
   "cell_type": "markdown",
   "id": "fc858c79",
   "metadata": {},
   "source": [
    "## Output directory"
   ]
  },
  {
   "cell_type": "code",
   "execution_count": 2,
   "id": "02f368b4",
   "metadata": {
    "vscode": {
     "languageId": "r"
    }
   },
   "outputs": [],
   "source": [
    "source(here(\"config.R\"))\n",
    "output_data_dir <- config$GTEx$DATASET_FOLDER\n",
    "dir.create(output_data_dir, showWarnings = FALSE, recursive = TRUE)"
   ]
  },
  {
   "cell_type": "markdown",
   "id": "77cebc82",
   "metadata": {},
   "source": [
    "# Settings"
   ]
  },
  {
   "cell_type": "code",
   "execution_count": null,
   "id": "90171453",
   "metadata": {
    "vscode": {
     "languageId": "r"
    }
   },
   "outputs": [],
   "source": []
  },
  {
   "cell_type": "markdown",
   "id": "bf137533",
   "metadata": {},
   "source": [
    "## Download GTEx "
   ]
  },
  {
   "cell_type": "code",
   "execution_count": 3,
   "id": "0a2bdbf8",
   "metadata": {
    "vscode": {
     "languageId": "r"
    }
   },
   "outputs": [
    {
     "name": "stderr",
     "output_type": "stream",
     "text": [
      "File already exists, skipping download.\n",
      "\n"
     ]
    }
   ],
   "source": [
    "url <- config$GTEx$URL\n",
    "dest_dir <-  config$GTEx$DATASET_FOLDER\n",
    "dest_gz  <- file.path(dest_dir, basename(url))\n",
    "\n",
    "if (!file.exists(dest_gz)) {\n",
    "  dir.create(dest_dir, recursive = TRUE, showWarnings = FALSE)\n",
    "  download.file(url, dest_gz, mode = \"wb\")\n",
    "  message(\"Downloaded to: \", dest_gz)\n",
    "} else {\n",
    "  message(\"File already exists, skipping download.\")\n",
    "}"
   ]
  },
  {
   "cell_type": "markdown",
   "id": "7680eee5",
   "metadata": {},
   "source": [
    "## Preprocess GTEx data"
   ]
  },
  {
   "cell_type": "code",
   "execution_count": 4,
   "id": "571e5e6b",
   "metadata": {
    "vscode": {
     "languageId": "r"
    }
   },
   "outputs": [
    {
     "name": "stderr",
     "output_type": "stream",
     "text": [
      "Output file already exists. Skipping.\n",
      "\n"
     ]
    }
   ],
   "source": [
    "exprs_path  <- file.path(config$GTEx$DATASET_FOLDER, 'GTEx_Analysis_2017-06-05_v8_RNASeQCv1.1.9_gene_tpm.gct.gz')\n",
    "output_file <- config$GTEx$DATASET_FILE\n",
    "\n",
    "if (!file.exists(output_file)) {\n",
    "  dir.create(dirname(output_file), recursive = TRUE, showWarnings = FALSE)\n",
    "  exprs_data <- read.table(exprs_path, header = TRUE, sep = \"\\t\", skip = 2, check.names = FALSE)\n",
    "  saveRDS(exprs_data, config$GTEx$DATASET_FILE)\n",
    "  message(\"File successfully written to: \", config$GTEx$DATASET_FILE)\n",
    "} else {\n",
    "  message(\"Output file already exists. Skipping.\")\n",
    "}\n",
    "\n",
    "# Aggregate in-place by 'description'\n",
    "gtex <- readRDS(here(config$GTEx$DATASET_FILE))\n",
    "gtex <- as.data.table(gtex)\n",
    "aggregated_gtex <- gtex[, lapply(.SD, sum), by = Description, .SDcols = is.numeric]\n",
    "\n",
    "genes <- aggregated_gtex$Description\n",
    "samples <- colnames(aggregated_gtex[, -1])\n",
    "data_mat <- as.matrix(aggregated_gtex[, -1])"
   ]
  },
  {
   "cell_type": "code",
   "execution_count": null,
   "id": "13d947cc",
   "metadata": {
    "vscode": {
     "languageId": "r"
    }
   },
   "outputs": [
    {
     "name": "stderr",
     "output_type": "stream",
     "text": [
      "Loading required package: pkgmaker\n",
      "\n",
      "Loading required package: registry\n",
      "\n",
      "Loading required package: rngtools\n",
      "\n",
      "Loading required package: cluster\n",
      "\n"
     ]
    },
    {
     "name": "stderr",
     "output_type": "stream",
     "text": [
      "NMF - BioConductor layer [OK] | Shared memory capabilities [NO: bigmemory] | Cores 31/32\n",
      "\n",
      "  To enable shared memory capabilities, try: install.extras('\n",
      "NMF\n",
      "')\n",
      "\n"
     ]
    },
    {
     "name": "stdout",
     "output_type": "stream",
     "text": [
      "Kept 54350 genes out of 54592 \n"
     ]
    },
    {
     "name": "stderr",
     "output_type": "stream",
     "text": [
      "NMF algorithm: 'brunet'\n",
      "\n",
      "NMF seeding method: random\n",
      "\n"
     ]
    }
   ],
   "source": [
    "library(NMF)\n",
    "\n",
    "# Clean matrix first\n",
    "X <- as.matrix(data_mat)\n",
    "storage.mode(X) <- \"double\"\n",
    "\n",
    "# Drop rows that are all NA or sum to 0 (NA-safe)\n",
    "row_ok <- rowSums(!is.na(X)) > 0 & rowSums(X, na.rm = TRUE) > 0\n",
    "X <- X[row_ok, , drop = FALSE]\n",
    "\n",
    "cat(\"Kept\", nrow(X), \"genes out of\", nrow(data_mat), \"\\n\")\n",
    "\n",
    "# Run NMF (k = 412) with multiplicative updates\n",
    "set.seed(42)\n",
    "k <- 412\n",
    "fit <- nmf(X, rank = k, method = \"brunet\", nrun = 1, .opt = \"v\")\n",
    "\n",
    "W <- basis(fit)  # genes x k (on the filtered set)\n",
    "H <- coef(fit)   # k x samples"
   ]
  }
 ],
 "metadata": {
  "kernelspec": {
   "display_name": "R",
   "language": "R",
   "name": "ir"
  },
  "language_info": {
   "codemirror_mode": "r",
   "file_extension": ".r",
   "mimetype": "text/x-r-source",
   "name": "R",
   "pygments_lexer": "r",
   "version": "4.3.3"
  }
 },
 "nbformat": 4,
 "nbformat_minor": 5
}
