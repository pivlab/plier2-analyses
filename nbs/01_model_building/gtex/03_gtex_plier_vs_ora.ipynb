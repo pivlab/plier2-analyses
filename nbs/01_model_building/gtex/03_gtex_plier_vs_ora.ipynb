{
 "cells": [
  {
   "cell_type": "markdown",
   "id": "ca81bc7f",
   "metadata": {},
   "source": [
    "# GTEx model with different priors"
   ]
  },
  {
   "cell_type": "markdown",
   "id": "be805cf1",
   "metadata": {},
   "source": [
    "## Load libraries"
   ]
  },
  {
   "cell_type": "code",
   "execution_count": 1,
   "id": "b4ed5e6f",
   "metadata": {
    "vscode": {
     "languageId": "r"
    }
   },
   "outputs": [
    {
     "name": "stderr",
     "output_type": "stream",
     "text": [
      "\n",
      "Attaching package: ‘dplyr’\n",
      "\n",
      "\n",
      "The following objects are masked from ‘package:data.table’:\n",
      "\n",
      "    between, first, last\n",
      "\n",
      "\n",
      "The following objects are masked from ‘package:stats’:\n",
      "\n",
      "    filter, lag\n",
      "\n",
      "\n",
      "The following objects are masked from ‘package:base’:\n",
      "\n",
      "    intersect, setdiff, setequal, union\n",
      "\n",
      "\n",
      "Loading required package: Matrix\n",
      "\n",
      "Loaded glmnet 4.1-10\n",
      "\n",
      "here() starts at /home/msubirana/Documents/pivlab/plier2-analyses\n",
      "\n",
      "\n",
      "\n",
      "clusterProfiler v4.10.0  For help: https://yulab-smu.top/biomedical-knowledge-mining-book/\n",
      "\n",
      "If you use clusterProfiler in published research, please cite:\n",
      "T Wu, E Hu, S Xu, M Chen, P Guo, Z Dai, T Feng, L Zhou, W Tang, L Zhan, X Fu, S Liu, X Bo, and G Yu. clusterProfiler 4.0: A universal enrichment tool for interpreting omics data. The Innovation. 2021, 2(3):100141\n",
      "\n",
      "\n",
      "Attaching package: ‘clusterProfiler’\n",
      "\n",
      "\n",
      "The following object is masked from ‘package:stats’:\n",
      "\n",
      "    filter\n",
      "\n",
      "\n",
      "Loading required package: AnnotationDbi\n",
      "\n",
      "Loading required package: stats4\n",
      "\n",
      "Loading required package: BiocGenerics\n",
      "\n",
      "\n",
      "Attaching package: ‘BiocGenerics’\n",
      "\n",
      "\n",
      "The following objects are masked from ‘package:dplyr’:\n",
      "\n",
      "    combine, intersect, setdiff, union\n",
      "\n",
      "\n",
      "The following objects are masked from ‘package:stats’:\n",
      "\n",
      "    IQR, mad, sd, var, xtabs\n",
      "\n",
      "\n",
      "The following objects are masked from ‘package:base’:\n",
      "\n",
      "    anyDuplicated, aperm, append, as.data.frame, basename, cbind,\n",
      "    colnames, dirname, do.call, duplicated, eval, evalq, Filter, Find,\n",
      "    get, grep, grepl, intersect, is.unsorted, lapply, Map, mapply,\n",
      "    match, mget, order, paste, pmax, pmax.int, pmin, pmin.int,\n",
      "    Position, rank, rbind, Reduce, rownames, sapply, setdiff, sort,\n",
      "    table, tapply, union, unique, unsplit, which.max, which.min\n",
      "\n",
      "\n",
      "Loading required package: Biobase\n",
      "\n",
      "Welcome to Bioconductor\n",
      "\n",
      "    Vignettes contain introductory material; view with\n",
      "    'browseVignettes()'. To cite Bioconductor, see\n",
      "    'citation(\"Biobase\")', and for packages 'citation(\"pkgname\")'.\n",
      "\n",
      "\n",
      "Loading required package: IRanges\n",
      "\n",
      "Loading required package: S4Vectors\n",
      "\n",
      "\n",
      "Attaching package: ‘S4Vectors’\n",
      "\n",
      "\n",
      "The following object is masked from ‘package:clusterProfiler’:\n",
      "\n",
      "    rename\n",
      "\n",
      "\n",
      "The following objects are masked from ‘package:Matrix’:\n",
      "\n",
      "    expand, unname\n",
      "\n",
      "\n",
      "The following objects are masked from ‘package:dplyr’:\n",
      "\n",
      "    first, rename\n",
      "\n",
      "\n",
      "The following objects are masked from ‘package:data.table’:\n",
      "\n",
      "    first, second\n",
      "\n",
      "\n",
      "The following object is masked from ‘package:utils’:\n",
      "\n",
      "    findMatches\n",
      "\n",
      "\n",
      "The following objects are masked from ‘package:base’:\n",
      "\n",
      "    expand.grid, I, unname\n",
      "\n",
      "\n",
      "\n",
      "Attaching package: ‘IRanges’\n",
      "\n",
      "\n",
      "The following object is masked from ‘package:clusterProfiler’:\n",
      "\n",
      "    slice\n",
      "\n",
      "\n",
      "The following objects are masked from ‘package:dplyr’:\n",
      "\n",
      "    collapse, desc, slice\n",
      "\n",
      "\n",
      "The following object is masked from ‘package:data.table’:\n",
      "\n",
      "    shift\n",
      "\n",
      "\n",
      "\n",
      "Attaching package: ‘AnnotationDbi’\n",
      "\n",
      "\n",
      "The following object is masked from ‘package:clusterProfiler’:\n",
      "\n",
      "    select\n",
      "\n",
      "\n",
      "The following object is masked from ‘package:dplyr’:\n",
      "\n",
      "    select\n",
      "\n",
      "\n",
      "\n",
      "\n"
     ]
    }
   ],
   "source": [
    "if (!requireNamespace(\"PLIER\", quietly = TRUE)) {\n",
    "    devtools::install_github(\"wgmao/PLIER\")\n",
    "}\n",
    "\n",
    "# 3. Install PLIER2 (mchikina/PLIER2) if not already installed\n",
    "if (!requireNamespace(\"PLIER2\", quietly = TRUE)) {\n",
    "    REPO_PATH <- \"/home/msubirana/Documents/pivlab/PLIER2\"  # adjust\n",
    "    remotes::install_local(REPO_PATH, force = TRUE, dependencies = FALSE)\n",
    "}\n",
    "\n",
    "library(bigstatsr)\n",
    "library(data.table)\n",
    "library(dplyr)\n",
    "library(rsvd)\n",
    "library(glmnet)\n",
    "library(Matrix)\n",
    "library(knitr)\n",
    "library(here)\n",
    "library(PLIER2)\n",
    "library(clusterProfiler)\n",
    "library(org.Hs.eg.db)\n",
    "library(dplyr)\n",
    "\n",
    "\n",
    "source(here(\"config.R\"))"
   ]
  },
  {
   "cell_type": "markdown",
   "id": "fc858c79",
   "metadata": {},
   "source": [
    "## Output directory"
   ]
  },
  {
   "cell_type": "code",
   "execution_count": 2,
   "id": "02f368b4",
   "metadata": {
    "vscode": {
     "languageId": "r"
    }
   },
   "outputs": [],
   "source": [
    "output_data_dir <- config$GTEx$DATASET_FOLDER\n",
    "dir.create(output_data_dir, showWarnings = FALSE, recursive = TRUE)"
   ]
  },
  {
   "cell_type": "code",
   "execution_count": 3,
   "id": "7827b469",
   "metadata": {
    "vscode": {
     "languageId": "r"
    }
   },
   "outputs": [],
   "source": [
    "options(repr.matrix.max.rows = Inf)\n",
    "\n",
    "gtex_plier2_kegg <- readRDS(file.path(output_data_dir, \"gtex_KEGG_2021_Human_PLIER2.rds\"))"
   ]
  },
  {
   "cell_type": "code",
   "execution_count": 4,
   "id": "8235e150",
   "metadata": {
    "vscode": {
     "languageId": "r"
    }
   },
   "outputs": [],
   "source": [
    "kegg_plier2_summary <- gtex_plier2_kegg$summary %>%\n",
    "    dplyr::filter(FDR < 0.05 & AUC > 0.7) %>%\n",
    "    dplyr::group_by(LV) %>%\n",
    "    dplyr::summarise(pathway = paste(pathway, collapse = ', '), .groups = \"drop\") %>%\n",
    "    dplyr::arrange(as.numeric(gsub(\"[^0-9]\", \"\", LV)))"
   ]
  },
  {
   "cell_type": "code",
   "execution_count": 5,
   "id": "6e338cfe",
   "metadata": {
    "vscode": {
     "languageId": "r"
    }
   },
   "outputs": [],
   "source": [
    "gtex_baseRes <- readRDS(file.path(output_data_dir, \"gtex_PLIER2_baseRes.rds\"))"
   ]
  },
  {
   "cell_type": "code",
   "execution_count": 6,
   "metadata": {
    "vscode": {
     "languageId": "r"
    }
   },
   "outputs": [],
   "source": [
    "gtex_genes <- readRDS(file.path(output_data_dir, \"gtex_genes.rds\"))"
   ]
  },
  {
   "cell_type": "code",
   "execution_count": 7,
   "id": "1c7a01d7",
   "metadata": {
    "vscode": {
     "languageId": "r"
    }
   },
   "outputs": [],
   "source": [
    "colnames(gtex_baseRes$Z) <- paste0('LV', seq_len(ncol(gtex_baseRes$Z)))\n",
    "rownames(gtex_baseRes$Z) <- gtex_genes"
   ]
  },
  {
   "cell_type": "code",
   "execution_count": 8,
   "id": "52665982",
   "metadata": {
    "vscode": {
     "languageId": "r"
    }
   },
   "outputs": [
    {
     "data": {
      "text/html": [
       "<table class=\"dataframe\">\n",
       "<caption>A matrix: 6 × 206 of type dbl</caption>\n",
       "<thead>\n",
       "\t<tr><th></th><th scope=col>LV1</th><th scope=col>LV2</th><th scope=col>LV3</th><th scope=col>LV4</th><th scope=col>LV5</th><th scope=col>LV6</th><th scope=col>LV7</th><th scope=col>LV8</th><th scope=col>LV9</th><th scope=col>LV10</th><th scope=col>⋯</th><th scope=col>LV197</th><th scope=col>LV198</th><th scope=col>LV199</th><th scope=col>LV200</th><th scope=col>LV201</th><th scope=col>LV202</th><th scope=col>LV203</th><th scope=col>LV204</th><th scope=col>LV205</th><th scope=col>LV206</th></tr>\n",
       "</thead>\n",
       "<tbody>\n",
       "\t<tr><th scope=row>WASH7P</th><td>0</td><td>0</td><td>0</td><td>0</td><td>0</td><td>0.0000000</td><td>0</td><td>0</td><td>0</td><td>0</td><td>⋯</td><td>0</td><td>0</td><td>0</td><td>0</td><td>0.0000000</td><td>0</td><td>0</td><td>0.1239626</td><td>0.0000000</td><td>0.0000000</td></tr>\n",
       "\t<tr><th scope=row>RP11-34P13.15</th><td>0</td><td>0</td><td>0</td><td>0</td><td>0</td><td>0.3678263</td><td>0</td><td>0</td><td>0</td><td>0</td><td>⋯</td><td>0</td><td>0</td><td>0</td><td>0</td><td>0.3107976</td><td>0</td><td>0</td><td>0.0000000</td><td>0.0000000</td><td>0.0000000</td></tr>\n",
       "\t<tr><th scope=row>RP11-34P13.16</th><td>0</td><td>0</td><td>0</td><td>0</td><td>0</td><td>0.3559246</td><td>0</td><td>0</td><td>0</td><td>0</td><td>⋯</td><td>0</td><td>0</td><td>0</td><td>0</td><td>0.3337613</td><td>0</td><td>0</td><td>0.0000000</td><td>0.0000000</td><td>0.0000000</td></tr>\n",
       "\t<tr><th scope=row>RP11-34P13.18</th><td>0</td><td>0</td><td>0</td><td>0</td><td>0</td><td>0.0000000</td><td>0</td><td>0</td><td>0</td><td>0</td><td>⋯</td><td>0</td><td>0</td><td>0</td><td>0</td><td>0.2021179</td><td>0</td><td>0</td><td>0.2418167</td><td>0.0000000</td><td>0.0000000</td></tr>\n",
       "\t<tr><th scope=row>AP006222.2</th><td>0</td><td>0</td><td>0</td><td>0</td><td>0</td><td>0.0000000</td><td>0</td><td>0</td><td>0</td><td>0</td><td>⋯</td><td>0</td><td>0</td><td>0</td><td>0</td><td>0.3997058</td><td>0</td><td>0</td><td>0.0000000</td><td>0.1570023</td><td>0.0000000</td></tr>\n",
       "\t<tr><th scope=row>MTND1P23</th><td>0</td><td>0</td><td>0</td><td>0</td><td>0</td><td>0.0000000</td><td>0</td><td>0</td><td>0</td><td>0</td><td>⋯</td><td>0</td><td>0</td><td>0</td><td>0</td><td>0.4758745</td><td>0</td><td>0</td><td>0.0000000</td><td>0.0000000</td><td>0.4125261</td></tr>\n",
       "</tbody>\n",
       "</table>\n"
      ],
      "text/latex": [
       "A matrix: 6 × 206 of type dbl\n",
       "\\begin{tabular}{r|lllllllllllllllllllll}\n",
       "  & LV1 & LV2 & LV3 & LV4 & LV5 & LV6 & LV7 & LV8 & LV9 & LV10 & ⋯ & LV197 & LV198 & LV199 & LV200 & LV201 & LV202 & LV203 & LV204 & LV205 & LV206\\\\\n",
       "\\hline\n",
       "\tWASH7P & 0 & 0 & 0 & 0 & 0 & 0.0000000 & 0 & 0 & 0 & 0 & ⋯ & 0 & 0 & 0 & 0 & 0.0000000 & 0 & 0 & 0.1239626 & 0.0000000 & 0.0000000\\\\\n",
       "\tRP11-34P13.15 & 0 & 0 & 0 & 0 & 0 & 0.3678263 & 0 & 0 & 0 & 0 & ⋯ & 0 & 0 & 0 & 0 & 0.3107976 & 0 & 0 & 0.0000000 & 0.0000000 & 0.0000000\\\\\n",
       "\tRP11-34P13.16 & 0 & 0 & 0 & 0 & 0 & 0.3559246 & 0 & 0 & 0 & 0 & ⋯ & 0 & 0 & 0 & 0 & 0.3337613 & 0 & 0 & 0.0000000 & 0.0000000 & 0.0000000\\\\\n",
       "\tRP11-34P13.18 & 0 & 0 & 0 & 0 & 0 & 0.0000000 & 0 & 0 & 0 & 0 & ⋯ & 0 & 0 & 0 & 0 & 0.2021179 & 0 & 0 & 0.2418167 & 0.0000000 & 0.0000000\\\\\n",
       "\tAP006222.2 & 0 & 0 & 0 & 0 & 0 & 0.0000000 & 0 & 0 & 0 & 0 & ⋯ & 0 & 0 & 0 & 0 & 0.3997058 & 0 & 0 & 0.0000000 & 0.1570023 & 0.0000000\\\\\n",
       "\tMTND1P23 & 0 & 0 & 0 & 0 & 0 & 0.0000000 & 0 & 0 & 0 & 0 & ⋯ & 0 & 0 & 0 & 0 & 0.4758745 & 0 & 0 & 0.0000000 & 0.0000000 & 0.4125261\\\\\n",
       "\\end{tabular}\n"
      ],
      "text/markdown": [
       "\n",
       "A matrix: 6 × 206 of type dbl\n",
       "\n",
       "| <!--/--> | LV1 | LV2 | LV3 | LV4 | LV5 | LV6 | LV7 | LV8 | LV9 | LV10 | ⋯ | LV197 | LV198 | LV199 | LV200 | LV201 | LV202 | LV203 | LV204 | LV205 | LV206 |\n",
       "|---|---|---|---|---|---|---|---|---|---|---|---|---|---|---|---|---|---|---|---|---|---|\n",
       "| WASH7P | 0 | 0 | 0 | 0 | 0 | 0.0000000 | 0 | 0 | 0 | 0 | ⋯ | 0 | 0 | 0 | 0 | 0.0000000 | 0 | 0 | 0.1239626 | 0.0000000 | 0.0000000 |\n",
       "| RP11-34P13.15 | 0 | 0 | 0 | 0 | 0 | 0.3678263 | 0 | 0 | 0 | 0 | ⋯ | 0 | 0 | 0 | 0 | 0.3107976 | 0 | 0 | 0.0000000 | 0.0000000 | 0.0000000 |\n",
       "| RP11-34P13.16 | 0 | 0 | 0 | 0 | 0 | 0.3559246 | 0 | 0 | 0 | 0 | ⋯ | 0 | 0 | 0 | 0 | 0.3337613 | 0 | 0 | 0.0000000 | 0.0000000 | 0.0000000 |\n",
       "| RP11-34P13.18 | 0 | 0 | 0 | 0 | 0 | 0.0000000 | 0 | 0 | 0 | 0 | ⋯ | 0 | 0 | 0 | 0 | 0.2021179 | 0 | 0 | 0.2418167 | 0.0000000 | 0.0000000 |\n",
       "| AP006222.2 | 0 | 0 | 0 | 0 | 0 | 0.0000000 | 0 | 0 | 0 | 0 | ⋯ | 0 | 0 | 0 | 0 | 0.3997058 | 0 | 0 | 0.0000000 | 0.1570023 | 0.0000000 |\n",
       "| MTND1P23 | 0 | 0 | 0 | 0 | 0 | 0.0000000 | 0 | 0 | 0 | 0 | ⋯ | 0 | 0 | 0 | 0 | 0.4758745 | 0 | 0 | 0.0000000 | 0.0000000 | 0.4125261 |\n",
       "\n"
      ],
      "text/plain": [
       "              LV1 LV2 LV3 LV4 LV5 LV6       LV7 LV8 LV9 LV10 ⋯ LV197 LV198\n",
       "WASH7P        0   0   0   0   0   0.0000000 0   0   0   0    ⋯ 0     0    \n",
       "RP11-34P13.15 0   0   0   0   0   0.3678263 0   0   0   0    ⋯ 0     0    \n",
       "RP11-34P13.16 0   0   0   0   0   0.3559246 0   0   0   0    ⋯ 0     0    \n",
       "RP11-34P13.18 0   0   0   0   0   0.0000000 0   0   0   0    ⋯ 0     0    \n",
       "AP006222.2    0   0   0   0   0   0.0000000 0   0   0   0    ⋯ 0     0    \n",
       "MTND1P23      0   0   0   0   0   0.0000000 0   0   0   0    ⋯ 0     0    \n",
       "              LV199 LV200 LV201     LV202 LV203 LV204     LV205     LV206    \n",
       "WASH7P        0     0     0.0000000 0     0     0.1239626 0.0000000 0.0000000\n",
       "RP11-34P13.15 0     0     0.3107976 0     0     0.0000000 0.0000000 0.0000000\n",
       "RP11-34P13.16 0     0     0.3337613 0     0     0.0000000 0.0000000 0.0000000\n",
       "RP11-34P13.18 0     0     0.2021179 0     0     0.2418167 0.0000000 0.0000000\n",
       "AP006222.2    0     0     0.3997058 0     0     0.0000000 0.1570023 0.0000000\n",
       "MTND1P23      0     0     0.4758745 0     0     0.0000000 0.0000000 0.4125261"
      ]
     },
     "metadata": {},
     "output_type": "display_data"
    }
   ],
   "source": [
    "head(gtex_baseRes$Z)"
   ]
  },
  {
   "cell_type": "code",
   "execution_count": 9,
   "id": "e1f22d10",
   "metadata": {
    "vscode": {
     "languageId": "r"
    }
   },
   "outputs": [],
   "source": [
    "kegg_plier2_Z <- data.frame(gtex_baseRes$Z)"
   ]
  },
  {
   "cell_type": "code",
   "execution_count": 10,
   "id": "e45414bd",
   "metadata": {
    "vscode": {
     "languageId": "r"
    }
   },
   "outputs": [
    {
     "name": "stderr",
     "output_type": "stream",
     "text": [
      "'select()' returned 1:many mapping between keys and columns\n",
      "\n",
      "Warning message in bitr(rownames(Z), fromType = \"SYMBOL\", toType = \"ENTREZID\", OrgDb = org.Hs.eg.db):\n",
      "“20.4% of input gene IDs are fail to map...”\n"
     ]
    }
   ],
   "source": [
    "Z <- gtex_baseRes$Z\n",
    "\n",
    "map <- bitr(rownames(Z), fromType = \"SYMBOL\", toType = \"ENTREZID\", OrgDb = org.Hs.eg.db)\n",
    "map <- map[!duplicated(map$SYMBOL), ]\n",
    "\n",
    "lv_names <- colnames(Z)\n",
    "\n",
    "top_syms <- setNames(vector(\"list\", length(lv_names)), lv_names)"
   ]
  },
  {
   "cell_type": "code",
   "execution_count": 11,
   "id": "96fa148f",
   "metadata": {
    "vscode": {
     "languageId": "r"
    }
   },
   "outputs": [
    {
     "data": {
      "text/plain": [
       "NULL"
      ]
     },
     "metadata": {},
     "output_type": "display_data"
    }
   ],
   "source": [
    "head(top_syms$LV1)"
   ]
  },
  {
   "cell_type": "code",
   "execution_count": 12,
   "id": "f0467fd3",
   "metadata": {
    "vscode": {
     "languageId": "r"
    }
   },
   "outputs": [
    {
     "data": {
      "text/html": [
       "<table class=\"dataframe\">\n",
       "<caption>A data.frame: 10 × 1</caption>\n",
       "<thead>\n",
       "\t<tr><th></th><th scope=col>LV1</th></tr>\n",
       "\t<tr><th></th><th scope=col>&lt;dbl&gt;</th></tr>\n",
       "</thead>\n",
       "<tbody>\n",
       "\t<tr><th scope=row>MT-ND4</th><td>0</td></tr>\n",
       "\t<tr><th scope=row>MT-TH</th><td>0</td></tr>\n",
       "\t<tr><th scope=row>MT-TS2</th><td>0</td></tr>\n",
       "\t<tr><th scope=row>MT-TL2</th><td>0</td></tr>\n",
       "\t<tr><th scope=row>MT-ND5</th><td>0</td></tr>\n",
       "\t<tr><th scope=row>MT-ND6</th><td>0</td></tr>\n",
       "\t<tr><th scope=row>MT-TE</th><td>0</td></tr>\n",
       "\t<tr><th scope=row>MT-CYB</th><td>0</td></tr>\n",
       "\t<tr><th scope=row>MT-TT</th><td>0</td></tr>\n",
       "\t<tr><th scope=row>MT-TP</th><td>0</td></tr>\n",
       "</tbody>\n",
       "</table>\n"
      ],
      "text/latex": [
       "A data.frame: 10 × 1\n",
       "\\begin{tabular}{r|l}\n",
       "  & LV1\\\\\n",
       "  & <dbl>\\\\\n",
       "\\hline\n",
       "\tMT-ND4 & 0\\\\\n",
       "\tMT-TH & 0\\\\\n",
       "\tMT-TS2 & 0\\\\\n",
       "\tMT-TL2 & 0\\\\\n",
       "\tMT-ND5 & 0\\\\\n",
       "\tMT-ND6 & 0\\\\\n",
       "\tMT-TE & 0\\\\\n",
       "\tMT-CYB & 0\\\\\n",
       "\tMT-TT & 0\\\\\n",
       "\tMT-TP & 0\\\\\n",
       "\\end{tabular}\n"
      ],
      "text/markdown": [
       "\n",
       "A data.frame: 10 × 1\n",
       "\n",
       "| <!--/--> | LV1 &lt;dbl&gt; |\n",
       "|---|---|\n",
       "| MT-ND4 | 0 |\n",
       "| MT-TH | 0 |\n",
       "| MT-TS2 | 0 |\n",
       "| MT-TL2 | 0 |\n",
       "| MT-ND5 | 0 |\n",
       "| MT-ND6 | 0 |\n",
       "| MT-TE | 0 |\n",
       "| MT-CYB | 0 |\n",
       "| MT-TT | 0 |\n",
       "| MT-TP | 0 |\n",
       "\n"
      ],
      "text/plain": [
       "       LV1\n",
       "MT-ND4 0  \n",
       "MT-TH  0  \n",
       "MT-TS2 0  \n",
       "MT-TL2 0  \n",
       "MT-ND5 0  \n",
       "MT-ND6 0  \n",
       "MT-TE  0  \n",
       "MT-CYB 0  \n",
       "MT-TT  0  \n",
       "MT-TP  0  "
      ]
     },
     "metadata": {},
     "output_type": "display_data"
    }
   ],
   "source": [
    "kegg_plier2_Z %>% \n",
    "dplyr::select(LV1)  %>% \n",
    "arrange(desc(LV1)) %>%\n",
    "tail(10)"
   ]
  },
  {
   "cell_type": "code",
   "execution_count": 13,
   "id": "c0f034b4",
   "metadata": {
    "vscode": {
     "languageId": "r"
    }
   },
   "outputs": [],
   "source": [
    "# for (lv in lv_names) {\n",
    "#   v <- Z[, lv]\n",
    "#   idx <- which(!is.na(v) & v > 0)\n",
    "#   if (length(idx) == 0L) { top_syms[[lv]] <- character(0); next }\n",
    "#   ord <- idx[order(v[idx], decreasing = TRUE)]\n",
    "#   top_syms[[lv]] <- rownames(Z)[ord]\n",
    "# }\n",
    "\n",
    "# top_entrez <- lapply(top_syms, function(syms) {\n",
    "#   ids <- map$ENTREZID[match(syms, map$SYMBOL)]\n",
    "#   unique(as.character(ids[!is.na(ids)]))\n",
    "# })\n",
    "\n",
    "# kegg_list <- lapply(top_entrez, function(ids) {\n",
    "#   if (!length(ids)) return(NULL)\n",
    "#   enrichKEGG(gene = ids, organism = \"hsa\", qvalueCutoff = 0.05)\n",
    "# })"
   ]
  },
  {
   "cell_type": "code",
   "execution_count": 14,
   "id": "4de700ff",
   "metadata": {
    "vscode": {
     "languageId": "r"
    }
   },
   "outputs": [
    {
     "name": "stderr",
     "output_type": "stream",
     "text": [
      "Reading KEGG annotation online: \"https://rest.kegg.jp/link/hsa/pathway\"...\n",
      "\n",
      "Reading KEGG annotation online: \"https://rest.kegg.jp/list/pathway/hsa\"...\n",
      "\n"
     ]
    }
   ],
   "source": [
    "for (lv in lv_names) {\n",
    "  v <- Z[, lv]\n",
    "  ord <- order(v, decreasing = TRUE, na.last = NA)\n",
    "  n_top <- max(1L, ceiling(length(ord) * 0.05))\n",
    "  top_syms[[lv]] <- rownames(Z)[ord][seq_len(n_top)]\n",
    "}\n",
    "\n",
    "top_entrez <- lapply(top_syms, function(syms) {\n",
    "  ids <- map$ENTREZID[match(syms, map$SYMBOL)]\n",
    "  unique(as.character(ids[!is.na(ids)]))\n",
    "})\n",
    "\n",
    "kegg_list <- lapply(top_entrez, function(ids) {\n",
    "  if (!length(ids)) return(NULL)\n",
    "  enrichKEGG(gene = ids, organism = \"hsa\", qvalueCutoff = 0.05)\n",
    "})"
   ]
  },
  {
   "cell_type": "code",
   "execution_count": 15,
   "metadata": {
    "vscode": {
     "languageId": "r"
    }
   },
   "outputs": [
    {
     "data": {
      "text/html": [
       "<style>\n",
       ".list-inline {list-style: none; margin:0; padding: 0}\n",
       ".list-inline>li {display: inline-block}\n",
       ".list-inline>li:not(:last-child)::after {content: \"\\00b7\"; padding: 0 .5ex}\n",
       "</style>\n",
       "<ol class=list-inline><li>'Peroxisome'</li><li>'Fatty acid degradation'</li><li>'Complement and coagulation cascades'</li><li>'Glycine, serine and threonine metabolism'</li><li>'Valine, leucine and isoleucine degradation'</li><li>'Tryptophan metabolism'</li><li>'One carbon pool by folate'</li><li>'Carbon metabolism'</li><li>'Metabolism of xenobiotics by cytochrome P450'</li><li>'Drug metabolism - cytochrome P450'</li><li>'PPAR signaling pathway'</li><li>'Biosynthesis of cofactors'</li><li>'Tyrosine metabolism'</li><li>'Fatty acid metabolism'</li><li>'Chemical carcinogenesis - DNA adducts'</li><li>'Pyruvate metabolism'</li><li>'beta-Alanine metabolism'</li><li>'Retinol metabolism'</li><li>'Cholesterol metabolism'</li><li>'Cysteine and methionine metabolism'</li><li>'Folate transport and metabolism'</li><li>'Vitamin digestion and absorption'</li><li>'Glyoxylate and dicarboxylate metabolism'</li><li>'Butanoate metabolism'</li><li>'Histidine metabolism'</li><li>'Arginine biosynthesis'</li><li>'Arginine and proline metabolism'</li><li>'Alcoholic liver disease'</li><li>'Alanine, aspartate and glutamate metabolism'</li><li>'Biosynthesis of amino acids'</li><li>'Glycolysis / Gluconeogenesis'</li><li>'Propanoate metabolism'</li><li>'Primary bile acid biosynthesis'</li><li>'Drug metabolism - other enzymes'</li><li>'Pantothenate and CoA biosynthesis'</li><li>'Steroid hormone biosynthesis'</li><li>'Lysine degradation'</li><li>'Glycerolipid metabolism'</li><li>'2-Oxocarboxylic acid metabolism'</li><li>'Ferroptosis'</li><li>'Biosynthesis of unsaturated fatty acids'</li><li>'Lipoic acid metabolism'</li><li>'Pentose and glucuronate interconversions'</li><li>'Biosynthesis of nucleotide sugars'</li><li>'Amino sugar and nucleotide sugar metabolism'</li><li>'Nicotinate and nicotinamide metabolism'</li><li>'Citrate cycle (TCA cycle)'</li><li>'Ascorbate and aldarate metabolism'</li><li>'Antifolate resistance'</li><li>'Proximal tubule bicarbonate reclamation'</li><li>'Bile secretion'</li><li>'Glutathione metabolism'</li><li>'Sulfur metabolism'</li><li>'Taurine and hypotaurine metabolism'</li><li>'Selenocompound metabolism'</li><li>'Mineral absorption'</li><li>'Fat digestion and absorption'</li><li>'Arachidonic acid metabolism'</li><li>'Insulin resistance'</li><li>'Fatty acid elongation'</li><li>'Pertussis'</li><li>'Steroid biosynthesis'</li><li>'Staphylococcus aureus infection'</li><li>'Pentose phosphate pathway'</li><li>'Glucagon signaling pathway'</li><li>'Galactose metabolism'</li></ol>\n"
      ],
      "text/latex": [
       "\\begin{enumerate*}\n",
       "\\item 'Peroxisome'\n",
       "\\item 'Fatty acid degradation'\n",
       "\\item 'Complement and coagulation cascades'\n",
       "\\item 'Glycine, serine and threonine metabolism'\n",
       "\\item 'Valine, leucine and isoleucine degradation'\n",
       "\\item 'Tryptophan metabolism'\n",
       "\\item 'One carbon pool by folate'\n",
       "\\item 'Carbon metabolism'\n",
       "\\item 'Metabolism of xenobiotics by cytochrome P450'\n",
       "\\item 'Drug metabolism - cytochrome P450'\n",
       "\\item 'PPAR signaling pathway'\n",
       "\\item 'Biosynthesis of cofactors'\n",
       "\\item 'Tyrosine metabolism'\n",
       "\\item 'Fatty acid metabolism'\n",
       "\\item 'Chemical carcinogenesis - DNA adducts'\n",
       "\\item 'Pyruvate metabolism'\n",
       "\\item 'beta-Alanine metabolism'\n",
       "\\item 'Retinol metabolism'\n",
       "\\item 'Cholesterol metabolism'\n",
       "\\item 'Cysteine and methionine metabolism'\n",
       "\\item 'Folate transport and metabolism'\n",
       "\\item 'Vitamin digestion and absorption'\n",
       "\\item 'Glyoxylate and dicarboxylate metabolism'\n",
       "\\item 'Butanoate metabolism'\n",
       "\\item 'Histidine metabolism'\n",
       "\\item 'Arginine biosynthesis'\n",
       "\\item 'Arginine and proline metabolism'\n",
       "\\item 'Alcoholic liver disease'\n",
       "\\item 'Alanine, aspartate and glutamate metabolism'\n",
       "\\item 'Biosynthesis of amino acids'\n",
       "\\item 'Glycolysis / Gluconeogenesis'\n",
       "\\item 'Propanoate metabolism'\n",
       "\\item 'Primary bile acid biosynthesis'\n",
       "\\item 'Drug metabolism - other enzymes'\n",
       "\\item 'Pantothenate and CoA biosynthesis'\n",
       "\\item 'Steroid hormone biosynthesis'\n",
       "\\item 'Lysine degradation'\n",
       "\\item 'Glycerolipid metabolism'\n",
       "\\item '2-Oxocarboxylic acid metabolism'\n",
       "\\item 'Ferroptosis'\n",
       "\\item 'Biosynthesis of unsaturated fatty acids'\n",
       "\\item 'Lipoic acid metabolism'\n",
       "\\item 'Pentose and glucuronate interconversions'\n",
       "\\item 'Biosynthesis of nucleotide sugars'\n",
       "\\item 'Amino sugar and nucleotide sugar metabolism'\n",
       "\\item 'Nicotinate and nicotinamide metabolism'\n",
       "\\item 'Citrate cycle (TCA cycle)'\n",
       "\\item 'Ascorbate and aldarate metabolism'\n",
       "\\item 'Antifolate resistance'\n",
       "\\item 'Proximal tubule bicarbonate reclamation'\n",
       "\\item 'Bile secretion'\n",
       "\\item 'Glutathione metabolism'\n",
       "\\item 'Sulfur metabolism'\n",
       "\\item 'Taurine and hypotaurine metabolism'\n",
       "\\item 'Selenocompound metabolism'\n",
       "\\item 'Mineral absorption'\n",
       "\\item 'Fat digestion and absorption'\n",
       "\\item 'Arachidonic acid metabolism'\n",
       "\\item 'Insulin resistance'\n",
       "\\item 'Fatty acid elongation'\n",
       "\\item 'Pertussis'\n",
       "\\item 'Steroid biosynthesis'\n",
       "\\item 'Staphylococcus aureus infection'\n",
       "\\item 'Pentose phosphate pathway'\n",
       "\\item 'Glucagon signaling pathway'\n",
       "\\item 'Galactose metabolism'\n",
       "\\end{enumerate*}\n"
      ],
      "text/markdown": [
       "1. 'Peroxisome'\n",
       "2. 'Fatty acid degradation'\n",
       "3. 'Complement and coagulation cascades'\n",
       "4. 'Glycine, serine and threonine metabolism'\n",
       "5. 'Valine, leucine and isoleucine degradation'\n",
       "6. 'Tryptophan metabolism'\n",
       "7. 'One carbon pool by folate'\n",
       "8. 'Carbon metabolism'\n",
       "9. 'Metabolism of xenobiotics by cytochrome P450'\n",
       "10. 'Drug metabolism - cytochrome P450'\n",
       "11. 'PPAR signaling pathway'\n",
       "12. 'Biosynthesis of cofactors'\n",
       "13. 'Tyrosine metabolism'\n",
       "14. 'Fatty acid metabolism'\n",
       "15. 'Chemical carcinogenesis - DNA adducts'\n",
       "16. 'Pyruvate metabolism'\n",
       "17. 'beta-Alanine metabolism'\n",
       "18. 'Retinol metabolism'\n",
       "19. 'Cholesterol metabolism'\n",
       "20. 'Cysteine and methionine metabolism'\n",
       "21. 'Folate transport and metabolism'\n",
       "22. 'Vitamin digestion and absorption'\n",
       "23. 'Glyoxylate and dicarboxylate metabolism'\n",
       "24. 'Butanoate metabolism'\n",
       "25. 'Histidine metabolism'\n",
       "26. 'Arginine biosynthesis'\n",
       "27. 'Arginine and proline metabolism'\n",
       "28. 'Alcoholic liver disease'\n",
       "29. 'Alanine, aspartate and glutamate metabolism'\n",
       "30. 'Biosynthesis of amino acids'\n",
       "31. 'Glycolysis / Gluconeogenesis'\n",
       "32. 'Propanoate metabolism'\n",
       "33. 'Primary bile acid biosynthesis'\n",
       "34. 'Drug metabolism - other enzymes'\n",
       "35. 'Pantothenate and CoA biosynthesis'\n",
       "36. 'Steroid hormone biosynthesis'\n",
       "37. 'Lysine degradation'\n",
       "38. 'Glycerolipid metabolism'\n",
       "39. '2-Oxocarboxylic acid metabolism'\n",
       "40. 'Ferroptosis'\n",
       "41. 'Biosynthesis of unsaturated fatty acids'\n",
       "42. 'Lipoic acid metabolism'\n",
       "43. 'Pentose and glucuronate interconversions'\n",
       "44. 'Biosynthesis of nucleotide sugars'\n",
       "45. 'Amino sugar and nucleotide sugar metabolism'\n",
       "46. 'Nicotinate and nicotinamide metabolism'\n",
       "47. 'Citrate cycle (TCA cycle)'\n",
       "48. 'Ascorbate and aldarate metabolism'\n",
       "49. 'Antifolate resistance'\n",
       "50. 'Proximal tubule bicarbonate reclamation'\n",
       "51. 'Bile secretion'\n",
       "52. 'Glutathione metabolism'\n",
       "53. 'Sulfur metabolism'\n",
       "54. 'Taurine and hypotaurine metabolism'\n",
       "55. 'Selenocompound metabolism'\n",
       "56. 'Mineral absorption'\n",
       "57. 'Fat digestion and absorption'\n",
       "58. 'Arachidonic acid metabolism'\n",
       "59. 'Insulin resistance'\n",
       "60. 'Fatty acid elongation'\n",
       "61. 'Pertussis'\n",
       "62. 'Steroid biosynthesis'\n",
       "63. 'Staphylococcus aureus infection'\n",
       "64. 'Pentose phosphate pathway'\n",
       "65. 'Glucagon signaling pathway'\n",
       "66. 'Galactose metabolism'\n",
       "\n",
       "\n"
      ],
      "text/plain": [
       " [1] \"Peroxisome\"                                  \n",
       " [2] \"Fatty acid degradation\"                      \n",
       " [3] \"Complement and coagulation cascades\"         \n",
       " [4] \"Glycine, serine and threonine metabolism\"    \n",
       " [5] \"Valine, leucine and isoleucine degradation\"  \n",
       " [6] \"Tryptophan metabolism\"                       \n",
       " [7] \"One carbon pool by folate\"                   \n",
       " [8] \"Carbon metabolism\"                           \n",
       " [9] \"Metabolism of xenobiotics by cytochrome P450\"\n",
       "[10] \"Drug metabolism - cytochrome P450\"           \n",
       "[11] \"PPAR signaling pathway\"                      \n",
       "[12] \"Biosynthesis of cofactors\"                   \n",
       "[13] \"Tyrosine metabolism\"                         \n",
       "[14] \"Fatty acid metabolism\"                       \n",
       "[15] \"Chemical carcinogenesis - DNA adducts\"       \n",
       "[16] \"Pyruvate metabolism\"                         \n",
       "[17] \"beta-Alanine metabolism\"                     \n",
       "[18] \"Retinol metabolism\"                          \n",
       "[19] \"Cholesterol metabolism\"                      \n",
       "[20] \"Cysteine and methionine metabolism\"          \n",
       "[21] \"Folate transport and metabolism\"             \n",
       "[22] \"Vitamin digestion and absorption\"            \n",
       "[23] \"Glyoxylate and dicarboxylate metabolism\"     \n",
       "[24] \"Butanoate metabolism\"                        \n",
       "[25] \"Histidine metabolism\"                        \n",
       "[26] \"Arginine biosynthesis\"                       \n",
       "[27] \"Arginine and proline metabolism\"             \n",
       "[28] \"Alcoholic liver disease\"                     \n",
       "[29] \"Alanine, aspartate and glutamate metabolism\" \n",
       "[30] \"Biosynthesis of amino acids\"                 \n",
       "[31] \"Glycolysis / Gluconeogenesis\"                \n",
       "[32] \"Propanoate metabolism\"                       \n",
       "[33] \"Primary bile acid biosynthesis\"              \n",
       "[34] \"Drug metabolism - other enzymes\"             \n",
       "[35] \"Pantothenate and CoA biosynthesis\"           \n",
       "[36] \"Steroid hormone biosynthesis\"                \n",
       "[37] \"Lysine degradation\"                          \n",
       "[38] \"Glycerolipid metabolism\"                     \n",
       "[39] \"2-Oxocarboxylic acid metabolism\"             \n",
       "[40] \"Ferroptosis\"                                 \n",
       "[41] \"Biosynthesis of unsaturated fatty acids\"     \n",
       "[42] \"Lipoic acid metabolism\"                      \n",
       "[43] \"Pentose and glucuronate interconversions\"    \n",
       "[44] \"Biosynthesis of nucleotide sugars\"           \n",
       "[45] \"Amino sugar and nucleotide sugar metabolism\" \n",
       "[46] \"Nicotinate and nicotinamide metabolism\"      \n",
       "[47] \"Citrate cycle (TCA cycle)\"                   \n",
       "[48] \"Ascorbate and aldarate metabolism\"           \n",
       "[49] \"Antifolate resistance\"                       \n",
       "[50] \"Proximal tubule bicarbonate reclamation\"     \n",
       "[51] \"Bile secretion\"                              \n",
       "[52] \"Glutathione metabolism\"                      \n",
       "[53] \"Sulfur metabolism\"                           \n",
       "[54] \"Taurine and hypotaurine metabolism\"          \n",
       "[55] \"Selenocompound metabolism\"                   \n",
       "[56] \"Mineral absorption\"                          \n",
       "[57] \"Fat digestion and absorption\"                \n",
       "[58] \"Arachidonic acid metabolism\"                 \n",
       "[59] \"Insulin resistance\"                          \n",
       "[60] \"Fatty acid elongation\"                       \n",
       "[61] \"Pertussis\"                                   \n",
       "[62] \"Steroid biosynthesis\"                        \n",
       "[63] \"Staphylococcus aureus infection\"             \n",
       "[64] \"Pentose phosphate pathway\"                   \n",
       "[65] \"Glucagon signaling pathway\"                  \n",
       "[66] \"Galactose metabolism\"                        "
      ]
     },
     "metadata": {},
     "output_type": "display_data"
    }
   ],
   "source": [
    "kegg_list$LV15@result  %>% \n",
    "dplyr::filter(p.adjust < 0.05)  %>% \n",
    "dplyr::pull(Description) "
   ]
  },
  {
   "cell_type": "code",
   "execution_count": 16,
   "id": "5878d9a3",
   "metadata": {
    "vscode": {
     "languageId": "r"
    }
   },
   "outputs": [
    {
     "data": {
      "text/html": [
       "<table class=\"dataframe\">\n",
       "<caption>A tibble: 1 × 2</caption>\n",
       "<thead>\n",
       "\t<tr><th scope=col>LV</th><th scope=col>pathway</th></tr>\n",
       "\t<tr><th scope=col>&lt;chr&gt;</th><th scope=col>&lt;chr&gt;</th></tr>\n",
       "</thead>\n",
       "<tbody>\n",
       "\t<tr><td>LV15</td><td>Drug metabolism, Glycine, serine and threonine metabolism, Peroxisome, Retinol metabolism, Tyrosine metabolism</td></tr>\n",
       "</tbody>\n",
       "</table>\n"
      ],
      "text/latex": [
       "A tibble: 1 × 2\n",
       "\\begin{tabular}{ll}\n",
       " LV & pathway\\\\\n",
       " <chr> & <chr>\\\\\n",
       "\\hline\n",
       "\t LV15 & Drug metabolism, Glycine, serine and threonine metabolism, Peroxisome, Retinol metabolism, Tyrosine metabolism\\\\\n",
       "\\end{tabular}\n"
      ],
      "text/markdown": [
       "\n",
       "A tibble: 1 × 2\n",
       "\n",
       "| LV &lt;chr&gt; | pathway &lt;chr&gt; |\n",
       "|---|---|\n",
       "| LV15 | Drug metabolism, Glycine, serine and threonine metabolism, Peroxisome, Retinol metabolism, Tyrosine metabolism |\n",
       "\n"
      ],
      "text/plain": [
       "  LV  \n",
       "1 LV15\n",
       "  pathway                                                                                                       \n",
       "1 Drug metabolism, Glycine, serine and threonine metabolism, Peroxisome, Retinol metabolism, Tyrosine metabolism"
      ]
     },
     "metadata": {},
     "output_type": "display_data"
    }
   ],
   "source": [
    "kegg_plier2_summary  %>%  dplyr::filter(LV == \"LV15\")"
   ]
  },
  {
   "cell_type": "code",
   "execution_count": 17,
   "metadata": {
    "vscode": {
     "languageId": "r"
    }
   },
   "outputs": [
    {
     "data": {
      "text/html": [
       "<style>\n",
       ".list-inline {list-style: none; margin:0; padding: 0}\n",
       ".list-inline>li {display: inline-block}\n",
       ".list-inline>li:not(:last-child)::after {content: \"\\00b7\"; padding: 0 .5ex}\n",
       "</style>\n",
       "<ol class=list-inline><li>'TNF signaling pathway'</li><li>'Osteoclast differentiation'</li><li>'Pertussis'</li><li>'Cytokine-cytokine receptor interaction'</li><li>'Complement and coagulation cascades'</li><li>'Legionellosis'</li><li>'Leishmaniasis'</li><li>'Herpes simplex virus 1 infection'</li><li>'Malaria'</li><li>'Epstein-Barr virus infection'</li><li>'Lipid and atherosclerosis'</li><li>'MAPK signaling pathway'</li><li>'Alcoholic liver disease'</li><li>'HIF-1 signaling pathway'</li><li>'Human T-cell leukemia virus 1 infection'</li><li>'Staphylococcus aureus infection'</li><li>'Chagas disease'</li><li>'Kaposi sarcoma-associated herpesvirus infection'</li><li>'Toxoplasmosis'</li><li>'NF-kappa B signaling pathway'</li><li>'AGE-RAGE signaling pathway in diabetic complications'</li><li>'Tuberculosis'</li><li>'Amoebiasis'</li><li>'IL-17 signaling pathway'</li><li>'Influenza A'</li><li>'Coronavirus disease - COVID-19'</li><li>'Inflammatory bowel disease'</li><li>'Hematopoietic cell lineage'</li><li>'Pathogenic Escherichia coli infection'</li><li>'Human cytomegalovirus infection'</li><li>'Rheumatoid arthritis'</li><li>'Cellular senescence'</li><li>'Apoptosis'</li><li>'JAK-STAT signaling pathway'</li><li>'Toll-like receptor signaling pathway'</li><li>'Phagosome'</li><li>'Salmonella infection'</li><li>'PI3K-Akt signaling pathway'</li><li>'Transcriptional misregulation in cancer'</li><li>'Th17 cell differentiation'</li><li>'Viral protein interaction with cytokine and cytokine receptor'</li><li>'Fluid shear stress and atherosclerosis'</li><li>'Natural killer cell mediated cytotoxicity'</li><li>'NOD-like receptor signaling pathway'</li><li>'Efferocytosis'</li><li>'Pancreatic cancer'</li><li>'p53 signaling pathway'</li><li>'Chronic myeloid leukemia'</li><li>'Measles'</li><li>'Ferroptosis'</li><li>'Hepatitis B'</li><li>'TGF-beta signaling pathway'</li><li>'African trypanosomiasis'</li><li>'Cell adhesion molecules'</li><li>'C-type lectin receptor signaling pathway'</li><li>'Shigellosis'</li><li>'Acute myeloid leukemia'</li><li>'Fc gamma R-mediated phagocytosis'</li><li>'Antigen processing and presentation'</li><li>'Small cell lung cancer'</li><li>'Yersinia infection'</li><li>'Type I diabetes mellitus'</li><li>'Human immunodeficiency virus 1 infection'</li><li>'Graft-versus-host disease'</li><li>'Colorectal cancer'</li><li>'Allograft rejection'</li><li>'Hepatitis C'</li><li>'Central carbon metabolism in cancer'</li><li>'Th1 and Th2 cell differentiation'</li><li>'Leukocyte transendothelial migration'</li><li>'Proteoglycans in cancer'</li><li>'PD-L1 expression and PD-1 checkpoint pathway in cancer'</li><li>'Hippo signaling pathway - multiple species'</li><li>'Viral myocarditis'</li><li>'VEGF signaling pathway'</li><li>'Systemic lupus erythematosus'</li><li>'Hepatocellular carcinoma'</li><li>'Cytosolic DNA-sensing pathway'</li><li>'Arginine and proline metabolism'</li><li>'Intestinal immune network for IgA production'</li><li>'FoxO signaling pathway'</li><li>'Necroptosis'</li><li>'Non-small cell lung cancer'</li><li>'Sphingolipid signaling pathway'</li><li>'Gastric cancer'</li><li>'Viral carcinogenesis'</li><li>'Chemokine signaling pathway'</li><li>'Adipocytokine signaling pathway'</li></ol>\n"
      ],
      "text/latex": [
       "\\begin{enumerate*}\n",
       "\\item 'TNF signaling pathway'\n",
       "\\item 'Osteoclast differentiation'\n",
       "\\item 'Pertussis'\n",
       "\\item 'Cytokine-cytokine receptor interaction'\n",
       "\\item 'Complement and coagulation cascades'\n",
       "\\item 'Legionellosis'\n",
       "\\item 'Leishmaniasis'\n",
       "\\item 'Herpes simplex virus 1 infection'\n",
       "\\item 'Malaria'\n",
       "\\item 'Epstein-Barr virus infection'\n",
       "\\item 'Lipid and atherosclerosis'\n",
       "\\item 'MAPK signaling pathway'\n",
       "\\item 'Alcoholic liver disease'\n",
       "\\item 'HIF-1 signaling pathway'\n",
       "\\item 'Human T-cell leukemia virus 1 infection'\n",
       "\\item 'Staphylococcus aureus infection'\n",
       "\\item 'Chagas disease'\n",
       "\\item 'Kaposi sarcoma-associated herpesvirus infection'\n",
       "\\item 'Toxoplasmosis'\n",
       "\\item 'NF-kappa B signaling pathway'\n",
       "\\item 'AGE-RAGE signaling pathway in diabetic complications'\n",
       "\\item 'Tuberculosis'\n",
       "\\item 'Amoebiasis'\n",
       "\\item 'IL-17 signaling pathway'\n",
       "\\item 'Influenza A'\n",
       "\\item 'Coronavirus disease - COVID-19'\n",
       "\\item 'Inflammatory bowel disease'\n",
       "\\item 'Hematopoietic cell lineage'\n",
       "\\item 'Pathogenic Escherichia coli infection'\n",
       "\\item 'Human cytomegalovirus infection'\n",
       "\\item 'Rheumatoid arthritis'\n",
       "\\item 'Cellular senescence'\n",
       "\\item 'Apoptosis'\n",
       "\\item 'JAK-STAT signaling pathway'\n",
       "\\item 'Toll-like receptor signaling pathway'\n",
       "\\item 'Phagosome'\n",
       "\\item 'Salmonella infection'\n",
       "\\item 'PI3K-Akt signaling pathway'\n",
       "\\item 'Transcriptional misregulation in cancer'\n",
       "\\item 'Th17 cell differentiation'\n",
       "\\item 'Viral protein interaction with cytokine and cytokine receptor'\n",
       "\\item 'Fluid shear stress and atherosclerosis'\n",
       "\\item 'Natural killer cell mediated cytotoxicity'\n",
       "\\item 'NOD-like receptor signaling pathway'\n",
       "\\item 'Efferocytosis'\n",
       "\\item 'Pancreatic cancer'\n",
       "\\item 'p53 signaling pathway'\n",
       "\\item 'Chronic myeloid leukemia'\n",
       "\\item 'Measles'\n",
       "\\item 'Ferroptosis'\n",
       "\\item 'Hepatitis B'\n",
       "\\item 'TGF-beta signaling pathway'\n",
       "\\item 'African trypanosomiasis'\n",
       "\\item 'Cell adhesion molecules'\n",
       "\\item 'C-type lectin receptor signaling pathway'\n",
       "\\item 'Shigellosis'\n",
       "\\item 'Acute myeloid leukemia'\n",
       "\\item 'Fc gamma R-mediated phagocytosis'\n",
       "\\item 'Antigen processing and presentation'\n",
       "\\item 'Small cell lung cancer'\n",
       "\\item 'Yersinia infection'\n",
       "\\item 'Type I diabetes mellitus'\n",
       "\\item 'Human immunodeficiency virus 1 infection'\n",
       "\\item 'Graft-versus-host disease'\n",
       "\\item 'Colorectal cancer'\n",
       "\\item 'Allograft rejection'\n",
       "\\item 'Hepatitis C'\n",
       "\\item 'Central carbon metabolism in cancer'\n",
       "\\item 'Th1 and Th2 cell differentiation'\n",
       "\\item 'Leukocyte transendothelial migration'\n",
       "\\item 'Proteoglycans in cancer'\n",
       "\\item 'PD-L1 expression and PD-1 checkpoint pathway in cancer'\n",
       "\\item 'Hippo signaling pathway - multiple species'\n",
       "\\item 'Viral myocarditis'\n",
       "\\item 'VEGF signaling pathway'\n",
       "\\item 'Systemic lupus erythematosus'\n",
       "\\item 'Hepatocellular carcinoma'\n",
       "\\item 'Cytosolic DNA-sensing pathway'\n",
       "\\item 'Arginine and proline metabolism'\n",
       "\\item 'Intestinal immune network for IgA production'\n",
       "\\item 'FoxO signaling pathway'\n",
       "\\item 'Necroptosis'\n",
       "\\item 'Non-small cell lung cancer'\n",
       "\\item 'Sphingolipid signaling pathway'\n",
       "\\item 'Gastric cancer'\n",
       "\\item 'Viral carcinogenesis'\n",
       "\\item 'Chemokine signaling pathway'\n",
       "\\item 'Adipocytokine signaling pathway'\n",
       "\\end{enumerate*}\n"
      ],
      "text/markdown": [
       "1. 'TNF signaling pathway'\n",
       "2. 'Osteoclast differentiation'\n",
       "3. 'Pertussis'\n",
       "4. 'Cytokine-cytokine receptor interaction'\n",
       "5. 'Complement and coagulation cascades'\n",
       "6. 'Legionellosis'\n",
       "7. 'Leishmaniasis'\n",
       "8. 'Herpes simplex virus 1 infection'\n",
       "9. 'Malaria'\n",
       "10. 'Epstein-Barr virus infection'\n",
       "11. 'Lipid and atherosclerosis'\n",
       "12. 'MAPK signaling pathway'\n",
       "13. 'Alcoholic liver disease'\n",
       "14. 'HIF-1 signaling pathway'\n",
       "15. 'Human T-cell leukemia virus 1 infection'\n",
       "16. 'Staphylococcus aureus infection'\n",
       "17. 'Chagas disease'\n",
       "18. 'Kaposi sarcoma-associated herpesvirus infection'\n",
       "19. 'Toxoplasmosis'\n",
       "20. 'NF-kappa B signaling pathway'\n",
       "21. 'AGE-RAGE signaling pathway in diabetic complications'\n",
       "22. 'Tuberculosis'\n",
       "23. 'Amoebiasis'\n",
       "24. 'IL-17 signaling pathway'\n",
       "25. 'Influenza A'\n",
       "26. 'Coronavirus disease - COVID-19'\n",
       "27. 'Inflammatory bowel disease'\n",
       "28. 'Hematopoietic cell lineage'\n",
       "29. 'Pathogenic Escherichia coli infection'\n",
       "30. 'Human cytomegalovirus infection'\n",
       "31. 'Rheumatoid arthritis'\n",
       "32. 'Cellular senescence'\n",
       "33. 'Apoptosis'\n",
       "34. 'JAK-STAT signaling pathway'\n",
       "35. 'Toll-like receptor signaling pathway'\n",
       "36. 'Phagosome'\n",
       "37. 'Salmonella infection'\n",
       "38. 'PI3K-Akt signaling pathway'\n",
       "39. 'Transcriptional misregulation in cancer'\n",
       "40. 'Th17 cell differentiation'\n",
       "41. 'Viral protein interaction with cytokine and cytokine receptor'\n",
       "42. 'Fluid shear stress and atherosclerosis'\n",
       "43. 'Natural killer cell mediated cytotoxicity'\n",
       "44. 'NOD-like receptor signaling pathway'\n",
       "45. 'Efferocytosis'\n",
       "46. 'Pancreatic cancer'\n",
       "47. 'p53 signaling pathway'\n",
       "48. 'Chronic myeloid leukemia'\n",
       "49. 'Measles'\n",
       "50. 'Ferroptosis'\n",
       "51. 'Hepatitis B'\n",
       "52. 'TGF-beta signaling pathway'\n",
       "53. 'African trypanosomiasis'\n",
       "54. 'Cell adhesion molecules'\n",
       "55. 'C-type lectin receptor signaling pathway'\n",
       "56. 'Shigellosis'\n",
       "57. 'Acute myeloid leukemia'\n",
       "58. 'Fc gamma R-mediated phagocytosis'\n",
       "59. 'Antigen processing and presentation'\n",
       "60. 'Small cell lung cancer'\n",
       "61. 'Yersinia infection'\n",
       "62. 'Type I diabetes mellitus'\n",
       "63. 'Human immunodeficiency virus 1 infection'\n",
       "64. 'Graft-versus-host disease'\n",
       "65. 'Colorectal cancer'\n",
       "66. 'Allograft rejection'\n",
       "67. 'Hepatitis C'\n",
       "68. 'Central carbon metabolism in cancer'\n",
       "69. 'Th1 and Th2 cell differentiation'\n",
       "70. 'Leukocyte transendothelial migration'\n",
       "71. 'Proteoglycans in cancer'\n",
       "72. 'PD-L1 expression and PD-1 checkpoint pathway in cancer'\n",
       "73. 'Hippo signaling pathway - multiple species'\n",
       "74. 'Viral myocarditis'\n",
       "75. 'VEGF signaling pathway'\n",
       "76. 'Systemic lupus erythematosus'\n",
       "77. 'Hepatocellular carcinoma'\n",
       "78. 'Cytosolic DNA-sensing pathway'\n",
       "79. 'Arginine and proline metabolism'\n",
       "80. 'Intestinal immune network for IgA production'\n",
       "81. 'FoxO signaling pathway'\n",
       "82. 'Necroptosis'\n",
       "83. 'Non-small cell lung cancer'\n",
       "84. 'Sphingolipid signaling pathway'\n",
       "85. 'Gastric cancer'\n",
       "86. 'Viral carcinogenesis'\n",
       "87. 'Chemokine signaling pathway'\n",
       "88. 'Adipocytokine signaling pathway'\n",
       "\n",
       "\n"
      ],
      "text/plain": [
       " [1] \"TNF signaling pathway\"                                        \n",
       " [2] \"Osteoclast differentiation\"                                   \n",
       " [3] \"Pertussis\"                                                    \n",
       " [4] \"Cytokine-cytokine receptor interaction\"                       \n",
       " [5] \"Complement and coagulation cascades\"                          \n",
       " [6] \"Legionellosis\"                                                \n",
       " [7] \"Leishmaniasis\"                                                \n",
       " [8] \"Herpes simplex virus 1 infection\"                             \n",
       " [9] \"Malaria\"                                                      \n",
       "[10] \"Epstein-Barr virus infection\"                                 \n",
       "[11] \"Lipid and atherosclerosis\"                                    \n",
       "[12] \"MAPK signaling pathway\"                                       \n",
       "[13] \"Alcoholic liver disease\"                                      \n",
       "[14] \"HIF-1 signaling pathway\"                                      \n",
       "[15] \"Human T-cell leukemia virus 1 infection\"                      \n",
       "[16] \"Staphylococcus aureus infection\"                              \n",
       "[17] \"Chagas disease\"                                               \n",
       "[18] \"Kaposi sarcoma-associated herpesvirus infection\"              \n",
       "[19] \"Toxoplasmosis\"                                                \n",
       "[20] \"NF-kappa B signaling pathway\"                                 \n",
       "[21] \"AGE-RAGE signaling pathway in diabetic complications\"         \n",
       "[22] \"Tuberculosis\"                                                 \n",
       "[23] \"Amoebiasis\"                                                   \n",
       "[24] \"IL-17 signaling pathway\"                                      \n",
       "[25] \"Influenza A\"                                                  \n",
       "[26] \"Coronavirus disease - COVID-19\"                               \n",
       "[27] \"Inflammatory bowel disease\"                                   \n",
       "[28] \"Hematopoietic cell lineage\"                                   \n",
       "[29] \"Pathogenic Escherichia coli infection\"                        \n",
       "[30] \"Human cytomegalovirus infection\"                              \n",
       "[31] \"Rheumatoid arthritis\"                                         \n",
       "[32] \"Cellular senescence\"                                          \n",
       "[33] \"Apoptosis\"                                                    \n",
       "[34] \"JAK-STAT signaling pathway\"                                   \n",
       "[35] \"Toll-like receptor signaling pathway\"                         \n",
       "[36] \"Phagosome\"                                                    \n",
       "[37] \"Salmonella infection\"                                         \n",
       "[38] \"PI3K-Akt signaling pathway\"                                   \n",
       "[39] \"Transcriptional misregulation in cancer\"                      \n",
       "[40] \"Th17 cell differentiation\"                                    \n",
       "[41] \"Viral protein interaction with cytokine and cytokine receptor\"\n",
       "[42] \"Fluid shear stress and atherosclerosis\"                       \n",
       "[43] \"Natural killer cell mediated cytotoxicity\"                    \n",
       "[44] \"NOD-like receptor signaling pathway\"                          \n",
       "[45] \"Efferocytosis\"                                                \n",
       "[46] \"Pancreatic cancer\"                                            \n",
       "[47] \"p53 signaling pathway\"                                        \n",
       "[48] \"Chronic myeloid leukemia\"                                     \n",
       "[49] \"Measles\"                                                      \n",
       "[50] \"Ferroptosis\"                                                  \n",
       "[51] \"Hepatitis B\"                                                  \n",
       "[52] \"TGF-beta signaling pathway\"                                   \n",
       "[53] \"African trypanosomiasis\"                                      \n",
       "[54] \"Cell adhesion molecules\"                                      \n",
       "[55] \"C-type lectin receptor signaling pathway\"                     \n",
       "[56] \"Shigellosis\"                                                  \n",
       "[57] \"Acute myeloid leukemia\"                                       \n",
       "[58] \"Fc gamma R-mediated phagocytosis\"                             \n",
       "[59] \"Antigen processing and presentation\"                          \n",
       "[60] \"Small cell lung cancer\"                                       \n",
       "[61] \"Yersinia infection\"                                           \n",
       "[62] \"Type I diabetes mellitus\"                                     \n",
       "[63] \"Human immunodeficiency virus 1 infection\"                     \n",
       "[64] \"Graft-versus-host disease\"                                    \n",
       "[65] \"Colorectal cancer\"                                            \n",
       "[66] \"Allograft rejection\"                                          \n",
       "[67] \"Hepatitis C\"                                                  \n",
       "[68] \"Central carbon metabolism in cancer\"                          \n",
       "[69] \"Th1 and Th2 cell differentiation\"                             \n",
       "[70] \"Leukocyte transendothelial migration\"                         \n",
       "[71] \"Proteoglycans in cancer\"                                      \n",
       "[72] \"PD-L1 expression and PD-1 checkpoint pathway in cancer\"       \n",
       "[73] \"Hippo signaling pathway - multiple species\"                   \n",
       "[74] \"Viral myocarditis\"                                            \n",
       "[75] \"VEGF signaling pathway\"                                       \n",
       "[76] \"Systemic lupus erythematosus\"                                 \n",
       "[77] \"Hepatocellular carcinoma\"                                     \n",
       "[78] \"Cytosolic DNA-sensing pathway\"                                \n",
       "[79] \"Arginine and proline metabolism\"                              \n",
       "[80] \"Intestinal immune network for IgA production\"                 \n",
       "[81] \"FoxO signaling pathway\"                                       \n",
       "[82] \"Necroptosis\"                                                  \n",
       "[83] \"Non-small cell lung cancer\"                                   \n",
       "[84] \"Sphingolipid signaling pathway\"                               \n",
       "[85] \"Gastric cancer\"                                               \n",
       "[86] \"Viral carcinogenesis\"                                         \n",
       "[87] \"Chemokine signaling pathway\"                                  \n",
       "[88] \"Adipocytokine signaling pathway\"                              "
      ]
     },
     "metadata": {},
     "output_type": "display_data"
    }
   ],
   "source": [
    "kegg_list$LV102@result  %>% \n",
    "dplyr::filter(p.adjust < 0.05)  %>% \n",
    "dplyr::pull(Description) "
   ]
  },
  {
   "cell_type": "code",
   "execution_count": 18,
   "id": "3c4d3461",
   "metadata": {
    "vscode": {
     "languageId": "r"
    }
   },
   "outputs": [
    {
     "data": {
      "text/html": [
       "<table class=\"dataframe\">\n",
       "<caption>A tibble: 1 × 2</caption>\n",
       "<thead>\n",
       "\t<tr><th scope=col>LV</th><th scope=col>pathway</th></tr>\n",
       "\t<tr><th scope=col>&lt;chr&gt;</th><th scope=col>&lt;chr&gt;</th></tr>\n",
       "</thead>\n",
       "<tbody>\n",
       "\t<tr><td>LV102</td><td>Complement and coagulation cascades, Systemic lupus erythematosus</td></tr>\n",
       "</tbody>\n",
       "</table>\n"
      ],
      "text/latex": [
       "A tibble: 1 × 2\n",
       "\\begin{tabular}{ll}\n",
       " LV & pathway\\\\\n",
       " <chr> & <chr>\\\\\n",
       "\\hline\n",
       "\t LV102 & Complement and coagulation cascades, Systemic lupus erythematosus\\\\\n",
       "\\end{tabular}\n"
      ],
      "text/markdown": [
       "\n",
       "A tibble: 1 × 2\n",
       "\n",
       "| LV &lt;chr&gt; | pathway &lt;chr&gt; |\n",
       "|---|---|\n",
       "| LV102 | Complement and coagulation cascades, Systemic lupus erythematosus |\n",
       "\n"
      ],
      "text/plain": [
       "  LV    pathway                                                          \n",
       "1 LV102 Complement and coagulation cascades, Systemic lupus erythematosus"
      ]
     },
     "metadata": {},
     "output_type": "display_data"
    }
   ],
   "source": [
    "kegg_plier2_summary  %>%  dplyr::filter(LV == \"LV102\")"
   ]
  },
  {
   "cell_type": "code",
   "execution_count": 19,
   "id": "b0061c1b",
   "metadata": {
    "vscode": {
     "languageId": "r"
    }
   },
   "outputs": [
    {
     "data": {
      "text/html": [
       "<style>\n",
       ".list-inline {list-style: none; margin:0; padding: 0}\n",
       ".list-inline>li {display: inline-block}\n",
       ".list-inline>li:not(:last-child)::after {content: \"\\00b7\"; padding: 0 .5ex}\n",
       "</style>\n",
       "<ol class=list-inline><li>'Shigellosis'</li><li>'Salmonella infection'</li><li>'Endocytosis'</li><li>'Yersinia infection'</li><li>'Pathogenic Escherichia coli infection'</li><li>'Osteoclast differentiation'</li><li>'Fc gamma R-mediated phagocytosis'</li><li>'NOD-like receptor signaling pathway'</li><li>'Tuberculosis'</li><li>'Phagosome'</li><li>'Chemokine signaling pathway'</li><li>'Regulation of actin cytoskeleton'</li><li>'Human immunodeficiency virus 1 infection'</li><li>'Epstein-Barr virus infection'</li><li>'Natural killer cell mediated cytotoxicity'</li><li>'Neutrophil extracellular trap formation'</li><li>'Lipid and atherosclerosis'</li><li>'Human cytomegalovirus infection'</li><li>'Leukocyte transendothelial migration'</li><li>'Platelet activation'</li><li>'Herpes simplex virus 1 infection'</li><li>'Bacterial invasion of epithelial cells'</li><li>'Leishmaniasis'</li><li>'Kaposi sarcoma-associated herpesvirus infection'</li><li>'Measles'</li><li>'Legionellosis'</li><li>'Toll-like receptor signaling pathway'</li><li>'Necroptosis'</li><li>'Epithelial cell signaling in Helicobacter pylori infection'</li><li>'Proteoglycans in cancer'</li><li>'C-type lectin receptor signaling pathway'</li><li>'Autophagy - animal'</li><li>'Rap1 signaling pathway'</li><li>'B cell receptor signaling pathway'</li><li>'Human T-cell leukemia virus 1 infection'</li><li>'Influenza A'</li><li>'Fc epsilon RI signaling pathway'</li><li>'Viral carcinogenesis'</li><li>'Hepatitis B'</li><li>'Malaria'</li><li>'Human papillomavirus infection'</li><li>'Hepatitis C'</li><li>'Tight junction'</li><li>'Pertussis'</li><li>'PD-L1 expression and PD-1 checkpoint pathway in cancer'</li><li>'Sphingolipid signaling pathway'</li><li>'Lysosome'</li><li>'Adherens junction'</li><li>'Rheumatoid arthritis'</li><li>'Acute myeloid leukemia'</li><li>'Ferroptosis'</li><li>'Neurotrophin signaling pathway'</li><li>'Renal cell carcinoma'</li><li>'Toxoplasmosis'</li><li>'Chagas disease'</li><li>'Proteasome'</li><li>'MAPK signaling pathway'</li><li>'Glycolysis / Gluconeogenesis'</li><li>'Pancreatic cancer'</li><li>'Chronic myeloid leukemia'</li><li>'Fluid shear stress and atherosclerosis'</li><li>'HIF-1 signaling pathway'</li><li>'Focal adhesion'</li><li>'Hematopoietic cell lineage'</li><li>'Viral myocarditis'</li><li>'Staphylococcus aureus infection'</li><li>'Vibrio cholerae infection'</li><li>'Antigen processing and presentation'</li><li>'Central carbon metabolism in cancer'</li><li>'NF-kappa B signaling pathway'</li><li>'Non-small cell lung cancer'</li><li>'Carbon metabolism'</li><li>'TNF signaling pathway'</li><li>'Diabetic cardiomyopathy'</li><li>'Colorectal cancer'</li><li>'Collecting duct acid secretion'</li><li>'Choline metabolism in cancer'</li><li>'AGE-RAGE signaling pathway in diabetic complications'</li><li>'Amoebiasis'</li><li>'Pentose phosphate pathway'</li><li>'Mitophagy - animal'</li><li>'Cytosolic DNA-sensing pathway'</li><li>'Relaxin signaling pathway'</li><li>'Apoptosis - multiple species'</li><li>'JAK-STAT signaling pathway'</li><li>'Th17 cell differentiation'</li><li>'Biosynthesis of amino acids'</li><li>'T cell receptor signaling pathway'</li></ol>\n"
      ],
      "text/latex": [
       "\\begin{enumerate*}\n",
       "\\item 'Shigellosis'\n",
       "\\item 'Salmonella infection'\n",
       "\\item 'Endocytosis'\n",
       "\\item 'Yersinia infection'\n",
       "\\item 'Pathogenic Escherichia coli infection'\n",
       "\\item 'Osteoclast differentiation'\n",
       "\\item 'Fc gamma R-mediated phagocytosis'\n",
       "\\item 'NOD-like receptor signaling pathway'\n",
       "\\item 'Tuberculosis'\n",
       "\\item 'Phagosome'\n",
       "\\item 'Chemokine signaling pathway'\n",
       "\\item 'Regulation of actin cytoskeleton'\n",
       "\\item 'Human immunodeficiency virus 1 infection'\n",
       "\\item 'Epstein-Barr virus infection'\n",
       "\\item 'Natural killer cell mediated cytotoxicity'\n",
       "\\item 'Neutrophil extracellular trap formation'\n",
       "\\item 'Lipid and atherosclerosis'\n",
       "\\item 'Human cytomegalovirus infection'\n",
       "\\item 'Leukocyte transendothelial migration'\n",
       "\\item 'Platelet activation'\n",
       "\\item 'Herpes simplex virus 1 infection'\n",
       "\\item 'Bacterial invasion of epithelial cells'\n",
       "\\item 'Leishmaniasis'\n",
       "\\item 'Kaposi sarcoma-associated herpesvirus infection'\n",
       "\\item 'Measles'\n",
       "\\item 'Legionellosis'\n",
       "\\item 'Toll-like receptor signaling pathway'\n",
       "\\item 'Necroptosis'\n",
       "\\item 'Epithelial cell signaling in Helicobacter pylori infection'\n",
       "\\item 'Proteoglycans in cancer'\n",
       "\\item 'C-type lectin receptor signaling pathway'\n",
       "\\item 'Autophagy - animal'\n",
       "\\item 'Rap1 signaling pathway'\n",
       "\\item 'B cell receptor signaling pathway'\n",
       "\\item 'Human T-cell leukemia virus 1 infection'\n",
       "\\item 'Influenza A'\n",
       "\\item 'Fc epsilon RI signaling pathway'\n",
       "\\item 'Viral carcinogenesis'\n",
       "\\item 'Hepatitis B'\n",
       "\\item 'Malaria'\n",
       "\\item 'Human papillomavirus infection'\n",
       "\\item 'Hepatitis C'\n",
       "\\item 'Tight junction'\n",
       "\\item 'Pertussis'\n",
       "\\item 'PD-L1 expression and PD-1 checkpoint pathway in cancer'\n",
       "\\item 'Sphingolipid signaling pathway'\n",
       "\\item 'Lysosome'\n",
       "\\item 'Adherens junction'\n",
       "\\item 'Rheumatoid arthritis'\n",
       "\\item 'Acute myeloid leukemia'\n",
       "\\item 'Ferroptosis'\n",
       "\\item 'Neurotrophin signaling pathway'\n",
       "\\item 'Renal cell carcinoma'\n",
       "\\item 'Toxoplasmosis'\n",
       "\\item 'Chagas disease'\n",
       "\\item 'Proteasome'\n",
       "\\item 'MAPK signaling pathway'\n",
       "\\item 'Glycolysis / Gluconeogenesis'\n",
       "\\item 'Pancreatic cancer'\n",
       "\\item 'Chronic myeloid leukemia'\n",
       "\\item 'Fluid shear stress and atherosclerosis'\n",
       "\\item 'HIF-1 signaling pathway'\n",
       "\\item 'Focal adhesion'\n",
       "\\item 'Hematopoietic cell lineage'\n",
       "\\item 'Viral myocarditis'\n",
       "\\item 'Staphylococcus aureus infection'\n",
       "\\item 'Vibrio cholerae infection'\n",
       "\\item 'Antigen processing and presentation'\n",
       "\\item 'Central carbon metabolism in cancer'\n",
       "\\item 'NF-kappa B signaling pathway'\n",
       "\\item 'Non-small cell lung cancer'\n",
       "\\item 'Carbon metabolism'\n",
       "\\item 'TNF signaling pathway'\n",
       "\\item 'Diabetic cardiomyopathy'\n",
       "\\item 'Colorectal cancer'\n",
       "\\item 'Collecting duct acid secretion'\n",
       "\\item 'Choline metabolism in cancer'\n",
       "\\item 'AGE-RAGE signaling pathway in diabetic complications'\n",
       "\\item 'Amoebiasis'\n",
       "\\item 'Pentose phosphate pathway'\n",
       "\\item 'Mitophagy - animal'\n",
       "\\item 'Cytosolic DNA-sensing pathway'\n",
       "\\item 'Relaxin signaling pathway'\n",
       "\\item 'Apoptosis - multiple species'\n",
       "\\item 'JAK-STAT signaling pathway'\n",
       "\\item 'Th17 cell differentiation'\n",
       "\\item 'Biosynthesis of amino acids'\n",
       "\\item 'T cell receptor signaling pathway'\n",
       "\\end{enumerate*}\n"
      ],
      "text/markdown": [
       "1. 'Shigellosis'\n",
       "2. 'Salmonella infection'\n",
       "3. 'Endocytosis'\n",
       "4. 'Yersinia infection'\n",
       "5. 'Pathogenic Escherichia coli infection'\n",
       "6. 'Osteoclast differentiation'\n",
       "7. 'Fc gamma R-mediated phagocytosis'\n",
       "8. 'NOD-like receptor signaling pathway'\n",
       "9. 'Tuberculosis'\n",
       "10. 'Phagosome'\n",
       "11. 'Chemokine signaling pathway'\n",
       "12. 'Regulation of actin cytoskeleton'\n",
       "13. 'Human immunodeficiency virus 1 infection'\n",
       "14. 'Epstein-Barr virus infection'\n",
       "15. 'Natural killer cell mediated cytotoxicity'\n",
       "16. 'Neutrophil extracellular trap formation'\n",
       "17. 'Lipid and atherosclerosis'\n",
       "18. 'Human cytomegalovirus infection'\n",
       "19. 'Leukocyte transendothelial migration'\n",
       "20. 'Platelet activation'\n",
       "21. 'Herpes simplex virus 1 infection'\n",
       "22. 'Bacterial invasion of epithelial cells'\n",
       "23. 'Leishmaniasis'\n",
       "24. 'Kaposi sarcoma-associated herpesvirus infection'\n",
       "25. 'Measles'\n",
       "26. 'Legionellosis'\n",
       "27. 'Toll-like receptor signaling pathway'\n",
       "28. 'Necroptosis'\n",
       "29. 'Epithelial cell signaling in Helicobacter pylori infection'\n",
       "30. 'Proteoglycans in cancer'\n",
       "31. 'C-type lectin receptor signaling pathway'\n",
       "32. 'Autophagy - animal'\n",
       "33. 'Rap1 signaling pathway'\n",
       "34. 'B cell receptor signaling pathway'\n",
       "35. 'Human T-cell leukemia virus 1 infection'\n",
       "36. 'Influenza A'\n",
       "37. 'Fc epsilon RI signaling pathway'\n",
       "38. 'Viral carcinogenesis'\n",
       "39. 'Hepatitis B'\n",
       "40. 'Malaria'\n",
       "41. 'Human papillomavirus infection'\n",
       "42. 'Hepatitis C'\n",
       "43. 'Tight junction'\n",
       "44. 'Pertussis'\n",
       "45. 'PD-L1 expression and PD-1 checkpoint pathway in cancer'\n",
       "46. 'Sphingolipid signaling pathway'\n",
       "47. 'Lysosome'\n",
       "48. 'Adherens junction'\n",
       "49. 'Rheumatoid arthritis'\n",
       "50. 'Acute myeloid leukemia'\n",
       "51. 'Ferroptosis'\n",
       "52. 'Neurotrophin signaling pathway'\n",
       "53. 'Renal cell carcinoma'\n",
       "54. 'Toxoplasmosis'\n",
       "55. 'Chagas disease'\n",
       "56. 'Proteasome'\n",
       "57. 'MAPK signaling pathway'\n",
       "58. 'Glycolysis / Gluconeogenesis'\n",
       "59. 'Pancreatic cancer'\n",
       "60. 'Chronic myeloid leukemia'\n",
       "61. 'Fluid shear stress and atherosclerosis'\n",
       "62. 'HIF-1 signaling pathway'\n",
       "63. 'Focal adhesion'\n",
       "64. 'Hematopoietic cell lineage'\n",
       "65. 'Viral myocarditis'\n",
       "66. 'Staphylococcus aureus infection'\n",
       "67. 'Vibrio cholerae infection'\n",
       "68. 'Antigen processing and presentation'\n",
       "69. 'Central carbon metabolism in cancer'\n",
       "70. 'NF-kappa B signaling pathway'\n",
       "71. 'Non-small cell lung cancer'\n",
       "72. 'Carbon metabolism'\n",
       "73. 'TNF signaling pathway'\n",
       "74. 'Diabetic cardiomyopathy'\n",
       "75. 'Colorectal cancer'\n",
       "76. 'Collecting duct acid secretion'\n",
       "77. 'Choline metabolism in cancer'\n",
       "78. 'AGE-RAGE signaling pathway in diabetic complications'\n",
       "79. 'Amoebiasis'\n",
       "80. 'Pentose phosphate pathway'\n",
       "81. 'Mitophagy - animal'\n",
       "82. 'Cytosolic DNA-sensing pathway'\n",
       "83. 'Relaxin signaling pathway'\n",
       "84. 'Apoptosis - multiple species'\n",
       "85. 'JAK-STAT signaling pathway'\n",
       "86. 'Th17 cell differentiation'\n",
       "87. 'Biosynthesis of amino acids'\n",
       "88. 'T cell receptor signaling pathway'\n",
       "\n",
       "\n"
      ],
      "text/plain": [
       " [1] \"Shigellosis\"                                               \n",
       " [2] \"Salmonella infection\"                                      \n",
       " [3] \"Endocytosis\"                                               \n",
       " [4] \"Yersinia infection\"                                        \n",
       " [5] \"Pathogenic Escherichia coli infection\"                     \n",
       " [6] \"Osteoclast differentiation\"                                \n",
       " [7] \"Fc gamma R-mediated phagocytosis\"                          \n",
       " [8] \"NOD-like receptor signaling pathway\"                       \n",
       " [9] \"Tuberculosis\"                                              \n",
       "[10] \"Phagosome\"                                                 \n",
       "[11] \"Chemokine signaling pathway\"                               \n",
       "[12] \"Regulation of actin cytoskeleton\"                          \n",
       "[13] \"Human immunodeficiency virus 1 infection\"                  \n",
       "[14] \"Epstein-Barr virus infection\"                              \n",
       "[15] \"Natural killer cell mediated cytotoxicity\"                 \n",
       "[16] \"Neutrophil extracellular trap formation\"                   \n",
       "[17] \"Lipid and atherosclerosis\"                                 \n",
       "[18] \"Human cytomegalovirus infection\"                           \n",
       "[19] \"Leukocyte transendothelial migration\"                      \n",
       "[20] \"Platelet activation\"                                       \n",
       "[21] \"Herpes simplex virus 1 infection\"                          \n",
       "[22] \"Bacterial invasion of epithelial cells\"                    \n",
       "[23] \"Leishmaniasis\"                                             \n",
       "[24] \"Kaposi sarcoma-associated herpesvirus infection\"           \n",
       "[25] \"Measles\"                                                   \n",
       "[26] \"Legionellosis\"                                             \n",
       "[27] \"Toll-like receptor signaling pathway\"                      \n",
       "[28] \"Necroptosis\"                                               \n",
       "[29] \"Epithelial cell signaling in Helicobacter pylori infection\"\n",
       "[30] \"Proteoglycans in cancer\"                                   \n",
       "[31] \"C-type lectin receptor signaling pathway\"                  \n",
       "[32] \"Autophagy - animal\"                                        \n",
       "[33] \"Rap1 signaling pathway\"                                    \n",
       "[34] \"B cell receptor signaling pathway\"                         \n",
       "[35] \"Human T-cell leukemia virus 1 infection\"                   \n",
       "[36] \"Influenza A\"                                               \n",
       "[37] \"Fc epsilon RI signaling pathway\"                           \n",
       "[38] \"Viral carcinogenesis\"                                      \n",
       "[39] \"Hepatitis B\"                                               \n",
       "[40] \"Malaria\"                                                   \n",
       "[41] \"Human papillomavirus infection\"                            \n",
       "[42] \"Hepatitis C\"                                               \n",
       "[43] \"Tight junction\"                                            \n",
       "[44] \"Pertussis\"                                                 \n",
       "[45] \"PD-L1 expression and PD-1 checkpoint pathway in cancer\"    \n",
       "[46] \"Sphingolipid signaling pathway\"                            \n",
       "[47] \"Lysosome\"                                                  \n",
       "[48] \"Adherens junction\"                                         \n",
       "[49] \"Rheumatoid arthritis\"                                      \n",
       "[50] \"Acute myeloid leukemia\"                                    \n",
       "[51] \"Ferroptosis\"                                               \n",
       "[52] \"Neurotrophin signaling pathway\"                            \n",
       "[53] \"Renal cell carcinoma\"                                      \n",
       "[54] \"Toxoplasmosis\"                                             \n",
       "[55] \"Chagas disease\"                                            \n",
       "[56] \"Proteasome\"                                                \n",
       "[57] \"MAPK signaling pathway\"                                    \n",
       "[58] \"Glycolysis / Gluconeogenesis\"                              \n",
       "[59] \"Pancreatic cancer\"                                         \n",
       "[60] \"Chronic myeloid leukemia\"                                  \n",
       "[61] \"Fluid shear stress and atherosclerosis\"                    \n",
       "[62] \"HIF-1 signaling pathway\"                                   \n",
       "[63] \"Focal adhesion\"                                            \n",
       "[64] \"Hematopoietic cell lineage\"                                \n",
       "[65] \"Viral myocarditis\"                                         \n",
       "[66] \"Staphylococcus aureus infection\"                           \n",
       "[67] \"Vibrio cholerae infection\"                                 \n",
       "[68] \"Antigen processing and presentation\"                       \n",
       "[69] \"Central carbon metabolism in cancer\"                       \n",
       "[70] \"NF-kappa B signaling pathway\"                              \n",
       "[71] \"Non-small cell lung cancer\"                                \n",
       "[72] \"Carbon metabolism\"                                         \n",
       "[73] \"TNF signaling pathway\"                                     \n",
       "[74] \"Diabetic cardiomyopathy\"                                   \n",
       "[75] \"Colorectal cancer\"                                         \n",
       "[76] \"Collecting duct acid secretion\"                            \n",
       "[77] \"Choline metabolism in cancer\"                              \n",
       "[78] \"AGE-RAGE signaling pathway in diabetic complications\"      \n",
       "[79] \"Amoebiasis\"                                                \n",
       "[80] \"Pentose phosphate pathway\"                                 \n",
       "[81] \"Mitophagy - animal\"                                        \n",
       "[82] \"Cytosolic DNA-sensing pathway\"                             \n",
       "[83] \"Relaxin signaling pathway\"                                 \n",
       "[84] \"Apoptosis - multiple species\"                              \n",
       "[85] \"JAK-STAT signaling pathway\"                                \n",
       "[86] \"Th17 cell differentiation\"                                 \n",
       "[87] \"Biosynthesis of amino acids\"                               \n",
       "[88] \"T cell receptor signaling pathway\"                         "
      ]
     },
     "metadata": {},
     "output_type": "display_data"
    }
   ],
   "source": [
    "kegg_list$LV12@result  %>% \n",
    "dplyr::filter(p.adjust < 0.05)  %>% \n",
    "dplyr::pull(Description) "
   ]
  },
  {
   "cell_type": "code",
   "execution_count": 20,
   "id": "bb358c69",
   "metadata": {
    "vscode": {
     "languageId": "r"
    }
   },
   "outputs": [
    {
     "data": {
      "text/html": [
       "<table class=\"dataframe\">\n",
       "<caption>A tibble: 1 × 2</caption>\n",
       "<thead>\n",
       "\t<tr><th scope=col>LV</th><th scope=col>pathway</th></tr>\n",
       "\t<tr><th scope=col>&lt;chr&gt;</th><th scope=col>&lt;chr&gt;</th></tr>\n",
       "</thead>\n",
       "<tbody>\n",
       "\t<tr><td>LV12</td><td>Natural killer cell mediated cytotoxicity, Neutrophil extracellular trap formation, Osteoclast differentiation</td></tr>\n",
       "</tbody>\n",
       "</table>\n"
      ],
      "text/latex": [
       "A tibble: 1 × 2\n",
       "\\begin{tabular}{ll}\n",
       " LV & pathway\\\\\n",
       " <chr> & <chr>\\\\\n",
       "\\hline\n",
       "\t LV12 & Natural killer cell mediated cytotoxicity, Neutrophil extracellular trap formation, Osteoclast differentiation\\\\\n",
       "\\end{tabular}\n"
      ],
      "text/markdown": [
       "\n",
       "A tibble: 1 × 2\n",
       "\n",
       "| LV &lt;chr&gt; | pathway &lt;chr&gt; |\n",
       "|---|---|\n",
       "| LV12 | Natural killer cell mediated cytotoxicity, Neutrophil extracellular trap formation, Osteoclast differentiation |\n",
       "\n"
      ],
      "text/plain": [
       "  LV  \n",
       "1 LV12\n",
       "  pathway                                                                                                       \n",
       "1 Natural killer cell mediated cytotoxicity, Neutrophil extracellular trap formation, Osteoclast differentiation"
      ]
     },
     "metadata": {},
     "output_type": "display_data"
    }
   ],
   "source": [
    "kegg_plier2_summary  %>%  dplyr::filter(LV == \"LV12\")"
   ]
  },
  {
   "cell_type": "code",
   "execution_count": 21,
   "id": "923f3d70",
   "metadata": {
    "vscode": {
     "languageId": "r"
    }
   },
   "outputs": [
    {
     "data": {
      "text/html": [
       "<style>\n",
       ".list-inline {list-style: none; margin:0; padding: 0}\n",
       ".list-inline>li {display: inline-block}\n",
       ".list-inline>li:not(:last-child)::after {content: \"\\00b7\"; padding: 0 .5ex}\n",
       "</style>\n",
       "<ol class=list-inline><li>'MAPK signaling pathway'</li><li>'Estrogen signaling pathway'</li></ol>\n"
      ],
      "text/latex": [
       "\\begin{enumerate*}\n",
       "\\item 'MAPK signaling pathway'\n",
       "\\item 'Estrogen signaling pathway'\n",
       "\\end{enumerate*}\n"
      ],
      "text/markdown": [
       "1. 'MAPK signaling pathway'\n",
       "2. 'Estrogen signaling pathway'\n",
       "\n",
       "\n"
      ],
      "text/plain": [
       "[1] \"MAPK signaling pathway\"     \"Estrogen signaling pathway\""
      ]
     },
     "metadata": {},
     "output_type": "display_data"
    }
   ],
   "source": [
    "kegg_list$LV117@result  %>% \n",
    "dplyr::filter(p.adjust < 0.05)  %>% \n",
    "dplyr::pull(Description) "
   ]
  },
  {
   "cell_type": "code",
   "execution_count": 22,
   "metadata": {
    "vscode": {
     "languageId": "r"
    }
   },
   "outputs": [
    {
     "data": {
      "text/html": [
       "<table class=\"dataframe\">\n",
       "<caption>A tibble: 0 × 2</caption>\n",
       "<thead>\n",
       "\t<tr><th scope=col>LV</th><th scope=col>pathway</th></tr>\n",
       "\t<tr><th scope=col>&lt;chr&gt;</th><th scope=col>&lt;chr&gt;</th></tr>\n",
       "</thead>\n",
       "<tbody>\n",
       "</tbody>\n",
       "</table>\n"
      ],
      "text/latex": [
       "A tibble: 0 × 2\n",
       "\\begin{tabular}{ll}\n",
       " LV & pathway\\\\\n",
       " <chr> & <chr>\\\\\n",
       "\\hline\n",
       "\\end{tabular}\n"
      ],
      "text/markdown": [
       "\n",
       "A tibble: 0 × 2\n",
       "\n",
       "| LV &lt;chr&gt; | pathway &lt;chr&gt; |\n",
       "|---|---|\n",
       "\n"
      ],
      "text/plain": [
       "     LV pathway"
      ]
     },
     "metadata": {},
     "output_type": "display_data"
    }
   ],
   "source": [
    "kegg_plier2_summary  %>%  dplyr::filter(LV == \"LV117\")"
   ]
  },
  {
   "cell_type": "code",
   "execution_count": 23,
   "id": "e9a45787",
   "metadata": {
    "vscode": {
     "languageId": "r"
    }
   },
   "outputs": [
    {
     "data": {
      "text/html": [
       "<style>\n",
       ".list-inline {list-style: none; margin:0; padding: 0}\n",
       ".list-inline>li {display: inline-block}\n",
       ".list-inline>li:not(:last-child)::after {content: \"\\00b7\"; padding: 0 .5ex}\n",
       "</style>\n",
       "<ol class=list-inline><li>'Coronavirus disease - COVID-19'</li><li>'Pancreatic secretion'</li><li>'Protein processing in endoplasmic reticulum'</li><li>'Non-alcoholic fatty liver disease'</li><li>'Protein digestion and absorption'</li></ol>\n"
      ],
      "text/latex": [
       "\\begin{enumerate*}\n",
       "\\item 'Coronavirus disease - COVID-19'\n",
       "\\item 'Pancreatic secretion'\n",
       "\\item 'Protein processing in endoplasmic reticulum'\n",
       "\\item 'Non-alcoholic fatty liver disease'\n",
       "\\item 'Protein digestion and absorption'\n",
       "\\end{enumerate*}\n"
      ],
      "text/markdown": [
       "1. 'Coronavirus disease - COVID-19'\n",
       "2. 'Pancreatic secretion'\n",
       "3. 'Protein processing in endoplasmic reticulum'\n",
       "4. 'Non-alcoholic fatty liver disease'\n",
       "5. 'Protein digestion and absorption'\n",
       "\n",
       "\n"
      ],
      "text/plain": [
       "[1] \"Coronavirus disease - COVID-19\"             \n",
       "[2] \"Pancreatic secretion\"                       \n",
       "[3] \"Protein processing in endoplasmic reticulum\"\n",
       "[4] \"Non-alcoholic fatty liver disease\"          \n",
       "[5] \"Protein digestion and absorption\"           "
      ]
     },
     "metadata": {},
     "output_type": "display_data"
    },
    {
     "data": {
      "text/html": [
       "<table class=\"dataframe\">\n",
       "<caption>A tibble: 1 × 2</caption>\n",
       "<thead>\n",
       "\t<tr><th scope=col>LV</th><th scope=col>pathway</th></tr>\n",
       "\t<tr><th scope=col>&lt;chr&gt;</th><th scope=col>&lt;chr&gt;</th></tr>\n",
       "</thead>\n",
       "<tbody>\n",
       "\t<tr><td>LV23</td><td>Legionellosis, Pancreatic secretion, Ribosome</td></tr>\n",
       "</tbody>\n",
       "</table>\n"
      ],
      "text/latex": [
       "A tibble: 1 × 2\n",
       "\\begin{tabular}{ll}\n",
       " LV & pathway\\\\\n",
       " <chr> & <chr>\\\\\n",
       "\\hline\n",
       "\t LV23 & Legionellosis, Pancreatic secretion, Ribosome\\\\\n",
       "\\end{tabular}\n"
      ],
      "text/markdown": [
       "\n",
       "A tibble: 1 × 2\n",
       "\n",
       "| LV &lt;chr&gt; | pathway &lt;chr&gt; |\n",
       "|---|---|\n",
       "| LV23 | Legionellosis, Pancreatic secretion, Ribosome |\n",
       "\n"
      ],
      "text/plain": [
       "  LV   pathway                                      \n",
       "1 LV23 Legionellosis, Pancreatic secretion, Ribosome"
      ]
     },
     "metadata": {},
     "output_type": "display_data"
    }
   ],
   "source": [
    "kegg_list$LV23@result  %>% \n",
    "dplyr::filter(p.adjust < 0.05)  %>% \n",
    "dplyr::pull(Description) \n",
    "\n",
    "kegg_plier2_summary  %>%  dplyr::filter(LV == \"LV23\")"
   ]
  },
  {
   "cell_type": "code",
   "execution_count": 24,
   "metadata": {
    "vscode": {
     "languageId": "r"
    }
   },
   "outputs": [
    {
     "data": {
      "text/html": [
       "<style>\n",
       ".list-inline {list-style: none; margin:0; padding: 0}\n",
       ".list-inline>li {display: inline-block}\n",
       ".list-inline>li:not(:last-child)::after {content: \"\\00b7\"; padding: 0 .5ex}\n",
       "</style>\n",
       "<ol class=list-inline><li>'Fatty acid degradation'</li><li>'Fatty acid metabolism'</li><li>'PPAR signaling pathway'</li><li>'Glycine, serine and threonine metabolism'</li><li>'Calcium signaling pathway'</li><li>'Carbon metabolism'</li><li>'beta-Alanine metabolism'</li><li>'Propanoate metabolism'</li><li>'Peroxisome'</li><li>'Alanine, aspartate and glutamate metabolism'</li><li>'Hippo signaling pathway'</li><li>'GABAergic synapse'</li><li>'Phospholipase D signaling pathway'</li><li>'cAMP signaling pathway'</li><li>'Lysine degradation'</li><li>'Basal cell carcinoma'</li><li>'Biosynthesis of unsaturated fatty acids'</li><li>'Proteoglycans in cancer'</li><li>'Valine, leucine and isoleucine degradation'</li><li>'Axon guidance'</li><li>'Dilated cardiomyopathy'</li><li>'One carbon pool by folate'</li><li>'Thyroid hormone signaling pathway'</li><li>'Arrhythmogenic right ventricular cardiomyopathy'</li><li>'Nitrogen metabolism'</li><li>'Morphine addiction'</li><li>'Signaling pathways regulating pluripotency of stem cells'</li><li>'Fatty acid elongation'</li><li>'HIF-1 signaling pathway'</li><li>'Mineral absorption'</li><li>'Notch signaling pathway'</li><li>'Neuroactive ligand signaling'</li><li>'Parathyroid hormone synthesis, secretion and action'</li><li>'Cysteine and methionine metabolism'</li><li>'Gastric acid secretion'</li><li>'Cytoskeleton in muscle cells'</li><li>'Wnt signaling pathway'</li><li>'Tryptophan metabolism'</li><li>'Proximal tubule bicarbonate reclamation'</li><li>'Glycolysis / Gluconeogenesis'</li><li>'Salivary secretion'</li><li>'Adrenergic signaling in cardiomyocytes'</li><li>'Pyruvate metabolism'</li><li>'Hypertrophic cardiomyopathy'</li><li>'Insulin secretion'</li><li>'Inositol phosphate metabolism'</li><li>'Melanogenesis'</li><li>'Butanoate metabolism'</li><li>'Glutamatergic synapse'</li><li>'Biosynthesis of amino acids'</li><li>'Arginine and proline metabolism'</li></ol>\n"
      ],
      "text/latex": [
       "\\begin{enumerate*}\n",
       "\\item 'Fatty acid degradation'\n",
       "\\item 'Fatty acid metabolism'\n",
       "\\item 'PPAR signaling pathway'\n",
       "\\item 'Glycine, serine and threonine metabolism'\n",
       "\\item 'Calcium signaling pathway'\n",
       "\\item 'Carbon metabolism'\n",
       "\\item 'beta-Alanine metabolism'\n",
       "\\item 'Propanoate metabolism'\n",
       "\\item 'Peroxisome'\n",
       "\\item 'Alanine, aspartate and glutamate metabolism'\n",
       "\\item 'Hippo signaling pathway'\n",
       "\\item 'GABAergic synapse'\n",
       "\\item 'Phospholipase D signaling pathway'\n",
       "\\item 'cAMP signaling pathway'\n",
       "\\item 'Lysine degradation'\n",
       "\\item 'Basal cell carcinoma'\n",
       "\\item 'Biosynthesis of unsaturated fatty acids'\n",
       "\\item 'Proteoglycans in cancer'\n",
       "\\item 'Valine, leucine and isoleucine degradation'\n",
       "\\item 'Axon guidance'\n",
       "\\item 'Dilated cardiomyopathy'\n",
       "\\item 'One carbon pool by folate'\n",
       "\\item 'Thyroid hormone signaling pathway'\n",
       "\\item 'Arrhythmogenic right ventricular cardiomyopathy'\n",
       "\\item 'Nitrogen metabolism'\n",
       "\\item 'Morphine addiction'\n",
       "\\item 'Signaling pathways regulating pluripotency of stem cells'\n",
       "\\item 'Fatty acid elongation'\n",
       "\\item 'HIF-1 signaling pathway'\n",
       "\\item 'Mineral absorption'\n",
       "\\item 'Notch signaling pathway'\n",
       "\\item 'Neuroactive ligand signaling'\n",
       "\\item 'Parathyroid hormone synthesis, secretion and action'\n",
       "\\item 'Cysteine and methionine metabolism'\n",
       "\\item 'Gastric acid secretion'\n",
       "\\item 'Cytoskeleton in muscle cells'\n",
       "\\item 'Wnt signaling pathway'\n",
       "\\item 'Tryptophan metabolism'\n",
       "\\item 'Proximal tubule bicarbonate reclamation'\n",
       "\\item 'Glycolysis / Gluconeogenesis'\n",
       "\\item 'Salivary secretion'\n",
       "\\item 'Adrenergic signaling in cardiomyocytes'\n",
       "\\item 'Pyruvate metabolism'\n",
       "\\item 'Hypertrophic cardiomyopathy'\n",
       "\\item 'Insulin secretion'\n",
       "\\item 'Inositol phosphate metabolism'\n",
       "\\item 'Melanogenesis'\n",
       "\\item 'Butanoate metabolism'\n",
       "\\item 'Glutamatergic synapse'\n",
       "\\item 'Biosynthesis of amino acids'\n",
       "\\item 'Arginine and proline metabolism'\n",
       "\\end{enumerate*}\n"
      ],
      "text/markdown": [
       "1. 'Fatty acid degradation'\n",
       "2. 'Fatty acid metabolism'\n",
       "3. 'PPAR signaling pathway'\n",
       "4. 'Glycine, serine and threonine metabolism'\n",
       "5. 'Calcium signaling pathway'\n",
       "6. 'Carbon metabolism'\n",
       "7. 'beta-Alanine metabolism'\n",
       "8. 'Propanoate metabolism'\n",
       "9. 'Peroxisome'\n",
       "10. 'Alanine, aspartate and glutamate metabolism'\n",
       "11. 'Hippo signaling pathway'\n",
       "12. 'GABAergic synapse'\n",
       "13. 'Phospholipase D signaling pathway'\n",
       "14. 'cAMP signaling pathway'\n",
       "15. 'Lysine degradation'\n",
       "16. 'Basal cell carcinoma'\n",
       "17. 'Biosynthesis of unsaturated fatty acids'\n",
       "18. 'Proteoglycans in cancer'\n",
       "19. 'Valine, leucine and isoleucine degradation'\n",
       "20. 'Axon guidance'\n",
       "21. 'Dilated cardiomyopathy'\n",
       "22. 'One carbon pool by folate'\n",
       "23. 'Thyroid hormone signaling pathway'\n",
       "24. 'Arrhythmogenic right ventricular cardiomyopathy'\n",
       "25. 'Nitrogen metabolism'\n",
       "26. 'Morphine addiction'\n",
       "27. 'Signaling pathways regulating pluripotency of stem cells'\n",
       "28. 'Fatty acid elongation'\n",
       "29. 'HIF-1 signaling pathway'\n",
       "30. 'Mineral absorption'\n",
       "31. 'Notch signaling pathway'\n",
       "32. 'Neuroactive ligand signaling'\n",
       "33. 'Parathyroid hormone synthesis, secretion and action'\n",
       "34. 'Cysteine and methionine metabolism'\n",
       "35. 'Gastric acid secretion'\n",
       "36. 'Cytoskeleton in muscle cells'\n",
       "37. 'Wnt signaling pathway'\n",
       "38. 'Tryptophan metabolism'\n",
       "39. 'Proximal tubule bicarbonate reclamation'\n",
       "40. 'Glycolysis / Gluconeogenesis'\n",
       "41. 'Salivary secretion'\n",
       "42. 'Adrenergic signaling in cardiomyocytes'\n",
       "43. 'Pyruvate metabolism'\n",
       "44. 'Hypertrophic cardiomyopathy'\n",
       "45. 'Insulin secretion'\n",
       "46. 'Inositol phosphate metabolism'\n",
       "47. 'Melanogenesis'\n",
       "48. 'Butanoate metabolism'\n",
       "49. 'Glutamatergic synapse'\n",
       "50. 'Biosynthesis of amino acids'\n",
       "51. 'Arginine and proline metabolism'\n",
       "\n",
       "\n"
      ],
      "text/plain": [
       " [1] \"Fatty acid degradation\"                                  \n",
       " [2] \"Fatty acid metabolism\"                                   \n",
       " [3] \"PPAR signaling pathway\"                                  \n",
       " [4] \"Glycine, serine and threonine metabolism\"                \n",
       " [5] \"Calcium signaling pathway\"                               \n",
       " [6] \"Carbon metabolism\"                                       \n",
       " [7] \"beta-Alanine metabolism\"                                 \n",
       " [8] \"Propanoate metabolism\"                                   \n",
       " [9] \"Peroxisome\"                                              \n",
       "[10] \"Alanine, aspartate and glutamate metabolism\"             \n",
       "[11] \"Hippo signaling pathway\"                                 \n",
       "[12] \"GABAergic synapse\"                                       \n",
       "[13] \"Phospholipase D signaling pathway\"                       \n",
       "[14] \"cAMP signaling pathway\"                                  \n",
       "[15] \"Lysine degradation\"                                      \n",
       "[16] \"Basal cell carcinoma\"                                    \n",
       "[17] \"Biosynthesis of unsaturated fatty acids\"                 \n",
       "[18] \"Proteoglycans in cancer\"                                 \n",
       "[19] \"Valine, leucine and isoleucine degradation\"              \n",
       "[20] \"Axon guidance\"                                           \n",
       "[21] \"Dilated cardiomyopathy\"                                  \n",
       "[22] \"One carbon pool by folate\"                               \n",
       "[23] \"Thyroid hormone signaling pathway\"                       \n",
       "[24] \"Arrhythmogenic right ventricular cardiomyopathy\"         \n",
       "[25] \"Nitrogen metabolism\"                                     \n",
       "[26] \"Morphine addiction\"                                      \n",
       "[27] \"Signaling pathways regulating pluripotency of stem cells\"\n",
       "[28] \"Fatty acid elongation\"                                   \n",
       "[29] \"HIF-1 signaling pathway\"                                 \n",
       "[30] \"Mineral absorption\"                                      \n",
       "[31] \"Notch signaling pathway\"                                 \n",
       "[32] \"Neuroactive ligand signaling\"                            \n",
       "[33] \"Parathyroid hormone synthesis, secretion and action\"     \n",
       "[34] \"Cysteine and methionine metabolism\"                      \n",
       "[35] \"Gastric acid secretion\"                                  \n",
       "[36] \"Cytoskeleton in muscle cells\"                            \n",
       "[37] \"Wnt signaling pathway\"                                   \n",
       "[38] \"Tryptophan metabolism\"                                   \n",
       "[39] \"Proximal tubule bicarbonate reclamation\"                 \n",
       "[40] \"Glycolysis / Gluconeogenesis\"                            \n",
       "[41] \"Salivary secretion\"                                      \n",
       "[42] \"Adrenergic signaling in cardiomyocytes\"                  \n",
       "[43] \"Pyruvate metabolism\"                                     \n",
       "[44] \"Hypertrophic cardiomyopathy\"                             \n",
       "[45] \"Insulin secretion\"                                       \n",
       "[46] \"Inositol phosphate metabolism\"                           \n",
       "[47] \"Melanogenesis\"                                           \n",
       "[48] \"Butanoate metabolism\"                                    \n",
       "[49] \"Glutamatergic synapse\"                                   \n",
       "[50] \"Biosynthesis of amino acids\"                             \n",
       "[51] \"Arginine and proline metabolism\"                         "
      ]
     },
     "metadata": {},
     "output_type": "display_data"
    },
    {
     "data": {
      "text/html": [
       "<table class=\"dataframe\">\n",
       "<caption>A tibble: 1 × 2</caption>\n",
       "<thead>\n",
       "\t<tr><th scope=col>LV</th><th scope=col>pathway</th></tr>\n",
       "\t<tr><th scope=col>&lt;chr&gt;</th><th scope=col>&lt;chr&gt;</th></tr>\n",
       "</thead>\n",
       "<tbody>\n",
       "\t<tr><td>LV44</td><td>Alanine, aspartate and glutamate metabolism, Alcoholism, GABAergic synapse</td></tr>\n",
       "</tbody>\n",
       "</table>\n"
      ],
      "text/latex": [
       "A tibble: 1 × 2\n",
       "\\begin{tabular}{ll}\n",
       " LV & pathway\\\\\n",
       " <chr> & <chr>\\\\\n",
       "\\hline\n",
       "\t LV44 & Alanine, aspartate and glutamate metabolism, Alcoholism, GABAergic synapse\\\\\n",
       "\\end{tabular}\n"
      ],
      "text/markdown": [
       "\n",
       "A tibble: 1 × 2\n",
       "\n",
       "| LV &lt;chr&gt; | pathway &lt;chr&gt; |\n",
       "|---|---|\n",
       "| LV44 | Alanine, aspartate and glutamate metabolism, Alcoholism, GABAergic synapse |\n",
       "\n"
      ],
      "text/plain": [
       "  LV  \n",
       "1 LV44\n",
       "  pathway                                                                   \n",
       "1 Alanine, aspartate and glutamate metabolism, Alcoholism, GABAergic synapse"
      ]
     },
     "metadata": {},
     "output_type": "display_data"
    }
   ],
   "source": [
    "kegg_list$LV44@result  %>% \n",
    "dplyr::filter(p.adjust < 0.05)  %>% \n",
    "dplyr::pull(Description) \n",
    "\n",
    "kegg_plier2_summary  %>%  dplyr::filter(LV == \"LV44\")"
   ]
  }
 ],
 "metadata": {
  "kernelspec": {
   "display_name": "R",
   "language": "R",
   "name": "ir"
  },
  "language_info": {
   "codemirror_mode": "r",
   "file_extension": ".r",
   "mimetype": "text/x-r-source",
   "name": "R",
   "pygments_lexer": "r",
   "version": "4.3.3"
  }
 },
 "nbformat": 4,
 "nbformat_minor": 5
}
