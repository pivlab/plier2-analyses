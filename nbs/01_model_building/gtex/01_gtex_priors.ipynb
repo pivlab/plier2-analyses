{
 "cells": [
  {
   "cell_type": "markdown",
   "id": "ca81bc7f",
   "metadata": {},
   "source": [
    "# GTEx model with different priors"
   ]
  },
  {
   "cell_type": "markdown",
   "id": "be805cf1",
   "metadata": {},
   "source": [
    "## Load libraries"
   ]
  },
  {
   "cell_type": "code",
   "execution_count": 4,
   "id": "b4ed5e6f",
   "metadata": {
    "vscode": {
     "languageId": "r"
    }
   },
   "outputs": [],
   "source": [
    "if (!requireNamespace(\"PLIER\", quietly = TRUE)) {\n",
    "    devtools::install_github(\"wgmao/PLIER\")\n",
    "}\n",
    "\n",
    "# 3. Install PLIER2 (mchikina/PLIER2) if not already installed\n",
    "if (!requireNamespace(\"PLIER2\", quietly = TRUE)) {\n",
    "    REPO_PATH <- \"/home/msubirana/Documents/pivlab/PLIER2\"  # adjust\n",
    "    remotes::install_local(REPO_PATH, force = TRUE, dependencies = FALSE)\n",
    "}\n",
    "\n",
    "library(bigstatsr)\n",
    "library(data.table)\n",
    "library(dplyr)\n",
    "library(rsvd)\n",
    "library(glmnet)\n",
    "library(Matrix)\n",
    "library(knitr)\n",
    "library(here)\n",
    "library(PLIER2)\n",
    "\n",
    "source(here(\"config.R\"))"
   ]
  },
  {
   "cell_type": "markdown",
   "id": "fc858c79",
   "metadata": {},
   "source": [
    "## Output directory"
   ]
  },
  {
   "cell_type": "code",
   "execution_count": 5,
   "id": "02f368b4",
   "metadata": {
    "vscode": {
     "languageId": "r"
    }
   },
   "outputs": [],
   "source": [
    "output_data_dir <- config$GTEx$DATASET_FOLDER\n",
    "dir.create(output_data_dir, showWarnings = FALSE, recursive = TRUE)"
   ]
  },
  {
   "cell_type": "markdown",
   "id": "7bab2d0f",
   "metadata": {},
   "source": [
    "# Load GTEx PLIER2 base model"
   ]
  },
  {
   "cell_type": "code",
   "execution_count": 6,
   "id": "bcb4c966",
   "metadata": {
    "vscode": {
     "languageId": "r"
    }
   },
   "outputs": [],
   "source": [
    "gtex_baseRes <- readRDS(file.path(output_data_dir, \"gtex_PLIER2_baseRes.rds\"))"
   ]
  },
  {
   "cell_type": "code",
   "execution_count": 7,
   "id": "738b46b2",
   "metadata": {
    "vscode": {
     "languageId": "r"
    }
   },
   "outputs": [],
   "source": [
    "gtex_svdRes <- readRDS(file.path(output_data_dir, \"gtex_svdRes.rds\"))"
   ]
  },
  {
   "cell_type": "code",
   "execution_count": 8,
   "id": "4734948a",
   "metadata": {
    "vscode": {
     "languageId": "r"
    }
   },
   "outputs": [],
   "source": [
    "PLIER_K_gtex <- readRDS(file.path(output_data_dir, \"PLIER_K_gtex.rds\"))"
   ]
  },
  {
   "cell_type": "code",
   "execution_count": 9,
   "id": "5eb16174",
   "metadata": {
    "vscode": {
     "languageId": "r"
    }
   },
   "outputs": [],
   "source": [
    "gtex_fbm_filt <- readRDS(file.path(output_data_dir, \"gtex_fbm_filt.rds\"))"
   ]
  },
  {
   "cell_type": "code",
   "execution_count": 10,
   "id": "6beb6e7c",
   "metadata": {
    "vscode": {
     "languageId": "r"
    }
   },
   "outputs": [],
   "source": [
    "gtex_genes <- readRDS(file.path(output_data_dir, \"gtex_genes.rds\"))"
   ]
  },
  {
   "cell_type": "code",
   "execution_count": 11,
   "id": "9ae9d777",
   "metadata": {
    "vscode": {
     "languageId": "r"
    }
   },
   "outputs": [],
   "source": [
    "samples <- readRDS(file.path(output_data_dir, \"gtex_samples.rds\"))"
   ]
  },
  {
   "cell_type": "markdown",
   "id": "6ee267bb",
   "metadata": {},
   "source": [
    "## Prior KEGG"
   ]
  },
  {
   "cell_type": "code",
   "execution_count": 12,
   "id": "35ea5a8c",
   "metadata": {
    "vscode": {
     "languageId": "r"
    }
   },
   "outputs": [
    {
     "name": "stderr",
     "output_type": "stream",
     "text": [
      ">>> Running PLIER for prior: KEGG_2021_Human\n",
      "\n",
      "Auto-detected name: KEGG_2021_Human\n",
      "\n",
      "Using cached file for KEGG_2021_Human\n",
      "\n",
      "there are  6409  genes in the intersection between data and prior\n",
      "\n",
      "Removing 10 pathways\n",
      "\n",
      "Inverting...\n",
      "\n",
      "done\n",
      "\n",
      "**PLIER v2 **\n",
      "\n",
      "using provided PLIERbase result\n",
      "\n",
      "L1=67.1332478272621; L2=201.399743481786\n",
      "\n"
     ]
    },
    {
     "name": "stdout",
     "output_type": "stream",
     "text": [
      "Progress 80 / 350 | Bdiff=0.000172 Number of annotated columns is 180, Number of annotated columns is 182, Number of annotated columns is 183, Number of annotated columns is 183, Number of annotated columns is 183, Number of annotated columns is 180, Number of annotated columns is 181, Number of annotated columns is 182, Number of annotated columns is 182, Number of annotated columns is 182, Number of annotated columns is 180, Number of annotated columns is 180, Number of annotated columns is 180, Number of annotated columns is 181, Number of annotated columns is 181, Number of annotated columns is 178, Number of annotated columns is 178, Number of annotated columns is 178, Number of annotated columns is 178, Number of annotated columns is 178, Number of annotated columns is 175, Number of annotated columns is 176, Number of annotated columns is 176, Number of annotated columns is 176, Number of annotated columns is 176, Number of annotated columns is 175, Number of annotated columns is 175, Number of annotated columns is 175, Number of annotated columns is 176, Number of annotated columns is 176, Number of annotated columns is 173, Number of annotated columns is 174, Number of annotated columns is 174, Number of annotated columns is 174, Number of annotated columns is 174, Number of annotated columns is 173, Number of annotated columns is 173, Number of annotated columns is 173, Number of annotated columns is 173"
     ]
    },
    {
     "name": "stderr",
     "output_type": "stream",
     "text": [
      "converged at  iteration 80 Bdiff is not decreasing\n",
      "\n",
      "Updating Z for CV\n",
      "\n",
      "crossValidation\n",
      "\n",
      "There are 111  LVs with AUC>0.70\n",
      "\n",
      "There are 30  LVs with AUC>0.90\n",
      "\n",
      "Saved: /home/msubirana/Documents/pivlab/plier2-analyses/output/gtex/gtex_KEGG_2021_Human_PLIER2.rds\n",
      "\n",
      ">>> Running PLIER for prior: GWAS_Catalog_2025\n",
      "\n",
      "Auto-detected name: GWAS_Catalog_2025\n",
      "\n",
      "Using cached file for GWAS_Catalog_2025\n",
      "\n",
      "there are  12382  genes in the intersection between data and prior\n",
      "\n",
      "Removing 1106 pathways\n",
      "\n",
      "Inverting...\n",
      "\n",
      "done\n",
      "\n",
      "**PLIER v2 **\n",
      "\n",
      "using provided PLIERbase result\n",
      "\n",
      "L1=67.1332478272621; L2=201.399743481786\n",
      "\n"
     ]
    },
    {
     "name": "stdout",
     "output_type": "stream",
     "text": [
      "Progress 83 / 350 | Bdiff=0.000194 Number of annotated columns is 139, Number of annotated columns is 140, Number of annotated columns is 143, Number of annotated columns is 143, Number of annotated columns is 145, Number of annotated columns is 138, Number of annotated columns is 140, Number of annotated columns is 142, Number of annotated columns is 142, Number of annotated columns is 146, Number of annotated columns is 144, Number of annotated columns is 144, Number of annotated columns is 146, Number of annotated columns is 146, Number of annotated columns is 146, Number of annotated columns is 140, Number of annotated columns is 140, Number of annotated columns is 141, Number of annotated columns is 144, Number of annotated columns is 146, Number of annotated columns is 143, Number of annotated columns is 143, Number of annotated columns is 145, Number of annotated columns is 145, Number of annotated columns is 147, Number of annotated columns is 144, Number of annotated columns is 146, Number of annotated columns is 147, Number of annotated columns is 147, Number of annotated columns is 149, Number of annotated columns is 143, Number of annotated columns is 144, Number of annotated columns is 147, Number of annotated columns is 150, Number of annotated columns is 150, Number of annotated columns is 146, Number of annotated columns is 148, Number of annotated columns is 148, Number of annotated columns is 148, Number of annotated columns is 148, Number of annotated columns is 148"
     ]
    },
    {
     "name": "stderr",
     "output_type": "stream",
     "text": [
      "converged at  iteration 83 Bdiff is not decreasing\n",
      "\n",
      "Updating Z for CV\n",
      "\n",
      "crossValidation\n",
      "\n",
      "There are 96  LVs with AUC>0.70\n",
      "\n",
      "There are 32  LVs with AUC>0.90\n",
      "\n",
      "Saved: /home/msubirana/Documents/pivlab/plier2-analyses/output/gtex/gtex_GWAS_Catalog_2025_PLIER2.rds\n",
      "\n",
      ">>> Running PLIER for prior: GO_Biological_Process_2025\n",
      "\n",
      "Auto-detected name: GO_Biological_Process_2025\n",
      "\n",
      "Using cached file for GO_Biological_Process_2025\n",
      "\n",
      "there are  12116  genes in the intersection between data and prior\n",
      "\n",
      "Removing 2020 pathways\n",
      "\n",
      "Inverting...\n",
      "\n",
      "done\n",
      "\n",
      "**PLIER v2 **\n",
      "\n",
      "using provided PLIERbase result\n",
      "\n",
      "L1=67.1332478272621; L2=201.399743481786\n",
      "\n"
     ]
    },
    {
     "name": "stdout",
     "output_type": "stream",
     "text": [
      "Progress 83 / 350 | Bdiff=0.000189 Number of annotated columns is 134, Number of annotated columns is 136, Number of annotated columns is 139, Number of annotated columns is 142, Number of annotated columns is 144, Number of annotated columns is 139, Number of annotated columns is 141, Number of annotated columns is 143, Number of annotated columns is 144, Number of annotated columns is 144, Number of annotated columns is 142, Number of annotated columns is 144, Number of annotated columns is 146, Number of annotated columns is 146, Number of annotated columns is 146, Number of annotated columns is 142, Number of annotated columns is 143, Number of annotated columns is 143, Number of annotated columns is 145, Number of annotated columns is 145, Number of annotated columns is 140, Number of annotated columns is 141, Number of annotated columns is 143, Number of annotated columns is 145, Number of annotated columns is 145, Number of annotated columns is 141, Number of annotated columns is 143, Number of annotated columns is 143, Number of annotated columns is 143, Number of annotated columns is 143, Number of annotated columns is 139, Number of annotated columns is 139, Number of annotated columns is 141, Number of annotated columns is 142, Number of annotated columns is 143, Number of annotated columns is 141, Number of annotated columns is 144, Number of annotated columns is 145, Number of annotated columns is 145, Number of annotated columns is 145, Number of annotated columns is 142"
     ]
    },
    {
     "name": "stderr",
     "output_type": "stream",
     "text": [
      "converged at  iteration 83 Bdiff is not decreasing\n",
      "\n",
      "Updating Z for CV\n",
      "\n",
      "crossValidation\n",
      "\n",
      "There are 80  LVs with AUC>0.70\n",
      "\n",
      "There are 29  LVs with AUC>0.90\n",
      "\n",
      "Saved: /home/msubirana/Documents/pivlab/plier2-analyses/output/gtex/gtex_GO_Biological_Process_2025_PLIER2.rds\n",
      "\n",
      ">>> Running PLIER for prior: GTEx_Tissues_V8_2023\n",
      "\n",
      "Auto-detected name: GTEx_Tissues_V8_2023\n",
      "\n",
      "Using cached file for GTEx_Tissues_V8_2023\n",
      "\n",
      "there are  6121  genes in the intersection between data and prior\n",
      "\n",
      "Removing 0 pathways\n",
      "\n",
      "Inverting...\n",
      "\n",
      "done\n",
      "\n",
      "**PLIER v2 **\n",
      "\n",
      "using provided PLIERbase result\n",
      "\n",
      "L1=67.1332478272621; L2=201.399743481786\n",
      "\n"
     ]
    },
    {
     "name": "stdout",
     "output_type": "stream",
     "text": [
      "Converged at 108 / 350 | Bdiff=0.000225, minCor=0.982136olumns is 183, Number of annotated columns is 183, Number of annotated columns is 183, Number of annotated columns is 183, Number of annotated columns is 183, Number of annotated columns is 179, Number of annotated columns is 179, Number of annotated columns is 179, Number of annotated columns is 180, Number of annotated columns is 181, Number of annotated columns is 179, Number of annotated columns is 180, Number of annotated columns is 182, Number of annotated columns is 183, Number of annotated columns is 184, Number of annotated columns is 182, Number of annotated columns is 182, Number of annotated columns is 182, Number of annotated columns is 182, Number of annotated columns is 183, Number of annotated columns is 180, Number of annotated columns is 181, Number of annotated columns is 181, Number of annotated columns is 183, Number of annotated columns is 183, Number of annotated columns is 181, Number of annotated columns is 182, Number of annotated columns is 184, Number of annotated columns is 184, Number of annotated columns is 184, Number of annotated columns is 183, Number of annotated columns is 183, Number of annotated columns is 183, Number of annotated columns is 183, Number of annotated columns is 184, Number of annotated columns is 181, Number of annotated columns is 183, Number of annotated columns is 183, Number of annotated columns is 183, Number of annotated columns is 184, Number of annotated columns is 182, Number of annotated columns is 183, Number of annotated columns is 183, Number of annotated columns is 183, Number of annotated columns is 185, Number of annotated columns is 184, Number of annotated columns is 184, Number of annotated columns is 185, Number of annotated columns is 185, Number of annotated columns is 185\n"
     ]
    },
    {
     "name": "stderr",
     "output_type": "stream",
     "text": [
      "Updating Z for CV\n",
      "\n",
      "crossValidation\n",
      "\n",
      "There are 153  LVs with AUC>0.70\n",
      "\n",
      "There are 114  LVs with AUC>0.90\n",
      "\n",
      "Saved: /home/msubirana/Documents/pivlab/plier2-analyses/output/gtex/gtex_GTEx_Tissues_V8_2023_PLIER2.rds\n",
      "\n",
      ">>> Running PLIER for prior: Chromosome_Location\n",
      "\n",
      "Auto-detected name: Chromosome_Location\n",
      "\n",
      "Using cached file for Chromosome_Location\n",
      "\n",
      "there are  12732  genes in the intersection between data and prior\n",
      "\n",
      "Removing 124 pathways\n",
      "\n",
      "Inverting...\n",
      "\n",
      "done\n",
      "\n",
      "**PLIER v2 **\n",
      "\n",
      "using provided PLIERbase result\n",
      "\n",
      "L1=67.1332478272621; L2=201.399743481786\n",
      "\n"
     ]
    },
    {
     "name": "stdout",
     "output_type": "stream",
     "text": [
      "Converged at 108 / 350 | Bdiff=0.000211, minCor=0.992538olumns is 147, Number of annotated columns is 148, Number of annotated columns is 151, Number of annotated columns is 152, Number of annotated columns is 153, Number of annotated columns is 148, Number of annotated columns is 148, Number of annotated columns is 149, Number of annotated columns is 150, Number of annotated columns is 154, Number of annotated columns is 150, Number of annotated columns is 150, Number of annotated columns is 151, Number of annotated columns is 152, Number of annotated columns is 152, Number of annotated columns is 148, Number of annotated columns is 149, Number of annotated columns is 149, Number of annotated columns is 149, Number of annotated columns is 150, Number of annotated columns is 148, Number of annotated columns is 148, Number of annotated columns is 148, Number of annotated columns is 150, Number of annotated columns is 151, Number of annotated columns is 149, Number of annotated columns is 150, Number of annotated columns is 150, Number of annotated columns is 150, Number of annotated columns is 150, Number of annotated columns is 144, Number of annotated columns is 144, Number of annotated columns is 145, Number of annotated columns is 145, Number of annotated columns is 146, Number of annotated columns is 145, Number of annotated columns is 145, Number of annotated columns is 148, Number of annotated columns is 148, Number of annotated columns is 148, Number of annotated columns is 146, Number of annotated columns is 147, Number of annotated columns is 148, Number of annotated columns is 148, Number of annotated columns is 150, Number of annotated columns is 148, Number of annotated columns is 148, Number of annotated columns is 148, Number of annotated columns is 148, Number of annotated columns is 149\n"
     ]
    },
    {
     "name": "stderr",
     "output_type": "stream",
     "text": [
      "Updating Z for CV\n",
      "\n",
      "crossValidation\n",
      "\n",
      "There are 117  LVs with AUC>0.70\n",
      "\n",
      "There are 23  LVs with AUC>0.90\n",
      "\n",
      "Saved: /home/msubirana/Documents/pivlab/plier2-analyses/output/gtex/gtex_Chromosome_Location_PLIER2.rds\n",
      "\n",
      ">>> Running PLIER for prior: dbGaP\n",
      "\n",
      "Auto-detected name: dbGaP\n",
      "\n",
      "Using cached file for dbGaP\n",
      "\n",
      "there are  4650  genes in the intersection between data and prior\n",
      "\n",
      "Removing 181 pathways\n",
      "\n",
      "Inverting...\n",
      "\n",
      "done\n",
      "\n",
      "**PLIER v2 **\n",
      "\n",
      "using provided PLIERbase result\n",
      "\n",
      "L1=67.1332478272621; L2=201.399743481786\n",
      "\n"
     ]
    },
    {
     "name": "stdout",
     "output_type": "stream",
     "text": [
      "Progress 85 / 350 | Bdiff=0.000203 Number of annotated columns is 112, Number of annotated columns is 112, Number of annotated columns is 113, Number of annotated columns is 113, Number of annotated columns is 114, Number of annotated columns is 113, Number of annotated columns is 113, Number of annotated columns is 115, Number of annotated columns is 118, Number of annotated columns is 120, Number of annotated columns is 110, Number of annotated columns is 110, Number of annotated columns is 110, Number of annotated columns is 111, Number of annotated columns is 111, Number of annotated columns is 105, Number of annotated columns is 105, Number of annotated columns is 105, Number of annotated columns is 106, Number of annotated columns is 106, Number of annotated columns is 102, Number of annotated columns is 105, Number of annotated columns is 105, Number of annotated columns is 105, Number of annotated columns is 108, Number of annotated columns is 104, Number of annotated columns is 104, Number of annotated columns is 104, Number of annotated columns is 107, Number of annotated columns is 108, Number of annotated columns is 106, Number of annotated columns is 106, Number of annotated columns is 106, Number of annotated columns is 106, Number of annotated columns is 107, Number of annotated columns is 106, Number of annotated columns is 107, Number of annotated columns is 108, Number of annotated columns is 110, Number of annotated columns is 110, Number of annotated columns is 108, Number of annotated columns is 108"
     ]
    },
    {
     "name": "stderr",
     "output_type": "stream",
     "text": [
      "converged at  iteration 85 Bdiff is not decreasing\n",
      "\n",
      "Updating Z for CV\n",
      "\n",
      "crossValidation\n",
      "\n",
      "There are 79  LVs with AUC>0.70\n",
      "\n",
      "There are 19  LVs with AUC>0.90\n",
      "\n",
      "Saved: /home/msubirana/Documents/pivlab/plier2-analyses/output/gtex/gtex_dbGaP_PLIER2.rds\n",
      "\n",
      ">>> Running PLIER for prior: ChEA_2022\n",
      "\n",
      "Auto-detected name: ChEA_2022\n",
      "\n",
      "Downloading ChEA_2022 from Enrichr...\n",
      "\n",
      "there are  14879  genes in the intersection between data and prior\n",
      "\n",
      "Removing 1 pathways\n",
      "\n",
      "Inverting...\n",
      "\n",
      "done\n",
      "\n",
      "**PLIER v2 **\n",
      "\n",
      "using provided PLIERbase result\n",
      "\n",
      "L1=67.1332478272621; L2=201.399743481786\n",
      "\n"
     ]
    },
    {
     "name": "stdout",
     "output_type": "stream",
     "text": [
      "Converged at 108 / 350 | Bdiff=0.000205, minCor=0.994868olumns is 166, Number of annotated columns is 166, Number of annotated columns is 166, Number of annotated columns is 166, Number of annotated columns is 167, Number of annotated columns is 166, Number of annotated columns is 167, Number of annotated columns is 168, Number of annotated columns is 168, Number of annotated columns is 168, Number of annotated columns is 168, Number of annotated columns is 168, Number of annotated columns is 168, Number of annotated columns is 168, Number of annotated columns is 168, Number of annotated columns is 167, Number of annotated columns is 168, Number of annotated columns is 168, Number of annotated columns is 169, Number of annotated columns is 169, Number of annotated columns is 167, Number of annotated columns is 167, Number of annotated columns is 168, Number of annotated columns is 168, Number of annotated columns is 168, Number of annotated columns is 167, Number of annotated columns is 167, Number of annotated columns is 168, Number of annotated columns is 169, Number of annotated columns is 169, Number of annotated columns is 168, Number of annotated columns is 169, Number of annotated columns is 169, Number of annotated columns is 169, Number of annotated columns is 169, Number of annotated columns is 169, Number of annotated columns is 169, Number of annotated columns is 169, Number of annotated columns is 170, Number of annotated columns is 170, Number of annotated columns is 169, Number of annotated columns is 169, Number of annotated columns is 169, Number of annotated columns is 171, Number of annotated columns is 171, Number of annotated columns is 170, Number of annotated columns is 171, Number of annotated columns is 171, Number of annotated columns is 171, Number of annotated columns is 172\n"
     ]
    },
    {
     "name": "stderr",
     "output_type": "stream",
     "text": [
      "Updating Z for CV\n",
      "\n",
      "crossValidation\n",
      "\n",
      "There are 26  LVs with AUC>0.70\n",
      "\n",
      "There are 2  LVs with AUC>0.90\n",
      "\n",
      "Saved: /home/msubirana/Documents/pivlab/plier2-analyses/output/gtex/gtex_ChEA_2022_PLIER2.rds\n",
      "\n",
      ">>> Running PLIER for prior: DSigDB\n",
      "\n",
      "Auto-detected name: DSigDB\n",
      "\n",
      "Downloading DSigDB from Enrichr...\n",
      "\n",
      "there are  15328  genes in the intersection between data and prior\n",
      "\n",
      "Removing 147 pathways\n",
      "\n",
      "Inverting...\n",
      "\n",
      "done\n",
      "\n",
      "**PLIER v2 **\n",
      "\n",
      "using provided PLIERbase result\n",
      "\n",
      "L1=67.1332478272621; L2=201.399743481786\n",
      "\n"
     ]
    },
    {
     "name": "stdout",
     "output_type": "stream",
     "text": [
      "Progress 84 / 350 | Bdiff=0.000208 Number of annotated columns is 59, Number of annotated columns is 61, Number of annotated columns is 61, Number of annotated columns is 65, Number of annotated columns is 66, Number of annotated columns is 56, Number of annotated columns is 57, Number of annotated columns is 57, Number of annotated columns is 59, Number of annotated columns is 60, Number of annotated columns is 51, Number of annotated columns is 54, Number of annotated columns is 58, Number of annotated columns is 60, Number of annotated columns is 61, Number of annotated columns is 57, Number of annotated columns is 60, Number of annotated columns is 63, Number of annotated columns is 63, Number of annotated columns is 63, Number of annotated columns is 57, Number of annotated columns is 59, Number of annotated columns is 60, Number of annotated columns is 62, Number of annotated columns is 64, Number of annotated columns is 58, Number of annotated columns is 59, Number of annotated columns is 61, Number of annotated columns is 64, Number of annotated columns is 66, Number of annotated columns is 63, Number of annotated columns is 64, Number of annotated columns is 66, Number of annotated columns is 68, Number of annotated columns is 68, Number of annotated columns is 62, Number of annotated columns is 62, Number of annotated columns is 63, Number of annotated columns is 65, Number of annotated columns is 67, Number of annotated columns is 60"
     ]
    },
    {
     "name": "stderr",
     "output_type": "stream",
     "text": [
      "converged at  iteration 84 Bdiff is not decreasing\n",
      "\n",
      "Updating Z for CV\n",
      "\n",
      "crossValidation\n",
      "\n",
      "There are 21  LVs with AUC>0.70\n",
      "\n",
      "There are 5  LVs with AUC>0.90\n",
      "\n",
      "Saved: /home/msubirana/Documents/pivlab/plier2-analyses/output/gtex/gtex_DSigDB_PLIER2.rds\n",
      "\n",
      ">>> Running PLIER for prior: Human_Gene_Atlas\n",
      "\n",
      "Auto-detected name: Human_Gene_Atlas\n",
      "\n",
      "Downloading Human_Gene_Atlas from Enrichr...\n",
      "\n",
      "there are  10142  genes in the intersection between data and prior\n",
      "\n",
      "Removing 0 pathways\n",
      "\n",
      "Inverting...\n",
      "\n",
      "done\n",
      "\n",
      "**PLIER v2 **\n",
      "\n",
      "using provided PLIERbase result\n",
      "\n",
      "L1=67.1332478272621; L2=201.399743481786\n",
      "\n"
     ]
    },
    {
     "name": "stdout",
     "output_type": "stream",
     "text": [
      "Converged at 108 / 350 | Bdiff=0.000136, minCor=0.992160olumns is 168, Number of annotated columns is 169, Number of annotated columns is 170, Number of annotated columns is 170, Number of annotated columns is 170, Number of annotated columns is 170, Number of annotated columns is 171, Number of annotated columns is 171, Number of annotated columns is 171, Number of annotated columns is 172, Number of annotated columns is 172, Number of annotated columns is 172, Number of annotated columns is 173, Number of annotated columns is 173, Number of annotated columns is 173, Number of annotated columns is 170, Number of annotated columns is 170, Number of annotated columns is 170, Number of annotated columns is 171, Number of annotated columns is 171, Number of annotated columns is 171, Number of annotated columns is 171, Number of annotated columns is 172, Number of annotated columns is 173, Number of annotated columns is 173, Number of annotated columns is 173, Number of annotated columns is 173, Number of annotated columns is 174, Number of annotated columns is 174, Number of annotated columns is 174, Number of annotated columns is 173, Number of annotated columns is 173, Number of annotated columns is 173, Number of annotated columns is 176, Number of annotated columns is 176, Number of annotated columns is 177, Number of annotated columns is 177, Number of annotated columns is 177, Number of annotated columns is 177, Number of annotated columns is 177, Number of annotated columns is 176, Number of annotated columns is 176, Number of annotated columns is 176, Number of annotated columns is 177, Number of annotated columns is 177, Number of annotated columns is 176, Number of annotated columns is 176, Number of annotated columns is 176, Number of annotated columns is 176, Number of annotated columns is 176\n"
     ]
    },
    {
     "name": "stderr",
     "output_type": "stream",
     "text": [
      "Updating Z for CV\n",
      "\n",
      "crossValidation\n",
      "\n",
      "There are 115  LVs with AUC>0.70\n",
      "\n",
      "There are 24  LVs with AUC>0.90\n",
      "\n",
      "Saved: /home/msubirana/Documents/pivlab/plier2-analyses/output/gtex/gtex_Human_Gene_Atlas_PLIER2.rds\n",
      "\n",
      ">>> Running PLIER for prior: LINCS_L1000_CRISPR_KO_Consensus_Sigs\n",
      "\n",
      "Auto-detected name: LINCS_L1000_CRISPR_KO_Consensus_Sigs\n",
      "\n",
      "Downloading LINCS_L1000_CRISPR_KO_Consensus_Sigs from Enrichr...\n",
      "\n",
      "there are  8942  genes in the intersection between data and prior\n",
      "\n",
      "Removing 0 pathways\n",
      "\n",
      "Warning message in asMethod(object):\n",
      "“sparse->dense coercion: allocating vector of size 1.7 GiB”\n",
      "Inverting...\n",
      "\n",
      "done\n",
      "\n",
      "Warning message in asMethod(object):\n",
      "“sparse->dense coercion: allocating vector of size 1.7 GiB”\n",
      "**PLIER v2 **\n",
      "\n",
      "using provided PLIERbase result\n",
      "\n",
      "L1=67.1332478272621; L2=201.399743481786\n",
      "\n"
     ]
    },
    {
     "name": "stdout",
     "output_type": "stream",
     "text": [
      "Progress 84 / 350 | Bdiff=0.000199 Number of annotated columns is 154, Number of annotated columns is 154, Number of annotated columns is 155, Number of annotated columns is 155, Number of annotated columns is 157, Number of annotated columns is 155, Number of annotated columns is 156, Number of annotated columns is 156, Number of annotated columns is 157, Number of annotated columns is 157, Number of annotated columns is 154, Number of annotated columns is 154, Number of annotated columns is 155, Number of annotated columns is 155, Number of annotated columns is 155, Number of annotated columns is 153, Number of annotated columns is 154, Number of annotated columns is 154, Number of annotated columns is 154, Number of annotated columns is 155, Number of annotated columns is 154, Number of annotated columns is 154, Number of annotated columns is 155, Number of annotated columns is 155, Number of annotated columns is 155, Number of annotated columns is 153, Number of annotated columns is 154, Number of annotated columns is 154, Number of annotated columns is 154, Number of annotated columns is 154, Number of annotated columns is 150, Number of annotated columns is 151, Number of annotated columns is 151, Number of annotated columns is 151, Number of annotated columns is 152, Number of annotated columns is 151, Number of annotated columns is 152, Number of annotated columns is 153, Number of annotated columns is 154, Number of annotated columns is 154, Number of annotated columns is 152"
     ]
    },
    {
     "name": "stderr",
     "output_type": "stream",
     "text": [
      "converged at  iteration 84 Bdiff is not decreasing\n",
      "\n",
      "Updating Z for CV\n",
      "\n",
      "crossValidation\n",
      "\n",
      "There are 13  LVs with AUC>0.70\n",
      "\n",
      "There are 0  LVs with AUC>0.90\n",
      "\n",
      "Saved: /home/msubirana/Documents/pivlab/plier2-analyses/output/gtex/gtex_LINCS_L1000_CRISPR_KO_Consensus_Sigs_PLIER2.rds\n",
      "\n",
      ">>> Running PLIER for prior: Metabolomics_Workbench_Metabolites_2022\n",
      "\n",
      "Auto-detected name: Metabolomics_Workbench_Metabolites_2022\n",
      "\n",
      "Downloading Metabolomics_Workbench_Metabolites_2022 from Enrichr...\n",
      "\n",
      "there are  838  genes in the intersection between data and prior\n",
      "\n",
      "Removing 157 pathways\n",
      "\n",
      "Inverting...\n",
      "\n",
      "done\n",
      "\n",
      "**PLIER v2 **\n",
      "\n",
      "using provided PLIERbase result\n",
      "\n",
      "L1=67.1332478272621; L2=201.399743481786\n",
      "\n"
     ]
    },
    {
     "name": "stdout",
     "output_type": "stream",
     "text": [
      "Progress 82 / 350 | Bdiff=0.000175 Number of annotated columns is 87, Number of annotated columns is 88, Number of annotated columns is 88, Number of annotated columns is 89, Number of annotated columns is 89, Number of annotated columns is 83, Number of annotated columns is 86, Number of annotated columns is 88, Number of annotated columns is 89, Number of annotated columns is 90, Number of annotated columns is 86, Number of annotated columns is 87, Number of annotated columns is 89, Number of annotated columns is 89, Number of annotated columns is 91, Number of annotated columns is 87, Number of annotated columns is 89, Number of annotated columns is 89, Number of annotated columns is 91, Number of annotated columns is 92, Number of annotated columns is 87, Number of annotated columns is 87, Number of annotated columns is 89, Number of annotated columns is 89, Number of annotated columns is 90, Number of annotated columns is 85, Number of annotated columns is 85, Number of annotated columns is 86, Number of annotated columns is 89, Number of annotated columns is 91, Number of annotated columns is 85, Number of annotated columns is 86, Number of annotated columns is 87, Number of annotated columns is 87, Number of annotated columns is 87, Number of annotated columns is 81, Number of annotated columns is 82, Number of annotated columns is 83, Number of annotated columns is 84, Number of annotated columns is 84"
     ]
    },
    {
     "name": "stderr",
     "output_type": "stream",
     "text": [
      "converged at  iteration 82 Bdiff is not decreasing\n",
      "\n",
      "Updating Z for CV\n",
      "\n",
      "crossValidation\n",
      "\n",
      "There are 60  LVs with AUC>0.70\n",
      "\n",
      "There are 18  LVs with AUC>0.90\n",
      "\n",
      "Saved: /home/msubirana/Documents/pivlab/plier2-analyses/output/gtex/gtex_Metabolomics_Workbench_Metabolites_2022_PLIER2.rds\n",
      "\n",
      ">>> Running PLIER for prior: OMIM_Disease\n",
      "\n",
      "Auto-detected name: OMIM_Disease\n",
      "\n",
      "Downloading OMIM_Disease from Enrichr...\n",
      "\n",
      "there are  965  genes in the intersection between data and prior\n",
      "\n",
      "Removing 35 pathways\n",
      "\n",
      "Inverting...\n",
      "\n",
      "done\n",
      "\n",
      "**PLIER v2 **\n",
      "\n",
      "using provided PLIERbase result\n",
      "\n",
      "L1=67.1332478272621; L2=201.399743481786\n",
      "\n"
     ]
    },
    {
     "name": "stdout",
     "output_type": "stream",
     "text": [
      "Progress 83 / 350 | Bdiff=0.000207 Number of annotated columns is 105, Number of annotated columns is 106, Number of annotated columns is 107, Number of annotated columns is 108, Number of annotated columns is 108, Number of annotated columns is 103, Number of annotated columns is 104, Number of annotated columns is 104, Number of annotated columns is 105, Number of annotated columns is 105, Number of annotated columns is 98, Number of annotated columns is 99, Number of annotated columns is 103, Number of annotated columns is 103, Number of annotated columns is 106, Number of annotated columns is 104, Number of annotated columns is 105, Number of annotated columns is 105, Number of annotated columns is 105, Number of annotated columns is 106, Number of annotated columns is 101, Number of annotated columns is 102, Number of annotated columns is 102, Number of annotated columns is 103, Number of annotated columns is 106, Number of annotated columns is 104, Number of annotated columns is 105, Number of annotated columns is 106, Number of annotated columns is 106, Number of annotated columns is 107, Number of annotated columns is 103, Number of annotated columns is 103, Number of annotated columns is 103, Number of annotated columns is 104, Number of annotated columns is 105, Number of annotated columns is 103, Number of annotated columns is 103, Number of annotated columns is 103, Number of annotated columns is 104, Number of annotated columns is 105, Number of annotated columns is 104"
     ]
    },
    {
     "name": "stderr",
     "output_type": "stream",
     "text": [
      "converged at  iteration 83 Bdiff is not decreasing\n",
      "\n",
      "Updating Z for CV\n",
      "\n",
      "crossValidation\n",
      "\n",
      "There are 84  LVs with AUC>0.70\n",
      "\n",
      "There are 40  LVs with AUC>0.90\n",
      "\n",
      "Saved: /home/msubirana/Documents/pivlab/plier2-analyses/output/gtex/gtex_OMIM_Disease_PLIER2.rds\n",
      "\n",
      ">>> Running PLIER for prior: Proteomics_Drug_Atlas_2023\n",
      "\n",
      "Auto-detected name: Proteomics_Drug_Atlas_2023\n",
      "\n",
      "Downloading Proteomics_Drug_Atlas_2023 from Enrichr...\n",
      "\n",
      "there are  7885  genes in the intersection between data and prior\n",
      "\n",
      "Removing 0 pathways\n",
      "\n",
      "Inverting...\n",
      "\n",
      "done\n",
      "\n",
      "**PLIER v2 **\n",
      "\n",
      "using provided PLIERbase result\n",
      "\n",
      "L1=67.1332478272621; L2=201.399743481786\n",
      "\n"
     ]
    },
    {
     "name": "stdout",
     "output_type": "stream",
     "text": [
      "Progress 82 / 350 | Bdiff=0.000182 Number of annotated columns is 153, Number of annotated columns is 158, Number of annotated columns is 159, Number of annotated columns is 159, Number of annotated columns is 161, Number of annotated columns is 157, Number of annotated columns is 158, Number of annotated columns is 158, Number of annotated columns is 158, Number of annotated columns is 162, Number of annotated columns is 156, Number of annotated columns is 157, Number of annotated columns is 158, Number of annotated columns is 159, Number of annotated columns is 159, Number of annotated columns is 156, Number of annotated columns is 156, Number of annotated columns is 158, Number of annotated columns is 158, Number of annotated columns is 159, Number of annotated columns is 158, Number of annotated columns is 158, Number of annotated columns is 158, Number of annotated columns is 158, Number of annotated columns is 158, Number of annotated columns is 156, Number of annotated columns is 158, Number of annotated columns is 158, Number of annotated columns is 159, Number of annotated columns is 159, Number of annotated columns is 157, Number of annotated columns is 157, Number of annotated columns is 159, Number of annotated columns is 160, Number of annotated columns is 161, Number of annotated columns is 154, Number of annotated columns is 155, Number of annotated columns is 155, Number of annotated columns is 155, Number of annotated columns is 155"
     ]
    },
    {
     "name": "stderr",
     "output_type": "stream",
     "text": [
      "converged at  iteration 82 Bdiff is not decreasing\n",
      "\n",
      "Updating Z for CV\n",
      "\n",
      "crossValidation\n",
      "\n",
      "There are 38  LVs with AUC>0.70\n",
      "\n",
      "There are 2  LVs with AUC>0.90\n",
      "\n",
      "Saved: /home/msubirana/Documents/pivlab/plier2-analyses/output/gtex/gtex_Proteomics_Drug_Atlas_2023_PLIER2.rds\n",
      "\n",
      ">>> Running PLIER for prior: TF_Perturbations_Followed_by_Expression\n",
      "\n",
      "Auto-detected name: TF_Perturbations_Followed_by_Expression\n",
      "\n",
      "Downloading TF_Perturbations_Followed_by_Expression from Enrichr...\n",
      "\n",
      "there are  15704  genes in the intersection between data and prior\n",
      "\n",
      "Removing 3 pathways\n",
      "\n",
      "Inverting...\n",
      "\n",
      "done\n",
      "\n",
      "**PLIER v2 **\n",
      "\n",
      "using provided PLIERbase result\n",
      "\n",
      "L1=67.1332478272621; L2=201.399743481786\n",
      "\n"
     ]
    },
    {
     "name": "stdout",
     "output_type": "stream",
     "text": [
      "Converged at 108 / 350 | Bdiff=0.000181, minCor=0.992006olumns is 155, Number of annotated columns is 158, Number of annotated columns is 160, Number of annotated columns is 160, Number of annotated columns is 161, Number of annotated columns is 159, Number of annotated columns is 160, Number of annotated columns is 161, Number of annotated columns is 162, Number of annotated columns is 162, Number of annotated columns is 160, Number of annotated columns is 160, Number of annotated columns is 160, Number of annotated columns is 160, Number of annotated columns is 161, Number of annotated columns is 158, Number of annotated columns is 161, Number of annotated columns is 161, Number of annotated columns is 161, Number of annotated columns is 162, Number of annotated columns is 156, Number of annotated columns is 156, Number of annotated columns is 157, Number of annotated columns is 158, Number of annotated columns is 158, Number of annotated columns is 154, Number of annotated columns is 155, Number of annotated columns is 155, Number of annotated columns is 155, Number of annotated columns is 155, Number of annotated columns is 155, Number of annotated columns is 155, Number of annotated columns is 155, Number of annotated columns is 157, Number of annotated columns is 157, Number of annotated columns is 156, Number of annotated columns is 156, Number of annotated columns is 157, Number of annotated columns is 158, Number of annotated columns is 159, Number of annotated columns is 158, Number of annotated columns is 158, Number of annotated columns is 159, Number of annotated columns is 160, Number of annotated columns is 161, Number of annotated columns is 158, Number of annotated columns is 159, Number of annotated columns is 160, Number of annotated columns is 160, Number of annotated columns is 160\n"
     ]
    },
    {
     "name": "stderr",
     "output_type": "stream",
     "text": [
      "Updating Z for CV\n",
      "\n",
      "crossValidation\n",
      "\n",
      "There are 51  LVs with AUC>0.70\n",
      "\n",
      "There are 4  LVs with AUC>0.90\n",
      "\n",
      "Saved: /home/msubirana/Documents/pivlab/plier2-analyses/output/gtex/gtex_TF_Perturbations_Followed_by_Expression_PLIER2.rds\n",
      "\n",
      ">>> Running PLIER for prior: UK_Biobank_GWAS_v1\n",
      "\n",
      "Auto-detected name: UK_Biobank_GWAS_v1\n",
      "\n",
      "Downloading UK_Biobank_GWAS_v1 from Enrichr...\n",
      "\n",
      "there are  11460  genes in the intersection between data and prior\n",
      "\n",
      "Removing 373 pathways\n",
      "\n",
      "Inverting...\n",
      "\n",
      "done\n",
      "\n",
      "**PLIER v2 **\n",
      "\n",
      "using provided PLIERbase result\n",
      "\n",
      "L1=67.1332478272621; L2=201.399743481786\n",
      "\n"
     ]
    },
    {
     "name": "stdout",
     "output_type": "stream",
     "text": [
      "Progress 81 / 350 | Bdiff=0.000209 Number of annotated columns is 124, Number of annotated columns is 126, Number of annotated columns is 127, Number of annotated columns is 128, Number of annotated columns is 129, Number of annotated columns is 127, Number of annotated columns is 127, Number of annotated columns is 129, Number of annotated columns is 130, Number of annotated columns is 130, Number of annotated columns is 127, Number of annotated columns is 130, Number of annotated columns is 131, Number of annotated columns is 132, Number of annotated columns is 133, Number of annotated columns is 129, Number of annotated columns is 130, Number of annotated columns is 130, Number of annotated columns is 130, Number of annotated columns is 131, Number of annotated columns is 126, Number of annotated columns is 127, Number of annotated columns is 127, Number of annotated columns is 127, Number of annotated columns is 130, Number of annotated columns is 124, Number of annotated columns is 124, Number of annotated columns is 124, Number of annotated columns is 127, Number of annotated columns is 127, Number of annotated columns is 124, Number of annotated columns is 126, Number of annotated columns is 127, Number of annotated columns is 127, Number of annotated columns is 128, Number of annotated columns is 124, Number of annotated columns is 125, Number of annotated columns is 126, Number of annotated columns is 126, Number of annotated columns is 126"
     ]
    },
    {
     "name": "stderr",
     "output_type": "stream",
     "text": [
      "converged at  iteration 81 Bdiff is not decreasing\n",
      "\n",
      "Updating Z for CV\n",
      "\n",
      "crossValidation\n",
      "\n",
      "There are 68  LVs with AUC>0.70\n",
      "\n",
      "There are 10  LVs with AUC>0.90\n",
      "\n",
      "Saved: /home/msubirana/Documents/pivlab/plier2-analyses/output/gtex/gtex_UK_Biobank_GWAS_v1_PLIER2.rds\n",
      "\n"
     ]
    }
   ],
   "source": [
    "# Vector of prior URLs\n",
    "prior_urls <- c(\n",
    "  \"https://maayanlab.cloud/Enrichr/geneSetLibrary?mode=text&libraryName=KEGG_2021_Human\",\n",
    "  \"https://maayanlab.cloud/Enrichr/geneSetLibrary?mode=text&libraryName=GWAS_Catalog_2025\",\n",
    "  \"https://maayanlab.cloud/Enrichr/geneSetLibrary?mode=text&libraryName=GO_Biological_Process_2025\",\n",
    "  \"https://maayanlab.cloud/Enrichr/geneSetLibrary?mode=text&libraryName=GTEx_Tissues_V8_2023\",\n",
    "  \"https://maayanlab.cloud/Enrichr/geneSetLibrary?mode=text&libraryName=Chromosome_Location\",\n",
    "  \"https://maayanlab.cloud/Enrichr/geneSetLibrary?mode=text&libraryName=Human_Gene_Atlas\",\n",
    "  \"https://maayanlab.cloud/Enrichr/geneSetLibrary?mode=text&libraryName=LINCS_L1000_CRISPR_KO_Consensus_Sigs\",\n",
    "  \"https://maayanlab.cloud/Enrichr/geneSetLibrary?mode=text&libraryName=Metabolomics_Workbench_Metabolites_2022\",\n",
    "  \"https://maayanlab.cloud/Enrichr/geneSetLibrary?mode=text&libraryName=OMIM_Disease\",\n",
    "  \"https://maayanlab.cloud/Enrichr/geneSetLibrary?mode=text&libraryName=Proteomics_Drug_Atlas_2023\",\n",
    "  \"https://maayanlab.cloud/Enrichr/geneSetLibrary?mode=text&libraryName=TF_Perturbations_Followed_by_Expression\",\n",
    "  \"https://maayanlab.cloud/Enrichr/geneSetLibrary?mode=text&libraryName=UK_Biobank_GWAS_v1\"\n",
    ")\n",
    "\n",
    "# Names are exactly what's after libraryName=\n",
    "names(prior_urls) <- sub(\".*libraryName=\", \"\", prior_urls)\n",
    "\n",
    "results <- list()\n",
    "\n",
    "for (prior_name in names(prior_urls)) {\n",
    "  url <- prior_urls[[prior_name]]\n",
    "  message(\">>> Running PLIER for prior: \", prior_name)\n",
    "\n",
    "  try({\n",
    "    gmt <- getGMT(url)\n",
    "    gmt_list <- list()\n",
    "    gmt_list[[prior_name]] <- gmt\n",
    "\n",
    "    pathMat   <- gmtListToSparseMat(gmt_list)\n",
    "    matched   <- getMatchedPathwayMat(pathMat, gtex_genes)\n",
    "    if (is.null(matched) || ncol(matched) == 0) {\n",
    "      warning(\"No matched pathways for \", prior_name, \"; skipping.\")\n",
    "      next\n",
    "    }\n",
    "    chatObj   <- getChat(matched)\n",
    "\n",
    "    fullRes <- PLIERfull(\n",
    "      Y                 = gtex_fbm_filt,\n",
    "      priorMat          = as.matrix(matched),\n",
    "      svdres            = gtex_svdRes,\n",
    "      plier.base.result = gtex_baseRes,\n",
    "      Chat              = chatObj,\n",
    "      k                 = PLIER_K_gtex,\n",
    "      doCrossval        = TRUE,\n",
    "      trace             = TRUE,\n",
    "      max.U.updates     = config$GTEx$MAX_U_UPDATES\n",
    "    )\n",
    "\n",
    "    if (!is.null(fullRes$B)) colnames(fullRes$B) <- samples\n",
    "    if (!is.null(fullRes$Z)) colnames(fullRes$Z) <- paste0(\"LV\", seq_len(ncol(fullRes$Z)))\n",
    "    if (!is.null(fullRes$summary)) {\n",
    "      fullRes$summary <- fullRes$summary |>\n",
    "        dplyr::rename(LV = `LV index`) |>\n",
    "        dplyr::mutate(LV = paste0(\"LV\", LV))\n",
    "    }\n",
    "\n",
    "    out_file <- file.path(output_data_dir, sprintf(\"gtex_%s_PLIER2.rds\", prior_name))\n",
    "    saveRDS(fullRes, file = out_file)\n",
    "    results[[prior_name]] <- fullRes\n",
    "\n",
    "    message(\"Saved: \", out_file)\n",
    "  }, silent = FALSE)\n",
    "}\n",
    "\n",
    "invisible(results)"
   ]
  },
  {
   "cell_type": "code",
   "execution_count": 13,
   "id": "ccad0fa0",
   "metadata": {
    "vscode": {
     "languageId": "r"
    }
   },
   "outputs": [
    {
     "name": "stderr",
     "output_type": "stream",
     "text": [
      "Auto-detected name: KEGG_2021_Human\n",
      "\n",
      "Using cached file for KEGG_2021_Human\n",
      "\n",
      "Auto-detected name: GWAS_Catalog_2025\n",
      "\n",
      "Using cached file for GWAS_Catalog_2025\n",
      "\n",
      "Auto-detected name: GO_Biological_Process_2025\n",
      "\n",
      "Using cached file for GO_Biological_Process_2025\n",
      "\n",
      "Auto-detected name: GTEx_Tissues_V8_2023\n",
      "\n",
      "Using cached file for GTEx_Tissues_V8_2023\n",
      "\n",
      "Auto-detected name: Chromosome_Location\n",
      "\n",
      "Using cached file for Chromosome_Location\n",
      "\n",
      "Auto-detected name: Human_Gene_Atlas\n",
      "\n",
      "Using cached file for Human_Gene_Atlas\n",
      "\n",
      "Auto-detected name: LINCS_L1000_CRISPR_KO_Consensus_Sigs\n",
      "\n",
      "Using cached file for LINCS_L1000_CRISPR_KO_Consensus_Sigs\n",
      "\n",
      "Auto-detected name: Metabolomics_Workbench_Metabolites_2022\n",
      "\n",
      "Using cached file for Metabolomics_Workbench_Metabolites_2022\n",
      "\n",
      "Auto-detected name: OMIM_Disease\n",
      "\n",
      "Using cached file for OMIM_Disease\n",
      "\n",
      "Auto-detected name: Proteomics_Drug_Atlas_2023\n",
      "\n",
      "Using cached file for Proteomics_Drug_Atlas_2023\n",
      "\n",
      "Auto-detected name: TF_Perturbations_Followed_by_Expression\n",
      "\n",
      "Using cached file for TF_Perturbations_Followed_by_Expression\n",
      "\n",
      "Auto-detected name: UK_Biobank_GWAS_v1\n",
      "\n",
      "Using cached file for UK_Biobank_GWAS_v1\n",
      "\n",
      "there are  16450  genes in the intersection between data and prior\n",
      "\n",
      "Removing 3828 pathways\n",
      "\n",
      "Warning message in asMethod(object):\n",
      "“sparse->dense coercion: allocating vector of size 3.3 GiB”\n",
      "Inverting...\n",
      "\n",
      "done\n",
      "\n",
      "Warning message in asMethod(object):\n",
      "“sparse->dense coercion: allocating vector of size 3.3 GiB”\n",
      "**PLIER v2 **\n",
      "\n",
      "using provided PLIERbase result\n",
      "\n",
      "L1=67.1332478272621; L2=201.399743481786\n",
      "\n"
     ]
    },
    {
     "name": "stdout",
     "output_type": "stream",
     "text": [
      "Progress 81 / 350 | Bdiff=0.000191 Number of annotated columns is 163, Number of annotated columns is 163, Number of annotated columns is 164, Number of annotated columns is 165, Number of annotated columns is 167, Number of annotated columns is 162, Number of annotated columns is 162, Number of annotated columns is 164, Number of annotated columns is 165, Number of annotated columns is 165, Number of annotated columns is 163, Number of annotated columns is 164, Number of annotated columns is 164, Number of annotated columns is 165, Number of annotated columns is 167, Number of annotated columns is 164, Number of annotated columns is 165, Number of annotated columns is 168, Number of annotated columns is 168, Number of annotated columns is 170, Number of annotated columns is 167, Number of annotated columns is 167, Number of annotated columns is 168, Number of annotated columns is 170, Number of annotated columns is 172, Number of annotated columns is 169, Number of annotated columns is 170, Number of annotated columns is 171, Number of annotated columns is 172, Number of annotated columns is 173, Number of annotated columns is 170, Number of annotated columns is 170, Number of annotated columns is 170, Number of annotated columns is 170, Number of annotated columns is 170, Number of annotated columns is 168, Number of annotated columns is 169, Number of annotated columns is 169, Number of annotated columns is 170, Number of annotated columns is 170"
     ]
    },
    {
     "name": "stderr",
     "output_type": "stream",
     "text": [
      "converged at  iteration 81 Bdiff is not decreasing\n",
      "\n",
      "Updating Z for CV\n",
      "\n",
      "crossValidation\n",
      "\n",
      "There are 105  LVs with AUC>0.70\n",
      "\n",
      "There are 60  LVs with AUC>0.90\n",
      "\n"
     ]
    }
   ],
   "source": [
    "# priors\n",
    "gtex_gmtList <- list(\n",
    "  KEGG = getGMT(\"https://maayanlab.cloud/Enrichr/geneSetLibrary?mode=text&libraryName=KEGG_2021_Human\"),\n",
    "  GWAS_Catalog = getGMT(\"https://maayanlab.cloud/Enrichr/geneSetLibrary?mode=text&libraryName=GWAS_Catalog_2025\"),\n",
    "  BP = getGMT(\"https://maayanlab.cloud/Enrichr/geneSetLibrary?mode=text&libraryName=GO_Biological_Process_2025\"),\n",
    "  GTEx_Tissues = getGMT(\"https://maayanlab.cloud/Enrichr/geneSetLibrary?mode=text&libraryName=GTEx_Tissues_V8_2023\"),\n",
    "  Chromosome_Location = getGMT(\"https://maayanlab.cloud/Enrichr/geneSetLibrary?mode=text&libraryName=Chromosome_Location\"),\n",
    "  Human_Gene_Atlas = getGMT(\"https://maayanlab.cloud/Enrichr/geneSetLibrary?mode=text&libraryName=Human_Gene_Atlas\"),\n",
    "  LINCS_L1000_CRISPR_KO = getGMT(\"https://maayanlab.cloud/Enrichr/geneSetLibrary?mode=text&libraryName=LINCS_L1000_CRISPR_KO_Consensus_Sigs\"),\n",
    "  Metabolomics_Workbench = getGMT(\"https://maayanlab.cloud/Enrichr/geneSetLibrary?mode=text&libraryName=Metabolomics_Workbench_Metabolites_2022\"),\n",
    "  OMIM_Disease = getGMT(\"https://maayanlab.cloud/Enrichr/geneSetLibrary?mode=text&libraryName=OMIM_Disease\"),\n",
    "  Proteomics_Drug_Atlas = getGMT(\"https://maayanlab.cloud/Enrichr/geneSetLibrary?mode=text&libraryName=Proteomics_Drug_Atlas_2023\"),\n",
    "  TF_Perturbations = getGMT(\"https://maayanlab.cloud/Enrichr/geneSetLibrary?mode=text&libraryName=TF_Perturbations_Followed_by_Expression\"),\n",
    "  UK_Biobank_GWAS = getGMT(\"https://maayanlab.cloud/Enrichr/geneSetLibrary?mode=text&libraryName=UK_Biobank_GWAS_v1\")\n",
    ")\n",
    "\n",
    "# prefix each gene‐set name with its library to guarantee uniqueness\n",
    "for(lib in names(gtex_gmtList)) {\n",
    "  names(gtex_gmtList[[lib]]) <- paste0(lib, \"_\", names(gtex_gmtList[[lib]]))\n",
    "}\n",
    "\n",
    "gtex_pathMat <- gmtListToSparseMat(gtex_gmtList)\n",
    "gtex_matched <- getMatchedPathwayMat(gtex_pathMat, gtex_genes)\n",
    "gtex_chatObj <- getChat(gtex_matched)\n",
    "\n",
    "# PLIERfull\n",
    "gtex_fullRes <- PLIERfull(\n",
    "  Y                 = gtex_fbm_filt,\n",
    "  priorMat          = as.matrix(gtex_matched),\n",
    "  svdres            = gtex_svdRes,\n",
    "  plier.base.result = gtex_baseRes,\n",
    "  Chat              = gtex_chatObj,\n",
    "  k                 = PLIER_K_gtex,\n",
    "  doCrossval        = TRUE,\n",
    "  trace             = TRUE,\n",
    "  max.U.updates= config$GTEx$MAX_U_UPDATES\n",
    ")\n",
    "\n",
    "# Fix colnames and rownames\n",
    "colnames(gtex_fullRes$B) <- samples\n",
    "colnames(gtex_fullRes$Z) <- paste0('LV', seq_len(ncol(gtex_fullRes$Z)))\n",
    "gtex_fullRes$summary <- gtex_fullRes$summary %>%\n",
    "    dplyr::rename(LV = `LV index`)  %>% \n",
    "    dplyr::mutate(LV = paste0('LV', LV))\n",
    "\n",
    "# save\n",
    "saveRDS(gtex_fullRes, file = file.path(output_data_dir, \"gtex_all_PLIER2.rds\"))"
   ]
  },
  {
   "cell_type": "code",
   "execution_count": 15,
   "id": "4677e80a",
   "metadata": {
    "vscode": {
     "languageId": "r"
    }
   },
   "outputs": [
    {
     "name": "stderr",
     "output_type": "stream",
     "text": [
      "Auto-detected name: GTEx_Tissues_V8_2023\n",
      "\n",
      "Using cached file for GTEx_Tissues_V8_2023\n",
      "\n",
      "Auto-detected name: GO_Biological_Process_2025\n",
      "\n",
      "Using cached file for GO_Biological_Process_2025\n",
      "\n",
      "Auto-detected name: KEGG_2021_Human\n",
      "\n",
      "Using cached file for KEGG_2021_Human\n",
      "\n",
      "Auto-detected name: LINCS_L1000_Chem_Pert_Consensus_Sigs\n",
      "\n",
      "Using cached file for LINCS_L1000_Chem_Pert_Consensus_Sigs\n",
      "\n",
      "there are  14237  genes in the intersection between data and prior\n",
      "\n",
      "Removing 2030 pathways\n",
      "\n",
      "Warning message in asMethod(object):\n",
      "“sparse->dense coercion: allocating vector of size 2.4 GiB”\n",
      "Inverting...\n",
      "\n",
      "done\n",
      "\n",
      "Warning message in asMethod(object):\n",
      "“sparse->dense coercion: allocating vector of size 2.4 GiB”\n",
      "**PLIER v2 **\n",
      "\n",
      "using provided PLIERbase result\n",
      "\n",
      "L1=67.1332478272621; L2=201.399743481786\n",
      "\n"
     ]
    },
    {
     "name": "stdout",
     "output_type": "stream",
     "text": [
      "Progress 83 / 350 | Bdiff=0.000200 Number of annotated columns is 149, Number of annotated columns is 151, Number of annotated columns is 152, Number of annotated columns is 154, Number of annotated columns is 154, Number of annotated columns is 152, Number of annotated columns is 152, Number of annotated columns is 153, Number of annotated columns is 154, Number of annotated columns is 154, Number of annotated columns is 151, Number of annotated columns is 151, Number of annotated columns is 153, Number of annotated columns is 154, Number of annotated columns is 155, Number of annotated columns is 152, Number of annotated columns is 153, Number of annotated columns is 155, Number of annotated columns is 155, Number of annotated columns is 155, Number of annotated columns is 151, Number of annotated columns is 151, Number of annotated columns is 152, Number of annotated columns is 153, Number of annotated columns is 153, Number of annotated columns is 150, Number of annotated columns is 153, Number of annotated columns is 153, Number of annotated columns is 153, Number of annotated columns is 154, Number of annotated columns is 151, Number of annotated columns is 152, Number of annotated columns is 152, Number of annotated columns is 152, Number of annotated columns is 152, Number of annotated columns is 150, Number of annotated columns is 152, Number of annotated columns is 156, Number of annotated columns is 157, Number of annotated columns is 161, Number of annotated columns is 156"
     ]
    },
    {
     "name": "stderr",
     "output_type": "stream",
     "text": [
      "converged at  iteration 83 Bdiff is not decreasing\n",
      "\n",
      "Updating Z for CV\n",
      "\n",
      "crossValidation\n",
      "\n",
      "There are 80  LVs with AUC>0.70\n",
      "\n",
      "There are 41  LVs with AUC>0.90\n",
      "\n"
     ]
    }
   ],
   "source": [
    "# priors\n",
    "gtex_gmtList <- list(\n",
    "  GTEx_Tissues = getGMT(\"https://maayanlab.cloud/Enrichr/geneSetLibrary?mode=text&libraryName=GTEx_Tissues_V8_2023\"),\n",
    "  BP = getGMT(\"https://maayanlab.cloud/Enrichr/geneSetLibrary?mode=text&libraryName=GO_Biological_Process_2025\"),\n",
    "  KEGG = getGMT(\"https://maayanlab.cloud/Enrichr/geneSetLibrary?mode=text&libraryName=KEGG_2021_Human\"),\n",
    "  LINCS_L1000 = getGMT(\"https://maayanlab.cloud/Enrichr/geneSetLibrary?mode=text&libraryName=LINCS_L1000_Chem_Pert_Consensus_Sigs\")\n",
    ")\n",
    "\n",
    "# prefix each gene‐set name with its library to guarantee uniqueness\n",
    "for(lib in names(gtex_gmtList)) {\n",
    "  names(gtex_gmtList[[lib]]) <- paste0(lib, \"_\", names(gtex_gmtList[[lib]]))\n",
    "}\n",
    "\n",
    "gtex_pathMat <- gmtListToSparseMat(gtex_gmtList)\n",
    "gtex_matched <- getMatchedPathwayMat(gtex_pathMat, gtex_genes)\n",
    "gtex_chatObj <- getChat(gtex_matched)\n",
    "\n",
    "# PLIERfull\n",
    "gtex_fullRes <- PLIERfull(\n",
    "  Y                 = gtex_fbm_filt,\n",
    "  priorMat          = as.matrix(gtex_matched),\n",
    "  svdres            = gtex_svdRes,\n",
    "  plier.base.result = gtex_baseRes,\n",
    "  Chat              = gtex_chatObj,\n",
    "  k                 = PLIER_K_gtex,\n",
    "  doCrossval        = TRUE,\n",
    "  trace             = TRUE,\n",
    "  max.U.updates= config$GTEx$MAX_U_UPDATES\n",
    ")\n",
    "\n",
    "# Fix colnames and rownames\n",
    "colnames(gtex_fullRes$B) <- samples\n",
    "colnames(gtex_fullRes$Z) <- paste0('LV', seq_len(ncol(gtex_fullRes$Z)))\n",
    "gtex_fullRes$summary <- gtex_fullRes$summary %>%\n",
    "    dplyr::rename(LV = `LV index`)  %>% \n",
    "    dplyr::mutate(LV = paste0('LV', LV))\n",
    "\n",
    "# save\n",
    "saveRDS(gtex_fullRes, file = file.path(output_data_dir, \"gtex_LINCS_L1000_PLIER2.rds\"))"
   ]
  },
  {
   "cell_type": "code",
   "execution_count": 16,
   "id": "ff12dd6b",
   "metadata": {
    "vscode": {
     "languageId": "r"
    }
   },
   "outputs": [
    {
     "name": "stderr",
     "output_type": "stream",
     "text": [
      "Auto-detected name: KEGG_2021_Human\n",
      "\n",
      "Using cached file for KEGG_2021_Human\n",
      "\n",
      "Auto-detected name: LINCS_L1000_Chem_Pert_Consensus_Sigs\n",
      "\n",
      "Using cached file for LINCS_L1000_Chem_Pert_Consensus_Sigs\n",
      "\n",
      "there are  10864  genes in the intersection between data and prior\n",
      "\n",
      "Removing 10 pathways\n",
      "\n",
      "Warning message in asMethod(object):\n",
      "“sparse->dense coercion: allocating vector of size 1.8 GiB”\n",
      "Inverting...\n",
      "\n",
      "done\n",
      "\n",
      "Warning message in asMethod(object):\n",
      "“sparse->dense coercion: allocating vector of size 1.8 GiB”\n",
      "**PLIER v2 **\n",
      "\n",
      "using provided PLIERbase result\n",
      "\n",
      "L1=67.1332478272621; L2=201.399743481786\n",
      "\n"
     ]
    },
    {
     "name": "stdout",
     "output_type": "stream",
     "text": [
      "Progress 87 / 350 | Bdiff=0.000203 Number of annotated columns is 153, Number of annotated columns is 154, Number of annotated columns is 155, Number of annotated columns is 155, Number of annotated columns is 156, Number of annotated columns is 153, Number of annotated columns is 153, Number of annotated columns is 153, Number of annotated columns is 153, Number of annotated columns is 153, Number of annotated columns is 150, Number of annotated columns is 152, Number of annotated columns is 152, Number of annotated columns is 152, Number of annotated columns is 153, Number of annotated columns is 147, Number of annotated columns is 150, Number of annotated columns is 150, Number of annotated columns is 150, Number of annotated columns is 152, Number of annotated columns is 152, Number of annotated columns is 152, Number of annotated columns is 153, Number of annotated columns is 154, Number of annotated columns is 155, Number of annotated columns is 154, Number of annotated columns is 155, Number of annotated columns is 157, Number of annotated columns is 157, Number of annotated columns is 157, Number of annotated columns is 151, Number of annotated columns is 151, Number of annotated columns is 152, Number of annotated columns is 153, Number of annotated columns is 153, Number of annotated columns is 152, Number of annotated columns is 152, Number of annotated columns is 152, Number of annotated columns is 152, Number of annotated columns is 152, Number of annotated columns is 152, Number of annotated columns is 152, Number of annotated columns is 152"
     ]
    },
    {
     "name": "stderr",
     "output_type": "stream",
     "text": [
      "converged at  iteration 87 Bdiff is not decreasing\n",
      "\n",
      "Updating Z for CV\n",
      "\n",
      "crossValidation\n",
      "\n",
      "There are 20  LVs with AUC>0.70\n",
      "\n",
      "There are 4  LVs with AUC>0.90\n",
      "\n"
     ]
    }
   ],
   "source": [
    "# priors\n",
    "gtex_gmtList <- list(\n",
    "  KEGG = getGMT(\"https://maayanlab.cloud/Enrichr/geneSetLibrary?mode=text&libraryName=KEGG_2021_Human\"),\n",
    "  LINCS_L1000 = getGMT(\"https://maayanlab.cloud/Enrichr/geneSetLibrary?mode=text&libraryName=LINCS_L1000_Chem_Pert_Consensus_Sigs\")\n",
    ")\n",
    "\n",
    "# prefix each gene‐set name with its library to guarantee uniqueness\n",
    "for(lib in names(gtex_gmtList)) {\n",
    "  names(gtex_gmtList[[lib]]) <- paste0(lib, \"_\", names(gtex_gmtList[[lib]]))\n",
    "}\n",
    "\n",
    "gtex_pathMat <- gmtListToSparseMat(gtex_gmtList)\n",
    "gtex_matched <- getMatchedPathwayMat(gtex_pathMat, gtex_genes)\n",
    "gtex_chatObj <- getChat(gtex_matched)\n",
    "\n",
    "# PLIERfull\n",
    "gtex_fullRes <- PLIERfull(\n",
    "  Y                 = gtex_fbm_filt,\n",
    "  priorMat          = as.matrix(gtex_matched),\n",
    "  svdres            = gtex_svdRes,\n",
    "  plier.base.result = gtex_baseRes,\n",
    "  Chat              = gtex_chatObj,\n",
    "  k                 = PLIER_K_gtex,\n",
    "  doCrossval        = TRUE,\n",
    "  trace             = TRUE,\n",
    "  max.U.updates= config$GTEx$MAX_U_UPDATES\n",
    ")\n",
    "\n",
    "# Fix colnames and rownames\n",
    "colnames(gtex_fullRes$B) <- samples\n",
    "colnames(gtex_fullRes$Z) <- paste0('LV', seq_len(ncol(gtex_fullRes$Z)))\n",
    "gtex_fullRes$summary <- gtex_fullRes$summary %>%\n",
    "    dplyr::rename(LV = `LV index`)  %>% \n",
    "    dplyr::mutate(LV = paste0('LV', LV))\n",
    "\n",
    "# save\n",
    "saveRDS(gtex_fullRes, file = file.path(output_data_dir, \"gtex_LINCS_L1000_u_PLIER2.rds\"))"
   ]
  },
  {
   "cell_type": "code",
   "execution_count": 17,
   "id": "9edd8142",
   "metadata": {
    "vscode": {
     "languageId": "r"
    }
   },
   "outputs": [
    {
     "name": "stderr",
     "output_type": "stream",
     "text": [
      "Auto-detected name: GTEx_Tissues_V8_2023\n",
      "\n",
      "Using cached file for GTEx_Tissues_V8_2023\n",
      "\n",
      "Auto-detected name: GO_Biological_Process_2025\n",
      "\n",
      "Using cached file for GO_Biological_Process_2025\n",
      "\n",
      "Auto-detected name: KEGG_2021_Human\n",
      "\n",
      "Using cached file for KEGG_2021_Human\n",
      "\n",
      "Auto-detected name: dbGaP\n",
      "\n",
      "Using cached file for dbGaP\n",
      "\n",
      "there are  14174  genes in the intersection between data and prior\n",
      "\n",
      "Removing 2211 pathways\n",
      "\n",
      "Inverting...\n",
      "\n",
      "done\n",
      "\n",
      "**PLIER v2 **\n",
      "\n",
      "using provided PLIERbase result\n",
      "\n",
      "L1=67.1332478272621; L2=201.399743481786\n",
      "\n"
     ]
    },
    {
     "name": "stdout",
     "output_type": "stream",
     "text": [
      "Progress 84 / 350 | Bdiff=0.000204 Number of annotated columns is 161, Number of annotated columns is 162, Number of annotated columns is 165, Number of annotated columns is 166, Number of annotated columns is 167, Number of annotated columns is 161, Number of annotated columns is 161, Number of annotated columns is 162, Number of annotated columns is 162, Number of annotated columns is 163, Number of annotated columns is 163, Number of annotated columns is 164, Number of annotated columns is 164, Number of annotated columns is 164, Number of annotated columns is 164, Number of annotated columns is 161, Number of annotated columns is 162, Number of annotated columns is 163, Number of annotated columns is 163, Number of annotated columns is 163, Number of annotated columns is 160, Number of annotated columns is 160, Number of annotated columns is 161, Number of annotated columns is 163, Number of annotated columns is 164, Number of annotated columns is 160, Number of annotated columns is 160, Number of annotated columns is 162, Number of annotated columns is 162, Number of annotated columns is 163, Number of annotated columns is 160, Number of annotated columns is 160, Number of annotated columns is 162, Number of annotated columns is 164, Number of annotated columns is 164, Number of annotated columns is 163, Number of annotated columns is 163, Number of annotated columns is 163, Number of annotated columns is 163, Number of annotated columns is 164, Number of annotated columns is 164"
     ]
    },
    {
     "name": "stderr",
     "output_type": "stream",
     "text": [
      "converged at  iteration 84 Bdiff is not decreasing\n",
      "\n",
      "Updating Z for CV\n",
      "\n",
      "crossValidation\n",
      "\n",
      "There are 139  LVs with AUC>0.70\n",
      "\n",
      "There are 105  LVs with AUC>0.90\n",
      "\n"
     ]
    }
   ],
   "source": [
    "# priors\n",
    "gtex_gmtList <- list(\n",
    "  GTEx_Tissues = getGMT(\"https://maayanlab.cloud/Enrichr/geneSetLibrary?mode=text&libraryName=GTEx_Tissues_V8_2023\"),\n",
    "  BP = getGMT(\"https://maayanlab.cloud/Enrichr/geneSetLibrary?mode=text&libraryName=GO_Biological_Process_2025\"),\n",
    "  KEGG = getGMT(\"https://maayanlab.cloud/Enrichr/geneSetLibrary?mode=text&libraryName=KEGG_2021_Human\"),\n",
    "  dbGaP = getGMT(\"https://maayanlab.cloud/Enrichr/geneSetLibrary?mode=text&libraryName=dbGaP\")\n",
    ")\n",
    "\n",
    "# prefix each gene‐set name with its library to guarantee uniqueness\n",
    "for(lib in names(gtex_gmtList)) {\n",
    "  names(gtex_gmtList[[lib]]) <- paste0(lib, \"_\", names(gtex_gmtList[[lib]]))\n",
    "}\n",
    "\n",
    "gtex_pathMat <- gmtListToSparseMat(gtex_gmtList)\n",
    "\n",
    "gtex_pathMat <- gmtListToSparseMat(gtex_gmtList)\n",
    "gtex_matched <- getMatchedPathwayMat(gtex_pathMat, gtex_genes)\n",
    "gtex_chatObj <- getChat(gtex_matched)\n",
    "\n",
    "# PLIERfull\n",
    "gtex_fullRes <- PLIERfull(\n",
    "  Y                 = gtex_fbm_filt,\n",
    "  priorMat          = as.matrix(gtex_matched),\n",
    "  svdres            = gtex_svdRes,\n",
    "  plier.base.result = gtex_baseRes,\n",
    "  Chat              = gtex_chatObj,\n",
    "  k                 = PLIER_K_gtex,\n",
    "  doCrossval        = TRUE,\n",
    "  trace             = TRUE,\n",
    "  max.U.updates= config$GTEx$MAX_U_UPDATES\n",
    ")\n",
    "\n",
    "# Fix colnames and rownames\n",
    "colnames(gtex_fullRes$B) <- samples\n",
    "colnames(gtex_fullRes$Z) <- paste0('LV', seq_len(ncol(gtex_fullRes$Z)))\n",
    "gtex_fullRes$summary <- gtex_fullRes$summary %>%\n",
    "    dplyr::rename(LV = `LV index`)  %>% \n",
    "    dplyr::mutate(LV = paste0('LV', LV))\n",
    "\n",
    "# save\n",
    "saveRDS(gtex_fullRes, file = file.path(output_data_dir, \"gtex_dbGaP_PLIER2.rds\"))"
   ]
  },
  {
   "cell_type": "code",
   "execution_count": 18,
   "id": "3ec05d3f",
   "metadata": {
    "vscode": {
     "languageId": "r"
    }
   },
   "outputs": [
    {
     "name": "stderr",
     "output_type": "stream",
     "text": [
      "Auto-detected name: KEGG_2021_Human\n",
      "\n",
      "Using cached file for KEGG_2021_Human\n",
      "\n",
      "Auto-detected name: dbGaP\n",
      "\n",
      "Using cached file for dbGaP\n",
      "\n",
      "there are  9074  genes in the intersection between data and prior\n",
      "\n",
      "Removing 191 pathways\n",
      "\n",
      "Inverting...\n",
      "\n",
      "done\n",
      "\n",
      "**PLIER v2 **\n",
      "\n",
      "using provided PLIERbase result\n",
      "\n",
      "L1=67.1332478272621; L2=201.399743481786\n",
      "\n"
     ]
    },
    {
     "name": "stdout",
     "output_type": "stream",
     "text": [
      "Progress 81 / 350 | Bdiff=0.000207 Number of annotated columns is 179, Number of annotated columns is 179, Number of annotated columns is 180, Number of annotated columns is 180, Number of annotated columns is 181, Number of annotated columns is 180, Number of annotated columns is 180, Number of annotated columns is 180, Number of annotated columns is 181, Number of annotated columns is 181, Number of annotated columns is 180, Number of annotated columns is 181, Number of annotated columns is 181, Number of annotated columns is 182, Number of annotated columns is 182, Number of annotated columns is 180, Number of annotated columns is 180, Number of annotated columns is 180, Number of annotated columns is 181, Number of annotated columns is 181, Number of annotated columns is 178, Number of annotated columns is 178, Number of annotated columns is 179, Number of annotated columns is 179, Number of annotated columns is 179, Number of annotated columns is 179, Number of annotated columns is 179, Number of annotated columns is 179, Number of annotated columns is 179, Number of annotated columns is 179, Number of annotated columns is 176, Number of annotated columns is 176, Number of annotated columns is 176, Number of annotated columns is 176, Number of annotated columns is 176, Number of annotated columns is 174, Number of annotated columns is 174, Number of annotated columns is 174, Number of annotated columns is 174, Number of annotated columns is 174"
     ]
    },
    {
     "name": "stderr",
     "output_type": "stream",
     "text": [
      "converged at  iteration 81 Bdiff is not decreasing\n",
      "\n",
      "Updating Z for CV\n",
      "\n",
      "crossValidation\n",
      "\n",
      "There are 131  LVs with AUC>0.70\n",
      "\n",
      "There are 34  LVs with AUC>0.90\n",
      "\n"
     ]
    }
   ],
   "source": [
    "# priors\n",
    "gtex_gmtList <- list(\n",
    "  KEGG = getGMT(\"https://maayanlab.cloud/Enrichr/geneSetLibrary?mode=text&libraryName=KEGG_2021_Human\"),\n",
    "  dbGaP = getGMT(\"https://maayanlab.cloud/Enrichr/geneSetLibrary?mode=text&libraryName=dbGaP\")\n",
    ")\n",
    "\n",
    "# prefix each gene‐set name with its library to guarantee uniqueness\n",
    "for(lib in names(gtex_gmtList)) {\n",
    "  names(gtex_gmtList[[lib]]) <- paste0(lib, \"_\", names(gtex_gmtList[[lib]]))\n",
    "}\n",
    "\n",
    "gtex_pathMat <- gmtListToSparseMat(gtex_gmtList)\n",
    "\n",
    "gtex_pathMat <- gmtListToSparseMat(gtex_gmtList)\n",
    "gtex_matched <- getMatchedPathwayMat(gtex_pathMat, gtex_genes)\n",
    "gtex_chatObj <- getChat(gtex_matched)\n",
    "\n",
    "# PLIERfull\n",
    "gtex_fullRes <- PLIERfull(\n",
    "  Y                 = gtex_fbm_filt,\n",
    "  priorMat          = as.matrix(gtex_matched),\n",
    "  svdres            = gtex_svdRes,\n",
    "  plier.base.result = gtex_baseRes,\n",
    "  Chat              = gtex_chatObj,\n",
    "  k                 = PLIER_K_gtex,\n",
    "  doCrossval        = TRUE,\n",
    "  trace             = TRUE,\n",
    "  max.U.updates= config$GTEx$MAX_U_UPDATES\n",
    ")\n",
    "\n",
    "# Fix colnames and rownames\n",
    "colnames(gtex_fullRes$B) <- samples\n",
    "colnames(gtex_fullRes$Z) <- paste0('LV', seq_len(ncol(gtex_fullRes$Z)))\n",
    "gtex_fullRes$summary <- gtex_fullRes$summary %>%\n",
    "    dplyr::rename(LV = `LV index`)  %>% \n",
    "    dplyr::mutate(LV = paste0('LV', LV))\n",
    "\n",
    "# save\n",
    "saveRDS(gtex_fullRes, file = file.path(output_data_dir, \"gtex_dbGaP_u_PLIER2.rds\"))"
   ]
  },
  {
   "cell_type": "code",
   "execution_count": 19,
   "id": "44897387",
   "metadata": {
    "vscode": {
     "languageId": "r"
    }
   },
   "outputs": [
    {
     "name": "stderr",
     "output_type": "stream",
     "text": [
      "Auto-detected name: GTEx_Tissues_V8_2023\n",
      "\n",
      "Using cached file for GTEx_Tissues_V8_2023\n",
      "\n",
      "Auto-detected name: GO_Biological_Process_2025\n",
      "\n",
      "Using cached file for GO_Biological_Process_2025\n",
      "\n",
      "Auto-detected name: KEGG_2021_Human\n",
      "\n",
      "Using cached file for KEGG_2021_Human\n",
      "\n",
      "Auto-detected name: Chromosome_Location\n",
      "\n",
      "Using cached file for Chromosome_Location\n",
      "\n",
      "there are  15280  genes in the intersection between data and prior\n",
      "\n",
      "Removing 2154 pathways\n",
      "\n",
      "Inverting...\n",
      "\n",
      "done\n",
      "\n",
      "**PLIER v2 **\n",
      "\n",
      "using provided PLIERbase result\n",
      "\n",
      "L1=67.1332478272621; L2=201.399743481786\n",
      "\n"
     ]
    },
    {
     "name": "stdout",
     "output_type": "stream",
     "text": [
      "Converged at 108 / 350 | Bdiff=0.000246, minCor=0.986239olumns is 161, Number of annotated columns is 163, Number of annotated columns is 165, Number of annotated columns is 165, Number of annotated columns is 166, Number of annotated columns is 162, Number of annotated columns is 162, Number of annotated columns is 163, Number of annotated columns is 165, Number of annotated columns is 166, Number of annotated columns is 164, Number of annotated columns is 165, Number of annotated columns is 166, Number of annotated columns is 166, Number of annotated columns is 167, Number of annotated columns is 162, Number of annotated columns is 163, Number of annotated columns is 163, Number of annotated columns is 164, Number of annotated columns is 164, Number of annotated columns is 158, Number of annotated columns is 159, Number of annotated columns is 160, Number of annotated columns is 161, Number of annotated columns is 161, Number of annotated columns is 160, Number of annotated columns is 161, Number of annotated columns is 161, Number of annotated columns is 161, Number of annotated columns is 162, Number of annotated columns is 161, Number of annotated columns is 161, Number of annotated columns is 162, Number of annotated columns is 163, Number of annotated columns is 163, Number of annotated columns is 164, Number of annotated columns is 165, Number of annotated columns is 166, Number of annotated columns is 167, Number of annotated columns is 167, Number of annotated columns is 164, Number of annotated columns is 164, Number of annotated columns is 165, Number of annotated columns is 168, Number of annotated columns is 167, Number of annotated columns is 164, Number of annotated columns is 164, Number of annotated columns is 164, Number of annotated columns is 165, Number of annotated columns is 165\n"
     ]
    },
    {
     "name": "stderr",
     "output_type": "stream",
     "text": [
      "Updating Z for CV\n",
      "\n",
      "crossValidation\n",
      "\n",
      "There are 143  LVs with AUC>0.70\n",
      "\n",
      "There are 107  LVs with AUC>0.90\n",
      "\n"
     ]
    }
   ],
   "source": [
    "# priors\n",
    "gtex_gmtList <- list(\n",
    "  GTEx_Tissues = getGMT(\"https://maayanlab.cloud/Enrichr/geneSetLibrary?mode=text&libraryName=GTEx_Tissues_V8_2023\"),\n",
    "  BP = getGMT(\"https://maayanlab.cloud/Enrichr/geneSetLibrary?mode=text&libraryName=GO_Biological_Process_2025\"),\n",
    "  KEGG = getGMT(\"https://maayanlab.cloud/Enrichr/geneSetLibrary?mode=text&libraryName=KEGG_2021_Human\"),\n",
    "  chr_loc = getGMT(\"https://maayanlab.cloud/Enrichr/geneSetLibrary?mode=text&libraryName=Chromosome_Location\")\n",
    ")\n",
    "\n",
    "# prefix each gene‐set name with its library to guarantee uniqueness\n",
    "for(lib in names(gtex_gmtList)) {\n",
    "  names(gtex_gmtList[[lib]]) <- paste0(lib, \"_\", names(gtex_gmtList[[lib]]))\n",
    "}\n",
    "\n",
    "gtex_pathMat <- gmtListToSparseMat(gtex_gmtList)\n",
    "gtex_matched <- getMatchedPathwayMat(gtex_pathMat, gtex_genes)\n",
    "gtex_chatObj <- getChat(gtex_matched)\n",
    "\n",
    "# PLIERfull\n",
    "gtex_fullRes <- PLIERfull(\n",
    "  Y                 = gtex_fbm_filt,\n",
    "  priorMat          = as.matrix(gtex_matched),\n",
    "  svdres            = gtex_svdRes,\n",
    "  plier.base.result = gtex_baseRes,\n",
    "  Chat              = gtex_chatObj,\n",
    "  k                 = PLIER_K_gtex,\n",
    "  doCrossval        = TRUE,\n",
    "  trace             = TRUE,\n",
    "  max.U.updates= config$GTEx$MAX_U_UPDATES\n",
    ")\n",
    "\n",
    "# Fix colnames and rownames\n",
    "colnames(gtex_fullRes$B) <- samples\n",
    "colnames(gtex_fullRes$Z) <- paste0('LV', seq_len(ncol(gtex_fullRes$Z)))\n",
    "gtex_fullRes$summary <- gtex_fullRes$summary %>%\n",
    "    dplyr::rename(LV = `LV index`)  %>% \n",
    "    dplyr::mutate(LV = paste0('LV', LV))\n",
    "\n",
    "# save\n",
    "saveRDS(gtex_fullRes, file = file.path(output_data_dir, \"gtex_chr_loc_PLIER2.rds\"))"
   ]
  },
  {
   "cell_type": "code",
   "execution_count": 20,
   "id": "e613896c",
   "metadata": {
    "vscode": {
     "languageId": "r"
    }
   },
   "outputs": [
    {
     "name": "stderr",
     "output_type": "stream",
     "text": [
      "Auto-detected name: GTEx_Tissues_V8_2023\n",
      "\n",
      "Using cached file for GTEx_Tissues_V8_2023\n",
      "\n",
      "Auto-detected name: GO_Biological_Process_2025\n",
      "\n",
      "Using cached file for GO_Biological_Process_2025\n",
      "\n",
      "Auto-detected name: KEGG_2021_Human\n",
      "\n",
      "Using cached file for KEGG_2021_Human\n",
      "\n",
      "Auto-detected name: GWAS_Catalog_2025\n",
      "\n",
      "Using cached file for GWAS_Catalog_2025\n",
      "\n",
      "there are  14642  genes in the intersection between data and prior\n",
      "\n",
      "Removing 3136 pathways\n",
      "\n",
      "Inverting...\n",
      "\n",
      "done\n",
      "\n",
      "**PLIER v2 **\n",
      "\n",
      "using provided PLIERbase result\n",
      "\n",
      "L1=67.1332478272621; L2=201.399743481786\n",
      "\n"
     ]
    },
    {
     "name": "stdout",
     "output_type": "stream",
     "text": [
      "Converged at 108 / 350 | Bdiff=0.000151, minCor=0.991849olumns is 151, Number of annotated columns is 152, Number of annotated columns is 153, Number of annotated columns is 155, Number of annotated columns is 157, Number of annotated columns is 155, Number of annotated columns is 155, Number of annotated columns is 158, Number of annotated columns is 159, Number of annotated columns is 161, Number of annotated columns is 161, Number of annotated columns is 161, Number of annotated columns is 161, Number of annotated columns is 161, Number of annotated columns is 161, Number of annotated columns is 158, Number of annotated columns is 159, Number of annotated columns is 159, Number of annotated columns is 159, Number of annotated columns is 161, Number of annotated columns is 158, Number of annotated columns is 160, Number of annotated columns is 161, Number of annotated columns is 161, Number of annotated columns is 163, Number of annotated columns is 162, Number of annotated columns is 164, Number of annotated columns is 164, Number of annotated columns is 166, Number of annotated columns is 166, Number of annotated columns is 164, Number of annotated columns is 165, Number of annotated columns is 165, Number of annotated columns is 166, Number of annotated columns is 167, Number of annotated columns is 167, Number of annotated columns is 168, Number of annotated columns is 171, Number of annotated columns is 171, Number of annotated columns is 171, Number of annotated columns is 166, Number of annotated columns is 166, Number of annotated columns is 166, Number of annotated columns is 167, Number of annotated columns is 167, Number of annotated columns is 162, Number of annotated columns is 164, Number of annotated columns is 164, Number of annotated columns is 164, Number of annotated columns is 166\n"
     ]
    },
    {
     "name": "stderr",
     "output_type": "stream",
     "text": [
      "Updating Z for CV\n",
      "\n",
      "crossValidation\n",
      "\n",
      "There are 137  LVs with AUC>0.70\n",
      "\n",
      "There are 103  LVs with AUC>0.90\n",
      "\n"
     ]
    }
   ],
   "source": [
    "# priors\n",
    "gtex_gmtList <- list(\n",
    "  GTEx_Tissues = getGMT(\"https://maayanlab.cloud/Enrichr/geneSetLibrary?mode=text&libraryName=GTEx_Tissues_V8_2023\"),\n",
    "  BP = getGMT(\"https://maayanlab.cloud/Enrichr/geneSetLibrary?mode=text&libraryName=GO_Biological_Process_2025\"),\n",
    "  KEGG = getGMT(\"https://maayanlab.cloud/Enrichr/geneSetLibrary?mode=text&libraryName=KEGG_2021_Human\"),\n",
    "  gwas = getGMT(\"https://maayanlab.cloud/Enrichr/geneSetLibrary?mode=text&libraryName=GWAS_Catalog_2025\")\n",
    ")\n",
    "\n",
    "# prefix each gene‐set name with its library to guarantee uniqueness\n",
    "for(lib in names(gtex_gmtList)) {\n",
    "  names(gtex_gmtList[[lib]]) <- paste0(lib, \"_\", names(gtex_gmtList[[lib]]))\n",
    "}\n",
    "\n",
    "gtex_pathMat <- gmtListToSparseMat(gtex_gmtList)\n",
    "gtex_matched <- getMatchedPathwayMat(gtex_pathMat, gtex_genes)\n",
    "gtex_chatObj <- getChat(gtex_matched)\n",
    "\n",
    "# PLIERfull\n",
    "gtex_fullRes <- PLIERfull(\n",
    "  Y                 = gtex_fbm_filt,\n",
    "  priorMat          = as.matrix(gtex_matched),\n",
    "  svdres            = gtex_svdRes,\n",
    "  plier.base.result = gtex_baseRes,\n",
    "  Chat              = gtex_chatObj,\n",
    "  k                 = PLIER_K_gtex,\n",
    "  doCrossval        = TRUE,\n",
    "  trace             = TRUE,\n",
    "  max.U.updates= config$GTEx$MAX_U_UPDATES\n",
    ")\n",
    "\n",
    "# Fix colnames and rownames\n",
    "colnames(gtex_fullRes$B) <- samples\n",
    "colnames(gtex_fullRes$Z) <- paste0('LV', seq_len(ncol(gtex_fullRes$Z)))\n",
    "gtex_fullRes$summary <- gtex_fullRes$summary %>%\n",
    "    dplyr::rename(LV = `LV index`)  %>% \n",
    "    dplyr::mutate(LV = paste0('LV', LV))\n",
    "\n",
    "# save\n",
    "saveRDS(gtex_fullRes, file = file.path(output_data_dir, \"gtex_gwas_PLIER2.rds\"))"
   ]
  },
  {
   "cell_type": "code",
   "execution_count": 21,
   "id": "1736938c",
   "metadata": {
    "vscode": {
     "languageId": "r"
    }
   },
   "outputs": [
    {
     "name": "stderr",
     "output_type": "stream",
     "text": [
      "Auto-detected name: KEGG_2021_Human\n",
      "\n",
      "Using cached file for KEGG_2021_Human\n",
      "\n",
      "Auto-detected name: GWAS_Catalog_2025\n",
      "\n",
      "Using cached file for GWAS_Catalog_2025\n",
      "\n",
      "there are  13363  genes in the intersection between data and prior\n",
      "\n",
      "Removing 1116 pathways\n",
      "\n",
      "Inverting...\n",
      "\n",
      "done\n",
      "\n",
      "**PLIER v2 **\n",
      "\n",
      "using provided PLIERbase result\n",
      "\n",
      "L1=67.1332478272621; L2=201.399743481786\n",
      "\n"
     ]
    },
    {
     "name": "stdout",
     "output_type": "stream",
     "text": [
      "Progress 82 / 350 | Bdiff=0.000189 Number of annotated columns is 168, Number of annotated columns is 169, Number of annotated columns is 172, Number of annotated columns is 172, Number of annotated columns is 174, Number of annotated columns is 169, Number of annotated columns is 170, Number of annotated columns is 170, Number of annotated columns is 171, Number of annotated columns is 171, Number of annotated columns is 170, Number of annotated columns is 171, Number of annotated columns is 171, Number of annotated columns is 172, Number of annotated columns is 172, Number of annotated columns is 165, Number of annotated columns is 165, Number of annotated columns is 165, Number of annotated columns is 165, Number of annotated columns is 166, Number of annotated columns is 163, Number of annotated columns is 163, Number of annotated columns is 165, Number of annotated columns is 167, Number of annotated columns is 168, Number of annotated columns is 168, Number of annotated columns is 168, Number of annotated columns is 168, Number of annotated columns is 170, Number of annotated columns is 171, Number of annotated columns is 167, Number of annotated columns is 167, Number of annotated columns is 168, Number of annotated columns is 170, Number of annotated columns is 170, Number of annotated columns is 167, Number of annotated columns is 168, Number of annotated columns is 168, Number of annotated columns is 168, Number of annotated columns is 169"
     ]
    },
    {
     "name": "stderr",
     "output_type": "stream",
     "text": [
      "converged at  iteration 82 Bdiff is not decreasing\n",
      "\n",
      "Updating Z for CV\n",
      "\n",
      "crossValidation\n",
      "\n",
      "There are 120  LVs with AUC>0.70\n",
      "\n",
      "There are 33  LVs with AUC>0.90\n",
      "\n"
     ]
    }
   ],
   "source": [
    "# priors\n",
    "gtex_gmtList <- list(\n",
    "  KEGG = getGMT(\"https://maayanlab.cloud/Enrichr/geneSetLibrary?mode=text&libraryName=KEGG_2021_Human\"),\n",
    "  gwas = getGMT(\"https://maayanlab.cloud/Enrichr/geneSetLibrary?mode=text&libraryName=GWAS_Catalog_2025\")\n",
    ")\n",
    "\n",
    "# prefix each gene‐set name with its library to guarantee uniqueness\n",
    "for(lib in names(gtex_gmtList)) {\n",
    "  names(gtex_gmtList[[lib]]) <- paste0(lib, \"_\", names(gtex_gmtList[[lib]]))\n",
    "}\n",
    "\n",
    "gtex_pathMat <- gmtListToSparseMat(gtex_gmtList)\n",
    "gtex_matched <- getMatchedPathwayMat(gtex_pathMat, gtex_genes)\n",
    "gtex_chatObj <- getChat(gtex_matched)\n",
    "\n",
    "# PLIERfull\n",
    "gtex_fullRes <- PLIERfull(\n",
    "  Y                 = gtex_fbm_filt,\n",
    "  priorMat          = as.matrix(gtex_matched),\n",
    "  svdres            = gtex_svdRes,\n",
    "  plier.base.result = gtex_baseRes,\n",
    "  Chat              = gtex_chatObj,\n",
    "  k                 = PLIER_K_gtex,\n",
    "  doCrossval        = TRUE,\n",
    "  trace             = TRUE,\n",
    "  max.U.updates= config$GTEx$MAX_U_UPDATES\n",
    ")\n",
    "\n",
    "# Fix colnames and rownames\n",
    "colnames(gtex_fullRes$B) <- samples\n",
    "colnames(gtex_fullRes$Z) <- paste0('LV', seq_len(ncol(gtex_fullRes$Z)))\n",
    "gtex_fullRes$summary <- gtex_fullRes$summary %>%\n",
    "    dplyr::rename(LV = `LV index`)  %>% \n",
    "    dplyr::mutate(LV = paste0('LV', LV))\n",
    "\n",
    "# save\n",
    "saveRDS(gtex_fullRes, file = file.path(output_data_dir, \"gtex_gwas_u_PLIER2.rds\"))"
   ]
  },
  {
   "cell_type": "code",
   "execution_count": 22,
   "id": "beec9f62",
   "metadata": {
    "vscode": {
     "languageId": "r"
    }
   },
   "outputs": [
    {
     "name": "stderr",
     "output_type": "stream",
     "text": [
      "Auto-detected name: GTEx_Tissues_V8_2023\n",
      "\n",
      "Using cached file for GTEx_Tissues_V8_2023\n",
      "\n",
      "Auto-detected name: GWAS_Catalog_2025\n",
      "\n",
      "Using cached file for GWAS_Catalog_2025\n",
      "\n",
      "there are  13286  genes in the intersection between data and prior\n",
      "\n",
      "Removing 1106 pathways\n",
      "\n",
      "Inverting...\n",
      "\n",
      "done\n",
      "\n",
      "**PLIER v2 **\n",
      "\n",
      "using provided PLIERbase result\n",
      "\n",
      "L1=67.1332478272621; L2=201.399743481786\n",
      "\n"
     ]
    },
    {
     "name": "stdout",
     "output_type": "stream",
     "text": [
      "Progress 87 / 350 | Bdiff=0.000216 Number of annotated columns is 184, Number of annotated columns is 184, Number of annotated columns is 185, Number of annotated columns is 185, Number of annotated columns is 185, Number of annotated columns is 183, Number of annotated columns is 184, Number of annotated columns is 184, Number of annotated columns is 184, Number of annotated columns is 185, Number of annotated columns is 185, Number of annotated columns is 186, Number of annotated columns is 186, Number of annotated columns is 186, Number of annotated columns is 186, Number of annotated columns is 186, Number of annotated columns is 186, Number of annotated columns is 186, Number of annotated columns is 186, Number of annotated columns is 187, Number of annotated columns is 184, Number of annotated columns is 185, Number of annotated columns is 185, Number of annotated columns is 185, Number of annotated columns is 186, Number of annotated columns is 185, Number of annotated columns is 185, Number of annotated columns is 186, Number of annotated columns is 187, Number of annotated columns is 187, Number of annotated columns is 187, Number of annotated columns is 187, Number of annotated columns is 187, Number of annotated columns is 187, Number of annotated columns is 187, Number of annotated columns is 186, Number of annotated columns is 186, Number of annotated columns is 186, Number of annotated columns is 186, Number of annotated columns is 187, Number of annotated columns is 185, Number of annotated columns is 185, Number of annotated columns is 185"
     ]
    },
    {
     "name": "stderr",
     "output_type": "stream",
     "text": [
      "converged at  iteration 87 Bdiff is not decreasing\n",
      "\n",
      "Updating Z for CV\n",
      "\n",
      "crossValidation\n",
      "\n",
      "There are 155  LVs with AUC>0.70\n",
      "\n",
      "There are 114  LVs with AUC>0.90\n",
      "\n"
     ]
    }
   ],
   "source": [
    "# priors\n",
    "gtex_gmtList <- list(\n",
    "  GTEx_Tissues = getGMT(\"https://maayanlab.cloud/Enrichr/geneSetLibrary?mode=text&libraryName=GTEx_Tissues_V8_2023\"),\n",
    "  gwas = getGMT(\"https://maayanlab.cloud/Enrichr/geneSetLibrary?mode=text&libraryName=GWAS_Catalog_2025\")\n",
    ")\n",
    "\n",
    "# prefix each gene‐set name with its library to guarantee uniqueness\n",
    "for(lib in names(gtex_gmtList)) {\n",
    "  names(gtex_gmtList[[lib]]) <- paste0(lib, \"_\", names(gtex_gmtList[[lib]]))\n",
    "}\n",
    "\n",
    "gtex_pathMat <- gmtListToSparseMat(gtex_gmtList)\n",
    "gtex_matched <- getMatchedPathwayMat(gtex_pathMat, gtex_genes)\n",
    "gtex_chatObj <- getChat(gtex_matched)\n",
    "\n",
    "# PLIERfull\n",
    "gtex_fullRes <- PLIERfull(\n",
    "  Y                 = gtex_fbm_filt,\n",
    "  priorMat          = as.matrix(gtex_matched),\n",
    "  svdres            = gtex_svdRes,\n",
    "  plier.base.result = gtex_baseRes,\n",
    "  Chat              = gtex_chatObj,\n",
    "  k                 = PLIER_K_gtex,\n",
    "  doCrossval        = TRUE,\n",
    "  trace             = TRUE,\n",
    "  max.U.updates= config$GTEx$MAX_U_UPDATES\n",
    ")\n",
    "\n",
    "# Fix colnames and rownames\n",
    "colnames(gtex_fullRes$B) <- samples\n",
    "colnames(gtex_fullRes$Z) <- paste0('LV', seq_len(ncol(gtex_fullRes$Z)))\n",
    "gtex_fullRes$summary <- gtex_fullRes$summary %>%\n",
    "    dplyr::rename(LV = `LV index`)  %>% \n",
    "    dplyr::mutate(LV = paste0('LV', LV))\n",
    "\n",
    "# save\n",
    "saveRDS(gtex_fullRes, file = file.path(output_data_dir, \"gtex_gwas_t_PLIER2.rds\"))"
   ]
  },
  {
   "cell_type": "code",
   "execution_count": 1,
   "id": "9742ce49",
   "metadata": {
    "vscode": {
     "languageId": "r"
    }
   },
   "outputs": [
    {
     "name": "stderr",
     "output_type": "stream",
     "text": [
      ">>> Running PLIER for prior: KEGG_2021_Human\n",
      "\n"
     ]
    },
    {
     "name": "stdout",
     "output_type": "stream",
     "text": [
      "Error in getGMT(url) : could not find function \"getGMT\"\n"
     ]
    },
    {
     "name": "stderr",
     "output_type": "stream",
     "text": [
      ">>> Running PLIER for prior: GWAS_Catalog_2025\n",
      "\n"
     ]
    },
    {
     "name": "stdout",
     "output_type": "stream",
     "text": [
      "Error in getGMT(url) : could not find function \"getGMT\"\n"
     ]
    },
    {
     "name": "stderr",
     "output_type": "stream",
     "text": [
      ">>> Running PLIER for prior: GO_Biological_Process_2025\n",
      "\n"
     ]
    },
    {
     "name": "stdout",
     "output_type": "stream",
     "text": [
      "Error in getGMT(url) : could not find function \"getGMT\"\n"
     ]
    },
    {
     "name": "stderr",
     "output_type": "stream",
     "text": [
      ">>> Running PLIER for prior: GTEx_Tissues_V8_2023\n",
      "\n"
     ]
    },
    {
     "name": "stdout",
     "output_type": "stream",
     "text": [
      "Error in getGMT(url) : could not find function \"getGMT\"\n"
     ]
    },
    {
     "name": "stderr",
     "output_type": "stream",
     "text": [
      ">>> Running PLIER for prior: Chromosome_Location\n",
      "\n"
     ]
    },
    {
     "name": "stdout",
     "output_type": "stream",
     "text": [
      "Error in getGMT(url) : could not find function \"getGMT\"\n"
     ]
    },
    {
     "name": "stderr",
     "output_type": "stream",
     "text": [
      ">>> Running PLIER for prior: dbGaP\n",
      "\n"
     ]
    },
    {
     "name": "stdout",
     "output_type": "stream",
     "text": [
      "Error in getGMT(url) : could not find function \"getGMT\"\n"
     ]
    },
    {
     "name": "stderr",
     "output_type": "stream",
     "text": [
      ">>> Running PLIER for prior: ChEA_2022\n",
      "\n"
     ]
    },
    {
     "name": "stdout",
     "output_type": "stream",
     "text": [
      "Error in getGMT(url) : could not find function \"getGMT\"\n"
     ]
    },
    {
     "name": "stderr",
     "output_type": "stream",
     "text": [
      ">>> Running PLIER for prior: DSigDB\n",
      "\n"
     ]
    },
    {
     "name": "stdout",
     "output_type": "stream",
     "text": [
      "Error in getGMT(url) : could not find function \"getGMT\"\n"
     ]
    },
    {
     "name": "stderr",
     "output_type": "stream",
     "text": [
      ">>> Running PLIER for prior: Human_Gene_Atlas\n",
      "\n"
     ]
    },
    {
     "name": "stdout",
     "output_type": "stream",
     "text": [
      "Error in getGMT(url) : could not find function \"getGMT\"\n"
     ]
    },
    {
     "name": "stderr",
     "output_type": "stream",
     "text": [
      ">>> Running PLIER for prior: LINCS_L1000_CRISPR_KO_Consensus_Sigs\n",
      "\n"
     ]
    },
    {
     "name": "stdout",
     "output_type": "stream",
     "text": [
      "Error in getGMT(url) : could not find function \"getGMT\"\n"
     ]
    },
    {
     "name": "stderr",
     "output_type": "stream",
     "text": [
      ">>> Running PLIER for prior: Metabolomics_Workbench_Metabolites_2022\n",
      "\n"
     ]
    },
    {
     "name": "stdout",
     "output_type": "stream",
     "text": [
      "Error in getGMT(url) : could not find function \"getGMT\"\n"
     ]
    },
    {
     "name": "stderr",
     "output_type": "stream",
     "text": [
      ">>> Running PLIER for prior: OMIM_Disease\n",
      "\n"
     ]
    },
    {
     "name": "stdout",
     "output_type": "stream",
     "text": [
      "Error in getGMT(url) : could not find function \"getGMT\"\n"
     ]
    },
    {
     "name": "stderr",
     "output_type": "stream",
     "text": [
      ">>> Running PLIER for prior: Proteomics_Drug_Atlas_2023\n",
      "\n"
     ]
    },
    {
     "name": "stdout",
     "output_type": "stream",
     "text": [
      "Error in getGMT(url) : could not find function \"getGMT\"\n"
     ]
    },
    {
     "name": "stderr",
     "output_type": "stream",
     "text": [
      ">>> Running PLIER for prior: TF_Perturbations_Followed_by_Expression\n",
      "\n"
     ]
    },
    {
     "name": "stdout",
     "output_type": "stream",
     "text": [
      "Error in getGMT(url) : could not find function \"getGMT\"\n"
     ]
    },
    {
     "name": "stderr",
     "output_type": "stream",
     "text": [
      ">>> Running PLIER for prior: UK_Biobank_GWAS_v1\n",
      "\n"
     ]
    },
    {
     "name": "stdout",
     "output_type": "stream",
     "text": [
      "Error in getGMT(url) : could not find function \"getGMT\"\n"
     ]
    }
   ],
   "source": [
    "# Vector of prior URLs\n",
    "prior_urls <- c(\n",
    "  \"https://maayanlab.cloud/Enrichr/geneSetLibrary?mode=text&libraryName=KEGG_2021_Human\",\n",
    "  \"https://maayanlab.cloud/Enrichr/geneSetLibrary?mode=text&libraryName=GWAS_Catalog_2025\",\n",
    "  \"https://maayanlab.cloud/Enrichr/geneSetLibrary?mode=text&libraryName=GO_Biological_Process_2025\",\n",
    "  \"https://maayanlab.cloud/Enrichr/geneSetLibrary?mode=text&libraryName=GTEx_Tissues_V8_2023\",\n",
    "  \"https://maayanlab.cloud/Enrichr/geneSetLibrary?mode=text&libraryName=Chromosome_Location\",\n",
    "  \"https://maayanlab.cloud/Enrichr/geneSetLibrary?mode=text&libraryName=dbGaP\",\n",
    "  \"https://maayanlab.cloud/Enrichr/geneSetLibrary?mode=text&libraryName=ChEA_2022\",\n",
    "  \"https://maayanlab.cloud/Enrichr/geneSetLibrary?mode=text&libraryName=DSigDB\",\n",
    "  \"https://maayanlab.cloud/Enrichr/geneSetLibrary?mode=text&libraryName=Human_Gene_Atlas\",\n",
    "  \"https://maayanlab.cloud/Enrichr/geneSetLibrary?mode=text&libraryName=LINCS_L1000_CRISPR_KO_Consensus_Sigs\",\n",
    "  \"https://maayanlab.cloud/Enrichr/geneSetLibrary?mode=text&libraryName=Metabolomics_Workbench_Metabolites_2022\",\n",
    "  \"https://maayanlab.cloud/Enrichr/geneSetLibrary?mode=text&libraryName=OMIM_Disease\",\n",
    "  \"https://maayanlab.cloud/Enrichr/geneSetLibrary?mode=text&libraryName=Proteomics_Drug_Atlas_2023\",\n",
    "  \"https://maayanlab.cloud/Enrichr/geneSetLibrary?mode=text&libraryName=TF_Perturbations_Followed_by_Expression\",\n",
    "  \"https://maayanlab.cloud/Enrichr/geneSetLibrary?mode=text&libraryName=UK_Biobank_GWAS_v1\"\n",
    ")\n",
    "\n",
    "# Names are exactly what's after libraryName=\n",
    "names(prior_urls) <- sub(\".*libraryName=\", \"\", prior_urls)\n",
    "\n",
    "results <- list()\n",
    "\n",
    "for (prior_name in names(prior_urls)) {\n",
    "  url <- prior_urls[[prior_name]]\n",
    "  message(\">>> Running PLIER for prior: \", prior_name)\n",
    "\n",
    "  try({\n",
    "    gmt <- getGMT(url)\n",
    "    gmt_list <- list()\n",
    "    gmt_list[[prior_name]] <- gmt\n",
    "\n",
    "    pathMat   <- gmtListToSparseMat(gmt_list)\n",
    "    matched   <- getMatchedPathwayMat(pathMat, gtex_genes)\n",
    "    if (is.null(matched) || ncol(matched) == 0) {\n",
    "      warning(\"No matched pathways for \", prior_name, \"; skipping.\")\n",
    "      next\n",
    "    }\n",
    "    chatObj   <- getChat(matched)\n",
    "\n",
    "    fullRes <- PLIERfull(\n",
    "      Y                 = gtex_fbm_filt,\n",
    "      priorMat          = as.matrix(matched),\n",
    "      svdres            = gtex_svdRes,\n",
    "      plier.base.result = gtex_baseRes,\n",
    "      Chat              = chatObj,\n",
    "      k                 = PLIER_K_gtex,\n",
    "      doCrossval        = TRUE,\n",
    "      trace             = TRUE,\n",
    "      max.U.updates     = config$GTEx$MAX_U_UPDATES\n",
    "    )\n",
    "\n",
    "    if (!is.null(fullRes$B)) colnames(fullRes$B) <- samples\n",
    "    if (!is.null(fullRes$Z)) colnames(fullRes$Z) <- paste0(\"LV\", seq_len(ncol(fullRes$Z)))\n",
    "    if (!is.null(fullRes$summary)) {\n",
    "      fullRes$summary <- fullRes$summary |>\n",
    "        dplyr::rename(LV = `LV index`) |>\n",
    "        dplyr::mutate(LV = paste0(\"LV\", LV))\n",
    "    }\n",
    "\n",
    "    out_file <- file.path(output_data_dir, sprintf(\"gtex_%s_PLIER2.rds\", prior_name))\n",
    "    saveRDS(fullRes, file = out_file)\n",
    "    results[[prior_name]] <- fullRes\n",
    "\n",
    "    message(\"Saved: \", out_file)\n",
    "  }, silent = FALSE)\n",
    "}\n",
    "\n",
    "invisible(results)\n"
   ]
  }
 ],
 "metadata": {
  "kernelspec": {
   "display_name": "R",
   "language": "R",
   "name": "ir"
  },
  "language_info": {
   "codemirror_mode": "r",
   "file_extension": ".r",
   "mimetype": "text/x-r-source",
   "name": "R",
   "pygments_lexer": "r",
   "version": "4.3.3"
  }
 },
 "nbformat": 4,
 "nbformat_minor": 5
}
