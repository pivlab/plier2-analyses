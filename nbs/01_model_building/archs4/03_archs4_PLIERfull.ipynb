{
 "cells": [
  {
   "cell_type": "markdown",
   "id": "ca81bc7f",
   "metadata": {},
   "source": [
    "# ARCHS4 model building with PLIER2"
   ]
  },
  {
   "cell_type": "markdown",
   "id": "be805cf1",
   "metadata": {},
   "source": [
    "## Load libraries"
   ]
  },
  {
   "cell_type": "code",
   "execution_count": 1,
   "id": "b4ed5e6f",
   "metadata": {
    "vscode": {
     "languageId": "r"
    }
   },
   "outputs": [
    {
     "name": "stderr",
     "output_type": "stream",
     "text": [
      "\n",
      "Attaching package: ‘dplyr’\n",
      "\n",
      "\n",
      "The following objects are masked from ‘package:data.table’:\n",
      "\n",
      "    between, first, last\n",
      "\n",
      "\n",
      "The following objects are masked from ‘package:stats’:\n",
      "\n",
      "    filter, lag\n",
      "\n",
      "\n",
      "The following objects are masked from ‘package:base’:\n",
      "\n",
      "    intersect, setdiff, setequal, union\n",
      "\n",
      "\n",
      "Loading required package: Matrix\n",
      "\n",
      "Loaded glmnet 4.1-10\n",
      "\n",
      "here() starts at /home/msubirana/Documents/pivlab/plier2-analyses\n",
      "\n"
     ]
    }
   ],
   "source": [
    "if (!requireNamespace(\"PLIER2\", quietly = TRUE)) {\n",
    "    REPO_PATH <- \"/home/msubirana/Documents/pivlab/PLIER2\" \n",
    "    remotes::install_local(REPO_PATH, force = TRUE, dependencies = FALSE)\n",
    "}\n",
    "\n",
    "library(bigstatsr)\n",
    "library(data.table)\n",
    "library(dplyr)\n",
    "library(rsvd)\n",
    "library(glmnet)\n",
    "library(Matrix)\n",
    "library(knitr)\n",
    "library(here)\n",
    "library(PLIER2)\n",
    "library(hdf5r)\n",
    "library(biomaRt)\n",
    "\n",
    "source(here(\"config.R\"))\n",
    "\n",
    "set.seed(123)"
   ]
  },
  {
   "cell_type": "markdown",
   "id": "fc858c79",
   "metadata": {},
   "source": [
    "## Output directory"
   ]
  },
  {
   "cell_type": "code",
   "execution_count": 2,
   "id": "02f368b4",
   "metadata": {
    "vscode": {
     "languageId": "r"
    }
   },
   "outputs": [],
   "source": [
    "output_dir <- config$ARCHS4$DATASET_FOLDER\n",
    "dir.create(output_dir, showWarnings = FALSE, recursive = TRUE)"
   ]
  },
  {
   "cell_type": "code",
   "execution_count": null,
   "id": "6520df58",
   "metadata": {
    "vscode": {
     "languageId": "r"
    }
   },
   "outputs": [],
   "source": [
    "archs4_svdRes <- readRDS(file.path(output_dir, \"archs4_svdRes.rds\"))"
   ]
  },
  {
   "cell_type": "code",
   "execution_count": null,
   "id": "e677fee7",
   "metadata": {
    "vscode": {
     "languageId": "r"
    }
   },
   "outputs": [],
   "source": [
    "archs4_fbm_filt <- readRDS(file.path(output_dir, \"archs4_fbm_filt.rds\"))"
   ]
  },
  {
   "cell_type": "code",
   "execution_count": null,
   "id": "7932f7c7",
   "metadata": {
    "vscode": {
     "languageId": "r"
    }
   },
   "outputs": [],
   "source": [
    "archs4_baseRes <- readRDS(file.path(output_dir, \"archs4_baseRes.rds\"))"
   ]
  },
  {
   "cell_type": "code",
   "execution_count": null,
   "id": "b18c6762",
   "metadata": {
    "vscode": {
     "languageId": "r"
    }
   },
   "outputs": [],
   "source": [
    "PLIER_K_archs4 <- readRDS(file.path(output_dir, \"PLIER_K_archs4.rds\"))"
   ]
  },
  {
   "cell_type": "code",
   "execution_count": 4,
   "id": "dc7a0b32",
   "metadata": {
    "vscode": {
     "languageId": "r"
    }
   },
   "outputs": [],
   "source": [
    "archs4_genes <- readRDS(file.path(output_dir, \"archs4_genes.rds\"))"
   ]
  },
  {
   "cell_type": "code",
   "execution_count": null,
   "id": "cb3eaed8",
   "metadata": {
    "vscode": {
     "languageId": "r"
    }
   },
   "outputs": [],
   "source": [
    "sample_names <- readRDS(file.path(output_dir, \"archs4_samples.rds\"))"
   ]
  },
  {
   "cell_type": "markdown",
   "id": "6ee267bb",
   "metadata": {},
   "source": [
    "## Prepare pathway priors"
   ]
  },
  {
   "cell_type": "code",
   "execution_count": null,
   "id": "35ce91a8",
   "metadata": {
    "vscode": {
     "languageId": "r"
    }
   },
   "outputs": [
    {
     "name": "stderr",
     "output_type": "stream",
     "text": [
      "Auto-detected name: KEGG_2021_Human\n",
      "\n",
      "Using cached file for KEGG_2021_Human\n",
      "\n",
      "Auto-detected name: GO_Biological_Process_2025\n",
      "\n",
      "Downloading GO_Biological_Process_2025 from Enrichr...\n",
      "\n",
      "Auto-detected name: GTEx_Tissues_V8_2023\n",
      "\n",
      "Using cached file for GTEx_Tissues_V8_2023\n",
      "\n"
     ]
    }
   ],
   "source": [
    "# # run localy since server not have internet access\n",
    "\n",
    "# archs4_gmtList <- list(\n",
    "#   KEGG = getGMT(\"https://maayanlab.cloud/Enrichr/geneSetLibrary?mode=text&libraryName=KEGG_2021_Human\"),\n",
    "#   BP = getGMT(\"https://maayanlab.cloud/Enrichr/geneSetLibrary?mode=text&libraryName=GO_Biological_Process_2025\"),\n",
    "#   GTEx_Tissues = getGMT(\"https://maayanlab.cloud/Enrichr/geneSetLibrary?mode=text&libraryName=GTEx_Tissues_V8_2023\")\n",
    "# )\n",
    "\n",
    "# # prefix each gene‐set name with its library to guarantee uniqueness\n",
    "# for(lib in names(archs4_gmtList)) {\n",
    "#   names(archs4_gmtList[[lib]]) <- paste0(lib, \"_\", names(archs4_gmtList[[lib]]))\n",
    "# }\n",
    "\n",
    "# archs4_pathMat <- gmtListToSparseMat(archs4_gmtList)\n",
    "# saveRDS(archs4_pathMat, file = file.path(output_dir, \"archs4_pathMat.rds\"))"
   ]
  },
  {
   "cell_type": "code",
   "execution_count": null,
   "id": "811cf179",
   "metadata": {
    "vscode": {
     "languageId": "r"
    }
   },
   "outputs": [
    {
     "name": "stderr",
     "output_type": "stream",
     "text": [
      "There are 9109 genes in the intersection between data and prior\n",
      "\n"
     ]
    },
    {
     "name": "stderr",
     "output_type": "stream",
     "text": [
      "Removing 3024 pathways\n",
      "\n",
      "Inverting...\n",
      "\n",
      "done\n",
      "\n"
     ]
    }
   ],
   "source": [
    "archs4_pathMat <- readRDS(file.path(output_dir, \"archs4_pathMat.rds\"))\n",
    "archs4_matched <- getMatchedPathwayMat(archs4_pathMat, archs4_genes)\n",
    "archs4_chatObj <- getChat(archs4_matched)"
   ]
  },
  {
   "cell_type": "code",
   "execution_count": null,
   "id": "63caf827",
   "metadata": {
    "vscode": {
     "languageId": "r"
    }
   },
   "outputs": [],
   "source": [
    "saveRDS(archs4_pathMat, file = file.path(output_dir, \"archs4_pathMat.rds\"))\n",
    "saveRDS(archs4_matched, file = file.path(output_dir, \"archs4_matched.rds\"))\n",
    "saveRDS(archs4_chatObj, file = file.path(output_dir, \"archs4_chatObj.rds\"))"
   ]
  },
  {
   "cell_type": "markdown",
   "id": "6526304d",
   "metadata": {},
   "source": [
    "## PLIERfull"
   ]
  },
  {
   "cell_type": "code",
   "execution_count": null,
   "id": "5673ed3a",
   "metadata": {
    "vscode": {
     "languageId": "r"
    }
   },
   "outputs": [
    {
     "name": "stderr",
     "output_type": "stream",
     "text": [
      "**PLIER v2 **\n",
      "\n",
      "Warning message:\n",
      "“`seed` is deprecated and ignored. Use set.seed(seed) before calling this function.”\n",
      "using provided PLIERbase result\n",
      "\n",
      "L1=22.4924948346732; L2=67.4774845040197\n",
      "\n",
      "Progress 1 / 350 | Bdiff=0.000471\n",
      "\n",
      "Progress 2 / 350 | Bdiff=0.000449\n",
      "\n",
      ", Number of annotated columns is 103\n",
      "\n",
      "Progress 3 / 350 | Bdiff=0.000427\n",
      "\n",
      "Progress 4 / 350 | Bdiff=0.000423\n",
      "\n",
      ", Number of annotated columns is 112\n",
      "\n",
      "Progress 5 / 350 | Bdiff=0.000422\n",
      "\n",
      "Progress 6 / 350 | Bdiff=0.000414\n",
      "\n",
      ", Number of annotated columns is 119\n",
      "\n",
      "Progress 7 / 350 | Bdiff=0.000413\n",
      "\n",
      "Progress 8 / 350 | Bdiff=0.000378\n",
      "\n",
      ", Number of annotated columns is 124\n",
      "\n",
      "Progress 9 / 350 | Bdiff=0.000366\n",
      "\n",
      "Progress 10 / 350 | Bdiff=0.000347\n",
      "\n",
      ", Number of annotated columns is 127\n",
      "\n",
      "Progress 11 / 350 | Bdiff=0.000330\n",
      "\n",
      "Progress 12 / 350 | Bdiff=0.000310\n",
      "\n",
      ", Number of annotated columns is 114\n",
      "\n",
      "Progress 13 / 350 | Bdiff=0.000302\n",
      "\n",
      "Progress 14 / 350 | Bdiff=0.000284\n",
      "\n",
      ", Number of annotated columns is 120\n",
      "\n",
      "Progress 15 / 350 | Bdiff=0.000274\n",
      "\n",
      "Progress 16 / 350 | Bdiff=0.000261\n",
      "\n",
      ", Number of annotated columns is 127\n",
      "\n",
      "Progress 17 / 350 | Bdiff=0.000251\n",
      "\n",
      "Progress 18 / 350 | Bdiff=0.000247\n",
      "\n",
      ", Number of annotated columns is 130\n",
      "\n",
      "Progress 19 / 350 | Bdiff=0.000241\n",
      "\n",
      "Progress 20 / 350 | Bdiff=0.000226\n",
      "\n",
      ", Number of annotated columns is 130\n",
      "\n",
      "Progress 21 / 350 | Bdiff=0.000222\n",
      "\n",
      "Progress 22 / 350 | Bdiff=0.000209\n",
      "\n",
      ", Number of annotated columns is 103\n",
      "\n",
      "Progress 23 / 350 | Bdiff=0.000207\n",
      "\n",
      "Progress 24 / 350 | Bdiff=0.000197\n",
      "\n",
      ", Number of annotated columns is 106\n",
      "\n",
      "Progress 25 / 350 | Bdiff=0.000199\n",
      "\n",
      "Progress 26 / 350 | Bdiff=0.000191\n",
      "\n",
      ", Number of annotated columns is 110\n",
      "\n",
      "Progress 27 / 350 | Bdiff=0.000189\n",
      "\n",
      "Progress 28 / 350 | Bdiff=0.000174\n",
      "\n",
      ", Number of annotated columns is 113\n",
      "\n",
      "Progress 29 / 350 | Bdiff=0.000168\n",
      "\n",
      "Progress 30 / 350 | Bdiff=0.000156\n",
      "\n",
      ", Number of annotated columns is 121\n",
      "\n",
      "Progress 31 / 350 | Bdiff=0.000153\n",
      "\n",
      "Progress 32 / 350 | Bdiff=0.000150\n",
      "\n",
      ", Number of annotated columns is 102\n",
      "\n",
      "Progress 33 / 350 | Bdiff=0.000143\n",
      "\n",
      "Progress 34 / 350 | Bdiff=0.000139\n",
      "\n",
      ", Number of annotated columns is 111\n",
      "\n",
      "Progress 35 / 350 | Bdiff=0.000133\n",
      "\n",
      "Progress 36 / 350 | Bdiff=0.000133\n",
      "\n",
      ", Number of annotated columns is 114\n",
      "\n",
      "Progress 37 / 350 | Bdiff=0.000134\n",
      "\n",
      "Progress 38 / 350 | Bdiff=0.000136\n",
      "\n",
      ", Number of annotated columns is 118\n",
      "\n",
      "Progress 39 / 350 | Bdiff=0.000131\n",
      "\n",
      "Progress 40 / 350 | Bdiff=0.000132\n",
      "\n",
      ", Number of annotated columns is 120\n",
      "\n",
      "Progress 41 / 350 | Bdiff=0.000136\n",
      "\n",
      "Progress 42 / 350 | Bdiff=0.000137\n",
      "\n",
      ", Number of annotated columns is 110\n",
      "\n",
      "Progress 43 / 350 | Bdiff=0.000138\n",
      "\n",
      "Progress 44 / 350 | Bdiff=0.000137\n",
      "\n",
      ", Number of annotated columns is 111\n",
      "\n",
      "Progress 45 / 350 | Bdiff=0.000137\n",
      "\n",
      "Progress 46 / 350 | Bdiff=0.000135\n",
      "\n",
      ", Number of annotated columns is 113\n",
      "\n",
      "Progress 47 / 350 | Bdiff=0.000138\n",
      "\n",
      "Progress 48 / 350 | Bdiff=0.000143\n",
      "\n",
      ", Number of annotated columns is 117\n",
      "\n",
      "Progress 49 / 350 | Bdiff=0.000160\n",
      "\n",
      "Progress 50 / 350 | Bdiff=0.000163\n",
      "\n",
      ", Number of annotated columns is 118\n",
      "\n",
      "Progress 51 / 350 | Bdiff=0.000157\n",
      "\n",
      "Progress 52 / 350 | Bdiff=0.000143\n",
      "\n",
      ", Number of annotated columns is 107\n",
      "\n",
      "Progress 53 / 350 | Bdiff=0.000136\n",
      "\n",
      "Progress 54 / 350 | Bdiff=0.000136\n",
      "\n",
      ", Number of annotated columns is 110\n",
      "\n",
      "Progress 55 / 350 | Bdiff=0.000138\n",
      "\n",
      "Progress 56 / 350 | Bdiff=0.000135\n",
      "\n",
      ", Number of annotated columns is 115\n",
      "\n",
      "Progress 57 / 350 | Bdiff=0.000137\n",
      "\n",
      "Progress 58 / 350 | Bdiff=0.000137\n",
      "\n",
      ", Number of annotated columns is 116\n",
      "\n",
      "Progress 59 / 350 | Bdiff=0.000125\n",
      "\n",
      "Progress 60 / 350 | Bdiff=0.000122\n",
      "\n",
      ", Number of annotated columns is 119\n",
      "\n",
      "Progress 61 / 350 | Bdiff=0.000112\n",
      "\n",
      "Progress 62 / 350 | Bdiff=0.000103\n",
      "\n",
      ", Number of annotated columns is 104\n",
      "\n",
      "Progress 63 / 350 | Bdiff=0.000093\n",
      "\n",
      "Progress 64 / 350 | Bdiff=0.000080\n",
      "\n",
      ", Number of annotated columns is 109\n",
      "\n",
      "Progress 65 / 350 | Bdiff=0.000078\n",
      "\n",
      "Progress 66 / 350 | Bdiff=0.000076\n",
      "\n",
      ", Number of annotated columns is 109\n",
      "\n",
      "Progress 67 / 350 | Bdiff=0.000072\n",
      "\n",
      "Progress 68 / 350 | Bdiff=0.000065\n",
      "\n",
      ", Number of annotated columns is 112\n",
      "\n",
      "Progress 69 / 350 | Bdiff=0.000064\n",
      "\n",
      "Progress 70 / 350 | Bdiff=0.000061\n",
      "\n",
      ", Number of annotated columns is 113\n",
      "\n",
      "Progress 71 / 350 | Bdiff=0.000059\n",
      "\n",
      "Progress 72 / 350 | Bdiff=0.000057\n",
      "\n",
      ", Number of annotated columns is 100\n",
      "\n",
      "Progress 73 / 350 | Bdiff=0.000056\n",
      "\n",
      "Progress 74 / 350 | Bdiff=0.000054\n",
      "\n",
      ", Number of annotated columns is 101\n",
      "\n",
      "Progress 75 / 350 | Bdiff=0.000053\n",
      "\n",
      "Progress 76 / 350 | Bdiff=0.000052\n",
      "\n",
      ", Number of annotated columns is 103\n",
      "\n",
      "Progress 77 / 350 | Bdiff=0.000050\n",
      "\n",
      "Progress 78 / 350 | Bdiff=0.000050\n",
      "\n",
      ", Number of annotated columns is 106\n",
      "\n",
      "Progress 79 / 350 | Bdiff=0.000051\n",
      "\n",
      "Progress 80 / 350 | Bdiff=0.000053\n",
      "\n",
      ", Number of annotated columns is 109\n",
      "\n",
      "Progress 81 / 350 | Bdiff=0.000054\n",
      "\n",
      "Progress 82 / 350 | Bdiff=0.000055\n",
      "\n",
      ", Number of annotated columns is 106\n",
      "\n",
      "Progress 83 / 350 | Bdiff=0.000059\n",
      "\n",
      "Progress 84 / 350 | Bdiff=0.000063\n",
      "\n",
      ", Number of annotated columns is 106\n",
      "\n",
      "Progress 85 / 350 | Bdiff=0.000065\n",
      "\n",
      "Progress 86 / 350 | Bdiff=0.000063\n",
      "\n",
      ", Number of annotated columns is 107\n",
      "\n",
      "Progress 87 / 350 | Bdiff=0.000064\n",
      "\n",
      "Progress 88 / 350 | Bdiff=0.000059\n",
      "\n",
      ", Number of annotated columns is 108\n",
      "\n",
      "Progress 89 / 350 | Bdiff=0.000068\n",
      "\n",
      "Progress 90 / 350 | Bdiff=0.000068\n",
      "\n",
      ", Number of annotated columns is 110\n",
      "\n",
      "Progress 91 / 350 | Bdiff=0.000067\n",
      "\n",
      "Progress 92 / 350 | Bdiff=0.000065\n",
      "\n",
      ", Number of annotated columns is 102\n",
      "\n",
      "Progress 93 / 350 | Bdiff=0.000062\n",
      "\n",
      "Progress 94 / 350 | Bdiff=0.000059\n",
      "\n",
      ", Number of annotated columns is 102\n",
      "\n",
      "Progress 95 / 350 | Bdiff=0.000061\n",
      "\n",
      "Progress 96 / 350 | Bdiff=0.000067\n",
      "\n",
      ", Number of annotated columns is 104\n",
      "\n",
      "Progress 97 / 350 | Bdiff=0.000064\n",
      "\n",
      "Progress 98 / 350 | Bdiff=0.000060\n",
      "\n",
      ", Number of annotated columns is 106\n",
      "\n",
      "Progress 99 / 350 | Bdiff=0.000064\n",
      "\n",
      "Progress 100 / 350 | Bdiff=0.000062\n",
      "\n",
      ", Number of annotated columns is 106\n",
      "\n",
      "Progress 101 / 350 | Bdiff=0.000059\n",
      "\n",
      "Progress 102 / 350 | Bdiff=0.000057\n",
      "\n",
      "Progress 103 / 350 | Bdiff=0.000057\n",
      "\n",
      "Progress 104 / 350 | Bdiff=0.000053\n",
      "\n",
      "Progress 105 / 350 | Bdiff=0.000048\n",
      "\n",
      "Progress 106 / 350 | Bdiff=0.000045\n",
      "\n",
      "Progress 107 / 350 | Bdiff=0.000043\n",
      "\n",
      "Progress 108 / 350 | Bdiff=0.000041\n",
      "\n",
      "Converged at 108 / 350 | Bdiff=0.000041, minCor=0.998177\n",
      "\n",
      "\n",
      "Updating Z for CV\n",
      "\n",
      "crossValidation\n",
      "\n",
      "There are 21 LVs with AUC>0.70\n",
      "\n",
      "There are 3 LVs with AUC>0.90\n",
      "\n"
     ]
    }
   ],
   "source": [
    "N_CORES <- config$ARCHS4$PLIER_PARAMS$N_CORES\n",
    "\n",
    "archs4_fullRes <- PLIERfull(\n",
    "  Y                 = archs4_fbm_filt,\n",
    "  priorMat          = as.matrix(archs4_matched),\n",
    "  svdres            = archs4_svdRes,\n",
    "  plier.base.result = archs4_baseRes,\n",
    "  Chat              = archs4_chatObj,\n",
    "  k                 = PLIER_K_archs4,\n",
    "  doCrossval        = TRUE,\n",
    "  trace             = TRUE,\n",
    "  max.U.updates     = 50,\n",
    "  ncores            = N_CORES\n",
    ")"
   ]
  },
  {
   "cell_type": "code",
   "execution_count": 13,
   "id": "032c868f",
   "metadata": {
    "vscode": {
     "languageId": "r"
    }
   },
   "outputs": [],
   "source": [
    "saveRDS(archs4_fullRes, file = file.path(output_dir, \"archs4_PLIER2.rds\"))"
   ]
  },
  {
   "cell_type": "markdown",
   "id": "daaee556",
   "metadata": {},
   "source": [
    "# Fix col, row names and summary"
   ]
  },
  {
   "cell_type": "code",
   "execution_count": 14,
   "id": "5a94eda7",
   "metadata": {
    "vscode": {
     "languageId": "r"
    }
   },
   "outputs": [],
   "source": [
    "archs4_fullRes <- readRDS(file.path(output_dir, \"archs4_PLIER2.rds\"))\n",
    "\n",
    "colnames(archs4_fullRes$B) <- sample_names\n",
    "\n",
    "colnames(archs4_fullRes$Z) <- paste0('LV', seq_len(ncol(archs4_fullRes$Z)))\n",
    "\n",
    "archs4_fullRes$summary <- archs4_fullRes$summary %>%\n",
    "    dplyr::rename(LV = `LV index`) %>% \n",
    "    dplyr::mutate(LV = paste0('LV', LV))\n",
    "\n",
    "saveRDS(archs4_fullRes, file = file.path(output_dir, \"archs4_PLIER2.rds\"))"
   ]
  },
  {
   "cell_type": "code",
   "execution_count": 15,
   "id": "73356887",
   "metadata": {
    "vscode": {
     "languageId": "r"
    }
   },
   "outputs": [],
   "source": [
    "archs4_baseRes <- readRDS(file.path(output_dir, \"archs4_baseRes.rds\"))\n",
    "\n",
    "colnames(archs4_baseRes$B) <- sample_names\n",
    "colnames(archs4_baseRes$Z) <- paste0('LV', seq_len(ncol(archs4_fullRes$Z)))\n",
    "rownames(archs4_baseRes$Z) <- archs4_genes\n",
    "rownames(archs4_baseRes$B) <- paste0('LV', seq_len(ncol(archs4_baseRes$Z)))\n",
    "\n",
    "saveRDS(archs4_baseRes, file = file.path(output_dir, \"archs4_baseRes.rds\"))"
   ]
  }
 ],
 "metadata": {
  "kernelspec": {
   "display_name": "R",
   "language": "R",
   "name": "ir"
  },
  "language_info": {
   "codemirror_mode": "r",
   "file_extension": ".r",
   "mimetype": "text/x-r-source",
   "name": "R",
   "pygments_lexer": "r",
   "version": "4.3.3"
  }
 },
 "nbformat": 4,
 "nbformat_minor": 5
}
