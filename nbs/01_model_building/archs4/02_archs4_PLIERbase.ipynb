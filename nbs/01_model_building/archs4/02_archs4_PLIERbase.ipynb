{
 "cells": [
  {
   "cell_type": "markdown",
   "id": "ca81bc7f",
   "metadata": {},
   "source": [
    "# ARCHS4 model building with PLIER2"
   ]
  },
  {
   "cell_type": "markdown",
   "id": "be805cf1",
   "metadata": {},
   "source": [
    "## Load libraries"
   ]
  },
  {
   "cell_type": "code",
   "execution_count": 1,
   "id": "b4ed5e6f",
   "metadata": {
    "vscode": {
     "languageId": "r"
    }
   },
   "outputs": [
    {
     "name": "stderr",
     "output_type": "stream",
     "text": [
      "\n",
      "Attaching package: ‘dplyr’\n",
      "\n",
      "\n",
      "The following objects are masked from ‘package:data.table’:\n",
      "\n",
      "    between, first, last\n",
      "\n",
      "\n",
      "The following objects are masked from ‘package:stats’:\n",
      "\n",
      "    filter, lag\n",
      "\n",
      "\n",
      "The following objects are masked from ‘package:base’:\n",
      "\n",
      "    intersect, setdiff, setequal, union\n",
      "\n",
      "\n",
      "Loading required package: Matrix\n",
      "\n",
      "Loaded glmnet 4.1-10\n",
      "\n",
      "here() starts at /home/msubirana/Documents/pivlab/plier2-analyses\n",
      "\n",
      "Loading required package: RColorBrewer\n",
      "\n",
      "Loading required package: gplots\n",
      "\n",
      "\n",
      "Attaching package: ‘gplots’\n",
      "\n",
      "\n",
      "The following object is masked from ‘package:stats’:\n",
      "\n",
      "    lowess\n",
      "\n",
      "\n",
      "Loading required package: pheatmap\n",
      "\n",
      "Loading required package: qvalue\n",
      "\n",
      "\n",
      "Attaching package: ‘PLIER2’\n",
      "\n",
      "\n",
      "The following objects are masked from ‘package:PLIER’:\n",
      "\n",
      "    num.pc, projectPLIER\n",
      "\n",
      "\n"
     ]
    }
   ],
   "source": [
    "if (!requireNamespace(\"PLIER\", quietly = TRUE)) {\n",
    "    devtools::install_github(\"wgmao/PLIER\")\n",
    "}\n",
    "\n",
    "if (!requireNamespace(\"PLIER2\", quietly = TRUE)) {\n",
    "    REPO_PATH <- \"/home/msubirana/Documents/pivlab/PLIER2\" \n",
    "    remotes::install_local(REPO_PATH, force = TRUE, dependencies = FALSE)\n",
    "}\n",
    "\n",
    "library(bigstatsr)\n",
    "library(data.table)\n",
    "library(dplyr)\n",
    "library(rsvd)\n",
    "library(glmnet)\n",
    "library(Matrix)\n",
    "library(knitr)\n",
    "library(here)\n",
    "library(PLIER)\n",
    "library(PLIER2)\n",
    "library(hdf5r)\n",
    "library(biomaRt)\n",
    "\n",
    "source(here(\"config.R\"))\n",
    "\n",
    "set.seed(123)"
   ]
  },
  {
   "cell_type": "markdown",
   "id": "fc858c79",
   "metadata": {},
   "source": [
    "## Output directory"
   ]
  },
  {
   "cell_type": "code",
   "execution_count": 2,
   "id": "02f368b4",
   "metadata": {
    "vscode": {
     "languageId": "r"
    }
   },
   "outputs": [],
   "source": [
    "output_dir <- config$ARCHS4$DATASET_FOLDER\n",
    "dir.create(output_dir, showWarnings = FALSE, recursive = TRUE)"
   ]
  },
  {
   "cell_type": "code",
   "execution_count": 3,
   "id": "c480fce6",
   "metadata": {
    "vscode": {
     "languageId": "r"
    }
   },
   "outputs": [],
   "source": [
    "archs4_svdRes <- readRDS(file.path(output_dir, \"archs4_svdRes.rds\"))"
   ]
  },
  {
   "cell_type": "code",
   "execution_count": 4,
   "id": "098ddccb",
   "metadata": {
    "vscode": {
     "languageId": "r"
    }
   },
   "outputs": [],
   "source": [
    "archs4_fbm_filt <- readRDS(file.path(output_dir, \"archs4_fbm_filt.rds\"))"
   ]
  },
  {
   "cell_type": "markdown",
   "id": "dedb1810",
   "metadata": {},
   "source": [
    "## Estimate K for PLIER"
   ]
  },
  {
   "cell_type": "code",
   "execution_count": 5,
   "id": "52d08c85",
   "metadata": {
    "vscode": {
     "languageId": "r"
    }
   },
   "outputs": [
    {
     "name": "stderr",
     "output_type": "stream",
     "text": [
      "Inferred PLIER K = 670\n",
      "\n"
     ]
    }
   ],
   "source": [
    "PLIER_K_archs4 <- num.pc(list(d = archs4_svdRes$d))\n",
    "message(\"Inferred PLIER K = \", PLIER_K_archs4)"
   ]
  },
  {
   "cell_type": "code",
   "execution_count": 6,
   "id": "5bc7dbc4",
   "metadata": {
    "vscode": {
     "languageId": "r"
    }
   },
   "outputs": [],
   "source": [
    "saveRDS(PLIER_K_archs4, file = file.path(output_dir, \"PLIER_K_archs4.rds\"))"
   ]
  },
  {
   "cell_type": "markdown",
   "id": "d7cdcb0f",
   "metadata": {},
   "source": [
    "## PLIERbase initialization"
   ]
  },
  {
   "cell_type": "code",
   "execution_count": 7,
   "id": "4dc460fb",
   "metadata": {
    "vscode": {
     "languageId": "r"
    }
   },
   "outputs": [
    {
     "name": "stderr",
     "output_type": "stream",
     "text": [
      "****\n",
      "\n",
      "L1 is set to 22.4924948346732\n",
      "\n",
      "L2 is set to 67.4774845040197\n",
      "\n",
      "Progress 1 / 200 | Bdiff=0.579883, minCor=0.381948\n",
      "\n",
      "Progress 2 / 200 | Bdiff=0.044269, minCor=0.737964\n",
      "\n",
      "Progress 3 / 200 | Bdiff=0.016071, minCor=0.908789\n",
      "\n",
      "Progress 4 / 200 | Bdiff=0.011496, minCor=0.959949\n",
      "\n",
      "Progress 5 / 200 | Bdiff=0.008911, minCor=0.970823\n",
      "\n",
      "Progress 6 / 200 | Bdiff=0.007291, minCor=0.966002\n",
      "\n",
      "Progress 7 / 200 | Bdiff=0.006223, minCor=0.971856\n",
      "\n",
      "Progress 8 / 200 | Bdiff=0.005453, minCor=0.982015\n",
      "\n",
      "Progress 9 / 200 | Bdiff=0.004844, minCor=0.982413\n",
      "\n",
      "Progress 10 / 200 | Bdiff=0.004330, minCor=0.982141\n",
      "\n",
      "Progress 11 / 200 | Bdiff=0.003891, minCor=0.986279\n",
      "\n",
      "Progress 12 / 200 | Bdiff=0.003511, minCor=0.978886\n",
      "\n",
      "Progress 13 / 200 | Bdiff=0.003185, minCor=0.969451\n",
      "\n",
      "Progress 14 / 200 | Bdiff=0.002908, minCor=0.971223\n",
      "\n",
      "Progress 15 / 200 | Bdiff=0.002669, minCor=0.982352\n",
      "\n",
      "Progress 16 / 200 | Bdiff=0.002464, minCor=0.990363\n",
      "\n",
      "Progress 17 / 200 | Bdiff=0.002286, minCor=0.990620\n",
      "\n",
      "Progress 18 / 200 | Bdiff=0.002134, minCor=0.991548\n",
      "\n",
      "Progress 19 / 200 | Bdiff=0.001999, minCor=0.990892\n",
      "\n",
      "Progress 20 / 200 | Bdiff=0.080289, minCor=0.775285\n",
      "\n",
      "Progress 21 / 200 | Bdiff=0.022630, minCor=0.820912\n",
      "\n",
      "Progress 22 / 200 | Bdiff=0.012693, minCor=0.930021\n",
      "\n",
      "Progress 23 / 200 | Bdiff=0.009162, minCor=0.928567\n",
      "\n",
      "Progress 24 / 200 | Bdiff=0.007960, minCor=0.924995\n",
      "\n",
      "Progress 25 / 200 | Bdiff=0.007037, minCor=0.951761\n",
      "\n",
      "Progress 26 / 200 | Bdiff=0.006201, minCor=0.955601\n",
      "\n",
      "Progress 27 / 200 | Bdiff=0.005394, minCor=0.964980\n",
      "\n",
      "Progress 28 / 200 | Bdiff=0.004778, minCor=0.979814\n",
      "\n",
      "Progress 29 / 200 | Bdiff=0.004215, minCor=0.979870\n",
      "\n",
      "Progress 30 / 200 | Bdiff=0.003672, minCor=0.977199\n",
      "\n",
      "Progress 31 / 200 | Bdiff=0.003229, minCor=0.985439\n",
      "\n",
      "Progress 32 / 200 | Bdiff=0.002937, minCor=0.984705\n",
      "\n",
      "Progress 33 / 200 | Bdiff=0.002624, minCor=0.980971\n",
      "\n",
      "Progress 34 / 200 | Bdiff=0.002389, minCor=0.976252\n",
      "\n",
      "Progress 35 / 200 | Bdiff=0.002143, minCor=0.977598\n",
      "\n",
      "Progress 36 / 200 | Bdiff=0.001970, minCor=0.983330\n",
      "\n",
      "Progress 37 / 200 | Bdiff=0.001787, minCor=0.987335\n",
      "\n",
      "Progress 38 / 200 | Bdiff=0.001661, minCor=0.988400\n",
      "\n",
      "Progress 39 / 200 | Bdiff=0.001501, minCor=0.985392\n",
      "\n",
      "Progress 40 / 200 | Bdiff=0.001403, minCor=0.986972\n",
      "\n",
      "Progress 41 / 200 | Bdiff=0.001278, minCor=0.989255\n",
      "\n",
      "Progress 42 / 200 | Bdiff=0.001156, minCor=0.992504\n",
      "\n",
      "Progress 43 / 200 | Bdiff=0.001045, minCor=0.994946\n",
      "\n",
      "Progress 44 / 200 | Bdiff=0.000952, minCor=0.994573\n",
      "\n",
      "Progress 45 / 200 | Bdiff=0.000893, minCor=0.993455\n",
      "\n",
      "Progress 46 / 200 | Bdiff=0.000804, minCor=0.993102\n",
      "\n",
      "Progress 47 / 200 | Bdiff=0.000771, minCor=0.992718\n",
      "\n",
      "Progress 48 / 200 | Bdiff=0.000711, minCor=0.994238\n",
      "\n",
      "Progress 49 / 200 | Bdiff=0.000662, minCor=0.994408\n",
      "\n",
      "Progress 50 / 200 | Bdiff=0.000632, minCor=0.995326\n",
      "\n",
      "Progress 51 / 200 | Bdiff=0.000594, minCor=0.993942\n",
      "\n",
      "Progress 52 / 200 | Bdiff=0.000548, minCor=0.994133\n",
      "\n",
      "Progress 53 / 200 | Bdiff=0.000522, minCor=0.993364\n",
      "\n",
      "Progress 54 / 200 | Bdiff=0.000491, minCor=0.989923\n",
      "\n",
      "Converged at iteration= 54 | Bdiff=0.000491,  tol=0.000500     \n",
      "\n"
     ]
    }
   ],
   "source": [
    "N_CORES <- config$ARCHS4$PLIER_PARAMS$N_CORES\n",
    "\n",
    "archs4_baseRes <- PLIERbase(\n",
    "  Y = archs4_fbm_filt,\n",
    "  k = PLIER_K_archs4,\n",
    "  svdres = archs4_svdRes,\n",
    "  ncores = N_CORES, \n",
    "  trace = TRUE\n",
    ")"
   ]
  },
  {
   "cell_type": "code",
   "execution_count": 8,
   "id": "4061273d",
   "metadata": {
    "vscode": {
     "languageId": "r"
    }
   },
   "outputs": [],
   "source": [
    "saveRDS(archs4_baseRes, file = file.path(output_dir, \"archs4_baseRes.rds\"))"
   ]
  }
 ],
 "metadata": {
  "kernelspec": {
   "display_name": "R",
   "language": "R",
   "name": "ir"
  },
  "language_info": {
   "codemirror_mode": "r",
   "file_extension": ".r",
   "mimetype": "text/x-r-source",
   "name": "R",
   "pygments_lexer": "r",
   "version": "4.3.3"
  }
 },
 "nbformat": 4,
 "nbformat_minor": 5
}
