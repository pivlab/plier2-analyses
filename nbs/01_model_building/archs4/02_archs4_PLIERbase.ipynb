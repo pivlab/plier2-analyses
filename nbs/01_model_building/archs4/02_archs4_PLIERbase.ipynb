{
 "cells": [
  {
   "cell_type": "markdown",
   "id": "ca81bc7f",
   "metadata": {},
   "source": [
    "# ARCHS4 model building with PLIER2"
   ]
  },
  {
   "cell_type": "markdown",
   "id": "be805cf1",
   "metadata": {},
   "source": [
    "## Load libraries"
   ]
  },
  {
   "cell_type": "code",
   "execution_count": 9,
   "id": "b4ed5e6f",
   "metadata": {
    "vscode": {
     "languageId": "r"
    }
   },
   "outputs": [],
   "source": [
    "if (!requireNamespace(\"PLIER\", quietly = TRUE)) {\n",
    "    devtools::install_github(\"wgmao/PLIER\")\n",
    "}\n",
    "\n",
    "if (!requireNamespace(\"PLIER2\", quietly = TRUE)) {\n",
    "    REPO_PATH <- \"/home/msubirana/Documents/pivlab/PLIER2\" \n",
    "    remotes::install_local(REPO_PATH, force = TRUE, dependencies = FALSE)\n",
    "}\n",
    "\n",
    "library(bigstatsr)\n",
    "library(data.table)\n",
    "library(dplyr)\n",
    "library(rsvd)\n",
    "library(glmnet)\n",
    "library(Matrix)\n",
    "library(knitr)\n",
    "library(here)\n",
    "library(PLIER)\n",
    "library(PLIER2)\n",
    "library(hdf5r)\n",
    "library(biomaRt)\n",
    "\n",
    "source(here(\"config.R\"))\n",
    "\n",
    "set.seed(123)"
   ]
  },
  {
   "cell_type": "markdown",
   "id": "fc858c79",
   "metadata": {},
   "source": [
    "## Output directory"
   ]
  },
  {
   "cell_type": "code",
   "execution_count": 10,
   "id": "02f368b4",
   "metadata": {
    "vscode": {
     "languageId": "r"
    }
   },
   "outputs": [],
   "source": [
    "output_dir <- config$ARCHS4$DATASET_FOLDER\n",
    "dir.create(output_dir, showWarnings = FALSE, recursive = TRUE)"
   ]
  },
  {
   "cell_type": "code",
   "execution_count": 11,
   "id": "c480fce6",
   "metadata": {
    "vscode": {
     "languageId": "r"
    }
   },
   "outputs": [],
   "source": [
    "archs4_svdRes <- readRDS(file.path(output_dir, \"archs4_svdRes.rds\"))"
   ]
  },
  {
   "cell_type": "code",
   "execution_count": 12,
   "id": "098ddccb",
   "metadata": {
    "vscode": {
     "languageId": "r"
    }
   },
   "outputs": [],
   "source": [
    "archs4_fbm_filt <- readRDS(file.path(output_dir, \"archs4_fbm_filt.rds\"))"
   ]
  },
  {
   "cell_type": "markdown",
   "id": "dedb1810",
   "metadata": {},
   "source": [
    "## Estimate K for PLIER"
   ]
  },
  {
   "cell_type": "code",
   "execution_count": 13,
   "id": "52d08c85",
   "metadata": {
    "vscode": {
     "languageId": "r"
    }
   },
   "outputs": [
    {
     "name": "stderr",
     "output_type": "stream",
     "text": [
      "Inferred PLIER K = 486\n",
      "\n"
     ]
    }
   ],
   "source": [
    "PLIER_K_archs4 <- num.pc(list(d = archs4_svdRes$d)) * 2\n",
    "message(\"Inferred PLIER K = \", PLIER_K_archs4)"
   ]
  },
  {
   "cell_type": "code",
   "execution_count": 14,
   "id": "5bc7dbc4",
   "metadata": {
    "vscode": {
     "languageId": "r"
    }
   },
   "outputs": [],
   "source": [
    "saveRDS(PLIER_K_archs4, file = file.path(output_dir, \"PLIER_K_archs4.rds\"))"
   ]
  },
  {
   "cell_type": "markdown",
   "id": "d7cdcb0f",
   "metadata": {},
   "source": [
    "## PLIERbase initialization"
   ]
  },
  {
   "cell_type": "code",
   "execution_count": 15,
   "id": "4dc460fb",
   "metadata": {
    "vscode": {
     "languageId": "r"
    }
   },
   "outputs": [
    {
     "name": "stderr",
     "output_type": "stream",
     "text": [
      "****\n",
      "\n",
      "L1 is set to 37.0524127735352\n",
      "\n",
      "L2 is set to 111.157238320606\n",
      "\n",
      "Progress 1 / 200 | Bdiff=0.424878, minCor=0.675275\n",
      "\n",
      "Progress 2 / 200 | Bdiff=0.033202, minCor=0.866487\n",
      "\n",
      "Progress 3 / 200 | Bdiff=0.013993, minCor=0.960229\n",
      "\n",
      "Progress 4 / 200 | Bdiff=0.009870, minCor=0.973725\n",
      "\n",
      "Progress 5 / 200 | Bdiff=0.007442, minCor=0.983961\n",
      "\n",
      "Progress 6 / 200 | Bdiff=0.005902, minCor=0.990167\n",
      "\n",
      "Progress 7 / 200 | Bdiff=0.004871, minCor=0.991543\n",
      "\n",
      "Progress 8 / 200 | Bdiff=0.004146, minCor=0.992941\n",
      "\n",
      "Progress 9 / 200 | Bdiff=0.003611, minCor=0.994355\n",
      "\n",
      "Progress 10 / 200 | Bdiff=0.003197, minCor=0.994991\n",
      "\n",
      "Progress 11 / 200 | Bdiff=0.002872, minCor=0.994489\n",
      "\n",
      "Progress 12 / 200 | Bdiff=0.002611, minCor=0.993966\n",
      "\n",
      "Progress 13 / 200 | Bdiff=0.002401, minCor=0.993622\n",
      "\n",
      "Progress 14 / 200 | Bdiff=0.002230, minCor=0.993618\n",
      "\n",
      "Progress 15 / 200 | Bdiff=0.002090, minCor=0.994049\n",
      "\n",
      "Progress 16 / 200 | Bdiff=0.001975, minCor=0.994870\n",
      "\n",
      "Progress 17 / 200 | Bdiff=0.001879, minCor=0.995258\n",
      "\n",
      "Progress 18 / 200 | Bdiff=0.001798, minCor=0.994060\n",
      "\n",
      "Progress 19 / 200 | Bdiff=0.001725, minCor=0.993004\n",
      "\n",
      "Progress 20 / 200 | Bdiff=0.055725, minCor=0.896113\n",
      "\n",
      "Progress 21 / 200 | Bdiff=0.020621, minCor=0.957513\n",
      "\n",
      "Progress 22 / 200 | Bdiff=0.014603, minCor=0.976110\n",
      "\n",
      "Progress 23 / 200 | Bdiff=0.010554, minCor=0.978995\n",
      "\n",
      "Progress 24 / 200 | Bdiff=0.008197, minCor=0.978469\n",
      "\n",
      "Progress 25 / 200 | Bdiff=0.006778, minCor=0.982458\n",
      "\n",
      "Progress 26 / 200 | Bdiff=0.005788, minCor=0.979423\n",
      "\n",
      "Progress 27 / 200 | Bdiff=0.004986, minCor=0.982060\n",
      "\n",
      "Progress 28 / 200 | Bdiff=0.004414, minCor=0.986954\n",
      "\n",
      "Progress 29 / 200 | Bdiff=0.003952, minCor=0.985896\n",
      "\n",
      "Progress 30 / 200 | Bdiff=0.003500, minCor=0.985939\n",
      "\n",
      "Progress 31 / 200 | Bdiff=0.003044, minCor=0.986883\n",
      "\n",
      "Progress 32 / 200 | Bdiff=0.002685, minCor=0.988599\n",
      "\n",
      "Progress 33 / 200 | Bdiff=0.002393, minCor=0.986626\n",
      "\n",
      "Progress 34 / 200 | Bdiff=0.002134, minCor=0.989972\n",
      "\n",
      "Progress 35 / 200 | Bdiff=0.002025, minCor=0.989442\n",
      "\n",
      "Progress 36 / 200 | Bdiff=0.001872, minCor=0.991911\n",
      "\n",
      "Progress 37 / 200 | Bdiff=0.001764, minCor=0.993000\n",
      "\n",
      "Progress 38 / 200 | Bdiff=0.001660, minCor=0.992938\n",
      "\n",
      "Progress 39 / 200 | Bdiff=0.001561, minCor=0.989534\n",
      "\n",
      "Progress 40 / 200 | Bdiff=0.001456, minCor=0.984879\n",
      "\n",
      "Progress 41 / 200 | Bdiff=0.001276, minCor=0.977396\n",
      "\n",
      "Progress 42 / 200 | Bdiff=0.001223, minCor=0.964474\n",
      "\n",
      "Progress 43 / 200 | Bdiff=0.001181, minCor=0.944253\n",
      "\n",
      "Progress 44 / 200 | Bdiff=0.001143, minCor=0.971197\n",
      "\n",
      "Progress 45 / 200 | Bdiff=0.001199, minCor=0.987486\n",
      "\n",
      "Progress 46 / 200 | Bdiff=0.001048, minCor=0.994083\n",
      "\n",
      "Progress 47 / 200 | Bdiff=0.001040, minCor=0.994776\n",
      "\n",
      "Progress 48 / 200 | Bdiff=0.001070, minCor=0.995746\n",
      "\n",
      "Progress 49 / 200 | Bdiff=0.001052, minCor=0.993554\n",
      "\n",
      "Progress 50 / 200 | Bdiff=0.000966, minCor=0.995405\n",
      "\n",
      "Progress 51 / 200 | Bdiff=0.000994, minCor=0.995156\n",
      "\n",
      "Progress 52 / 200 | Bdiff=0.000981, minCor=0.992059\n",
      "\n",
      "Progress 53 / 200 | Bdiff=0.000913, minCor=0.995454\n",
      "\n",
      "Progress 54 / 200 | Bdiff=0.000798, minCor=0.995499\n",
      "\n",
      "Progress 55 / 200 | Bdiff=0.000675, minCor=0.995682\n",
      "\n",
      "Progress 56 / 200 | Bdiff=0.000585, minCor=0.996266\n",
      "\n",
      "Progress 57 / 200 | Bdiff=0.000501, minCor=0.996562\n",
      "\n",
      "Progress 58 / 200 | Bdiff=0.000434, minCor=0.996400\n",
      "\n",
      "Converged at iteration= 58 | Bdiff=0.000434,  tol=0.000500     \n",
      "\n"
     ]
    }
   ],
   "source": [
    "N_CORES <- config$ARCHS4$PLIER_PARAMS$N_CORES\n",
    "\n",
    "archs4_baseRes <- PLIERbase(\n",
    "  Y = archs4_fbm_filt,\n",
    "  k = PLIER_K_archs4,\n",
    "  svdres = archs4_svdRes,\n",
    "  ncores = N_CORES, \n",
    "  trace = TRUE\n",
    ")"
   ]
  },
  {
   "cell_type": "code",
   "execution_count": 16,
   "id": "4061273d",
   "metadata": {
    "vscode": {
     "languageId": "r"
    }
   },
   "outputs": [],
   "source": [
    "saveRDS(archs4_baseRes, file = file.path(output_dir, \"archs4_baseRes.rds\"))"
   ]
  }
 ],
 "metadata": {
  "kernelspec": {
   "display_name": "R",
   "language": "R",
   "name": "ir"
  },
  "language_info": {
   "codemirror_mode": "r",
   "file_extension": ".r",
   "mimetype": "text/x-r-source",
   "name": "R",
   "pygments_lexer": "r",
   "version": "4.3.3"
  }
 },
 "nbformat": 4,
 "nbformat_minor": 5
}
