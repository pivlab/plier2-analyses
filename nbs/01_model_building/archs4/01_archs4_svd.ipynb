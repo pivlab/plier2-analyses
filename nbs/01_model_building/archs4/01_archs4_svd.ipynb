{
 "cells": [
  {
   "cell_type": "markdown",
   "id": "ca81bc7f",
   "metadata": {},
   "source": [
    "# ARCHS4 model building with PLIER2"
   ]
  },
  {
   "cell_type": "markdown",
   "id": "be805cf1",
   "metadata": {},
   "source": [
    "## Load libraries"
   ]
  },
  {
   "cell_type": "code",
   "execution_count": null,
   "id": "b4ed5e6f",
   "metadata": {
    "vscode": {
     "languageId": "r"
    }
   },
   "outputs": [
    {
     "name": "stderr",
     "output_type": "stream",
     "text": [
      "\n",
      "Attaching package: ‘dplyr’\n",
      "\n",
      "\n",
      "The following objects are masked from ‘package:data.table’:\n",
      "\n",
      "    between, first, last\n",
      "\n",
      "\n",
      "The following objects are masked from ‘package:stats’:\n",
      "\n",
      "    filter, lag\n",
      "\n",
      "\n",
      "The following objects are masked from ‘package:base’:\n",
      "\n",
      "    intersect, setdiff, setequal, union\n",
      "\n",
      "\n",
      "Loading required package: Matrix\n",
      "\n",
      "Loaded glmnet 4.1-10\n",
      "\n",
      "here() starts at /home/msubirana/Documents/pivlab/plier2-analyses\n",
      "\n",
      "Loading required package: RColorBrewer\n",
      "\n",
      "Loading required package: gplots\n",
      "\n",
      "\n",
      "Attaching package: ‘gplots’\n",
      "\n",
      "\n",
      "The following object is masked from ‘package:stats’:\n",
      "\n",
      "    lowess\n",
      "\n",
      "\n",
      "Loading required package: pheatmap\n",
      "\n",
      "Loading required package: qvalue\n",
      "\n",
      "\n",
      "Attaching package: ‘PLIER2’\n",
      "\n",
      "\n",
      "The following objects are masked from ‘package:PLIER’:\n",
      "\n",
      "    commonRows, num.pc, projectPLIER\n",
      "\n",
      "\n",
      "The following object is masked from ‘package:bigstatsr’:\n",
      "\n",
      "    AUC\n",
      "\n",
      "\n"
     ]
    }
   ],
   "source": [
    "if (!requireNamespace(\"PLIER\", quietly = TRUE)) {\n",
    "    devtools::install_github(\"wgmao/PLIER\")\n",
    "}\n",
    "\n",
    "if (!requireNamespace(\"PLIER2\", quietly = TRUE)) {\n",
    "    REPO_PATH <- \"/home/msubirana/Documents/pivlab/PLIER2\" \n",
    "    remotes::install_local(REPO_PATH, force = TRUE, dependencies = FALSE)\n",
    "}\n",
    "\n",
    "library(bigstatsr)\n",
    "library(data.table)\n",
    "library(dplyr)\n",
    "library(rsvd)\n",
    "library(glmnet)\n",
    "library(Matrix)\n",
    "library(knitr)\n",
    "library(here)\n",
    "library(PLIER)\n",
    "library(PLIER2)\n",
    "library(hdf5r)\n",
    "library(biomaRt)\n",
    "\n",
    "source(here(\"config.R\"))"
   ]
  },
  {
   "cell_type": "markdown",
   "id": "fc858c79",
   "metadata": {},
   "source": [
    "## Output directory"
   ]
  },
  {
   "cell_type": "code",
   "execution_count": 2,
   "id": "02f368b4",
   "metadata": {
    "vscode": {
     "languageId": "r"
    }
   },
   "outputs": [],
   "source": [
    "output_dir <- config$ARCHS4$DATASET_FOLDER\n",
    "dir.create(output_dir, showWarnings = FALSE, recursive = TRUE)"
   ]
  },
  {
   "cell_type": "code",
   "execution_count": null,
   "id": "7637a67b",
   "metadata": {
    "vscode": {
     "languageId": "r"
    }
   },
   "outputs": [],
   "source": [
    "archs4_fbm_filt <- readRDS(file.path(output_dir, \"archs4_fbm_filt.rds\"))"
   ]
  },
  {
   "cell_type": "markdown",
   "id": "62186aa8",
   "metadata": {},
   "source": [
    "## SVD computation and SVD K estimation"
   ]
  },
  {
   "cell_type": "code",
   "execution_count": null,
   "id": "2610a71d",
   "metadata": {
    "vscode": {
     "languageId": "r"
    }
   },
   "outputs": [],
   "source": [
    "g_fb <- nrow(archs4_fbm_filt)\n",
    "samples_fb <- ncol(archs4_fbm_filt)\n",
    "SVD_K_archs4  <- min(g_fb, samples_fb) - 1\n",
    "\n",
    "message(\"Using SVD K = \", SVD_K_archs4)\n",
    "\n",
    "set.seed(1)\n",
    "\n",
    "N_CORES <- config$ARCHS4$PLIER_PARAMS$RANDOM_SVD_N_CORES\n",
    "\n",
    "if (N_CORES > 1) {\n",
    "  # if we are parallelizing, then disable BLAS parallelization\n",
    "  options(bigstatsr.check.parallel.blas = FALSE)\n",
    "  blas_nproc <- getOption(\"default.nproc.blas\")\n",
    "  options(default.nproc.blas = NULL)\n",
    "}\n",
    "\n",
    "archs4_svdRes=big_randomSVD(\n",
    "  archs4_fbm_filt,\n",
    "  k = SVD_K_archs4,\n",
    "  ncores = N_CORES\n",
    ")\n",
    "\n",
    "if (N_CORES > 1) {\n",
    "  # restore previous state\n",
    "  options(bigstatsr.check.parallel.blas = TRUE)\n",
    "  options(default.nproc.blas = blas_nproc)\n",
    "}"
   ]
  },
  {
   "cell_type": "code",
   "execution_count": null,
   "id": "25f289cf",
   "metadata": {
    "vscode": {
     "languageId": "r"
    }
   },
   "outputs": [],
   "source": [
    "saveRDS(archs4_svdRes, file = file.path(output_dir, \"archs4_svdRes.rds\"))"
   ]
  }
 ],
 "metadata": {
  "kernelspec": {
   "display_name": "R",
   "language": "R",
   "name": "ir"
  },
  "language_info": {
   "codemirror_mode": "r",
   "file_extension": ".r",
   "mimetype": "text/x-r-source",
   "name": "R",
   "pygments_lexer": "r",
   "version": "4.3.3"
  }
 },
 "nbformat": 4,
 "nbformat_minor": 5
}
