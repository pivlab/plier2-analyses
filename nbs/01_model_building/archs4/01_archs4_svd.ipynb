{
 "cells": [
  {
   "cell_type": "markdown",
   "id": "ca81bc7f",
   "metadata": {},
   "source": [
    "# ARCHS4 model building with PLIER2"
   ]
  },
  {
   "cell_type": "markdown",
   "id": "be805cf1",
   "metadata": {},
   "source": [
    "## Load libraries"
   ]
  },
  {
   "cell_type": "code",
   "execution_count": 8,
   "id": "b4ed5e6f",
   "metadata": {
    "vscode": {
     "languageId": "r"
    }
   },
   "outputs": [],
   "source": [
    "if (!requireNamespace(\"PLIER\", quietly = TRUE)) {\n",
    "    devtools::install_github(\"wgmao/PLIER\")\n",
    "}\n",
    "\n",
    "if (!requireNamespace(\"PLIER2\", quietly = TRUE)) {\n",
    "    REPO_PATH <- \"/home/msubirana/Documents/pivlab/PLIER2\" \n",
    "    remotes::install_local(REPO_PATH, force = TRUE, dependencies = FALSE)\n",
    "}\n",
    "\n",
    "library(bigstatsr)\n",
    "library(data.table)\n",
    "library(dplyr)\n",
    "library(rsvd)\n",
    "library(glmnet)\n",
    "library(Matrix)\n",
    "library(knitr)\n",
    "library(here)\n",
    "library(PLIER)\n",
    "library(PLIER2)\n",
    "library(hdf5r)\n",
    "library(biomaRt)\n",
    "\n",
    "source(here(\"config.R\"))\n",
    "\n",
    "set.seed(123)"
   ]
  },
  {
   "cell_type": "markdown",
   "id": "fc858c79",
   "metadata": {},
   "source": [
    "## Output directory"
   ]
  },
  {
   "cell_type": "code",
   "execution_count": 9,
   "id": "02f368b4",
   "metadata": {
    "vscode": {
     "languageId": "r"
    }
   },
   "outputs": [],
   "source": [
    "output_dir <- config$ARCHS4$DATASET_FOLDER\n",
    "dir.create(output_dir, showWarnings = FALSE, recursive = TRUE)"
   ]
  },
  {
   "cell_type": "code",
   "execution_count": 10,
   "id": "7637a67b",
   "metadata": {
    "vscode": {
     "languageId": "r"
    }
   },
   "outputs": [],
   "source": [
    "archs4_fbm_filt <- readRDS(file.path(output_dir, \"archs4_fbm_filt.rds\"))"
   ]
  },
  {
   "cell_type": "markdown",
   "id": "62186aa8",
   "metadata": {},
   "source": [
    "## SVD computation and SVD K estimation"
   ]
  },
  {
   "cell_type": "code",
   "execution_count": 11,
   "id": "e30dfb7e",
   "metadata": {
    "vscode": {
     "languageId": "r"
    }
   },
   "outputs": [
    {
     "name": "stderr",
     "output_type": "stream",
     "text": [
      "Using SVD K = 4999\n",
      "\n"
     ]
    }
   ],
   "source": [
    "g_fb <- nrow(archs4_fbm_filt)\n",
    "samples_fb <- ncol(archs4_fbm_filt)\n",
    "SVD_K_archs4  <- min(g_fb, samples_fb) - 1\n",
    "\n",
    "message(\"Using SVD K = \", SVD_K_archs4)"
   ]
  },
  {
   "cell_type": "code",
   "execution_count": 12,
   "id": "2610a71d",
   "metadata": {
    "vscode": {
     "languageId": "r"
    }
   },
   "outputs": [],
   "source": [
    "N_CORES <- config$ARCHS4$PLIER_PARAMS$RANDOM_SVD_N_CORES\n",
    "\n",
    "if (N_CORES > 1) {\n",
    "  # if we are parallelizing, then disable BLAS parallelization\n",
    "  options(bigstatsr.check.parallel.blas = FALSE)\n",
    "  blas_nproc <- getOption(\"default.nproc.blas\")\n",
    "  options(default.nproc.blas = NULL)\n",
    "}\n",
    "\n",
    "archs4_svdRes=big_randomSVD(\n",
    "  archs4_fbm_filt,\n",
    "  k = SVD_K_archs4,\n",
    "  ncores = N_CORES\n",
    ")\n",
    "\n",
    "if (N_CORES > 1) {\n",
    "  # restore previous state\n",
    "  options(bigstatsr.check.parallel.blas = TRUE)\n",
    "  options(default.nproc.blas = blas_nproc)\n",
    "}"
   ]
  },
  {
   "cell_type": "code",
   "execution_count": 13,
   "id": "1de26434",
   "metadata": {
    "vscode": {
     "languageId": "r"
    }
   },
   "outputs": [],
   "source": [
    "# remove non-finite singular values (NA/NaN/Inf) and corresponding u/v columns\n",
    "\n",
    "n_before <- length(archs4_svdRes$d)\n",
    "valid_idx <- which(is.finite(archs4_svdRes$d))\n",
    "\n",
    "archs4_svdRes$d <- archs4_svdRes$d[valid_idx]\n",
    "archs4_svdRes$u <- archs4_svdRes$u[, valid_idx, drop = FALSE]\n",
    "archs4_svdRes$v <- archs4_svdRes$v[, valid_idx, drop = FALSE]"
   ]
  },
  {
   "cell_type": "code",
   "execution_count": 14,
   "id": "25f289cf",
   "metadata": {
    "vscode": {
     "languageId": "r"
    }
   },
   "outputs": [],
   "source": [
    "saveRDS(archs4_svdRes, file = file.path(output_dir, \"archs4_svdRes.rds\"))"
   ]
  }
 ],
 "metadata": {
  "kernelspec": {
   "display_name": "R",
   "language": "R",
   "name": "ir"
  },
  "language_info": {
   "codemirror_mode": "r",
   "file_extension": ".r",
   "mimetype": "text/x-r-source",
   "name": "R",
   "pygments_lexer": "r",
   "version": "4.3.3"
  }
 },
 "nbformat": 4,
 "nbformat_minor": 5
}
