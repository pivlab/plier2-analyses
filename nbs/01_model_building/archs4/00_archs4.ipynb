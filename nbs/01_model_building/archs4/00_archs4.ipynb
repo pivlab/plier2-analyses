{
 "cells": [
  {
   "cell_type": "markdown",
   "id": "ca81bc7f",
   "metadata": {},
   "source": [
    "# ARCHS4 model building with PLIER2 and PLIER"
   ]
  },
  {
   "cell_type": "markdown",
   "id": "e69fa323",
   "metadata": {
    "vscode": {
     "languageId": "r"
    }
   },
   "source": [
    "# PLIER2"
   ]
  },
  {
   "cell_type": "markdown",
   "id": "be805cf1",
   "metadata": {},
   "source": [
    "## Load libraries"
   ]
  },
  {
   "cell_type": "code",
   "execution_count": null,
   "id": "b4ed5e6f",
   "metadata": {
    "vscode": {
     "languageId": "r"
    }
   },
   "outputs": [
    {
     "name": "stderr",
     "output_type": "stream",
     "text": [
      "\n",
      "Attaching package: ‘dplyr’\n",
      "\n",
      "\n",
      "The following objects are masked from ‘package:data.table’:\n",
      "\n",
      "    between, first, last\n",
      "\n",
      "\n",
      "The following objects are masked from ‘package:stats’:\n",
      "\n",
      "    filter, lag\n",
      "\n",
      "\n",
      "The following objects are masked from ‘package:base’:\n",
      "\n",
      "    intersect, setdiff, setequal, union\n",
      "\n",
      "\n",
      "Loading required package: Matrix\n",
      "\n",
      "Loaded glmnet 4.1-10\n",
      "\n",
      "here() starts at /home/msubirana/Documents/pivlab/plier2-analyses\n",
      "\n",
      "Loading required package: RColorBrewer\n",
      "\n",
      "Loading required package: gplots\n",
      "\n",
      "\n",
      "Attaching package: ‘gplots’\n",
      "\n",
      "\n",
      "The following object is masked from ‘package:stats’:\n",
      "\n",
      "    lowess\n",
      "\n",
      "\n",
      "Loading required package: pheatmap\n",
      "\n",
      "Loading required package: qvalue\n",
      "\n",
      "\n",
      "Attaching package: ‘PLIER2’\n",
      "\n",
      "\n",
      "The following objects are masked from ‘package:PLIER’:\n",
      "\n",
      "    commonRows, num.pc, projectPLIER\n",
      "\n",
      "\n",
      "The following object is masked from ‘package:bigstatsr’:\n",
      "\n",
      "    AUC\n",
      "\n",
      "\n"
     ]
    }
   ],
   "source": [
    "if (!requireNamespace(\"PLIER\", quietly = TRUE)) {\n",
    "    devtools::install_github(\"wgmao/PLIER\")\n",
    "}\n",
    "\n",
    "if (!requireNamespace(\"PLIER2\", quietly = TRUE)) {\n",
    "    REPO_PATH <- \"/home/msubirana/Documents/pivlab/PLIER2\" \n",
    "    remotes::install_local(REPO_PATH, force = TRUE, dependencies = FALSE)\n",
    "}\n",
    "\n",
    "library(bigstatsr)\n",
    "library(data.table)\n",
    "library(dplyr)\n",
    "library(rsvd)\n",
    "library(glmnet)\n",
    "library(Matrix)\n",
    "library(knitr)\n",
    "library(here)\n",
    "library(PLIER)\n",
    "library(PLIER2)\n",
    "library(hdf5r)\n",
    "library(biomaRt)\n",
    "\n",
    "source(here(\"config.R\"))"
   ]
  },
  {
   "cell_type": "markdown",
   "id": "fc858c79",
   "metadata": {},
   "source": [
    "## Output directory"
   ]
  },
  {
   "cell_type": "code",
   "execution_count": 2,
   "id": "02f368b4",
   "metadata": {
    "vscode": {
     "languageId": "r"
    }
   },
   "outputs": [],
   "source": [
    "output_dir <- config$ARCHS4$DATASET_FOLDER\n",
    "dir.create(output_dir, showWarnings = FALSE, recursive = TRUE)"
   ]
  },
  {
   "cell_type": "markdown",
   "id": "bf137533",
   "metadata": {},
   "source": [
    "## Download archs4 "
   ]
  },
  {
   "cell_type": "code",
   "execution_count": 3,
   "id": "759882bd",
   "metadata": {
    "vscode": {
     "languageId": "r"
    }
   },
   "outputs": [
    {
     "name": "stdout",
     "output_type": "stream",
     "text": [
      "File already exists. Skipping download.\n"
     ]
    }
   ],
   "source": [
    "if (!file.exists(config$ARCHS4$DATASET_FILE)) {\n",
    "  tryCatch({\n",
    "    download.file(config$ARCHS4$URL, config$ARCHS4$DATASET_FILE, mode = \"wb\")\n",
    "    cat(\"File downloaded successfully to:\", config$ARCHS4$DATASET_FILE, \"\\n\")\n",
    "  }, error = function(e) {\n",
    "    cat(\"Error during download:\", e$message, \"\\n\")\n",
    "  })\n",
    "} else {\n",
    "  cat(\"File already exists. Skipping download.\\n\")\n",
    "}"
   ]
  },
  {
   "cell_type": "markdown",
   "id": "7680eee5",
   "metadata": {},
   "source": [
    "## Preprocess archs4 data"
   ]
  },
  {
   "cell_type": "code",
   "execution_count": 4,
   "id": "98911899",
   "metadata": {
    "vscode": {
     "languageId": "r"
    }
   },
   "outputs": [],
   "source": [
    "file_path <- config$ARCHS4$DATASET_FILE\n",
    "\n",
    "h5        <- H5File$new(file_path, mode = \"r\")\n",
    "dset      <- h5[[\"/data/expression\"]]\n",
    "gene_symbols <- h5[[\"/meta/genes/symbol\"]]$read()\n",
    "gene_ids     <- h5[[\"/meta/genes/ensembl_gene\"]]$read()\n",
    "sample_names <- h5[[\"/meta/samples/geo_accession\"]]$read()\n",
    "sc_prob      <- h5[[\"/meta/samples/singlecellprobability\"]]$read()\n",
    "lib_strategy <- h5[[\"/meta/samples/library_strategy\"]]$read()     "
   ]
  },
  {
   "cell_type": "code",
   "execution_count": 5,
   "id": "fd40f72c",
   "metadata": {
    "vscode": {
     "languageId": "r"
    }
   },
   "outputs": [
    {
     "data": {
      "text/plain": [
       "lib_strategy\n",
       "RNA-Seq \n",
       " 888821 "
      ]
     },
     "metadata": {},
     "output_type": "display_data"
    }
   ],
   "source": [
    "# check all samples RNAseq\n",
    "table(lib_strategy)"
   ]
  },
  {
   "cell_type": "code",
   "execution_count": 6,
   "id": "efef3622",
   "metadata": {
    "vscode": {
     "languageId": "r"
    }
   },
   "outputs": [],
   "source": [
    "# filter single-cell samples\n",
    "keep_samples_idx <- which(sc_prob < 0.5)\n",
    "stopifnot(length(keep_samples_idx) > 0)"
   ]
  },
  {
   "cell_type": "code",
   "execution_count": null,
   "id": "467b0968",
   "metadata": {
    "vscode": {
     "languageId": "r"
    }
   },
   "outputs": [],
   "source": [
    "# Filter out ENSG IDs \n",
    "gene_symbols_no_ensg <- unique(gene_symbols[!grepl(\"^ENSG\", gene_symbols)])\n",
    "gene_symbols_idx <- which(gene_symbols %in% gene_symbols_no_ensg)\n",
    "gene_symbols <- gene_symbols[gene_symbols_idx]\n",
    "mask <- !grepl(\"^ENSG\", gene_symbols) & !is.na(gene_symbols)\n",
    "symbols <- gene_symbols[mask]\n",
    "idx <- gene_symbols_idx[mask]\n",
    "keep <- !duplicated(symbols)\n",
    "gene_symbols <- symbols[keep]\n",
    "gene_symbols_idx <- idx[keep]"
   ]
  },
  {
   "cell_type": "code",
   "execution_count": 8,
   "id": "c859e61f",
   "metadata": {
    "vscode": {
     "languageId": "r"
    }
   },
   "outputs": [],
   "source": [
    "sample_names  <- sample_names[keep_samples_idx]\n",
    "n_genes <- length(gene_symbols)\n",
    "n_samples <- length(sample_names)"
   ]
  },
  {
   "cell_type": "code",
   "execution_count": 9,
   "id": "a50abdca",
   "metadata": {
    "vscode": {
     "languageId": "r"
    }
   },
   "outputs": [
    {
     "name": "stderr",
     "output_type": "stream",
     "text": [
      "Backing file not found – building FBM from scratch\n",
      "\n"
     ]
    }
   ],
   "source": [
    "# Create the FBM\n",
    "fbm_file <- file.path(output_dir, \"FBMarchs4\")\n",
    "bkfile   <- paste0(fbm_file, \".bk\")\n",
    "\n",
    "if (!file.exists(bkfile)) {\n",
    "  message(\"Backing file not found – building FBM from scratch\")\n",
    "  archs4FBM <- FBM(\n",
    "    nrow        = n_genes,\n",
    "    ncol        = n_samples,\n",
    "    backingfile = fbm_file,\n",
    "    create_bk   = TRUE\n",
    "  )\n",
    "} else {\n",
    "  message(\"Found existing FBM backing file – re-opening\")\n",
    "  archs4FBM <- FBM(\n",
    "    nrow        = n_genes,\n",
    "    ncol        = n_samples,\n",
    "    backingfile = fbm_file,\n",
    "    create_bk   = FALSE\n",
    "  )\n",
    "}"
   ]
  },
  {
   "cell_type": "code",
   "execution_count": 10,
   "id": "332105d8",
   "metadata": {
    "vscode": {
     "languageId": "r"
    }
   },
   "outputs": [
    {
     "name": "stdout",
     "output_type": "stream",
     "text": [
      "  |                                                                      |   0%"
     ]
    }
   ],
   "source": [
    "block_size <- 100 \n",
    "n_blocks   <- ceiling(n_samples / block_size)\n",
    "\n",
    "pb <- txtProgressBar(min = 0, max = n_blocks, style = 3)\n",
    "\n",
    "for (i in seq_len(n_blocks)) {\n",
    "  setTxtProgressBar(pb, i)\n",
    "\n",
    "  start_col <- (i-1) * block_size + 1\n",
    "  end_col   <- min(i * block_size, n_samples)\n",
    "  \n",
    "  # Get the sample indices for this block\n",
    "  sample_indices <- keep_samples_idx[start_col:end_col]\n",
    "\n",
    "  raw_block <- tryCatch(\n",
    "    dset[sample_indices, gene_symbols_idx],\n",
    "    error = function(e) {\n",
    "      message(\"Error with block: \", i)\n",
    "      matrix(1e-10, length(sample_indices), length(gene_symbols_idx))\n",
    "    }\n",
    "  )\n",
    "\n",
    "  # Transpose to get genes × samples\n",
    "  raw_block_t <- t(raw_block)\n",
    "  \n",
    "  # Since gene_symbols and gene_symbols_idx correspond 1:1 after filtering,\n",
    "  # we can use gene_symbols directly as the grouping variable\n",
    "  raw_block_summed <- rowsum(\n",
    "    raw_block_t,\n",
    "    group = gene_symbols\n",
    "  )\n",
    "  \n",
    "  # Write to FBM (genes × samples)\n",
    "  archs4FBM[, start_col:end_col] <- raw_block_summed\n",
    "}\n",
    "\n",
    "close(pb)\n",
    "\n",
    "message(\"Completed FBM: \", archs4FBM$nrow, \" genes × \", archs4FBM$ncol, \" samples\")"
   ]
  },
  {
   "cell_type": "code",
   "execution_count": null,
   "id": "0eb1dd53",
   "metadata": {
    "vscode": {
     "languageId": "r"
    }
   },
   "outputs": [],
   "source": [
    "# CPM normalization\n",
    "N_CORES <- config$GENERAL$N_CORES\n",
    "cpmPLIER2FBM(archs4FBM, block_size_n, ncores=N_CORES)"
   ]
  },
  {
   "cell_type": "code",
   "execution_count": null,
   "id": "10006eaf",
   "metadata": {
    "vscode": {
     "languageId": "r"
    }
   },
   "outputs": [],
   "source": [
    "# Preprocess and z‑score FBM\n",
    "prep_archs4 <- preprocessPLIER2FBM(\n",
    "  fbm        = archs4FBM,\n",
    "  mean_cutoff= config$ARCHS4$GENES_MEAN_CUTOFF,\n",
    "  var_cutoff = config$ARCHS4$GENES_VAR_CUTOFF,\n",
    "  ncores=N_CORES\n",
    ")\n",
    "\n",
    "archs4_fbm_filt <- prep_archs4$fbm_filtered\n",
    "archs4_rowStats <- prep_archs4$rowStats"
   ]
  },
  {
   "cell_type": "code",
   "execution_count": null,
   "id": "9a85dd81",
   "metadata": {
    "vscode": {
     "languageId": "r"
    }
   },
   "outputs": [],
   "source": [
    "zscorePLIER2FBM(archs4_fbm_filt, archs4_rowStats, ncores=N_CORES)\n",
    "archs4_genes <- genes[prep_archs4$kept_rows]"
   ]
  },
  {
   "cell_type": "code",
   "execution_count": null,
   "id": "79fe02c8",
   "metadata": {
    "vscode": {
     "languageId": "r"
    }
   },
   "outputs": [],
   "source": [
    "saveRDS(sample_names, file = file.path(output_dir, \"archs4_samples.rds\"))"
   ]
  },
  {
   "cell_type": "code",
   "execution_count": null,
   "id": "e3eb0bbc",
   "metadata": {
    "vscode": {
     "languageId": "r"
    }
   },
   "outputs": [],
   "source": [
    "saveRDS(archs4_genes, file = file.path(output_dir, \"archs4_genes.rds\"))"
   ]
  },
  {
   "cell_type": "code",
   "execution_count": null,
   "id": "54ef3dfa",
   "metadata": {
    "vscode": {
     "languageId": "r"
    }
   },
   "outputs": [],
   "source": [
    "saveRDS(archs4_fbm_filt, file = file.path(output_dir, \"archs4_fbm_filt.rds\"))"
   ]
  },
  {
   "cell_type": "markdown",
   "id": "62186aa8",
   "metadata": {},
   "source": [
    "## SVD computation and SVD K estimation"
   ]
  },
  {
   "cell_type": "code",
   "execution_count": null,
   "id": "2610a71d",
   "metadata": {
    "vscode": {
     "languageId": "r"
    }
   },
   "outputs": [],
   "source": [
    "g_fb <- nrow(archs4_fbm_filt)\n",
    "samples_fb <- ncol(archs4_fbm_filt)\n",
    "SVD_K_archs4  <- min(g_fb, samples_fb) - 1\n",
    "\n",
    "message(\"Using SVD K = \", SVD_K_archs4)\n",
    "\n",
    "set.seed(1)\n",
    "\n",
    "N_CORES <- config$ARCHS4$PLIER_PARAMS$RANDOM_SVD_N_CORES\n",
    "\n",
    "if (N_CORES > 1) {\n",
    "  # if we are parallelizing, then disable BLAS parallelization\n",
    "  options(bigstatsr.check.parallel.blas = FALSE)\n",
    "  blas_nproc <- getOption(\"default.nproc.blas\")\n",
    "  options(default.nproc.blas = NULL)\n",
    "}\n",
    "\n",
    "archs4_svdRes=big_randomSVD(\n",
    "  archs4_fbm_filt,\n",
    "  k = SVD_K_archs4,\n",
    "  ncores = N_CORES\n",
    ")\n",
    "\n",
    "if (N_CORES > 1) {\n",
    "  # restore previous state\n",
    "  options(bigstatsr.check.parallel.blas = TRUE)\n",
    "  options(default.nproc.blas = blas_nproc)\n",
    "}"
   ]
  },
  {
   "cell_type": "code",
   "execution_count": null,
   "id": "25f289cf",
   "metadata": {
    "vscode": {
     "languageId": "r"
    }
   },
   "outputs": [],
   "source": [
    "saveRDS(archs4_svdRes, file = file.path(output_dir, \"archs4_svdRes.rds\"))"
   ]
  },
  {
   "cell_type": "markdown",
   "id": "dedb1810",
   "metadata": {},
   "source": [
    "## Estimate K for PLIER"
   ]
  },
  {
   "cell_type": "code",
   "execution_count": null,
   "id": "52d08c85",
   "metadata": {
    "vscode": {
     "languageId": "r"
    }
   },
   "outputs": [],
   "source": [
    "PLIER_K_archs4 <- num.pc(list(d = archs4_svdRes$d))\n",
    "message(\"Inferred PLIER K = \", PLIER_K_archs4)"
   ]
  },
  {
   "cell_type": "code",
   "execution_count": null,
   "id": "5bc7dbc4",
   "metadata": {
    "vscode": {
     "languageId": "r"
    }
   },
   "outputs": [],
   "source": [
    "saveRDS(PLIER_K_archs4, file = file.path(output_dir, \"PLIER_K_archs4.rds\"))"
   ]
  },
  {
   "cell_type": "markdown",
   "id": "d7cdcb0f",
   "metadata": {},
   "source": [
    "## PLIERbase initialization"
   ]
  },
  {
   "cell_type": "code",
   "execution_count": null,
   "id": "4dc460fb",
   "metadata": {
    "vscode": {
     "languageId": "r"
    }
   },
   "outputs": [],
   "source": [
    "N_CORES <- config$ARCHS4$PLIER_PARAMS$N_CORES\n",
    "\n",
    "archs4_baseRes <- PLIERbase(\n",
    "  Y = archs4_fbm_filt,\n",
    "  k = PLIER_K_archs4,\n",
    "  svdres = archs4_svdRes,\n",
    "  ncores = N_CORES, \n",
    "  trace = TRUE\n",
    ")"
   ]
  },
  {
   "cell_type": "code",
   "execution_count": null,
   "id": "4061273d",
   "metadata": {
    "vscode": {
     "languageId": "r"
    }
   },
   "outputs": [],
   "source": [
    "saveRDS(archs4_baseRes, file = file.path(output_dir, \"archs4_baseRes.rds\"))"
   ]
  },
  {
   "cell_type": "markdown",
   "id": "6ee267bb",
   "metadata": {},
   "source": [
    "## Prepare pathway priors"
   ]
  },
  {
   "cell_type": "code",
   "execution_count": null,
   "id": "35ce91a8",
   "metadata": {
    "vscode": {
     "languageId": "r"
    }
   },
   "outputs": [],
   "source": [
    "archs4_gmtList <- list(\n",
    "  KEGG = getGMT(\"https://maayanlab.cloud/Enrichr/geneSetLibrary?mode=text&libraryName=KEGG_2021_Human\"),\n",
    "  BP = getGMT(\"https://maayanlab.cloud/Enrichr/geneSetLibrary?mode=text&libraryName=GO_Biological_Process_2025\"),\n",
    "  GTEx_Tissues = getGMT(\"https://maayanlab.cloud/Enrichr/geneSetLibrary?mode=text&libraryName=GTEx_Tissues_V8_2023\"),\n",
    ")\n",
    "\n",
    "# prefix each gene‐set name with its library to guarantee uniqueness\n",
    "for(lib in names(archs4_gmtList)) {\n",
    "  names(archs4_gmtList[[lib]]) <- paste0(lib, \"_\", names(archs4_gmtList[[lib]]))\n",
    "}\n",
    "\n",
    "archs4_pathMat <- gmtListToSparseMat(archs4_gmtList)\n",
    "archs4_matched <- getMatchedPathwayMat(archs4_pathMat, archs4_genes)\n",
    "archs4_chatObj <- getChat(archs4_matched)"
   ]
  },
  {
   "cell_type": "markdown",
   "id": "6526304d",
   "metadata": {},
   "source": [
    "## PLIERfull"
   ]
  },
  {
   "cell_type": "code",
   "execution_count": null,
   "id": "5673ed3a",
   "metadata": {
    "vscode": {
     "languageId": "r"
    }
   },
   "outputs": [],
   "source": [
    "N_CORES <- config$ARCHS4$PLIER_PARAMS$N_CORES\n",
    "\n",
    "archs4_fullRes <- PLIERfull(\n",
    "  Y                 = archs4_fbm_filt,\n",
    "  priorMat          = as.matrix(archs4_matched),\n",
    "  svdres            = archs4_svdRes,\n",
    "  plier.base.result = archs4_baseRes,\n",
    "  Chat              = archs4_chatObj,\n",
    "  k                 = PLIER_K_archs4,\n",
    "  doCrossval        = TRUE,\n",
    "  trace             = TRUE,\n",
    "  max.U.updates=50,\n",
    "  ncores=N_CORES\n",
    ")"
   ]
  },
  {
   "cell_type": "code",
   "execution_count": null,
   "id": "032c868f",
   "metadata": {
    "vscode": {
     "languageId": "r"
    }
   },
   "outputs": [],
   "source": [
    "saveRDS(archs4_fullRes, file = file.path(output_data_dir, \"archs4_PLIER2.rds\"))"
   ]
  },
  {
   "cell_type": "markdown",
   "id": "daaee556",
   "metadata": {},
   "source": [
    "# Fix col, row names and summary"
   ]
  },
  {
   "cell_type": "code",
   "execution_count": null,
   "id": "5a94eda7",
   "metadata": {
    "vscode": {
     "languageId": "r"
    }
   },
   "outputs": [],
   "source": [
    "archs4_fullRes <- readRDS(file.path(output_data_dir, \"archs4_PLIER2.rds\"))\n",
    "\n",
    "colnames(archs4_fullRes$B) <- sample_names\n",
    "\n",
    "colnames(archs4_fullRes$Z) <- paste0('LV', seq_len(ncol(archs4_fullRes$Z)))\n",
    "\n",
    "archs4_fullRes$summary <- archs4_fullRes$summary %>%\n",
    "    dplyr::rename(LV = `LV index`) %>% \n",
    "    dplyr::mutate(LV = paste0('LV', LV))\n",
    "\n",
    "saveRDS(archs4_fullRes, file = file.path(output_data_dir, \"archs4_PLIER2.rds\"))"
   ]
  }
 ],
 "metadata": {
  "kernelspec": {
   "display_name": "R",
   "language": "R",
   "name": "ir"
  },
  "language_info": {
   "codemirror_mode": "r",
   "file_extension": ".r",
   "mimetype": "text/x-r-source",
   "name": "R",
   "pygments_lexer": "r",
   "version": "4.3.3"
  }
 },
 "nbformat": 4,
 "nbformat_minor": 5
}
