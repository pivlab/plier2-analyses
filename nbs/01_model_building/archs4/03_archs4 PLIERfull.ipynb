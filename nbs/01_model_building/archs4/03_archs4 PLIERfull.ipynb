{
 "cells": [
  {
   "cell_type": "markdown",
   "id": "ca81bc7f",
   "metadata": {},
   "source": [
    "# ARCHS4 model building with PLIER2"
   ]
  },
  {
   "cell_type": "markdown",
   "id": "be805cf1",
   "metadata": {},
   "source": [
    "## Load libraries"
   ]
  },
  {
   "cell_type": "code",
   "execution_count": 2,
   "id": "b4ed5e6f",
   "metadata": {
    "vscode": {
     "languageId": "r"
    }
   },
   "outputs": [
    {
     "name": "stderr",
     "output_type": "stream",
     "text": [
      "\n",
      "Attaching package: ‘dplyr’\n",
      "\n",
      "\n",
      "The following objects are masked from ‘package:data.table’:\n",
      "\n",
      "    between, first, last\n",
      "\n",
      "\n",
      "The following objects are masked from ‘package:stats’:\n",
      "\n",
      "    filter, lag\n",
      "\n",
      "\n",
      "The following objects are masked from ‘package:base’:\n",
      "\n",
      "    intersect, setdiff, setequal, union\n",
      "\n",
      "\n",
      "Loading required package: Matrix\n",
      "\n",
      "Loaded glmnet 4.1-10\n",
      "\n",
      "here() starts at /home/msubirana/Documents/pivlab/plier2-analyses\n",
      "\n",
      "Loading required package: RColorBrewer\n",
      "\n",
      "Loading required package: gplots\n",
      "\n",
      "\n",
      "Attaching package: ‘gplots’\n",
      "\n",
      "\n",
      "The following object is masked from ‘package:stats’:\n",
      "\n",
      "    lowess\n",
      "\n",
      "\n",
      "Loading required package: pheatmap\n",
      "\n",
      "Loading required package: qvalue\n",
      "\n",
      "\n",
      "Attaching package: ‘PLIER2’\n",
      "\n",
      "\n",
      "The following objects are masked from ‘package:PLIER’:\n",
      "\n",
      "    num.pc, projectPLIER\n",
      "\n",
      "\n"
     ]
    }
   ],
   "source": [
    "if (!requireNamespace(\"PLIER\", quietly = TRUE)) {\n",
    "    devtools::install_github(\"wgmao/PLIER\")\n",
    "}\n",
    "\n",
    "if (!requireNamespace(\"PLIER2\", quietly = TRUE)) {\n",
    "    REPO_PATH <- \"/home/msubirana/Documents/pivlab/PLIER2\" \n",
    "    remotes::install_local(REPO_PATH, force = TRUE, dependencies = FALSE)\n",
    "}\n",
    "\n",
    "library(bigstatsr)\n",
    "library(data.table)\n",
    "library(dplyr)\n",
    "library(rsvd)\n",
    "library(glmnet)\n",
    "library(Matrix)\n",
    "library(knitr)\n",
    "library(here)\n",
    "library(PLIER)\n",
    "library(PLIER2)\n",
    "library(hdf5r)\n",
    "library(biomaRt)\n",
    "\n",
    "source(here(\"config.R\"))"
   ]
  },
  {
   "cell_type": "markdown",
   "id": "fc858c79",
   "metadata": {},
   "source": [
    "## Output directory"
   ]
  },
  {
   "cell_type": "code",
   "execution_count": 3,
   "id": "02f368b4",
   "metadata": {
    "vscode": {
     "languageId": "r"
    }
   },
   "outputs": [],
   "source": [
    "output_dir <- config$ARCHS4$DATASET_FOLDER\n",
    "dir.create(output_dir, showWarnings = FALSE, recursive = TRUE)"
   ]
  },
  {
   "cell_type": "code",
   "execution_count": 4,
   "id": "6520df58",
   "metadata": {
    "vscode": {
     "languageId": "r"
    }
   },
   "outputs": [
    {
     "name": "stderr",
     "output_type": "stream",
     "text": [
      "Warning message in gzfile(file, \"rb\"):\n",
      "“cannot open compressed file '/home/msubirana/Documents/pivlab/plier2-analyses/output/archs4/archs4_svdRes.rds', probable reason 'No such file or directory'”\n"
     ]
    },
    {
     "ename": "ERROR",
     "evalue": "Error in gzfile(file, \"rb\"): cannot open the connection\n",
     "output_type": "error",
     "traceback": [
      "Error in gzfile(file, \"rb\"): cannot open the connection\nTraceback:\n",
      "1. gzfile(file, \"rb\")",
      "2. .handleSimpleError(function (cnd) \n . {\n .     watcher$capture_plot_and_output()\n .     cnd <- sanitize_call(cnd)\n .     watcher$push(cnd)\n .     switch(on_error, continue = invokeRestart(\"eval_continue\"), \n .         stop = invokeRestart(\"eval_stop\"), error = NULL)\n . }, \"cannot open the connection\", base::quote(gzfile(file, \"rb\")))"
     ]
    }
   ],
   "source": [
    "archs4_svdRes <- readRDS(file.path(output_dir, \"archs4_svdRes.rds\"))"
   ]
  },
  {
   "cell_type": "code",
   "execution_count": null,
   "id": "e677fee7",
   "metadata": {
    "vscode": {
     "languageId": "r"
    }
   },
   "outputs": [],
   "source": [
    "archs4_fbm_filt <- readRDS(file.path(output_dir, \"archs4_fbm_filt.rds\"))"
   ]
  },
  {
   "cell_type": "code",
   "execution_count": null,
   "id": "7932f7c7",
   "metadata": {
    "vscode": {
     "languageId": "r"
    }
   },
   "outputs": [],
   "source": [
    "archs4_baseRes <- readRDS(file.path(output_dir, \"archs4_baseRes.rds\"))"
   ]
  },
  {
   "cell_type": "code",
   "execution_count": null,
   "id": "b18c6762",
   "metadata": {
    "vscode": {
     "languageId": "r"
    }
   },
   "outputs": [],
   "source": [
    "PLIER_K_archs4 <- readRDS(file.path(output_dir, \"PLIER_K_archs4.rds\"))"
   ]
  },
  {
   "cell_type": "markdown",
   "id": "6ee267bb",
   "metadata": {},
   "source": [
    "## Prepare pathway priors"
   ]
  },
  {
   "cell_type": "code",
   "execution_count": 12,
   "id": "35ce91a8",
   "metadata": {
    "vscode": {
     "languageId": "r"
    }
   },
   "outputs": [
    {
     "name": "stderr",
     "output_type": "stream",
     "text": [
      "Auto-detected name: KEGG_2021_Human\n",
      "\n",
      "Using cached file for KEGG_2021_Human\n",
      "\n",
      "Auto-detected name: GO_Biological_Process_2025\n",
      "\n",
      "Using cached file for GO_Biological_Process_2025\n",
      "\n"
     ]
    },
    {
     "name": "stderr",
     "output_type": "stream",
     "text": [
      "Auto-detected name: GTEx_Tissues_V8_2023\n",
      "\n",
      "Using cached file for GTEx_Tissues_V8_2023\n",
      "\n"
     ]
    }
   ],
   "source": [
    "# run localy since server not have internet access\n",
    "\n",
    "# archs4_gmtList <- list(\n",
    "#   KEGG = getGMT(\"https://maayanlab.cloud/Enrichr/geneSetLibrary?mode=text&libraryName=KEGG_2021_Human\"),\n",
    "#   BP = getGMT(\"https://maayanlab.cloud/Enrichr/geneSetLibrary?mode=text&libraryName=GO_Biological_Process_2025\"),\n",
    "#   GTEx_Tissues = getGMT(\"https://maayanlab.cloud/Enrichr/geneSetLibrary?mode=text&libraryName=GTEx_Tissues_V8_2023\")\n",
    "# )\n",
    "\n",
    "# # prefix each gene‐set name with its library to guarantee uniqueness\n",
    "# for(lib in names(archs4_gmtList)) {\n",
    "#   names(archs4_gmtList[[lib]]) <- paste0(lib, \"_\", names(archs4_gmtList[[lib]]))\n",
    "# }\n",
    "\n",
    "# archs4_pathMat <- gmtListToSparseMat(archs4_gmtList)\n",
    "\n",
    "# saveRDS(archs4_pathMat, file = file.path(output_dir, \"archs4_pathMat.rds\"))"
   ]
  },
  {
   "cell_type": "code",
   "execution_count": null,
   "id": "811cf179",
   "metadata": {
    "vscode": {
     "languageId": "r"
    }
   },
   "outputs": [],
   "source": [
    "archs4_pathMat <- readRDS(file.path(output_dir, \"archs4_pathMat.rds\"))\n",
    "archs4_matched <- getMatchedPathwayMat(archs4_pathMat, archs4_genes)\n",
    "archs4_chatObj <- getChat(archs4_matched)"
   ]
  },
  {
   "cell_type": "code",
   "execution_count": null,
   "id": "63caf827",
   "metadata": {
    "vscode": {
     "languageId": "r"
    }
   },
   "outputs": [],
   "source": [
    "saveRDS(archs4_pathMat, file = file.path(output_dir, \"archs4_pathMat.rds\"))\n",
    "saveRDS(archs4_matched, file = file.path(output_dir, \"archs4_matched.rds\"))\n",
    "saveRDS(archs4_chatObj, file = file.path(output_dir, \"archs4_chatObj.rds\"))"
   ]
  },
  {
   "cell_type": "markdown",
   "id": "6526304d",
   "metadata": {},
   "source": [
    "## PLIERfull"
   ]
  },
  {
   "cell_type": "code",
   "execution_count": null,
   "id": "5673ed3a",
   "metadata": {
    "vscode": {
     "languageId": "r"
    }
   },
   "outputs": [],
   "source": [
    "N_CORES <- config$ARCHS4$PLIER_PARAMS$N_CORES\n",
    "\n",
    "archs4_fullRes <- PLIERfull(\n",
    "  Y                 = archs4_fbm_filt,\n",
    "  priorMat          = as.matrix(archs4_matched),\n",
    "  svdres            = archs4_svdRes,\n",
    "  plier.base.result = archs4_baseRes,\n",
    "  Chat              = archs4_chatObj,\n",
    "  k                 = PLIER_K_archs4,\n",
    "  doCrossval        = TRUE,\n",
    "  trace             = TRUE,\n",
    "  max.U.updates=50,\n",
    "  ncores=N_CORES\n",
    ")"
   ]
  },
  {
   "cell_type": "code",
   "execution_count": null,
   "id": "032c868f",
   "metadata": {
    "vscode": {
     "languageId": "r"
    }
   },
   "outputs": [],
   "source": [
    "saveRDS(archs4_fullRes, file = file.path(output_data_dir, \"archs4_PLIER2.rds\"))"
   ]
  },
  {
   "cell_type": "markdown",
   "id": "daaee556",
   "metadata": {},
   "source": [
    "# Fix col, row names and summary"
   ]
  },
  {
   "cell_type": "code",
   "execution_count": null,
   "id": "5a94eda7",
   "metadata": {
    "vscode": {
     "languageId": "r"
    }
   },
   "outputs": [],
   "source": [
    "archs4_fullRes <- readRDS(file.path(output_data_dir, \"archs4_PLIER2.rds\"))\n",
    "\n",
    "colnames(archs4_fullRes$B) <- sample_names\n",
    "\n",
    "colnames(archs4_fullRes$Z) <- paste0('LV', seq_len(ncol(archs4_fullRes$Z)))\n",
    "\n",
    "archs4_fullRes$summary <- archs4_fullRes$summary %>%\n",
    "    dplyr::rename(LV = `LV index`) %>% \n",
    "    dplyr::mutate(LV = paste0('LV', LV))\n",
    "\n",
    "saveRDS(archs4_fullRes, file = file.path(output_data_dir, \"archs4_PLIER2.rds\"))"
   ]
  },
  {
   "cell_type": "code",
   "execution_count": null,
   "id": "73356887",
   "metadata": {
    "vscode": {
     "languageId": "r"
    }
   },
   "outputs": [],
   "source": [
    "archs4_baseRes <- readRDS(file.path(output_data_dir, \"archs4_baseRes.rds\"))\n",
    "\n",
    "colnames(archs4_baseRes$B) <- sample_names\n",
    "colnames(archs4_baseRes$Z) <- paste0('LV', seq_len(ncol(archs4_fullRes$Z)))\n",
    "rownames(archs4_baseRes$Z) <- archs4_genes\n",
    "rownames(archs4_baseRes$B) <- paste0('LV', seq_len(ncol(archs4_baseRes$Z)))\n",
    "\n",
    "saveRDS(archs4_baseRes, file = file.path(output_data_dir, \"archs4_baseRes.rds\"))"
   ]
  }
 ],
 "metadata": {
  "kernelspec": {
   "display_name": "R",
   "language": "R",
   "name": "ir"
  },
  "language_info": {
   "codemirror_mode": "r",
   "file_extension": ".r",
   "mimetype": "text/x-r-source",
   "name": "R",
   "pygments_lexer": "r",
   "version": "4.3.3"
  }
 },
 "nbformat": 4,
 "nbformat_minor": 5
}
