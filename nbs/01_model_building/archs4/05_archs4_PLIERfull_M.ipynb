{
 "cells": [
  {
   "cell_type": "markdown",
   "id": "ca81bc7f",
   "metadata": {},
   "source": [
    "# ARCHS4 model building with PLIER2"
   ]
  },
  {
   "cell_type": "markdown",
   "id": "be805cf1",
   "metadata": {},
   "source": [
    "## Load libraries"
   ]
  },
  {
   "cell_type": "code",
   "execution_count": 1,
   "id": "b4ed5e6f",
   "metadata": {
    "vscode": {
     "languageId": "r"
    }
   },
   "outputs": [
    {
     "name": "stderr",
     "output_type": "stream",
     "text": [
      "\n",
      "Attaching package: ‘dplyr’\n",
      "\n",
      "\n",
      "The following objects are masked from ‘package:data.table’:\n",
      "\n",
      "    between, first, last\n",
      "\n",
      "\n",
      "The following objects are masked from ‘package:stats’:\n",
      "\n",
      "    filter, lag\n",
      "\n",
      "\n",
      "The following objects are masked from ‘package:base’:\n",
      "\n",
      "    intersect, setdiff, setequal, union\n",
      "\n",
      "\n",
      "Loading required package: Matrix\n",
      "\n",
      "Loaded glmnet 4.1-10\n",
      "\n",
      "here() starts at /home/msubirana/Documents/pivlab/plier2-analyses\n",
      "\n"
     ]
    }
   ],
   "source": [
    "if (!requireNamespace(\"PLIER2\", quietly = TRUE)) {\n",
    "    REPO_PATH <- \"/home/msubirana/Documents/pivlab/PLIER2\" \n",
    "    remotes::install_local(REPO_PATH, force = TRUE, dependencies = FALSE)\n",
    "}\n",
    "\n",
    "library(bigstatsr)\n",
    "library(data.table)\n",
    "library(dplyr)\n",
    "library(rsvd)\n",
    "library(glmnet)\n",
    "library(Matrix)\n",
    "library(knitr)\n",
    "library(here)\n",
    "library(PLIER2)\n",
    "library(hdf5r)\n",
    "library(biomaRt)\n",
    "\n",
    "source(here(\"config.R\"))\n",
    "\n",
    "set.seed(123)"
   ]
  },
  {
   "cell_type": "markdown",
   "id": "fc858c79",
   "metadata": {},
   "source": [
    "## Output directory"
   ]
  },
  {
   "cell_type": "code",
   "execution_count": null,
   "id": "02f368b4",
   "metadata": {
    "vscode": {
     "languageId": "r"
    }
   },
   "outputs": [],
   "source": [
    "output_dir <- config$ARCHS4$DATASET_FOLDER\n",
    "dir.create(output_dir, showWarnings = FALSE, recursive = TRUE)"
   ]
  },
  {
   "cell_type": "code",
   "execution_count": null,
   "id": "89e59635",
   "metadata": {
    "vscode": {
     "languageId": "r"
    }
   },
   "outputs": [],
   "source": [
    "output_dir_milton <- '/pividori_lab/projects/plier2/plier2_repo/output/archs4'\n",
    "\n",
    "# meta\n",
    "meta <- readRDS(file.path(output_dir_milton, \"metadata_filtered.rds\"))\n",
    "n_genes_thin <- meta$n_genes_thin\n",
    "n_samples <- meta$n_samples\n",
    "\n",
    "# fbm\n",
    "fbm_file  <- file.path(output_dir_milton, \"fbm\")\n",
    "output_file <- paste0(fbm_file, \"_filtered\")\n",
    "\n",
    "archs4_fbm_filt <- FBM(\n",
    "  nrow        = n_genes_thin,\n",
    "  ncol        = n_samples,\n",
    "  backingfile = output_file ,\n",
    "  create_bk   = FALSE,\n",
    ")\n",
    "\n",
    "# svd\n",
    "archs4_svdRes <- readRDS(file.path(output_dir_milton, \"svd.rds\"))\n",
    "archs4_genes <- meta$gene_symbols_thin"
   ]
  },
  {
   "cell_type": "code",
   "execution_count": 5,
   "id": "7932f7c7",
   "metadata": {
    "vscode": {
     "languageId": "r"
    }
   },
   "outputs": [],
   "source": [
    "archs4_baseRes <- readRDS(file.path(output_dir, \"archs4_baseRes.rds\"))"
   ]
  },
  {
   "cell_type": "code",
   "execution_count": 6,
   "id": "b18c6762",
   "metadata": {
    "vscode": {
     "languageId": "r"
    }
   },
   "outputs": [],
   "source": [
    "PLIER_K_archs4 <- readRDS(file.path(output_dir, \"PLIER_K_archs4.rds\"))"
   ]
  },
  {
   "cell_type": "code",
   "execution_count": null,
   "id": "8ba3b3c7",
   "metadata": {
    "vscode": {
     "languageId": "r"
    }
   },
   "outputs": [],
   "source": [
    "sample_names <- readRDS(file.path(output_dir, \"samples_archs4.rds\"))"
   ]
  },
  {
   "cell_type": "markdown",
   "id": "6ee267bb",
   "metadata": {},
   "source": [
    "## Prepare pathway priors"
   ]
  },
  {
   "cell_type": "code",
   "execution_count": null,
   "id": "35ce91a8",
   "metadata": {
    "vscode": {
     "languageId": "r"
    }
   },
   "outputs": [
    {
     "name": "stderr",
     "output_type": "stream",
     "text": [
      "Auto-detected name: KEGG_2021_Human\n",
      "\n",
      "Using cached file for KEGG_2021_Human\n",
      "\n",
      "Auto-detected name: GO_Biological_Process_2025\n",
      "\n",
      "Using cached file for GO_Biological_Process_2025\n",
      "\n",
      "Auto-detected name: GTEx_Tissues_V8_2023\n",
      "\n",
      "Using cached file for GTEx_Tissues_V8_2023\n",
      "\n"
     ]
    }
   ],
   "source": [
    "# # run localy since server not have internet access\n",
    "\n",
    "# archs4_gmtList <- list(\n",
    "#   KEGG = getGMT(\"https://maayanlab.cloud/Enrichr/geneSetLibrary?mode=text&libraryName=KEGG_2021_Human\"),\n",
    "#   BP = getGMT(\"https://maayanlab.cloud/Enrichr/geneSetLibrary?mode=text&libraryName=GO_Biological_Process_2025\"),\n",
    "#   GTEx_Tissues = getGMT(\"https://maayanlab.cloud/Enrichr/geneSetLibrary?mode=text&libraryName=GTEx_Tissues_V8_2023\")\n",
    "# )\n",
    "\n",
    "# # prefix each gene‐set name with its library to guarantee uniqueness\n",
    "# for(lib in names(archs4_gmtList)) {\n",
    "#   names(archs4_gmtList[[lib]]) <- paste0(lib, \"_\", names(archs4_gmtList[[lib]]))\n",
    "# }\n",
    "\n",
    "# archs4_pathMat <- gmtListToSparseMat(archs4_gmtList)\n",
    "# saveRDS(archs4_pathMat, file = file.path(output_dir, \"archs4_pathMat.rds\"))"
   ]
  },
  {
   "cell_type": "code",
   "execution_count": null,
   "id": "8f05eb69",
   "metadata": {
    "vscode": {
     "languageId": "r"
    }
   },
   "outputs": [],
   "source": [
    "# Load GMT files for each database\n",
    "archs4_kegg_gmt <- getGMT(\"https://maayanlab.cloud/Enrichr/geneSetLibrary?mode=text&libraryName=KEGG_2021_Human\")\n",
    "archs4_bp_gmt <- getGMT(\"https://maayanlab.cloud/Enrichr/geneSetLibrary?mode=text&libraryName=GO_Biological_Process_2025\")\n",
    "archs4_gtex_tissues_gmt <- getGMT(\"https://maayanlab.cloud/Enrichr/geneSetLibrary?mode=text&libraryName=GTEx_Tissues_V8_2023\")\n",
    "\n",
    "# Prefix each gene-set name with its library to guarantee uniqueness\n",
    "names(archs4_kegg_gmt) <- paste0(\"KEGG_\", names(archs4_kegg_gmt))\n",
    "names(archs4_bp_gmt) <- paste0(\"BP_\", names(archs4_bp_gmt))\n",
    "names(archs4_gtex_tissues_gmt) <- paste0(\"GTEx_Tissues_\", names(archs4_gtex_tissues_gmt))\n",
    "\n",
    "# Save each GMT list separately\n",
    "saveRDS(archs4_kegg_gmt, file = file.path(output_dir, \"archs4_kegg_gmt.rds\"))\n",
    "saveRDS(archs4_bp_gmt, file = file.path(output_dir, \"archs4_bp_gmt.rds\"))\n",
    "saveRDS(archs4_gtex_tissues_gmt, file = file.path(output_dir, \"archs4_gtex_tissues_gmt.rds\"))"
   ]
  },
  {
   "cell_type": "code",
   "execution_count": null,
   "id": "811cf179",
   "metadata": {
    "vscode": {
     "languageId": "r"
    }
   },
   "outputs": [
    {
     "name": "stderr",
     "output_type": "stream",
     "text": [
      "There are 12486 genes in the intersection between data and prior\n",
      "\n"
     ]
    },
    {
     "name": "stderr",
     "output_type": "stream",
     "text": [
      "Removing 2409 pathways\n",
      "\n",
      "Inverting...\n",
      "\n",
      "done\n",
      "\n"
     ]
    }
   ],
   "source": [
    "archs4_pathMat <- readRDS(file.path(output_dir, \"archs4_pathMat.rds\"))\n",
    "archs4_matched <- getMatchedPathwayMat(archs4_pathMat, archs4_genes)\n",
    "archs4_chatObj <- getChat(archs4_matched)"
   ]
  },
  {
   "cell_type": "code",
   "execution_count": null,
   "id": "3becf222",
   "metadata": {
    "vscode": {
     "languageId": "r"
    }
   },
   "outputs": [],
   "source": [
    "archs4_kegg_gmt <- readRDS(file.path(output_dir, \"archs4_kegg_gmt.rds\"))\n",
    "archs4_bp_gmt <- readRDS(file.path(output_dir, \"archs4_bp_gmt.rds\"))\n",
    "archs4_gtex_tissues_gmt <- readRDS(file.path(output_dir, \"archs4_gtex_tissues_gmt.rds\"))"
   ]
  },
  {
   "cell_type": "code",
   "execution_count": null,
   "id": "2d11f162",
   "metadata": {
    "vscode": {
     "languageId": "r"
    }
   },
   "outputs": [],
   "source": []
  },
  {
   "cell_type": "markdown",
   "id": "6526304d",
   "metadata": {},
   "source": [
    "## PLIERfull"
   ]
  },
  {
   "cell_type": "code",
   "execution_count": null,
   "id": "5673ed3a",
   "metadata": {
    "vscode": {
     "languageId": "r"
    }
   },
   "outputs": [
    {
     "name": "stderr",
     "output_type": "stream",
     "text": [
      "**PLIER v2 **\n",
      "\n",
      "Warning message:\n",
      "“`seed` is deprecated and ignored. Use set.seed(seed) before calling this function.”\n",
      "using provided PLIERbase result\n",
      "\n",
      "L1=111.157238320606; L2=37.0524127735352\n",
      "\n",
      "Progress 1 / 350 | Bdiff=0.035954\n",
      "\n",
      "Progress 2 / 350 | Bdiff=0.005951\n",
      "\n",
      ", Number of annotated columns is 81\n",
      "\n",
      "Progress 3 / 350 | Bdiff=0.002198\n",
      "\n",
      "Progress 4 / 350 | Bdiff=0.001135\n",
      "\n",
      ", Number of annotated columns is 89\n",
      "\n",
      "Progress 5 / 350 | Bdiff=0.000741\n",
      "\n",
      "Progress 6 / 350 | Bdiff=0.000557\n",
      "\n",
      ", Number of annotated columns is 98\n",
      "\n",
      "Progress 7 / 350 | Bdiff=0.000455\n",
      "\n",
      "Progress 8 / 350 | Bdiff=0.000393\n",
      "\n",
      ", Number of annotated columns is 99\n",
      "\n",
      "Progress 9 / 350 | Bdiff=0.000361\n",
      "\n",
      "Progress 10 / 350 | Bdiff=0.000327\n",
      "\n",
      ", Number of annotated columns is 104\n",
      "\n",
      "Progress 11 / 350 | Bdiff=0.000304\n",
      "\n",
      "Progress 12 / 350 | Bdiff=0.000291\n",
      "\n",
      ", Number of annotated columns is 83\n",
      "\n",
      "Progress 13 / 350 | Bdiff=0.000276\n",
      "\n",
      "Progress 14 / 350 | Bdiff=0.000269\n",
      "\n",
      ", Number of annotated columns is 88\n",
      "\n",
      "Progress 15 / 350 | Bdiff=0.000260\n",
      "\n",
      "Progress 16 / 350 | Bdiff=0.000252\n",
      "\n",
      ", Number of annotated columns is 94\n",
      "\n",
      "Progress 17 / 350 | Bdiff=0.000246\n",
      "\n",
      "Progress 18 / 350 | Bdiff=0.000242\n",
      "\n",
      ", Number of annotated columns is 98\n",
      "\n",
      "Progress 19 / 350 | Bdiff=0.000237\n",
      "\n",
      "Progress 20 / 350 | Bdiff=0.000234\n",
      "\n",
      ", Number of annotated columns is 103\n",
      "\n",
      "Progress 21 / 350 | Bdiff=0.000221\n",
      "\n",
      "Progress 22 / 350 | Bdiff=0.000217\n",
      "\n",
      ", Number of annotated columns is 79\n",
      "\n",
      "Progress 23 / 350 | Bdiff=0.000216\n",
      "\n",
      "Progress 24 / 350 | Bdiff=0.000207\n",
      "\n",
      ", Number of annotated columns is 87\n",
      "\n",
      "Progress 25 / 350 | Bdiff=0.000206\n",
      "\n",
      "Progress 26 / 350 | Bdiff=0.000209\n",
      "\n",
      ", Number of annotated columns is 91\n",
      "\n",
      "Progress 27 / 350 | Bdiff=0.000211\n",
      "\n",
      "Progress 28 / 350 | Bdiff=0.000207\n",
      "\n",
      ", Number of annotated columns is 95\n",
      "\n",
      "Progress 29 / 350 | Bdiff=0.000186\n",
      "\n",
      "Progress 30 / 350 | Bdiff=0.000175\n",
      "\n",
      ", Number of annotated columns is 101\n",
      "\n",
      "Progress 31 / 350 | Bdiff=0.000175\n",
      "\n",
      "Progress 32 / 350 | Bdiff=0.000182\n",
      "\n",
      ", Number of annotated columns is 89\n",
      "\n",
      "Progress 33 / 350 | Bdiff=0.000180\n",
      "\n",
      "Progress 34 / 350 | Bdiff=0.000187\n",
      "\n",
      ", Number of annotated columns is 93\n",
      "\n",
      "Progress 35 / 350 | Bdiff=0.000195\n",
      "\n",
      "Progress 36 / 350 | Bdiff=0.000200\n",
      "\n",
      ", Number of annotated columns is 94\n",
      "\n",
      "Progress 37 / 350 | Bdiff=0.000208\n",
      "\n",
      "Progress 38 / 350 | Bdiff=0.000187\n",
      "\n",
      ", Number of annotated columns is 95\n",
      "\n",
      "Progress 39 / 350 | Bdiff=0.000188\n",
      "\n",
      "Progress 40 / 350 | Bdiff=0.000182\n",
      "\n",
      ", Number of annotated columns is 99\n",
      "\n",
      "Progress 41 / 350 | Bdiff=0.000175\n",
      "\n",
      "Progress 42 / 350 | Bdiff=0.000162\n",
      "\n",
      ", Number of annotated columns is 87\n",
      "\n",
      "Progress 43 / 350 | Bdiff=0.000161\n",
      "\n",
      "Progress 44 / 350 | Bdiff=0.000158\n",
      "\n",
      ", Number of annotated columns is 91\n",
      "\n",
      "Progress 45 / 350 | Bdiff=0.000159\n",
      "\n",
      "Progress 46 / 350 | Bdiff=0.000160\n",
      "\n",
      ", Number of annotated columns is 91\n",
      "\n",
      "Progress 47 / 350 | Bdiff=0.000151\n",
      "\n",
      "Progress 48 / 350 | Bdiff=0.000146\n",
      "\n",
      ", Number of annotated columns is 93\n",
      "\n",
      "Progress 49 / 350 | Bdiff=0.000140\n",
      "\n",
      "Progress 50 / 350 | Bdiff=0.000133\n",
      "\n",
      ", Number of annotated columns is 96\n",
      "\n",
      "Progress 51 / 350 | Bdiff=0.000128\n",
      "\n",
      "Progress 52 / 350 | Bdiff=0.000122\n",
      "\n",
      ", Number of annotated columns is 90\n",
      "\n",
      "Progress 53 / 350 | Bdiff=0.000115\n",
      "\n",
      "Progress 54 / 350 | Bdiff=0.000111\n",
      "\n",
      ", Number of annotated columns is 93\n",
      "\n",
      "Progress 55 / 350 | Bdiff=0.000110\n",
      "\n",
      "Progress 56 / 350 | Bdiff=0.000108\n",
      "\n",
      ", Number of annotated columns is 95\n",
      "\n",
      "Progress 57 / 350 | Bdiff=0.000107\n",
      "\n",
      "Progress 58 / 350 | Bdiff=0.000102\n",
      "\n",
      ", Number of annotated columns is 96\n",
      "\n",
      "Progress 59 / 350 | Bdiff=0.000101\n",
      "\n",
      "Progress 60 / 350 | Bdiff=0.000103\n",
      "\n",
      ", Number of annotated columns is 100\n",
      "\n",
      "Progress 61 / 350 | Bdiff=0.000103\n",
      "\n",
      "Progress 62 / 350 | Bdiff=0.000099\n",
      "\n",
      ", Number of annotated columns is 94\n",
      "\n",
      "Progress 63 / 350 | Bdiff=0.000098\n",
      "\n",
      "Progress 64 / 350 | Bdiff=0.000094\n",
      "\n",
      ", Number of annotated columns is 97\n",
      "\n",
      "Progress 65 / 350 | Bdiff=0.000093\n",
      "\n",
      "Progress 66 / 350 | Bdiff=0.000093\n",
      "\n",
      ", Number of annotated columns is 99\n",
      "\n",
      "Progress 67 / 350 | Bdiff=0.000090\n",
      "\n",
      "Progress 68 / 350 | Bdiff=0.000088\n",
      "\n",
      ", Number of annotated columns is 100\n",
      "\n",
      "Progress 69 / 350 | Bdiff=0.000091\n",
      "\n",
      "Progress 70 / 350 | Bdiff=0.000091\n",
      "\n",
      ", Number of annotated columns is 100\n",
      "\n",
      "Progress 71 / 350 | Bdiff=0.000089\n",
      "\n",
      "Progress 72 / 350 | Bdiff=0.000090\n",
      "\n",
      ", Number of annotated columns is 91\n",
      "\n",
      "Progress 73 / 350 | Bdiff=0.000086\n",
      "\n",
      "Progress 74 / 350 | Bdiff=0.000085\n",
      "\n",
      ", Number of annotated columns is 91\n",
      "\n",
      "Progress 75 / 350 | Bdiff=0.000087\n",
      "\n",
      "Progress 76 / 350 | Bdiff=0.000086\n",
      "\n",
      ", Number of annotated columns is 93\n",
      "\n",
      "Progress 77 / 350 | Bdiff=0.000090\n",
      "\n",
      "Progress 78 / 350 | Bdiff=0.000091\n",
      "\n",
      ", Number of annotated columns is 93\n",
      "\n",
      "Progress 79 / 350 | Bdiff=0.000092\n",
      "\n",
      "Progress 80 / 350 | Bdiff=0.000091\n",
      "\n",
      ", Number of annotated columns is 94\n",
      "\n",
      "Progress 81 / 350 | Bdiff=0.000092\n",
      "\n",
      "Progress 82 / 350 | Bdiff=0.000093\n",
      "\n",
      ", Number of annotated columns is 86\n",
      "\n",
      "Progress 83 / 350 | Bdiff=0.000096\n",
      "\n",
      "Progress 84 / 350 | Bdiff=0.000097\n",
      "\n",
      ", Number of annotated columns is 92\n",
      "\n",
      "Progress 85 / 350 | Bdiff=0.000096\n",
      "\n",
      "Progress 86 / 350 | Bdiff=0.000099\n",
      "\n",
      ", Number of annotated columns is 94\n",
      "\n",
      "Progress 87 / 350 | Bdiff=0.000101\n",
      "\n",
      "Progress 88 / 350 | Bdiff=0.000097\n",
      "\n",
      ", Number of annotated columns is 96\n",
      "\n",
      "Progress 89 / 350 | Bdiff=0.000102\n",
      "\n",
      "Progress 90 / 350 | Bdiff=0.000102\n",
      "\n",
      ", Number of annotated columns is 96\n",
      "\n",
      "Progress 91 / 350 | Bdiff=0.000098\n",
      "\n",
      "Progress 92 / 350 | Bdiff=0.000101\n",
      "\n",
      ", Number of annotated columns is 91\n",
      "\n",
      "Progress 93 / 350 | Bdiff=0.000101\n",
      "\n",
      "Progress 94 / 350 | Bdiff=0.000100\n",
      "\n",
      ", Number of annotated columns is 92\n",
      "\n",
      "Progress 95 / 350 | Bdiff=0.000099\n",
      "\n",
      "Progress 96 / 350 | Bdiff=0.000098\n",
      "\n",
      ", Number of annotated columns is 94\n",
      "\n",
      "Progress 97 / 350 | Bdiff=0.000097\n",
      "\n",
      "Progress 98 / 350 | Bdiff=0.000096\n",
      "\n",
      ", Number of annotated columns is 98\n",
      "\n",
      "Progress 99 / 350 | Bdiff=0.000101\n",
      "\n",
      "Progress 100 / 350 | Bdiff=0.000099\n",
      "\n",
      ", Number of annotated columns is 102\n",
      "\n",
      "Progress 101 / 350 | Bdiff=0.000100\n",
      "\n",
      "Progress 102 / 350 | Bdiff=0.000100\n",
      "\n",
      "Progress 103 / 350 | Bdiff=0.000099\n",
      "\n",
      "Progress 104 / 350 | Bdiff=0.000100\n",
      "\n",
      "Progress 105 / 350 | Bdiff=0.000100\n",
      "\n",
      "Progress 106 / 350 | Bdiff=0.000101\n",
      "\n",
      "Progress 107 / 350 | Bdiff=0.000102\n",
      "\n",
      "Progress 108 / 350 | Bdiff=0.000103\n",
      "\n",
      "Converged at 108 / 350 | Bdiff=0.000103, minCor=0.995586\n",
      "\n",
      "\n",
      "Updating Z for CV\n",
      "\n",
      "crossValidation\n",
      "\n",
      "There are 23 LVs with AUC>0.70\n",
      "\n",
      "There are 3 LVs with AUC>0.90\n",
      "\n"
     ]
    }
   ],
   "source": [
    "N_CORES <- config$ARCHS4$PLIER_PARAMS$N_CORES\n",
    "\n",
    "archs4_fullRes <- PLIERfull(\n",
    "  Y                 = archs4_fbm_filt,\n",
    "  priorMat          = as.matrix(archs4_matched),\n",
    "  svdres            = archs4_svdRes,\n",
    "  plier.base.result = archs4_baseRes,\n",
    "  Chat              = archs4_chatObj,\n",
    "  k                 = PLIER_K_archs4,\n",
    "  doCrossval        = TRUE,\n",
    "  trace             = TRUE,\n",
    "  max.U.updates     = 50,\n",
    "  multiplier        = 3,\n",
    "  ncores            = N_CORES\n",
    ")"
   ]
  },
  {
   "cell_type": "code",
   "execution_count": null,
   "id": "032c868f",
   "metadata": {
    "vscode": {
     "languageId": "r"
    }
   },
   "outputs": [],
   "source": [
    "saveRDS(archs4_fullRes, file = file.path(output_dir, \"archs4_PLIER2.rds\"))"
   ]
  },
  {
   "cell_type": "markdown",
   "id": "daaee556",
   "metadata": {},
   "source": [
    "# Fix col, row names and summary"
   ]
  },
  {
   "cell_type": "code",
   "execution_count": null,
   "id": "5a94eda7",
   "metadata": {
    "vscode": {
     "languageId": "r"
    }
   },
   "outputs": [],
   "source": [
    "# archs4_fullRes <- readRDS(file.path(output_dir, \"archs4_PLIER2.rds\"))\n",
    "\n",
    "# colnames(archs4_fullRes$B) <- sample_names\n",
    "\n",
    "# colnames(archs4_fullRes$Z) <- paste0('LV', seq_len(ncol(archs4_fullRes$Z)))\n",
    "\n",
    "# archs4_fullRes$summary <- archs4_fullRes$summary %>%\n",
    "#     dplyr::rename(LV = `LV index`) %>% \n",
    "#     dplyr::mutate(LV = paste0('LV', LV))\n",
    "\n",
    "# saveRDS(archs4_fullRes, file = file.path(output_dir, \"archs4_PLIER2.rds\"))"
   ]
  },
  {
   "cell_type": "code",
   "execution_count": null,
   "id": "73356887",
   "metadata": {
    "vscode": {
     "languageId": "r"
    }
   },
   "outputs": [],
   "source": [
    "# archs4_baseRes <- readRDS(file.path(output_dir, \"archs4_baseRes.rds\"))\n",
    "\n",
    "# colnames(archs4_baseRes$B) <- sample_names\n",
    "# colnames(archs4_baseRes$Z) <- paste0('LV', seq_len(ncol(archs4_fullRes$Z)))\n",
    "# rownames(archs4_baseRes$Z) <- archs4_genes\n",
    "# rownames(archs4_baseRes$B) <- paste0('LV', seq_len(ncol(archs4_baseRes$Z)))\n",
    "\n",
    "# saveRDS(archs4_baseRes, file = file.path(output_dir, \"archs4_baseRes.rds\"))"
   ]
  }
 ],
 "metadata": {
  "kernelspec": {
   "display_name": "R",
   "language": "R",
   "name": "ir"
  },
  "language_info": {
   "codemirror_mode": "r",
   "file_extension": ".r",
   "mimetype": "text/x-r-source",
   "name": "R",
   "pygments_lexer": "r",
   "version": "4.3.3"
  }
 },
 "nbformat": 4,
 "nbformat_minor": 5
}
