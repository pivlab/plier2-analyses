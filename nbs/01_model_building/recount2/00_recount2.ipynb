{
 "cells": [
  {
   "cell_type": "markdown",
   "id": "ca81bc7f",
   "metadata": {},
   "source": [
    "# recount2 model building with PLIER2 and PLIER"
   ]
  },
  {
   "cell_type": "markdown",
   "id": "e69fa323",
   "metadata": {
    "vscode": {
     "languageId": "r"
    }
   },
   "source": [
    "# PLIER2"
   ]
  },
  {
   "cell_type": "markdown",
   "id": "be805cf1",
   "metadata": {},
   "source": [
    "## Load libraries"
   ]
  },
  {
   "cell_type": "code",
   "execution_count": 89,
   "id": "b4ed5e6f",
   "metadata": {
    "vscode": {
     "languageId": "r"
    }
   },
   "outputs": [],
   "source": [
    "if (!requireNamespace(\"PLIER\", quietly = TRUE)) {\n",
    "    devtools::install_github(\"wgmao/PLIER\")\n",
    "}\n",
    "\n",
    "# 3. Install PLIER2 (mchikina/PLIER2) if not already installed\n",
    "if (!requireNamespace(\"PLIER2\", quietly = TRUE)) {\n",
    "    REPO_PATH <- \"/home/msubirana/Documents/pivlab/PLIER2\"  # adjust\n",
    "    remotes::install_local(REPO_PATH, force = TRUE, dependencies = FALSE)\n",
    "}\n",
    "\n",
    "library(bigstatsr)\n",
    "library(data.table)\n",
    "library(dplyr)\n",
    "library(rsvd)\n",
    "library(glmnet)\n",
    "library(Matrix)\n",
    "library(knitr)\n",
    "library(here)\n",
    "library(PLIER)\n",
    "library(PLIER2)\n",
    "source(here(\"config.R\"))"
   ]
  },
  {
   "cell_type": "markdown",
   "id": "fc858c79",
   "metadata": {},
   "source": [
    "## Output directory"
   ]
  },
  {
   "cell_type": "code",
   "execution_count": 90,
   "id": "02f368b4",
   "metadata": {
    "vscode": {
     "languageId": "r"
    }
   },
   "outputs": [],
   "source": [
    "output_data_dir <- config$recount2$DATASET_FOLDER\n",
    "dir.create(output_data_dir, showWarnings = FALSE, recursive = TRUE)"
   ]
  },
  {
   "cell_type": "markdown",
   "id": "bf137533",
   "metadata": {},
   "source": [
    "## Download recount2 "
   ]
  },
  {
   "cell_type": "code",
   "execution_count": 91,
   "id": "759882bd",
   "metadata": {
    "vscode": {
     "languageId": "r"
    }
   },
   "outputs": [
    {
     "name": "stderr",
     "output_type": "stream",
     "text": [
      "Required files already exist. Skipping download and decompression.\n",
      "\n"
     ]
    }
   ],
   "source": [
    "url      <- config$recount2$URL\n",
    "out_dir  <- here::here(\"data\", \"recount2\")\n",
    "zip_file <- file.path(out_dir, \"recount2.zip\")\n",
    "rds_file <- file.path(out_dir, \"recount2_PLIER_data\", \"recount_data_prep_PLIER.RDS\")\n",
    "rpkm_file <- file.path(out_dir, \"recount2_PLIER_data\", \"recount_rpkm.RDS\")\n",
    "\n",
    "if (!file.exists(rds_file) && !file.exists(rpkm_file)) {\n",
    "    if (!dir.exists(out_dir)) dir.create(out_dir, recursive = TRUE)\n",
    "    \n",
    "    system(paste('wget', url, '-O', zip_file))\n",
    "    unzip(zip_file, exdir = out_dir)\n",
    "} else {\n",
    "    message(\"Required files already exist. Skipping download and decompression.\")\n",
    "}"
   ]
  },
  {
   "cell_type": "markdown",
   "id": "7680eee5",
   "metadata": {},
   "source": [
    "## Preprocess recount2 data"
   ]
  },
  {
   "cell_type": "code",
   "execution_count": 92,
   "id": "41d0a2d0",
   "metadata": {
    "vscode": {
     "languageId": "r"
    }
   },
   "outputs": [],
   "source": [
    "# Read preprocessed recount2 data\n",
    "data_mat <- readRDS(rds_file)\n",
    "\n",
    "meta <- list()\n",
    "meta$gene_symbols <- rownames(data_mat$rpkm.cm)\n",
    "meta$samples <- colnames(data_mat$rpkm.cm)\n",
    "\n",
    "rm(data_mat)"
   ]
  },
  {
   "cell_type": "code",
   "execution_count": 93,
   "id": "8c3dc65e",
   "metadata": {
    "vscode": {
     "languageId": "r"
    }
   },
   "outputs": [
    {
     "name": "stderr",
     "output_type": "stream",
     "text": [
      "Warning message in dplyr::inner_join(gene.df, rpkm.df, by = \"ensembl_gene_id\"):\n",
      "“\u001b[1m\u001b[22mDetected an unexpected many-to-many relationship between `x` and `y`.\n",
      "\u001b[36mℹ\u001b[39m Row 23 of `x` matches multiple rows in `y`.\n",
      "\u001b[36mℹ\u001b[39m Row 29567 of `y` matches multiple rows in `x`.\n",
      "\u001b[36mℹ\u001b[39m If a many-to-many relationship is expected, set `relationship =\n",
      "  \"many-to-many\"` to silence this warning.”\n"
     ]
    }
   ],
   "source": [
    "# Read in recount2 file\n",
    "\n",
    "rpkm.df <- readRDS(rpkm_file)\n",
    "\n",
    "mart <- biomaRt::useDataset(\"hsapiens_gene_ensembl\",\n",
    "                            biomaRt::useMart(\"ensembl\"))\n",
    "\n",
    "genes <- unlist(lapply(strsplit(rpkm.df$ENSG, \"[.]\"), `[[`, 1))\n",
    "\n",
    "rpkm.df$ensembl_gene_id <- unlist(lapply(strsplit(rpkm.df$ENSG, \"[.]\"),\n",
    "                                         `[[`, 1))\n",
    "                                         \n",
    "gene.df <- biomaRt::getBM(filters = \"ensembl_gene_id\",\n",
    "                          attributes = c(\"ensembl_gene_id\", \"hgnc_symbol\"),\n",
    "                          values = genes,\n",
    "                          mart = mart)\n",
    "\n",
    "gene.df <- gene.df %>% dplyr::filter(complete.cases(.))\n",
    "\n",
    "rpkm.df <- dplyr::inner_join(gene.df, rpkm.df,\n",
    "                             by = \"ensembl_gene_id\")\n",
    "\n",
    "rownames(rpkm.df) <- make.names(rpkm.df$hgnc_symbol, unique = TRUE)\n",
    "\n",
    "rpkm.df <- rpkm.df %>% dplyr::select(-c(ensembl_gene_id:ENSG))\n",
    "\n",
    "data_mat <- rpkm.df[meta$gene_symbols, meta$samples]\n",
    "\n",
    "rm(rpkm.df)\n",
    "\n",
    "data_mat <- as.matrix(as.data.table(data_mat))"
   ]
  },
  {
   "cell_type": "code",
   "execution_count": 94,
   "id": "b2fb30b5",
   "metadata": {
    "vscode": {
     "languageId": "r"
    }
   },
   "outputs": [],
   "source": [
    "# Create the FBM\n",
    "n_genes <- length(meta$gene_symbols)\n",
    "n_samples <- length(meta$samples)\n",
    "\n",
    "fbm_file <- file.path(output_data_dir, \"FBMrecount2\")\n",
    "recount2FBM <- FBM(nrow = n_genes, ncol = n_samples, backingfile = fbm_file, create_bk = T)"
   ]
  },
  {
   "cell_type": "code",
   "execution_count": 99,
   "id": "62a459dd",
   "metadata": {
    "vscode": {
     "languageId": "r"
    }
   },
   "outputs": [],
   "source": [
    "# Populate it with data\n",
    "block_size <- config$GENERAL$CHUNK_SIZE\n",
    "n_blocks <- ceiling(n_genes / block_size)\n",
    "\n",
    "for (i in 1:n_blocks) {\n",
    "  start_row <- (i-1) * block_size + 1\n",
    "  end_row <- min(i * block_size, nrow(data_mat))\n",
    "  \n",
    "  recount2FBM[start_row:end_row, ] <- as.matrix(data_mat[start_row:end_row, ])\n",
    "}"
   ]
  },
  {
   "cell_type": "code",
   "execution_count": 102,
   "id": "dfe9908d",
   "metadata": {
    "vscode": {
     "languageId": "r"
    }
   },
   "outputs": [
    {
     "name": "stderr",
     "output_type": "stream",
     "text": [
      "Applying log2 transformation\n",
      "\n",
      "Filling NAs with 0\n",
      "\n",
      "Applying Z-score transformation\n",
      "\n"
     ]
    }
   ],
   "source": [
    "# Preprocess and z‑score FBM\n",
    "prep_recount2 <- preprocessPLIER2FBM(\n",
    "  fbm        = recount2FBM,\n",
    "  mean_cutoff= config$recount2$GENES_MEAN_CUTOFF,\n",
    "  var_cutoff = config$recount2$GENES_VAR_CUTOFF\n",
    ")\n",
    "\n",
    "recount2_fbm_filt <- prep_recount2$fbm_filtered\n",
    "recount2_rowStats <- prep_recount2$rowStats\n",
    "zscorePLIER2FBM(recount2_fbm_filt, recount2_rowStats)"
   ]
  },
  {
   "cell_type": "markdown",
   "id": "62186aa8",
   "metadata": {},
   "source": [
    "## SVD computation and SVD K estimation"
   ]
  },
  {
   "cell_type": "code",
   "execution_count": 103,
   "id": "2610a71d",
   "metadata": {
    "vscode": {
     "languageId": "r"
    }
   },
   "outputs": [
    {
     "name": "stderr",
     "output_type": "stream",
     "text": [
      "Using SVD K = 6001\n",
      "\n"
     ]
    }
   ],
   "source": [
    "g_fb <- nrow(recount2_fbm_filt)\n",
    "samples_fb <- ncol(recount2_fbm_filt)\n",
    "SVD_K_recount2  <- min(g_fb, samples_fb) - 1\n",
    "\n",
    "message(\"Using SVD K = \", SVD_K_recount2)\n",
    "\n",
    "set.seed(1)\n",
    "recount2_svdRes <- big_randomSVD(recount2_fbm_filt, k = SVD_K_recount2)"
   ]
  },
  {
   "cell_type": "markdown",
   "id": "dedb1810",
   "metadata": {},
   "source": [
    "## Estimate K for PLIER"
   ]
  },
  {
   "cell_type": "code",
   "execution_count": 104,
   "id": "52d08c85",
   "metadata": {
    "vscode": {
     "languageId": "r"
    }
   },
   "outputs": [
    {
     "name": "stderr",
     "output_type": "stream",
     "text": [
      "Inferred PLIER K = 129\n",
      "\n"
     ]
    }
   ],
   "source": [
    "PLIER_K_recount2 <- num.pc(list(d = recount2_svdRes$d))\n",
    "message(\"Inferred PLIER K = \", PLIER_K_recount2)"
   ]
  },
  {
   "cell_type": "markdown",
   "id": "d7cdcb0f",
   "metadata": {},
   "source": [
    "## PLIERbase initialization"
   ]
  },
  {
   "cell_type": "code",
   "execution_count": 105,
   "id": "4dc460fb",
   "metadata": {
    "vscode": {
     "languageId": "r"
    }
   },
   "outputs": [
    {
     "name": "stderr",
     "output_type": "stream",
     "text": [
      "****\n",
      "\n"
     ]
    },
    {
     "name": "stdout",
     "output_type": "stream",
     "text": [
      "[1] \"L1 is set to 96.4556873352599\"\n",
      "[1] \"L2 is set to 289.36706200578\"\n",
      "Progress 48 / 200 | Bdiff=0.000489, minCor=0.997171Converged at iteration= 48 | Bdiff=0.000489,  tol=0.000500     "
     ]
    }
   ],
   "source": [
    "recount2_baseRes <- PLIERbase(\n",
    "  Y      = recount2_fbm_filt,\n",
    "  k      = PLIER_K_recount2,\n",
    "  svdres = recount2_svdRes,\n",
    "  trace  = TRUE\n",
    ")"
   ]
  },
  {
   "cell_type": "markdown",
   "id": "6ee267bb",
   "metadata": {},
   "source": [
    "## Prepare pathway priors"
   ]
  },
  {
   "cell_type": "code",
   "execution_count": null,
   "id": "960031ac",
   "metadata": {
    "vscode": {
     "languageId": "r"
    }
   },
   "outputs": [],
   "source": [
    "recount2_gmtList <- list(\n",
    "  GTEx_Tissues = getGMT(\"https://maayanlab.cloud/Enrichr/geneSetLibrary?mode=text&libraryName=GTEx_Tissues_V8_2023\"),\n",
    "  BP            = getGMT(\"https://maayanlab.cloud/Enrichr/geneSetLibrary?mode=text&libraryName=GO_Biological_Process_2025\"),\n",
    "  MSigDB        = getGMT(\"https://maayanlab.cloud/Enrichr/geneSetLibrary?mode=text&libraryName=MSigDB_Hallmark_2020\")\n",
    ")\n",
    "\n",
    "recount2_genes <- meta$gene_symbols[prep_recount2$kept_rows]\n",
    "\n",
    "recount2_pathMat <- gmtListToSparseMat(recount2_gmtList)\n",
    "recount2_matched <- getMatchedPathwayMat(recount2_pathMat, recount2_genes)\n",
    "recount2_chatObj <- getChat(recount2_matched)"
   ]
  },
  {
   "cell_type": "markdown",
   "id": "6526304d",
   "metadata": {},
   "source": [
    "## PLIERfull"
   ]
  },
  {
   "cell_type": "code",
   "execution_count": 114,
   "id": "5673ed3a",
   "metadata": {
    "vscode": {
     "languageId": "r"
    }
   },
   "outputs": [
    {
     "name": "stderr",
     "output_type": "stream",
     "text": [
      "**PLIER v2 **\n",
      "\n"
     ]
    },
    {
     "name": "stderr",
     "output_type": "stream",
     "text": [
      "using provided PLIERbase result\n",
      "\n",
      "L1=96.4556873352599; L2=289.36706200578\n",
      "\n"
     ]
    },
    {
     "name": "stdout",
     "output_type": "stream",
     "text": [
      "Converged at 108 / 350 | Bdiff=0.000011, minCor=0.999752olumns is 98, Number of annotated columns is 98, Number of annotated columns is 99, Number of annotated columns is 100, Number of annotated columns is 100, Number of annotated columns is 94, Number of annotated columns is 95, Number of annotated columns is 95, Number of annotated columns is 95, Number of annotated columns is 97, Number of annotated columns is 93, Number of annotated columns is 94, Number of annotated columns is 95, Number of annotated columns is 95, Number of annotated columns is 95, Number of annotated columns is 94, Number of annotated columns is 95, Number of annotated columns is 96, Number of annotated columns is 97, Number of annotated columns is 97, Number of annotated columns is 95, Number of annotated columns is 95, Number of annotated columns is 95, Number of annotated columns is 95, Number of annotated columns is 96, Number of annotated columns is 93, Number of annotated columns is 93, Number of annotated columns is 94, Number of annotated columns is 94, Number of annotated columns is 94, Number of annotated columns is 91, Number of annotated columns is 94, Number of annotated columns is 94, Number of annotated columns is 94, Number of annotated columns is 94, Number of annotated columns is 93, Number of annotated columns is 93, Number of annotated columns is 94, Number of annotated columns is 94, Number of annotated columns is 94, Number of annotated columns is 92, Number of annotated columns is 92, Number of annotated columns is 93, Number of annotated columns is 93, Number of annotated columns is 93, Number of annotated columns is 93, Number of annotated columns is 93, Number of annotated columns is 93, Number of annotated columns is 93, Number of annotated columns is 93\n"
     ]
    },
    {
     "name": "stderr",
     "output_type": "stream",
     "text": [
      "Updating Z for CV\n",
      "\n",
      "crossValidation\n",
      "\n",
      "There are 68  LVs with AUC>0.70\n",
      "\n",
      "There are 32  LVs with AUC>0.90\n",
      "\n"
     ]
    }
   ],
   "source": [
    "recount2_fullRes <- PLIERfull(\n",
    "  Y                 = recount2_fbm_filt,\n",
    "  priorMat          = as.matrix(recount2_matched),\n",
    "  svdres            = recount2_svdRes,\n",
    "  plier.base.result = recount2_baseRes,\n",
    "  Chat              = recount2_chatObj,\n",
    "  k                 = PLIER_K_recount2,\n",
    "  doCrossval        = TRUE,\n",
    "  trace             = TRUE,\n",
    "  max.U.updates     = 50\n",
    ")"
   ]
  },
  {
   "cell_type": "code",
   "execution_count": 115,
   "id": "032c868f",
   "metadata": {
    "vscode": {
     "languageId": "r"
    }
   },
   "outputs": [],
   "source": [
    "saveRDS(recount2_fullRes, file = file.path(output_data_dir, \"recount2_PLIER2.rds\"))"
   ]
  },
  {
   "cell_type": "code",
   "execution_count": 121,
   "id": "7542781e",
   "metadata": {
    "vscode": {
     "languageId": "r"
    }
   },
   "outputs": [],
   "source": [
    "recount2_fullRes <- readRDS(file.path(output_data_dir, \"recount2_PLIER2.rds\"))"
   ]
  },
  {
   "cell_type": "code",
   "execution_count": 124,
   "metadata": {
    "vscode": {
     "languageId": "r"
    }
   },
   "outputs": [
    {
     "data": {
      "text/html": [
       "<table class=\"dataframe\">\n",
       "<caption>A matrix: 6 × 37032 of type dbl</caption>\n",
       "<tbody>\n",
       "\t<tr><th scope=row>LV1</th><td> 0.0007205184</td><td> 0.01647058</td><td> 0.03814555</td><td> 0.01197512</td><td> 0.04704399</td><td> 0.04437839</td><td> 0.03381749</td><td> 0.03636021</td><td> 0.04043869</td><td> 0.03289993</td><td>⋯</td><td>-0.01736262</td><td>-0.01926078</td><td>-0.01523868</td><td>-0.01591463</td><td>-0.01855265</td><td>-0.01790466</td><td>-0.022153816</td><td>-0.01976996</td><td>-0.01984811</td><td>-0.01888447</td></tr>\n",
       "\t<tr><th scope=row>LV2</th><td>-0.4923648979</td><td>-0.51339038</td><td>-0.50119356</td><td>-0.49921384</td><td>-0.50932023</td><td>-0.50351341</td><td>-0.39918583</td><td>-0.40266711</td><td>-0.37822289</td><td>-0.39252230</td><td>⋯</td><td> 0.16563092</td><td> 0.23026527</td><td> 0.15791311</td><td> 0.18210354</td><td> 0.15538578</td><td> 0.12538393</td><td> 0.139928490</td><td> 0.17225534</td><td> 0.15470415</td><td> 0.15994225</td></tr>\n",
       "\t<tr><th scope=row>LV3</th><td>-0.0757368499</td><td>-0.06648099</td><td>-0.07406526</td><td>-0.07713371</td><td>-0.05966153</td><td>-0.06552433</td><td>-0.08328227</td><td>-0.07995257</td><td>-0.08514836</td><td>-0.07769106</td><td>⋯</td><td> 0.19676653</td><td> 0.18538052</td><td> 0.17310187</td><td> 0.20670697</td><td> 0.19265481</td><td> 0.15479063</td><td> 0.151297105</td><td> 0.21425408</td><td> 0.20251804</td><td> 0.14492561</td></tr>\n",
       "\t<tr><th scope=row>LV4</th><td>-0.1961513568</td><td>-0.20566352</td><td>-0.21201147</td><td>-0.19850929</td><td>-0.19637737</td><td>-0.20395197</td><td>-0.19755121</td><td>-0.20649948</td><td>-0.19993840</td><td>-0.20461730</td><td>⋯</td><td> 0.09811792</td><td> 0.07008986</td><td> 0.14089353</td><td> 0.11110449</td><td> 0.12916542</td><td> 0.12924996</td><td> 0.148189089</td><td> 0.12431945</td><td> 0.13712653</td><td> 0.19727684</td></tr>\n",
       "\t<tr><th scope=row>LV5</th><td>-0.3040506017</td><td>-0.30346150</td><td>-0.29528169</td><td>-0.29639232</td><td>-0.29417941</td><td>-0.30123343</td><td>-0.25735167</td><td>-0.26807332</td><td>-0.27006629</td><td>-0.27332290</td><td>⋯</td><td> 0.13220680</td><td> 0.08555006</td><td> 0.07867233</td><td> 0.14480664</td><td> 0.11118991</td><td> 0.11045196</td><td> 0.101744601</td><td> 0.14507086</td><td> 0.21723407</td><td> 0.11746733</td></tr>\n",
       "\t<tr><th scope=row>LV6</th><td>-0.3519748697</td><td>-0.34103480</td><td>-0.32978590</td><td>-0.32507766</td><td>-0.32607388</td><td>-0.33723284</td><td>-0.31148042</td><td>-0.31001993</td><td>-0.32232314</td><td>-0.30902314</td><td>⋯</td><td> 0.07010893</td><td> 0.05144226</td><td> 0.06915299</td><td> 0.04361540</td><td> 0.02826991</td><td> 0.06474227</td><td> 0.002771948</td><td> 0.03921632</td><td> 0.07130628</td><td>-0.02656028</td></tr>\n",
       "</tbody>\n",
       "</table>\n"
      ],
      "text/latex": [
       "A matrix: 6 × 37032 of type dbl\n",
       "\\begin{tabular}{r|lllllllllllllllllllll}\n",
       "\tLV1 &  0.0007205184 &  0.01647058 &  0.03814555 &  0.01197512 &  0.04704399 &  0.04437839 &  0.03381749 &  0.03636021 &  0.04043869 &  0.03289993 & ⋯ & -0.01736262 & -0.01926078 & -0.01523868 & -0.01591463 & -0.01855265 & -0.01790466 & -0.022153816 & -0.01976996 & -0.01984811 & -0.01888447\\\\\n",
       "\tLV2 & -0.4923648979 & -0.51339038 & -0.50119356 & -0.49921384 & -0.50932023 & -0.50351341 & -0.39918583 & -0.40266711 & -0.37822289 & -0.39252230 & ⋯ &  0.16563092 &  0.23026527 &  0.15791311 &  0.18210354 &  0.15538578 &  0.12538393 &  0.139928490 &  0.17225534 &  0.15470415 &  0.15994225\\\\\n",
       "\tLV3 & -0.0757368499 & -0.06648099 & -0.07406526 & -0.07713371 & -0.05966153 & -0.06552433 & -0.08328227 & -0.07995257 & -0.08514836 & -0.07769106 & ⋯ &  0.19676653 &  0.18538052 &  0.17310187 &  0.20670697 &  0.19265481 &  0.15479063 &  0.151297105 &  0.21425408 &  0.20251804 &  0.14492561\\\\\n",
       "\tLV4 & -0.1961513568 & -0.20566352 & -0.21201147 & -0.19850929 & -0.19637737 & -0.20395197 & -0.19755121 & -0.20649948 & -0.19993840 & -0.20461730 & ⋯ &  0.09811792 &  0.07008986 &  0.14089353 &  0.11110449 &  0.12916542 &  0.12924996 &  0.148189089 &  0.12431945 &  0.13712653 &  0.19727684\\\\\n",
       "\tLV5 & -0.3040506017 & -0.30346150 & -0.29528169 & -0.29639232 & -0.29417941 & -0.30123343 & -0.25735167 & -0.26807332 & -0.27006629 & -0.27332290 & ⋯ &  0.13220680 &  0.08555006 &  0.07867233 &  0.14480664 &  0.11118991 &  0.11045196 &  0.101744601 &  0.14507086 &  0.21723407 &  0.11746733\\\\\n",
       "\tLV6 & -0.3519748697 & -0.34103480 & -0.32978590 & -0.32507766 & -0.32607388 & -0.33723284 & -0.31148042 & -0.31001993 & -0.32232314 & -0.30902314 & ⋯ &  0.07010893 &  0.05144226 &  0.06915299 &  0.04361540 &  0.02826991 &  0.06474227 &  0.002771948 &  0.03921632 &  0.07130628 & -0.02656028\\\\\n",
       "\\end{tabular}\n"
      ],
      "text/markdown": [
       "\n",
       "A matrix: 6 × 37032 of type dbl\n",
       "\n",
       "| LV1 |  0.0007205184 |  0.01647058 |  0.03814555 |  0.01197512 |  0.04704399 |  0.04437839 |  0.03381749 |  0.03636021 |  0.04043869 |  0.03289993 | ⋯ | -0.01736262 | -0.01926078 | -0.01523868 | -0.01591463 | -0.01855265 | -0.01790466 | -0.022153816 | -0.01976996 | -0.01984811 | -0.01888447 |\n",
       "| LV2 | -0.4923648979 | -0.51339038 | -0.50119356 | -0.49921384 | -0.50932023 | -0.50351341 | -0.39918583 | -0.40266711 | -0.37822289 | -0.39252230 | ⋯ |  0.16563092 |  0.23026527 |  0.15791311 |  0.18210354 |  0.15538578 |  0.12538393 |  0.139928490 |  0.17225534 |  0.15470415 |  0.15994225 |\n",
       "| LV3 | -0.0757368499 | -0.06648099 | -0.07406526 | -0.07713371 | -0.05966153 | -0.06552433 | -0.08328227 | -0.07995257 | -0.08514836 | -0.07769106 | ⋯ |  0.19676653 |  0.18538052 |  0.17310187 |  0.20670697 |  0.19265481 |  0.15479063 |  0.151297105 |  0.21425408 |  0.20251804 |  0.14492561 |\n",
       "| LV4 | -0.1961513568 | -0.20566352 | -0.21201147 | -0.19850929 | -0.19637737 | -0.20395197 | -0.19755121 | -0.20649948 | -0.19993840 | -0.20461730 | ⋯ |  0.09811792 |  0.07008986 |  0.14089353 |  0.11110449 |  0.12916542 |  0.12924996 |  0.148189089 |  0.12431945 |  0.13712653 |  0.19727684 |\n",
       "| LV5 | -0.3040506017 | -0.30346150 | -0.29528169 | -0.29639232 | -0.29417941 | -0.30123343 | -0.25735167 | -0.26807332 | -0.27006629 | -0.27332290 | ⋯ |  0.13220680 |  0.08555006 |  0.07867233 |  0.14480664 |  0.11118991 |  0.11045196 |  0.101744601 |  0.14507086 |  0.21723407 |  0.11746733 |\n",
       "| LV6 | -0.3519748697 | -0.34103480 | -0.32978590 | -0.32507766 | -0.32607388 | -0.33723284 | -0.31148042 | -0.31001993 | -0.32232314 | -0.30902314 | ⋯ |  0.07010893 |  0.05144226 |  0.06915299 |  0.04361540 |  0.02826991 |  0.06474227 |  0.002771948 |  0.03921632 |  0.07130628 | -0.02656028 |\n",
       "\n"
      ],
      "text/plain": [
       "    [,1]          [,2]        [,3]        [,4]        [,5]        [,6]       \n",
       "LV1  0.0007205184  0.01647058  0.03814555  0.01197512  0.04704399  0.04437839\n",
       "LV2 -0.4923648979 -0.51339038 -0.50119356 -0.49921384 -0.50932023 -0.50351341\n",
       "LV3 -0.0757368499 -0.06648099 -0.07406526 -0.07713371 -0.05966153 -0.06552433\n",
       "LV4 -0.1961513568 -0.20566352 -0.21201147 -0.19850929 -0.19637737 -0.20395197\n",
       "LV5 -0.3040506017 -0.30346150 -0.29528169 -0.29639232 -0.29417941 -0.30123343\n",
       "LV6 -0.3519748697 -0.34103480 -0.32978590 -0.32507766 -0.32607388 -0.33723284\n",
       "    [,7]        [,8]        [,9]        [,10]       [,11] [,12]      \n",
       "LV1  0.03381749  0.03636021  0.04043869  0.03289993 ⋯     -0.01736262\n",
       "LV2 -0.39918583 -0.40266711 -0.37822289 -0.39252230 ⋯      0.16563092\n",
       "LV3 -0.08328227 -0.07995257 -0.08514836 -0.07769106 ⋯      0.19676653\n",
       "LV4 -0.19755121 -0.20649948 -0.19993840 -0.20461730 ⋯      0.09811792\n",
       "LV5 -0.25735167 -0.26807332 -0.27006629 -0.27332290 ⋯      0.13220680\n",
       "LV6 -0.31148042 -0.31001993 -0.32232314 -0.30902314 ⋯      0.07010893\n",
       "    [,13]       [,14]       [,15]       [,16]       [,17]       [,18]       \n",
       "LV1 -0.01926078 -0.01523868 -0.01591463 -0.01855265 -0.01790466 -0.022153816\n",
       "LV2  0.23026527  0.15791311  0.18210354  0.15538578  0.12538393  0.139928490\n",
       "LV3  0.18538052  0.17310187  0.20670697  0.19265481  0.15479063  0.151297105\n",
       "LV4  0.07008986  0.14089353  0.11110449  0.12916542  0.12924996  0.148189089\n",
       "LV5  0.08555006  0.07867233  0.14480664  0.11118991  0.11045196  0.101744601\n",
       "LV6  0.05144226  0.06915299  0.04361540  0.02826991  0.06474227  0.002771948\n",
       "    [,19]       [,20]       [,21]      \n",
       "LV1 -0.01976996 -0.01984811 -0.01888447\n",
       "LV2  0.17225534  0.15470415  0.15994225\n",
       "LV3  0.21425408  0.20251804  0.14492561\n",
       "LV4  0.12431945  0.13712653  0.19727684\n",
       "LV5  0.14507086  0.21723407  0.11746733\n",
       "LV6  0.03921632  0.07130628 -0.02656028"
      ]
     },
     "metadata": {},
     "output_type": "display_data"
    },
    {
     "data": {
      "text/html": [
       "<style>\n",
       ".list-inline {list-style: none; margin:0; padding: 0}\n",
       ".list-inline>li {display: inline-block}\n",
       ".list-inline>li:not(:last-child)::after {content: \"\\00b7\"; padding: 0 .5ex}\n",
       "</style>\n",
       "<ol class=list-inline><li>129</li><li>37032</li></ol>\n"
      ],
      "text/latex": [
       "\\begin{enumerate*}\n",
       "\\item 129\n",
       "\\item 37032\n",
       "\\end{enumerate*}\n"
      ],
      "text/markdown": [
       "1. 129\n",
       "2. 37032\n",
       "\n",
       "\n"
      ],
      "text/plain": [
       "[1]   129 37032"
      ]
     },
     "metadata": {},
     "output_type": "display_data"
    }
   ],
   "source": [
    "head(recount2_fullRes$B)\n",
    "dim(recount2_fullRes$B)"
   ]
  },
  {
   "cell_type": "code",
   "execution_count": 126,
   "id": "2e7448c1",
   "metadata": {
    "vscode": {
     "languageId": "r"
    }
   },
   "outputs": [],
   "source": [
    "colnames(recount2_fullRes$B) <- meta$samples"
   ]
  },
  {
   "cell_type": "code",
   "execution_count": 127,
   "metadata": {
    "vscode": {
     "languageId": "r"
    }
   },
   "outputs": [
    {
     "data": {
      "text/html": [
       "<table class=\"dataframe\">\n",
       "<caption>A matrix: 6 × 37032 of type dbl</caption>\n",
       "<thead>\n",
       "\t<tr><th></th><th scope=col>SRP000599.SRR013549</th><th scope=col>SRP000599.SRR013550</th><th scope=col>SRP000599.SRR013551</th><th scope=col>SRP000599.SRR013552</th><th scope=col>SRP000599.SRR013553</th><th scope=col>SRP000599.SRR013554</th><th scope=col>SRP000599.SRR013555</th><th scope=col>SRP000599.SRR013556</th><th scope=col>SRP000599.SRR013557</th><th scope=col>SRP000599.SRR013558</th><th scope=col>⋯</th><th scope=col>SRP035599.SRR1139372</th><th scope=col>SRP035599.SRR1139393</th><th scope=col>SRP035599.SRR1139388</th><th scope=col>SRP035599.SRR1139378</th><th scope=col>SRP035599.SRR1139399</th><th scope=col>SRP035599.SRR1139386</th><th scope=col>SRP035599.SRR1139375</th><th scope=col>SRP035599.SRR1139382</th><th scope=col>SRP035599.SRR1139356</th><th scope=col>SRP035599.SRR1139370</th></tr>\n",
       "</thead>\n",
       "<tbody>\n",
       "\t<tr><th scope=row>LV1</th><td> 0.0007205184</td><td> 0.01647058</td><td> 0.03814555</td><td> 0.01197512</td><td> 0.04704399</td><td> 0.04437839</td><td> 0.03381749</td><td> 0.03636021</td><td> 0.04043869</td><td> 0.03289993</td><td>⋯</td><td>-0.01736262</td><td>-0.01926078</td><td>-0.01523868</td><td>-0.01591463</td><td>-0.01855265</td><td>-0.01790466</td><td>-0.022153816</td><td>-0.01976996</td><td>-0.01984811</td><td>-0.01888447</td></tr>\n",
       "\t<tr><th scope=row>LV2</th><td>-0.4923648979</td><td>-0.51339038</td><td>-0.50119356</td><td>-0.49921384</td><td>-0.50932023</td><td>-0.50351341</td><td>-0.39918583</td><td>-0.40266711</td><td>-0.37822289</td><td>-0.39252230</td><td>⋯</td><td> 0.16563092</td><td> 0.23026527</td><td> 0.15791311</td><td> 0.18210354</td><td> 0.15538578</td><td> 0.12538393</td><td> 0.139928490</td><td> 0.17225534</td><td> 0.15470415</td><td> 0.15994225</td></tr>\n",
       "\t<tr><th scope=row>LV3</th><td>-0.0757368499</td><td>-0.06648099</td><td>-0.07406526</td><td>-0.07713371</td><td>-0.05966153</td><td>-0.06552433</td><td>-0.08328227</td><td>-0.07995257</td><td>-0.08514836</td><td>-0.07769106</td><td>⋯</td><td> 0.19676653</td><td> 0.18538052</td><td> 0.17310187</td><td> 0.20670697</td><td> 0.19265481</td><td> 0.15479063</td><td> 0.151297105</td><td> 0.21425408</td><td> 0.20251804</td><td> 0.14492561</td></tr>\n",
       "\t<tr><th scope=row>LV4</th><td>-0.1961513568</td><td>-0.20566352</td><td>-0.21201147</td><td>-0.19850929</td><td>-0.19637737</td><td>-0.20395197</td><td>-0.19755121</td><td>-0.20649948</td><td>-0.19993840</td><td>-0.20461730</td><td>⋯</td><td> 0.09811792</td><td> 0.07008986</td><td> 0.14089353</td><td> 0.11110449</td><td> 0.12916542</td><td> 0.12924996</td><td> 0.148189089</td><td> 0.12431945</td><td> 0.13712653</td><td> 0.19727684</td></tr>\n",
       "\t<tr><th scope=row>LV5</th><td>-0.3040506017</td><td>-0.30346150</td><td>-0.29528169</td><td>-0.29639232</td><td>-0.29417941</td><td>-0.30123343</td><td>-0.25735167</td><td>-0.26807332</td><td>-0.27006629</td><td>-0.27332290</td><td>⋯</td><td> 0.13220680</td><td> 0.08555006</td><td> 0.07867233</td><td> 0.14480664</td><td> 0.11118991</td><td> 0.11045196</td><td> 0.101744601</td><td> 0.14507086</td><td> 0.21723407</td><td> 0.11746733</td></tr>\n",
       "\t<tr><th scope=row>LV6</th><td>-0.3519748697</td><td>-0.34103480</td><td>-0.32978590</td><td>-0.32507766</td><td>-0.32607388</td><td>-0.33723284</td><td>-0.31148042</td><td>-0.31001993</td><td>-0.32232314</td><td>-0.30902314</td><td>⋯</td><td> 0.07010893</td><td> 0.05144226</td><td> 0.06915299</td><td> 0.04361540</td><td> 0.02826991</td><td> 0.06474227</td><td> 0.002771948</td><td> 0.03921632</td><td> 0.07130628</td><td>-0.02656028</td></tr>\n",
       "</tbody>\n",
       "</table>\n"
      ],
      "text/latex": [
       "A matrix: 6 × 37032 of type dbl\n",
       "\\begin{tabular}{r|lllllllllllllllllllll}\n",
       "  & SRP000599.SRR013549 & SRP000599.SRR013550 & SRP000599.SRR013551 & SRP000599.SRR013552 & SRP000599.SRR013553 & SRP000599.SRR013554 & SRP000599.SRR013555 & SRP000599.SRR013556 & SRP000599.SRR013557 & SRP000599.SRR013558 & ⋯ & SRP035599.SRR1139372 & SRP035599.SRR1139393 & SRP035599.SRR1139388 & SRP035599.SRR1139378 & SRP035599.SRR1139399 & SRP035599.SRR1139386 & SRP035599.SRR1139375 & SRP035599.SRR1139382 & SRP035599.SRR1139356 & SRP035599.SRR1139370\\\\\n",
       "\\hline\n",
       "\tLV1 &  0.0007205184 &  0.01647058 &  0.03814555 &  0.01197512 &  0.04704399 &  0.04437839 &  0.03381749 &  0.03636021 &  0.04043869 &  0.03289993 & ⋯ & -0.01736262 & -0.01926078 & -0.01523868 & -0.01591463 & -0.01855265 & -0.01790466 & -0.022153816 & -0.01976996 & -0.01984811 & -0.01888447\\\\\n",
       "\tLV2 & -0.4923648979 & -0.51339038 & -0.50119356 & -0.49921384 & -0.50932023 & -0.50351341 & -0.39918583 & -0.40266711 & -0.37822289 & -0.39252230 & ⋯ &  0.16563092 &  0.23026527 &  0.15791311 &  0.18210354 &  0.15538578 &  0.12538393 &  0.139928490 &  0.17225534 &  0.15470415 &  0.15994225\\\\\n",
       "\tLV3 & -0.0757368499 & -0.06648099 & -0.07406526 & -0.07713371 & -0.05966153 & -0.06552433 & -0.08328227 & -0.07995257 & -0.08514836 & -0.07769106 & ⋯ &  0.19676653 &  0.18538052 &  0.17310187 &  0.20670697 &  0.19265481 &  0.15479063 &  0.151297105 &  0.21425408 &  0.20251804 &  0.14492561\\\\\n",
       "\tLV4 & -0.1961513568 & -0.20566352 & -0.21201147 & -0.19850929 & -0.19637737 & -0.20395197 & -0.19755121 & -0.20649948 & -0.19993840 & -0.20461730 & ⋯ &  0.09811792 &  0.07008986 &  0.14089353 &  0.11110449 &  0.12916542 &  0.12924996 &  0.148189089 &  0.12431945 &  0.13712653 &  0.19727684\\\\\n",
       "\tLV5 & -0.3040506017 & -0.30346150 & -0.29528169 & -0.29639232 & -0.29417941 & -0.30123343 & -0.25735167 & -0.26807332 & -0.27006629 & -0.27332290 & ⋯ &  0.13220680 &  0.08555006 &  0.07867233 &  0.14480664 &  0.11118991 &  0.11045196 &  0.101744601 &  0.14507086 &  0.21723407 &  0.11746733\\\\\n",
       "\tLV6 & -0.3519748697 & -0.34103480 & -0.32978590 & -0.32507766 & -0.32607388 & -0.33723284 & -0.31148042 & -0.31001993 & -0.32232314 & -0.30902314 & ⋯ &  0.07010893 &  0.05144226 &  0.06915299 &  0.04361540 &  0.02826991 &  0.06474227 &  0.002771948 &  0.03921632 &  0.07130628 & -0.02656028\\\\\n",
       "\\end{tabular}\n"
      ],
      "text/markdown": [
       "\n",
       "A matrix: 6 × 37032 of type dbl\n",
       "\n",
       "| <!--/--> | SRP000599.SRR013549 | SRP000599.SRR013550 | SRP000599.SRR013551 | SRP000599.SRR013552 | SRP000599.SRR013553 | SRP000599.SRR013554 | SRP000599.SRR013555 | SRP000599.SRR013556 | SRP000599.SRR013557 | SRP000599.SRR013558 | ⋯ | SRP035599.SRR1139372 | SRP035599.SRR1139393 | SRP035599.SRR1139388 | SRP035599.SRR1139378 | SRP035599.SRR1139399 | SRP035599.SRR1139386 | SRP035599.SRR1139375 | SRP035599.SRR1139382 | SRP035599.SRR1139356 | SRP035599.SRR1139370 |\n",
       "|---|---|---|---|---|---|---|---|---|---|---|---|---|---|---|---|---|---|---|---|---|---|\n",
       "| LV1 |  0.0007205184 |  0.01647058 |  0.03814555 |  0.01197512 |  0.04704399 |  0.04437839 |  0.03381749 |  0.03636021 |  0.04043869 |  0.03289993 | ⋯ | -0.01736262 | -0.01926078 | -0.01523868 | -0.01591463 | -0.01855265 | -0.01790466 | -0.022153816 | -0.01976996 | -0.01984811 | -0.01888447 |\n",
       "| LV2 | -0.4923648979 | -0.51339038 | -0.50119356 | -0.49921384 | -0.50932023 | -0.50351341 | -0.39918583 | -0.40266711 | -0.37822289 | -0.39252230 | ⋯ |  0.16563092 |  0.23026527 |  0.15791311 |  0.18210354 |  0.15538578 |  0.12538393 |  0.139928490 |  0.17225534 |  0.15470415 |  0.15994225 |\n",
       "| LV3 | -0.0757368499 | -0.06648099 | -0.07406526 | -0.07713371 | -0.05966153 | -0.06552433 | -0.08328227 | -0.07995257 | -0.08514836 | -0.07769106 | ⋯ |  0.19676653 |  0.18538052 |  0.17310187 |  0.20670697 |  0.19265481 |  0.15479063 |  0.151297105 |  0.21425408 |  0.20251804 |  0.14492561 |\n",
       "| LV4 | -0.1961513568 | -0.20566352 | -0.21201147 | -0.19850929 | -0.19637737 | -0.20395197 | -0.19755121 | -0.20649948 | -0.19993840 | -0.20461730 | ⋯ |  0.09811792 |  0.07008986 |  0.14089353 |  0.11110449 |  0.12916542 |  0.12924996 |  0.148189089 |  0.12431945 |  0.13712653 |  0.19727684 |\n",
       "| LV5 | -0.3040506017 | -0.30346150 | -0.29528169 | -0.29639232 | -0.29417941 | -0.30123343 | -0.25735167 | -0.26807332 | -0.27006629 | -0.27332290 | ⋯ |  0.13220680 |  0.08555006 |  0.07867233 |  0.14480664 |  0.11118991 |  0.11045196 |  0.101744601 |  0.14507086 |  0.21723407 |  0.11746733 |\n",
       "| LV6 | -0.3519748697 | -0.34103480 | -0.32978590 | -0.32507766 | -0.32607388 | -0.33723284 | -0.31148042 | -0.31001993 | -0.32232314 | -0.30902314 | ⋯ |  0.07010893 |  0.05144226 |  0.06915299 |  0.04361540 |  0.02826991 |  0.06474227 |  0.002771948 |  0.03921632 |  0.07130628 | -0.02656028 |\n",
       "\n"
      ],
      "text/plain": [
       "    SRP000599.SRR013549 SRP000599.SRR013550 SRP000599.SRR013551\n",
       "LV1  0.0007205184        0.01647058          0.03814555        \n",
       "LV2 -0.4923648979       -0.51339038         -0.50119356        \n",
       "LV3 -0.0757368499       -0.06648099         -0.07406526        \n",
       "LV4 -0.1961513568       -0.20566352         -0.21201147        \n",
       "LV5 -0.3040506017       -0.30346150         -0.29528169        \n",
       "LV6 -0.3519748697       -0.34103480         -0.32978590        \n",
       "    SRP000599.SRR013552 SRP000599.SRR013553 SRP000599.SRR013554\n",
       "LV1  0.01197512          0.04704399          0.04437839        \n",
       "LV2 -0.49921384         -0.50932023         -0.50351341        \n",
       "LV3 -0.07713371         -0.05966153         -0.06552433        \n",
       "LV4 -0.19850929         -0.19637737         -0.20395197        \n",
       "LV5 -0.29639232         -0.29417941         -0.30123343        \n",
       "LV6 -0.32507766         -0.32607388         -0.33723284        \n",
       "    SRP000599.SRR013555 SRP000599.SRR013556 SRP000599.SRR013557\n",
       "LV1  0.03381749          0.03636021          0.04043869        \n",
       "LV2 -0.39918583         -0.40266711         -0.37822289        \n",
       "LV3 -0.08328227         -0.07995257         -0.08514836        \n",
       "LV4 -0.19755121         -0.20649948         -0.19993840        \n",
       "LV5 -0.25735167         -0.26807332         -0.27006629        \n",
       "LV6 -0.31148042         -0.31001993         -0.32232314        \n",
       "    SRP000599.SRR013558 ⋯ SRP035599.SRR1139372 SRP035599.SRR1139393\n",
       "LV1  0.03289993         ⋯ -0.01736262          -0.01926078         \n",
       "LV2 -0.39252230         ⋯  0.16563092           0.23026527         \n",
       "LV3 -0.07769106         ⋯  0.19676653           0.18538052         \n",
       "LV4 -0.20461730         ⋯  0.09811792           0.07008986         \n",
       "LV5 -0.27332290         ⋯  0.13220680           0.08555006         \n",
       "LV6 -0.30902314         ⋯  0.07010893           0.05144226         \n",
       "    SRP035599.SRR1139388 SRP035599.SRR1139378 SRP035599.SRR1139399\n",
       "LV1 -0.01523868          -0.01591463          -0.01855265         \n",
       "LV2  0.15791311           0.18210354           0.15538578         \n",
       "LV3  0.17310187           0.20670697           0.19265481         \n",
       "LV4  0.14089353           0.11110449           0.12916542         \n",
       "LV5  0.07867233           0.14480664           0.11118991         \n",
       "LV6  0.06915299           0.04361540           0.02826991         \n",
       "    SRP035599.SRR1139386 SRP035599.SRR1139375 SRP035599.SRR1139382\n",
       "LV1 -0.01790466          -0.022153816         -0.01976996         \n",
       "LV2  0.12538393           0.139928490          0.17225534         \n",
       "LV3  0.15479063           0.151297105          0.21425408         \n",
       "LV4  0.12924996           0.148189089          0.12431945         \n",
       "LV5  0.11045196           0.101744601          0.14507086         \n",
       "LV6  0.06474227           0.002771948          0.03921632         \n",
       "    SRP035599.SRR1139356 SRP035599.SRR1139370\n",
       "LV1 -0.01984811          -0.01888447         \n",
       "LV2  0.15470415           0.15994225         \n",
       "LV3  0.20251804           0.14492561         \n",
       "LV4  0.13712653           0.19727684         \n",
       "LV5  0.21723407           0.11746733         \n",
       "LV6  0.07130628          -0.02656028         "
      ]
     },
     "metadata": {},
     "output_type": "display_data"
    },
    {
     "data": {
      "text/html": [
       "<style>\n",
       ".list-inline {list-style: none; margin:0; padding: 0}\n",
       ".list-inline>li {display: inline-block}\n",
       ".list-inline>li:not(:last-child)::after {content: \"\\00b7\"; padding: 0 .5ex}\n",
       "</style>\n",
       "<ol class=list-inline><li>129</li><li>37032</li></ol>\n"
      ],
      "text/latex": [
       "\\begin{enumerate*}\n",
       "\\item 129\n",
       "\\item 37032\n",
       "\\end{enumerate*}\n"
      ],
      "text/markdown": [
       "1. 129\n",
       "2. 37032\n",
       "\n",
       "\n"
      ],
      "text/plain": [
       "[1]   129 37032"
      ]
     },
     "metadata": {},
     "output_type": "display_data"
    }
   ],
   "source": [
    "head(recount2_fullRes$B)\n",
    "dim(recount2_fullRes$B)"
   ]
  },
  {
   "cell_type": "code",
   "execution_count": 128,
   "id": "d005e364",
   "metadata": {
    "vscode": {
     "languageId": "r"
    }
   },
   "outputs": [
    {
     "data": {
      "text/html": [
       "<table class=\"dataframe\">\n",
       "<caption>A matrix: 6 × 129 of type dbl</caption>\n",
       "<thead>\n",
       "\t<tr><th></th><th scope=col>LV 1</th><th scope=col>LV 2</th><th scope=col>LV 3</th><th scope=col>LV 4</th><th scope=col>LV 5</th><th scope=col>LV 6</th><th scope=col>LV 7</th><th scope=col>LV 8</th><th scope=col>LV 9</th><th scope=col>LV 10</th><th scope=col>⋯</th><th scope=col>LV 120</th><th scope=col>LV 121</th><th scope=col>LV 122</th><th scope=col>LV 123</th><th scope=col>LV 124</th><th scope=col>LV 125</th><th scope=col>LV 126</th><th scope=col>LV 127</th><th scope=col>LV 128</th><th scope=col>LV 129</th></tr>\n",
       "</thead>\n",
       "<tbody>\n",
       "\t<tr><th scope=row>GAS6</th><td>0</td><td>0.0000000</td><td>0</td><td>1.0096098</td><td>0.0000000</td><td>0.0000000</td><td>0.0000000</td><td>0</td><td>0.0000000</td><td>0</td><td>⋯</td><td>1.6368284</td><td>0</td><td>0</td><td>0.0000000</td><td>0.0000000</td><td>0.0000000</td><td>0</td><td>0</td><td>0</td><td>0</td></tr>\n",
       "\t<tr><th scope=row>MMP14</th><td>0</td><td>0.0000000</td><td>0</td><td>1.3739073</td><td>0.7393090</td><td>0.0000000</td><td>0.0000000</td><td>0</td><td>0.0000000</td><td>0</td><td>⋯</td><td>0.9196013</td><td>0</td><td>0</td><td>0.0000000</td><td>0.0000000</td><td>0.5633084</td><td>0</td><td>0</td><td>0</td><td>0</td></tr>\n",
       "\t<tr><th scope=row>DSP</th><td>0</td><td>0.6120175</td><td>0</td><td>0.0000000</td><td>0.0000000</td><td>0.4647219</td><td>0.7366880</td><td>0</td><td>0.0000000</td><td>0</td><td>⋯</td><td>0.0000000</td><td>0</td><td>0</td><td>0.0000000</td><td>0.4429041</td><td>0.0000000</td><td>0</td><td>0</td><td>0</td><td>0</td></tr>\n",
       "\t<tr><th scope=row>MARCKSL1</th><td>0</td><td>1.1675652</td><td>0</td><td>0.4202976</td><td>0.0000000</td><td>0.7944830</td><td>0.6633716</td><td>0</td><td>0.4454415</td><td>0</td><td>⋯</td><td>0.0000000</td><td>0</td><td>0</td><td>0.6822762</td><td>0.0000000</td><td>0.0000000</td><td>0</td><td>0</td><td>0</td><td>0</td></tr>\n",
       "\t<tr><th scope=row>SPARC</th><td>0</td><td>0.5799174</td><td>0</td><td>0.0000000</td><td>0.0000000</td><td>0.0000000</td><td>0.0000000</td><td>0</td><td>0.0000000</td><td>0</td><td>⋯</td><td>0.5621682</td><td>0</td><td>0</td><td>0.4044555</td><td>0.0000000</td><td>0.0000000</td><td>0</td><td>0</td><td>0</td><td>0</td></tr>\n",
       "\t<tr><th scope=row>CTSD</th><td>0</td><td>0.0000000</td><td>0</td><td>1.1175006</td><td>0.4445312</td><td>0.0000000</td><td>0.0000000</td><td>0</td><td>0.5188999</td><td>0</td><td>⋯</td><td>0.0000000</td><td>0</td><td>0</td><td>0.0000000</td><td>0.0000000</td><td>0.0000000</td><td>0</td><td>0</td><td>0</td><td>0</td></tr>\n",
       "</tbody>\n",
       "</table>\n"
      ],
      "text/latex": [
       "A matrix: 6 × 129 of type dbl\n",
       "\\begin{tabular}{r|lllllllllllllllllllll}\n",
       "  & LV 1 & LV 2 & LV 3 & LV 4 & LV 5 & LV 6 & LV 7 & LV 8 & LV 9 & LV 10 & ⋯ & LV 120 & LV 121 & LV 122 & LV 123 & LV 124 & LV 125 & LV 126 & LV 127 & LV 128 & LV 129\\\\\n",
       "\\hline\n",
       "\tGAS6 & 0 & 0.0000000 & 0 & 1.0096098 & 0.0000000 & 0.0000000 & 0.0000000 & 0 & 0.0000000 & 0 & ⋯ & 1.6368284 & 0 & 0 & 0.0000000 & 0.0000000 & 0.0000000 & 0 & 0 & 0 & 0\\\\\n",
       "\tMMP14 & 0 & 0.0000000 & 0 & 1.3739073 & 0.7393090 & 0.0000000 & 0.0000000 & 0 & 0.0000000 & 0 & ⋯ & 0.9196013 & 0 & 0 & 0.0000000 & 0.0000000 & 0.5633084 & 0 & 0 & 0 & 0\\\\\n",
       "\tDSP & 0 & 0.6120175 & 0 & 0.0000000 & 0.0000000 & 0.4647219 & 0.7366880 & 0 & 0.0000000 & 0 & ⋯ & 0.0000000 & 0 & 0 & 0.0000000 & 0.4429041 & 0.0000000 & 0 & 0 & 0 & 0\\\\\n",
       "\tMARCKSL1 & 0 & 1.1675652 & 0 & 0.4202976 & 0.0000000 & 0.7944830 & 0.6633716 & 0 & 0.4454415 & 0 & ⋯ & 0.0000000 & 0 & 0 & 0.6822762 & 0.0000000 & 0.0000000 & 0 & 0 & 0 & 0\\\\\n",
       "\tSPARC & 0 & 0.5799174 & 0 & 0.0000000 & 0.0000000 & 0.0000000 & 0.0000000 & 0 & 0.0000000 & 0 & ⋯ & 0.5621682 & 0 & 0 & 0.4044555 & 0.0000000 & 0.0000000 & 0 & 0 & 0 & 0\\\\\n",
       "\tCTSD & 0 & 0.0000000 & 0 & 1.1175006 & 0.4445312 & 0.0000000 & 0.0000000 & 0 & 0.5188999 & 0 & ⋯ & 0.0000000 & 0 & 0 & 0.0000000 & 0.0000000 & 0.0000000 & 0 & 0 & 0 & 0\\\\\n",
       "\\end{tabular}\n"
      ],
      "text/markdown": [
       "\n",
       "A matrix: 6 × 129 of type dbl\n",
       "\n",
       "| <!--/--> | LV 1 | LV 2 | LV 3 | LV 4 | LV 5 | LV 6 | LV 7 | LV 8 | LV 9 | LV 10 | ⋯ | LV 120 | LV 121 | LV 122 | LV 123 | LV 124 | LV 125 | LV 126 | LV 127 | LV 128 | LV 129 |\n",
       "|---|---|---|---|---|---|---|---|---|---|---|---|---|---|---|---|---|---|---|---|---|---|\n",
       "| GAS6 | 0 | 0.0000000 | 0 | 1.0096098 | 0.0000000 | 0.0000000 | 0.0000000 | 0 | 0.0000000 | 0 | ⋯ | 1.6368284 | 0 | 0 | 0.0000000 | 0.0000000 | 0.0000000 | 0 | 0 | 0 | 0 |\n",
       "| MMP14 | 0 | 0.0000000 | 0 | 1.3739073 | 0.7393090 | 0.0000000 | 0.0000000 | 0 | 0.0000000 | 0 | ⋯ | 0.9196013 | 0 | 0 | 0.0000000 | 0.0000000 | 0.5633084 | 0 | 0 | 0 | 0 |\n",
       "| DSP | 0 | 0.6120175 | 0 | 0.0000000 | 0.0000000 | 0.4647219 | 0.7366880 | 0 | 0.0000000 | 0 | ⋯ | 0.0000000 | 0 | 0 | 0.0000000 | 0.4429041 | 0.0000000 | 0 | 0 | 0 | 0 |\n",
       "| MARCKSL1 | 0 | 1.1675652 | 0 | 0.4202976 | 0.0000000 | 0.7944830 | 0.6633716 | 0 | 0.4454415 | 0 | ⋯ | 0.0000000 | 0 | 0 | 0.6822762 | 0.0000000 | 0.0000000 | 0 | 0 | 0 | 0 |\n",
       "| SPARC | 0 | 0.5799174 | 0 | 0.0000000 | 0.0000000 | 0.0000000 | 0.0000000 | 0 | 0.0000000 | 0 | ⋯ | 0.5621682 | 0 | 0 | 0.4044555 | 0.0000000 | 0.0000000 | 0 | 0 | 0 | 0 |\n",
       "| CTSD | 0 | 0.0000000 | 0 | 1.1175006 | 0.4445312 | 0.0000000 | 0.0000000 | 0 | 0.5188999 | 0 | ⋯ | 0.0000000 | 0 | 0 | 0.0000000 | 0.0000000 | 0.0000000 | 0 | 0 | 0 | 0 |\n",
       "\n"
      ],
      "text/plain": [
       "         LV 1 LV 2      LV 3 LV 4      LV 5      LV 6      LV 7      LV 8\n",
       "GAS6     0    0.0000000 0    1.0096098 0.0000000 0.0000000 0.0000000 0   \n",
       "MMP14    0    0.0000000 0    1.3739073 0.7393090 0.0000000 0.0000000 0   \n",
       "DSP      0    0.6120175 0    0.0000000 0.0000000 0.4647219 0.7366880 0   \n",
       "MARCKSL1 0    1.1675652 0    0.4202976 0.0000000 0.7944830 0.6633716 0   \n",
       "SPARC    0    0.5799174 0    0.0000000 0.0000000 0.0000000 0.0000000 0   \n",
       "CTSD     0    0.0000000 0    1.1175006 0.4445312 0.0000000 0.0000000 0   \n",
       "         LV 9      LV 10 ⋯ LV 120    LV 121 LV 122 LV 123    LV 124   \n",
       "GAS6     0.0000000 0     ⋯ 1.6368284 0      0      0.0000000 0.0000000\n",
       "MMP14    0.0000000 0     ⋯ 0.9196013 0      0      0.0000000 0.0000000\n",
       "DSP      0.0000000 0     ⋯ 0.0000000 0      0      0.0000000 0.4429041\n",
       "MARCKSL1 0.4454415 0     ⋯ 0.0000000 0      0      0.6822762 0.0000000\n",
       "SPARC    0.0000000 0     ⋯ 0.5621682 0      0      0.4044555 0.0000000\n",
       "CTSD     0.5188999 0     ⋯ 0.0000000 0      0      0.0000000 0.0000000\n",
       "         LV 125    LV 126 LV 127 LV 128 LV 129\n",
       "GAS6     0.0000000 0      0      0      0     \n",
       "MMP14    0.5633084 0      0      0      0     \n",
       "DSP      0.0000000 0      0      0      0     \n",
       "MARCKSL1 0.0000000 0      0      0      0     \n",
       "SPARC    0.0000000 0      0      0      0     \n",
       "CTSD     0.0000000 0      0      0      0     "
      ]
     },
     "metadata": {},
     "output_type": "display_data"
    },
    {
     "data": {
      "text/html": [
       "<style>\n",
       ".list-inline {list-style: none; margin:0; padding: 0}\n",
       ".list-inline>li {display: inline-block}\n",
       ".list-inline>li:not(:last-child)::after {content: \"\\00b7\"; padding: 0 .5ex}\n",
       "</style>\n",
       "<ol class=list-inline><li>6002</li><li>129</li></ol>\n"
      ],
      "text/latex": [
       "\\begin{enumerate*}\n",
       "\\item 6002\n",
       "\\item 129\n",
       "\\end{enumerate*}\n"
      ],
      "text/markdown": [
       "1. 6002\n",
       "2. 129\n",
       "\n",
       "\n"
      ],
      "text/plain": [
       "[1] 6002  129"
      ]
     },
     "metadata": {},
     "output_type": "display_data"
    }
   ],
   "source": [
    "head(recount2_fullRes$Z)\n",
    "dim(recount2_fullRes$Z)"
   ]
  },
  {
   "cell_type": "code",
   "execution_count": 129,
   "id": "2d8c6f16",
   "metadata": {
    "vscode": {
     "languageId": "r"
    }
   },
   "outputs": [],
   "source": [
    "colnames(recount2_fullRes$Z) <- paste0('LV', seq_len(ncol(recount2_fullRes$Z)))"
   ]
  },
  {
   "cell_type": "code",
   "execution_count": 130,
   "id": "3f9a9b45",
   "metadata": {
    "vscode": {
     "languageId": "r"
    }
   },
   "outputs": [
    {
     "data": {
      "text/html": [
       "<table class=\"dataframe\">\n",
       "<caption>A matrix: 6 × 129 of type dbl</caption>\n",
       "<thead>\n",
       "\t<tr><th></th><th scope=col>LV1</th><th scope=col>LV2</th><th scope=col>LV3</th><th scope=col>LV4</th><th scope=col>LV5</th><th scope=col>LV6</th><th scope=col>LV7</th><th scope=col>LV8</th><th scope=col>LV9</th><th scope=col>LV10</th><th scope=col>⋯</th><th scope=col>LV120</th><th scope=col>LV121</th><th scope=col>LV122</th><th scope=col>LV123</th><th scope=col>LV124</th><th scope=col>LV125</th><th scope=col>LV126</th><th scope=col>LV127</th><th scope=col>LV128</th><th scope=col>LV129</th></tr>\n",
       "</thead>\n",
       "<tbody>\n",
       "\t<tr><th scope=row>GAS6</th><td>0</td><td>0.0000000</td><td>0</td><td>1.0096098</td><td>0.0000000</td><td>0.0000000</td><td>0.0000000</td><td>0</td><td>0.0000000</td><td>0</td><td>⋯</td><td>1.6368284</td><td>0</td><td>0</td><td>0.0000000</td><td>0.0000000</td><td>0.0000000</td><td>0</td><td>0</td><td>0</td><td>0</td></tr>\n",
       "\t<tr><th scope=row>MMP14</th><td>0</td><td>0.0000000</td><td>0</td><td>1.3739073</td><td>0.7393090</td><td>0.0000000</td><td>0.0000000</td><td>0</td><td>0.0000000</td><td>0</td><td>⋯</td><td>0.9196013</td><td>0</td><td>0</td><td>0.0000000</td><td>0.0000000</td><td>0.5633084</td><td>0</td><td>0</td><td>0</td><td>0</td></tr>\n",
       "\t<tr><th scope=row>DSP</th><td>0</td><td>0.6120175</td><td>0</td><td>0.0000000</td><td>0.0000000</td><td>0.4647219</td><td>0.7366880</td><td>0</td><td>0.0000000</td><td>0</td><td>⋯</td><td>0.0000000</td><td>0</td><td>0</td><td>0.0000000</td><td>0.4429041</td><td>0.0000000</td><td>0</td><td>0</td><td>0</td><td>0</td></tr>\n",
       "\t<tr><th scope=row>MARCKSL1</th><td>0</td><td>1.1675652</td><td>0</td><td>0.4202976</td><td>0.0000000</td><td>0.7944830</td><td>0.6633716</td><td>0</td><td>0.4454415</td><td>0</td><td>⋯</td><td>0.0000000</td><td>0</td><td>0</td><td>0.6822762</td><td>0.0000000</td><td>0.0000000</td><td>0</td><td>0</td><td>0</td><td>0</td></tr>\n",
       "\t<tr><th scope=row>SPARC</th><td>0</td><td>0.5799174</td><td>0</td><td>0.0000000</td><td>0.0000000</td><td>0.0000000</td><td>0.0000000</td><td>0</td><td>0.0000000</td><td>0</td><td>⋯</td><td>0.5621682</td><td>0</td><td>0</td><td>0.4044555</td><td>0.0000000</td><td>0.0000000</td><td>0</td><td>0</td><td>0</td><td>0</td></tr>\n",
       "\t<tr><th scope=row>CTSD</th><td>0</td><td>0.0000000</td><td>0</td><td>1.1175006</td><td>0.4445312</td><td>0.0000000</td><td>0.0000000</td><td>0</td><td>0.5188999</td><td>0</td><td>⋯</td><td>0.0000000</td><td>0</td><td>0</td><td>0.0000000</td><td>0.0000000</td><td>0.0000000</td><td>0</td><td>0</td><td>0</td><td>0</td></tr>\n",
       "</tbody>\n",
       "</table>\n"
      ],
      "text/latex": [
       "A matrix: 6 × 129 of type dbl\n",
       "\\begin{tabular}{r|lllllllllllllllllllll}\n",
       "  & LV1 & LV2 & LV3 & LV4 & LV5 & LV6 & LV7 & LV8 & LV9 & LV10 & ⋯ & LV120 & LV121 & LV122 & LV123 & LV124 & LV125 & LV126 & LV127 & LV128 & LV129\\\\\n",
       "\\hline\n",
       "\tGAS6 & 0 & 0.0000000 & 0 & 1.0096098 & 0.0000000 & 0.0000000 & 0.0000000 & 0 & 0.0000000 & 0 & ⋯ & 1.6368284 & 0 & 0 & 0.0000000 & 0.0000000 & 0.0000000 & 0 & 0 & 0 & 0\\\\\n",
       "\tMMP14 & 0 & 0.0000000 & 0 & 1.3739073 & 0.7393090 & 0.0000000 & 0.0000000 & 0 & 0.0000000 & 0 & ⋯ & 0.9196013 & 0 & 0 & 0.0000000 & 0.0000000 & 0.5633084 & 0 & 0 & 0 & 0\\\\\n",
       "\tDSP & 0 & 0.6120175 & 0 & 0.0000000 & 0.0000000 & 0.4647219 & 0.7366880 & 0 & 0.0000000 & 0 & ⋯ & 0.0000000 & 0 & 0 & 0.0000000 & 0.4429041 & 0.0000000 & 0 & 0 & 0 & 0\\\\\n",
       "\tMARCKSL1 & 0 & 1.1675652 & 0 & 0.4202976 & 0.0000000 & 0.7944830 & 0.6633716 & 0 & 0.4454415 & 0 & ⋯ & 0.0000000 & 0 & 0 & 0.6822762 & 0.0000000 & 0.0000000 & 0 & 0 & 0 & 0\\\\\n",
       "\tSPARC & 0 & 0.5799174 & 0 & 0.0000000 & 0.0000000 & 0.0000000 & 0.0000000 & 0 & 0.0000000 & 0 & ⋯ & 0.5621682 & 0 & 0 & 0.4044555 & 0.0000000 & 0.0000000 & 0 & 0 & 0 & 0\\\\\n",
       "\tCTSD & 0 & 0.0000000 & 0 & 1.1175006 & 0.4445312 & 0.0000000 & 0.0000000 & 0 & 0.5188999 & 0 & ⋯ & 0.0000000 & 0 & 0 & 0.0000000 & 0.0000000 & 0.0000000 & 0 & 0 & 0 & 0\\\\\n",
       "\\end{tabular}\n"
      ],
      "text/markdown": [
       "\n",
       "A matrix: 6 × 129 of type dbl\n",
       "\n",
       "| <!--/--> | LV1 | LV2 | LV3 | LV4 | LV5 | LV6 | LV7 | LV8 | LV9 | LV10 | ⋯ | LV120 | LV121 | LV122 | LV123 | LV124 | LV125 | LV126 | LV127 | LV128 | LV129 |\n",
       "|---|---|---|---|---|---|---|---|---|---|---|---|---|---|---|---|---|---|---|---|---|---|\n",
       "| GAS6 | 0 | 0.0000000 | 0 | 1.0096098 | 0.0000000 | 0.0000000 | 0.0000000 | 0 | 0.0000000 | 0 | ⋯ | 1.6368284 | 0 | 0 | 0.0000000 | 0.0000000 | 0.0000000 | 0 | 0 | 0 | 0 |\n",
       "| MMP14 | 0 | 0.0000000 | 0 | 1.3739073 | 0.7393090 | 0.0000000 | 0.0000000 | 0 | 0.0000000 | 0 | ⋯ | 0.9196013 | 0 | 0 | 0.0000000 | 0.0000000 | 0.5633084 | 0 | 0 | 0 | 0 |\n",
       "| DSP | 0 | 0.6120175 | 0 | 0.0000000 | 0.0000000 | 0.4647219 | 0.7366880 | 0 | 0.0000000 | 0 | ⋯ | 0.0000000 | 0 | 0 | 0.0000000 | 0.4429041 | 0.0000000 | 0 | 0 | 0 | 0 |\n",
       "| MARCKSL1 | 0 | 1.1675652 | 0 | 0.4202976 | 0.0000000 | 0.7944830 | 0.6633716 | 0 | 0.4454415 | 0 | ⋯ | 0.0000000 | 0 | 0 | 0.6822762 | 0.0000000 | 0.0000000 | 0 | 0 | 0 | 0 |\n",
       "| SPARC | 0 | 0.5799174 | 0 | 0.0000000 | 0.0000000 | 0.0000000 | 0.0000000 | 0 | 0.0000000 | 0 | ⋯ | 0.5621682 | 0 | 0 | 0.4044555 | 0.0000000 | 0.0000000 | 0 | 0 | 0 | 0 |\n",
       "| CTSD | 0 | 0.0000000 | 0 | 1.1175006 | 0.4445312 | 0.0000000 | 0.0000000 | 0 | 0.5188999 | 0 | ⋯ | 0.0000000 | 0 | 0 | 0.0000000 | 0.0000000 | 0.0000000 | 0 | 0 | 0 | 0 |\n",
       "\n"
      ],
      "text/plain": [
       "         LV1 LV2       LV3 LV4       LV5       LV6       LV7       LV8\n",
       "GAS6     0   0.0000000 0   1.0096098 0.0000000 0.0000000 0.0000000 0  \n",
       "MMP14    0   0.0000000 0   1.3739073 0.7393090 0.0000000 0.0000000 0  \n",
       "DSP      0   0.6120175 0   0.0000000 0.0000000 0.4647219 0.7366880 0  \n",
       "MARCKSL1 0   1.1675652 0   0.4202976 0.0000000 0.7944830 0.6633716 0  \n",
       "SPARC    0   0.5799174 0   0.0000000 0.0000000 0.0000000 0.0000000 0  \n",
       "CTSD     0   0.0000000 0   1.1175006 0.4445312 0.0000000 0.0000000 0  \n",
       "         LV9       LV10 ⋯ LV120     LV121 LV122 LV123     LV124     LV125    \n",
       "GAS6     0.0000000 0    ⋯ 1.6368284 0     0     0.0000000 0.0000000 0.0000000\n",
       "MMP14    0.0000000 0    ⋯ 0.9196013 0     0     0.0000000 0.0000000 0.5633084\n",
       "DSP      0.0000000 0    ⋯ 0.0000000 0     0     0.0000000 0.4429041 0.0000000\n",
       "MARCKSL1 0.4454415 0    ⋯ 0.0000000 0     0     0.6822762 0.0000000 0.0000000\n",
       "SPARC    0.0000000 0    ⋯ 0.5621682 0     0     0.4044555 0.0000000 0.0000000\n",
       "CTSD     0.5188999 0    ⋯ 0.0000000 0     0     0.0000000 0.0000000 0.0000000\n",
       "         LV126 LV127 LV128 LV129\n",
       "GAS6     0     0     0     0    \n",
       "MMP14    0     0     0     0    \n",
       "DSP      0     0     0     0    \n",
       "MARCKSL1 0     0     0     0    \n",
       "SPARC    0     0     0     0    \n",
       "CTSD     0     0     0     0    "
      ]
     },
     "metadata": {},
     "output_type": "display_data"
    },
    {
     "data": {
      "text/html": [
       "<style>\n",
       ".list-inline {list-style: none; margin:0; padding: 0}\n",
       ".list-inline>li {display: inline-block}\n",
       ".list-inline>li:not(:last-child)::after {content: \"\\00b7\"; padding: 0 .5ex}\n",
       "</style>\n",
       "<ol class=list-inline><li>6002</li><li>129</li></ol>\n"
      ],
      "text/latex": [
       "\\begin{enumerate*}\n",
       "\\item 6002\n",
       "\\item 129\n",
       "\\end{enumerate*}\n"
      ],
      "text/markdown": [
       "1. 6002\n",
       "2. 129\n",
       "\n",
       "\n"
      ],
      "text/plain": [
       "[1] 6002  129"
      ]
     },
     "metadata": {},
     "output_type": "display_data"
    }
   ],
   "source": [
    "head(recount2_fullRes$Z)\n",
    "dim(recount2_fullRes$Z)"
   ]
  },
  {
   "cell_type": "code",
   "execution_count": 132,
   "id": "b87fb782",
   "metadata": {
    "vscode": {
     "languageId": "r"
    }
   },
   "outputs": [
    {
     "data": {
      "text/html": [
       "<table class=\"dataframe\">\n",
       "<caption>A data.frame: 6 × 5</caption>\n",
       "<thead>\n",
       "\t<tr><th></th><th scope=col>pathway</th><th scope=col>LV index</th><th scope=col>AUC</th><th scope=col>p-value</th><th scope=col>FDR</th></tr>\n",
       "\t<tr><th></th><th scope=col>&lt;chr&gt;</th><th scope=col>&lt;chr&gt;</th><th scope=col>&lt;dbl&gt;</th><th scope=col>&lt;dbl&gt;</th><th scope=col>&lt;dbl&gt;</th></tr>\n",
       "</thead>\n",
       "<tbody>\n",
       "\t<tr><th scope=row>1</th><td>Mitochondrial ATP Synthesis Coupled Electron Transport (GO:0042775)                    </td><td>2</td><td>0.7954083</td><td>0.0003209802</td><td>0.002718506</td></tr>\n",
       "\t<tr><th scope=row>2</th><td>Multivesicular Body Assembly (GO:0036258)                                              </td><td>2</td><td>0.5099627</td><td>0.4691048697</td><td>0.644630864</td></tr>\n",
       "\t<tr><th scope=row>3</th><td>Negative Regulation of Telomere Maintenance via Telomerase (GO:0032211)                </td><td>2</td><td>0.6593121</td><td>0.1680680238</td><td>0.332134428</td></tr>\n",
       "\t<tr><th scope=row>4</th><td>Positive Regulation of mRNA Splicing, via Spliceosome (GO:0048026)                     </td><td>2</td><td>0.9189579</td><td>0.0194334183</td><td>0.069141030</td></tr>\n",
       "\t<tr><th scope=row>5</th><td>Positive Regulation of Bone Mineralization (GO:0030501)                                </td><td>3</td><td>0.2998717</td><td>0.9273754634</td><td>0.957365217</td></tr>\n",
       "\t<tr><th scope=row>6</th><td>Positive Regulation of Production of Molecular Mediator of Immune Response (GO:0002702)</td><td>3</td><td>0.4965612</td><td>0.5112146918</td><td>0.679981080</td></tr>\n",
       "</tbody>\n",
       "</table>\n"
      ],
      "text/latex": [
       "A data.frame: 6 × 5\n",
       "\\begin{tabular}{r|lllll}\n",
       "  & pathway & LV index & AUC & p-value & FDR\\\\\n",
       "  & <chr> & <chr> & <dbl> & <dbl> & <dbl>\\\\\n",
       "\\hline\n",
       "\t1 & Mitochondrial ATP Synthesis Coupled Electron Transport (GO:0042775)                     & 2 & 0.7954083 & 0.0003209802 & 0.002718506\\\\\n",
       "\t2 & Multivesicular Body Assembly (GO:0036258)                                               & 2 & 0.5099627 & 0.4691048697 & 0.644630864\\\\\n",
       "\t3 & Negative Regulation of Telomere Maintenance via Telomerase (GO:0032211)                 & 2 & 0.6593121 & 0.1680680238 & 0.332134428\\\\\n",
       "\t4 & Positive Regulation of mRNA Splicing, via Spliceosome (GO:0048026)                      & 2 & 0.9189579 & 0.0194334183 & 0.069141030\\\\\n",
       "\t5 & Positive Regulation of Bone Mineralization (GO:0030501)                                 & 3 & 0.2998717 & 0.9273754634 & 0.957365217\\\\\n",
       "\t6 & Positive Regulation of Production of Molecular Mediator of Immune Response (GO:0002702) & 3 & 0.4965612 & 0.5112146918 & 0.679981080\\\\\n",
       "\\end{tabular}\n"
      ],
      "text/markdown": [
       "\n",
       "A data.frame: 6 × 5\n",
       "\n",
       "| <!--/--> | pathway &lt;chr&gt; | LV index &lt;chr&gt; | AUC &lt;dbl&gt; | p-value &lt;dbl&gt; | FDR &lt;dbl&gt; |\n",
       "|---|---|---|---|---|---|\n",
       "| 1 | Mitochondrial ATP Synthesis Coupled Electron Transport (GO:0042775)                     | 2 | 0.7954083 | 0.0003209802 | 0.002718506 |\n",
       "| 2 | Multivesicular Body Assembly (GO:0036258)                                               | 2 | 0.5099627 | 0.4691048697 | 0.644630864 |\n",
       "| 3 | Negative Regulation of Telomere Maintenance via Telomerase (GO:0032211)                 | 2 | 0.6593121 | 0.1680680238 | 0.332134428 |\n",
       "| 4 | Positive Regulation of mRNA Splicing, via Spliceosome (GO:0048026)                      | 2 | 0.9189579 | 0.0194334183 | 0.069141030 |\n",
       "| 5 | Positive Regulation of Bone Mineralization (GO:0030501)                                 | 3 | 0.2998717 | 0.9273754634 | 0.957365217 |\n",
       "| 6 | Positive Regulation of Production of Molecular Mediator of Immune Response (GO:0002702) | 3 | 0.4965612 | 0.5112146918 | 0.679981080 |\n",
       "\n"
      ],
      "text/plain": [
       "  pathway                                                                                \n",
       "1 Mitochondrial ATP Synthesis Coupled Electron Transport (GO:0042775)                    \n",
       "2 Multivesicular Body Assembly (GO:0036258)                                              \n",
       "3 Negative Regulation of Telomere Maintenance via Telomerase (GO:0032211)                \n",
       "4 Positive Regulation of mRNA Splicing, via Spliceosome (GO:0048026)                     \n",
       "5 Positive Regulation of Bone Mineralization (GO:0030501)                                \n",
       "6 Positive Regulation of Production of Molecular Mediator of Immune Response (GO:0002702)\n",
       "  LV index AUC       p-value      FDR        \n",
       "1 2        0.7954083 0.0003209802 0.002718506\n",
       "2 2        0.5099627 0.4691048697 0.644630864\n",
       "3 2        0.6593121 0.1680680238 0.332134428\n",
       "4 2        0.9189579 0.0194334183 0.069141030\n",
       "5 3        0.2998717 0.9273754634 0.957365217\n",
       "6 3        0.4965612 0.5112146918 0.679981080"
      ]
     },
     "metadata": {},
     "output_type": "display_data"
    }
   ],
   "source": [
    "head(recount2_fullRes$summary)"
   ]
  },
  {
   "cell_type": "code",
   "execution_count": 133,
   "metadata": {
    "vscode": {
     "languageId": "r"
    }
   },
   "outputs": [],
   "source": [
    "recount2_fullRes$summary <- recount2_fullRes$summary %>%\n",
    "    dplyr::rename(LV = `LV index`)  %>% \n",
    "    dplyr::mutate(LV = paste0('LV', LV))"
   ]
  },
  {
   "cell_type": "code",
   "execution_count": 135,
   "id": "38462d99",
   "metadata": {
    "vscode": {
     "languageId": "r"
    }
   },
   "outputs": [
    {
     "data": {
      "text/html": [
       "<table class=\"dataframe\">\n",
       "<caption>A data.frame: 6 × 5</caption>\n",
       "<thead>\n",
       "\t<tr><th></th><th scope=col>pathway</th><th scope=col>LV</th><th scope=col>AUC</th><th scope=col>p-value</th><th scope=col>FDR</th></tr>\n",
       "\t<tr><th></th><th scope=col>&lt;chr&gt;</th><th scope=col>&lt;chr&gt;</th><th scope=col>&lt;dbl&gt;</th><th scope=col>&lt;dbl&gt;</th><th scope=col>&lt;dbl&gt;</th></tr>\n",
       "</thead>\n",
       "<tbody>\n",
       "\t<tr><th scope=row>1</th><td>Mitochondrial ATP Synthesis Coupled Electron Transport (GO:0042775)                    </td><td>LV2</td><td>0.7954083</td><td>0.0003209802</td><td>0.002718506</td></tr>\n",
       "\t<tr><th scope=row>2</th><td>Multivesicular Body Assembly (GO:0036258)                                              </td><td>LV2</td><td>0.5099627</td><td>0.4691048697</td><td>0.644630864</td></tr>\n",
       "\t<tr><th scope=row>3</th><td>Negative Regulation of Telomere Maintenance via Telomerase (GO:0032211)                </td><td>LV2</td><td>0.6593121</td><td>0.1680680238</td><td>0.332134428</td></tr>\n",
       "\t<tr><th scope=row>4</th><td>Positive Regulation of mRNA Splicing, via Spliceosome (GO:0048026)                     </td><td>LV2</td><td>0.9189579</td><td>0.0194334183</td><td>0.069141030</td></tr>\n",
       "\t<tr><th scope=row>5</th><td>Positive Regulation of Bone Mineralization (GO:0030501)                                </td><td>LV3</td><td>0.2998717</td><td>0.9273754634</td><td>0.957365217</td></tr>\n",
       "\t<tr><th scope=row>6</th><td>Positive Regulation of Production of Molecular Mediator of Immune Response (GO:0002702)</td><td>LV3</td><td>0.4965612</td><td>0.5112146918</td><td>0.679981080</td></tr>\n",
       "</tbody>\n",
       "</table>\n"
      ],
      "text/latex": [
       "A data.frame: 6 × 5\n",
       "\\begin{tabular}{r|lllll}\n",
       "  & pathway & LV & AUC & p-value & FDR\\\\\n",
       "  & <chr> & <chr> & <dbl> & <dbl> & <dbl>\\\\\n",
       "\\hline\n",
       "\t1 & Mitochondrial ATP Synthesis Coupled Electron Transport (GO:0042775)                     & LV2 & 0.7954083 & 0.0003209802 & 0.002718506\\\\\n",
       "\t2 & Multivesicular Body Assembly (GO:0036258)                                               & LV2 & 0.5099627 & 0.4691048697 & 0.644630864\\\\\n",
       "\t3 & Negative Regulation of Telomere Maintenance via Telomerase (GO:0032211)                 & LV2 & 0.6593121 & 0.1680680238 & 0.332134428\\\\\n",
       "\t4 & Positive Regulation of mRNA Splicing, via Spliceosome (GO:0048026)                      & LV2 & 0.9189579 & 0.0194334183 & 0.069141030\\\\\n",
       "\t5 & Positive Regulation of Bone Mineralization (GO:0030501)                                 & LV3 & 0.2998717 & 0.9273754634 & 0.957365217\\\\\n",
       "\t6 & Positive Regulation of Production of Molecular Mediator of Immune Response (GO:0002702) & LV3 & 0.4965612 & 0.5112146918 & 0.679981080\\\\\n",
       "\\end{tabular}\n"
      ],
      "text/markdown": [
       "\n",
       "A data.frame: 6 × 5\n",
       "\n",
       "| <!--/--> | pathway &lt;chr&gt; | LV &lt;chr&gt; | AUC &lt;dbl&gt; | p-value &lt;dbl&gt; | FDR &lt;dbl&gt; |\n",
       "|---|---|---|---|---|---|\n",
       "| 1 | Mitochondrial ATP Synthesis Coupled Electron Transport (GO:0042775)                     | LV2 | 0.7954083 | 0.0003209802 | 0.002718506 |\n",
       "| 2 | Multivesicular Body Assembly (GO:0036258)                                               | LV2 | 0.5099627 | 0.4691048697 | 0.644630864 |\n",
       "| 3 | Negative Regulation of Telomere Maintenance via Telomerase (GO:0032211)                 | LV2 | 0.6593121 | 0.1680680238 | 0.332134428 |\n",
       "| 4 | Positive Regulation of mRNA Splicing, via Spliceosome (GO:0048026)                      | LV2 | 0.9189579 | 0.0194334183 | 0.069141030 |\n",
       "| 5 | Positive Regulation of Bone Mineralization (GO:0030501)                                 | LV3 | 0.2998717 | 0.9273754634 | 0.957365217 |\n",
       "| 6 | Positive Regulation of Production of Molecular Mediator of Immune Response (GO:0002702) | LV3 | 0.4965612 | 0.5112146918 | 0.679981080 |\n",
       "\n"
      ],
      "text/plain": [
       "  pathway                                                                                \n",
       "1 Mitochondrial ATP Synthesis Coupled Electron Transport (GO:0042775)                    \n",
       "2 Multivesicular Body Assembly (GO:0036258)                                              \n",
       "3 Negative Regulation of Telomere Maintenance via Telomerase (GO:0032211)                \n",
       "4 Positive Regulation of mRNA Splicing, via Spliceosome (GO:0048026)                     \n",
       "5 Positive Regulation of Bone Mineralization (GO:0030501)                                \n",
       "6 Positive Regulation of Production of Molecular Mediator of Immune Response (GO:0002702)\n",
       "  LV  AUC       p-value      FDR        \n",
       "1 LV2 0.7954083 0.0003209802 0.002718506\n",
       "2 LV2 0.5099627 0.4691048697 0.644630864\n",
       "3 LV2 0.6593121 0.1680680238 0.332134428\n",
       "4 LV2 0.9189579 0.0194334183 0.069141030\n",
       "5 LV3 0.2998717 0.9273754634 0.957365217\n",
       "6 LV3 0.4965612 0.5112146918 0.679981080"
      ]
     },
     "metadata": {},
     "output_type": "display_data"
    }
   ],
   "source": [
    "head(recount2_fullRes$summary)"
   ]
  },
  {
   "cell_type": "code",
   "execution_count": null,
   "id": "6a6c5bfe",
   "metadata": {
    "vscode": {
     "languageId": "r"
    }
   },
   "outputs": [
    {
     "data": {
      "text/html": [
       "<table class=\"dataframe\">\n",
       "<caption>A data.frame: 6 × 5</caption>\n",
       "<thead>\n",
       "\t<tr><th></th><th scope=col>pathway</th><th scope=col>LV</th><th scope=col>AUC</th><th scope=col>p-value</th><th scope=col>FDR</th></tr>\n",
       "\t<tr><th></th><th scope=col>&lt;chr&gt;</th><th scope=col>&lt;chr&gt;</th><th scope=col>&lt;dbl&gt;</th><th scope=col>&lt;dbl&gt;</th><th scope=col>&lt;dbl&gt;</th></tr>\n",
       "</thead>\n",
       "<tbody>\n",
       "\t<tr><th scope=row>1</th><td>Mitochondrial ATP Synthesis Coupled Electron Transport (GO:0042775)                      </td><td>LV2</td><td>0.7954083</td><td>3.209802e-04</td><td>0.002718506</td></tr>\n",
       "\t<tr><th scope=row>2</th><td>Positive Regulation of Tumor Necrosis Factor Superfamily Cytokine Production (GO:1903557)</td><td>LV3</td><td>0.7292415</td><td>1.946084e-03</td><td>0.012054101</td></tr>\n",
       "\t<tr><th scope=row>3</th><td>Regulation of Interleukin-2 Production (GO:0032663)                                      </td><td>LV3</td><td>0.9254063</td><td>7.536747e-05</td><td>0.001075903</td></tr>\n",
       "\t<tr><th scope=row>4</th><td>Regulation of Interleukin-8 Production (GO:0032677)                                      </td><td>LV3</td><td>0.7557399</td><td>1.640158e-03</td><td>0.010635397</td></tr>\n",
       "\t<tr><th scope=row>5</th><td>Stomach Female 20-29 Up                                                                  </td><td>LV7</td><td>0.9858300</td><td>6.004389e-03</td><td>0.030388064</td></tr>\n",
       "\t<tr><th scope=row>6</th><td>Colon - Transverse Male 30-39 Up                                                         </td><td>LV7</td><td>0.9919872</td><td>1.611349e-04</td><td>0.001759763</td></tr>\n",
       "</tbody>\n",
       "</table>\n"
      ],
      "text/latex": [
       "A data.frame: 6 × 5\n",
       "\\begin{tabular}{r|lllll}\n",
       "  & pathway & LV & AUC & p-value & FDR\\\\\n",
       "  & <chr> & <chr> & <dbl> & <dbl> & <dbl>\\\\\n",
       "\\hline\n",
       "\t1 & Mitochondrial ATP Synthesis Coupled Electron Transport (GO:0042775)                       & LV2 & 0.7954083 & 3.209802e-04 & 0.002718506\\\\\n",
       "\t2 & Positive Regulation of Tumor Necrosis Factor Superfamily Cytokine Production (GO:1903557) & LV3 & 0.7292415 & 1.946084e-03 & 0.012054101\\\\\n",
       "\t3 & Regulation of Interleukin-2 Production (GO:0032663)                                       & LV3 & 0.9254063 & 7.536747e-05 & 0.001075903\\\\\n",
       "\t4 & Regulation of Interleukin-8 Production (GO:0032677)                                       & LV3 & 0.7557399 & 1.640158e-03 & 0.010635397\\\\\n",
       "\t5 & Stomach Female 20-29 Up                                                                   & LV7 & 0.9858300 & 6.004389e-03 & 0.030388064\\\\\n",
       "\t6 & Colon - Transverse Male 30-39 Up                                                          & LV7 & 0.9919872 & 1.611349e-04 & 0.001759763\\\\\n",
       "\\end{tabular}\n"
      ],
      "text/markdown": [
       "\n",
       "A data.frame: 6 × 5\n",
       "\n",
       "| <!--/--> | pathway &lt;chr&gt; | LV &lt;chr&gt; | AUC &lt;dbl&gt; | p-value &lt;dbl&gt; | FDR &lt;dbl&gt; |\n",
       "|---|---|---|---|---|---|\n",
       "| 1 | Mitochondrial ATP Synthesis Coupled Electron Transport (GO:0042775)                       | LV2 | 0.7954083 | 3.209802e-04 | 0.002718506 |\n",
       "| 2 | Positive Regulation of Tumor Necrosis Factor Superfamily Cytokine Production (GO:1903557) | LV3 | 0.7292415 | 1.946084e-03 | 0.012054101 |\n",
       "| 3 | Regulation of Interleukin-2 Production (GO:0032663)                                       | LV3 | 0.9254063 | 7.536747e-05 | 0.001075903 |\n",
       "| 4 | Regulation of Interleukin-8 Production (GO:0032677)                                       | LV3 | 0.7557399 | 1.640158e-03 | 0.010635397 |\n",
       "| 5 | Stomach Female 20-29 Up                                                                   | LV7 | 0.9858300 | 6.004389e-03 | 0.030388064 |\n",
       "| 6 | Colon - Transverse Male 30-39 Up                                                          | LV7 | 0.9919872 | 1.611349e-04 | 0.001759763 |\n",
       "\n"
      ],
      "text/plain": [
       "  pathway                                                                                  \n",
       "1 Mitochondrial ATP Synthesis Coupled Electron Transport (GO:0042775)                      \n",
       "2 Positive Regulation of Tumor Necrosis Factor Superfamily Cytokine Production (GO:1903557)\n",
       "3 Regulation of Interleukin-2 Production (GO:0032663)                                      \n",
       "4 Regulation of Interleukin-8 Production (GO:0032677)                                      \n",
       "5 Stomach Female 20-29 Up                                                                  \n",
       "6 Colon - Transverse Male 30-39 Up                                                         \n",
       "  LV  AUC       p-value      FDR        \n",
       "1 LV2 0.7954083 3.209802e-04 0.002718506\n",
       "2 LV3 0.7292415 1.946084e-03 0.012054101\n",
       "3 LV3 0.9254063 7.536747e-05 0.001075903\n",
       "4 LV3 0.7557399 1.640158e-03 0.010635397\n",
       "5 LV7 0.9858300 6.004389e-03 0.030388064\n",
       "6 LV7 0.9919872 1.611349e-04 0.001759763"
      ]
     },
     "metadata": {},
     "output_type": "display_data"
    }
   ],
   "source": [
    "recount2_fullRes$summary  %>% \n",
    "dplyr::filter(FDR < 0.05) %>% \n",
    "dplyr::filter(AUC > 0.7)  %>% \n",
    "head()"
   ]
  },
  {
   "cell_type": "code",
   "execution_count": 139,
   "id": "9ab4e597",
   "metadata": {
    "vscode": {
     "languageId": "r"
    }
   },
   "outputs": [],
   "source": [
    "saveRDS(recount2_fullRes, file = file.path(output_data_dir, \"recount2_PLIER2.rds\"))"
   ]
  },
  {
   "cell_type": "markdown",
   "id": "947ca517",
   "metadata": {},
   "source": [
    "# PLIER"
   ]
  },
  {
   "cell_type": "markdown",
   "id": "cb463b2b",
   "metadata": {},
   "source": [
    "Run PLIER with the same inputs than PLIER2\n"
   ]
  },
  {
   "cell_type": "code",
   "execution_count": 154,
   "id": "95a907e4",
   "metadata": {
    "vscode": {
     "languageId": "r"
    }
   },
   "outputs": [
    {
     "name": "stderr",
     "output_type": "stream",
     "text": [
      "Removing 0 pathways with too few genes\n",
      "\n"
     ]
    },
    {
     "name": "stdout",
     "output_type": "stream",
     "text": [
      "[1] 289.3671\n",
      "[1] \"L2 is set to 289.36706200578\"\n",
      "[1] \"L1 is set to 144.68353100289\"\n"
     ]
    },
    {
     "name": "stderr",
     "output_type": "stream",
     "text": [
      "errorY (SVD based:best possible) = 0.8092\n",
      "\n",
      "New L3 is 0.00218749111818289\n",
      "\n",
      "New L3 is 0.00193045413622771\n",
      "\n",
      "New L3 is 0.00170361979580257\n",
      "\n",
      "New L3 is 0.00193045413622771\n",
      "\n",
      "New L3 is 0.00218749111818289\n",
      "\n",
      "New L3 is 0.00218749111818289\n",
      "\n",
      "New L3 is 0.00218749111818289\n",
      "\n",
      "New L3 is 0.00218749111818289\n",
      "\n",
      "New L3 is 0.00218749111818289\n",
      "\n",
      "New L3 is 0.00193045413622771\n",
      "\n",
      "New L3 is 0.00218749111818289\n",
      "\n",
      "Bdiff is not decreasing\n",
      "\n",
      "Bdiff is not decreasing\n",
      "\n",
      "Bdiff is not decreasing\n",
      "\n",
      "Bdiff is not decreasing\n",
      "\n",
      "Bdiff is not decreasing\n",
      "\n",
      "Bdiff is not decreasing\n",
      "\n",
      "converged at  iteration 234 Bdiff is not decreasing\n",
      "\n",
      "There are 53  LVs with AUC>0.70\n",
      "\n"
     ]
    }
   ],
   "source": [
    "recount2_plier = PLIER::PLIER(\n",
    "    recount2_fbm_filt[], \n",
    "    as.matrix(recount2_matched), \n",
    "    svdres = recount2_svdRes, \n",
    "    Chat = as.matrix(recount2_chatObj), \n",
    "    doCrossval = TRUE, \n",
    "    max.iter = 350,\n",
    "    k = PLIER_K_recount2\n",
    "  )"
   ]
  },
  {
   "cell_type": "code",
   "execution_count": 155,
   "metadata": {
    "vscode": {
     "languageId": "r"
    }
   },
   "outputs": [
    {
     "data": {
      "text/html": [
       "<table class=\"dataframe\">\n",
       "<caption>A matrix: 6 × 37032 of type dbl</caption>\n",
       "<tbody>\n",
       "\t<tr><th scope=row>LV 1</th><td> 3.038562e-11</td><td>-1.164697e-13</td><td> 1.499369e-11</td><td> 2.420048e-11</td><td> 1.076099e-11</td><td> 2.400729e-11</td><td> 2.450469e-11</td><td> 2.529211e-11</td><td> 2.492415e-11</td><td> 2.411303e-11</td><td>⋯</td><td>-2.252487e-14</td><td>-9.868426e-13</td><td> 7.459374e-13</td><td>-1.238694e-13</td><td>-5.471264e-13</td><td> 3.208637e-13</td><td>-1.203242e-12</td><td>-9.133111e-13</td><td>-7.087071e-13</td><td>-7.032934e-13</td></tr>\n",
       "\t<tr><th scope=row>2,Cells - Cultured Fibroblasts Female 70-79 Up</th><td>-3.281172e-02</td><td>-3.819620e-02</td><td>-4.021169e-02</td><td>-4.102633e-02</td><td>-3.925897e-02</td><td>-3.957653e-02</td><td>-9.111154e-03</td><td>-7.944571e-03</td><td>-1.111526e-02</td><td>-5.022869e-03</td><td>⋯</td><td> 3.445032e-02</td><td> 9.405888e-02</td><td> 5.244139e-02</td><td> 9.127825e-02</td><td> 8.897180e-02</td><td> 6.534399e-02</td><td> 7.464888e-02</td><td> 1.037498e-01</td><td> 4.380141e-02</td><td> 9.150614e-02</td></tr>\n",
       "\t<tr><th scope=row>3,mRNA Splicing, via Spliceosome (GO:0000398)</th><td>-9.481710e-02</td><td>-7.740678e-02</td><td>-9.260198e-02</td><td>-8.277387e-02</td><td>-7.081893e-02</td><td>-8.502113e-02</td><td>-6.194781e-02</td><td>-6.563719e-02</td><td>-6.688297e-02</td><td>-7.041583e-02</td><td>⋯</td><td>-5.538873e-02</td><td>-6.185108e-02</td><td>-3.681471e-02</td><td>-3.960329e-02</td><td>-6.117308e-02</td><td>-2.970421e-02</td><td>-8.491269e-02</td><td>-3.287660e-02</td><td>-2.841848e-02</td><td>-1.169766e-01</td></tr>\n",
       "\t<tr><th scope=row>4,Translation (GO:0006412)</th><td>-1.167416e-01</td><td>-1.169561e-01</td><td>-1.241410e-01</td><td>-1.144214e-01</td><td>-1.081250e-01</td><td>-1.183666e-01</td><td>-1.348015e-01</td><td>-1.444428e-01</td><td>-1.385527e-01</td><td>-1.426251e-01</td><td>⋯</td><td> 5.650564e-02</td><td> 2.639246e-02</td><td> 1.109185e-01</td><td> 6.937041e-02</td><td> 8.791064e-02</td><td> 1.055854e-01</td><td> 1.084018e-01</td><td> 7.893540e-02</td><td> 7.554681e-02</td><td> 1.749875e-01</td></tr>\n",
       "\t<tr><th scope=row>5,Double-Strand Break Repair via Homologous Recombination (GO:0000724)</th><td>-1.475776e-02</td><td>-2.136897e-02</td><td>-2.183746e-02</td><td>-1.868801e-02</td><td>-1.880394e-02</td><td>-1.911732e-02</td><td>-2.733048e-02</td><td>-3.572729e-02</td><td>-3.150585e-02</td><td>-2.717683e-02</td><td>⋯</td><td> 4.954903e-03</td><td> 2.586807e-02</td><td> 2.185875e-02</td><td> 4.275850e-02</td><td> 4.369622e-02</td><td> 5.298591e-02</td><td>-1.144091e-02</td><td> 5.217841e-02</td><td>-1.841314e-02</td><td> 2.890525e-02</td></tr>\n",
       "\t<tr><th scope=row>LV 6</th><td> 1.137411e-02</td><td> 1.100171e-02</td><td> 2.021871e-02</td><td> 2.901634e-02</td><td> 1.232140e-02</td><td> 1.205028e-02</td><td> 9.152861e-03</td><td> 1.060361e-02</td><td>-6.413729e-04</td><td> 6.352040e-03</td><td>⋯</td><td>-7.302503e-02</td><td>-5.922457e-02</td><td>-7.198972e-02</td><td>-5.402172e-02</td><td>-6.231897e-02</td><td>-6.095302e-02</td><td>-5.806830e-02</td><td>-6.060223e-02</td><td>-7.126057e-02</td><td>-5.891329e-02</td></tr>\n",
       "</tbody>\n",
       "</table>\n"
      ],
      "text/latex": [
       "A matrix: 6 × 37032 of type dbl\n",
       "\\begin{tabular}{r|lllllllllllllllllllll}\n",
       "\tLV 1 &  3.038562e-11 & -1.164697e-13 &  1.499369e-11 &  2.420048e-11 &  1.076099e-11 &  2.400729e-11 &  2.450469e-11 &  2.529211e-11 &  2.492415e-11 &  2.411303e-11 & ⋯ & -2.252487e-14 & -9.868426e-13 &  7.459374e-13 & -1.238694e-13 & -5.471264e-13 &  3.208637e-13 & -1.203242e-12 & -9.133111e-13 & -7.087071e-13 & -7.032934e-13\\\\\n",
       "\t2,Cells - Cultured Fibroblasts Female 70-79 Up & -3.281172e-02 & -3.819620e-02 & -4.021169e-02 & -4.102633e-02 & -3.925897e-02 & -3.957653e-02 & -9.111154e-03 & -7.944571e-03 & -1.111526e-02 & -5.022869e-03 & ⋯ &  3.445032e-02 &  9.405888e-02 &  5.244139e-02 &  9.127825e-02 &  8.897180e-02 &  6.534399e-02 &  7.464888e-02 &  1.037498e-01 &  4.380141e-02 &  9.150614e-02\\\\\n",
       "\t3,mRNA Splicing, via Spliceosome (GO:0000398) & -9.481710e-02 & -7.740678e-02 & -9.260198e-02 & -8.277387e-02 & -7.081893e-02 & -8.502113e-02 & -6.194781e-02 & -6.563719e-02 & -6.688297e-02 & -7.041583e-02 & ⋯ & -5.538873e-02 & -6.185108e-02 & -3.681471e-02 & -3.960329e-02 & -6.117308e-02 & -2.970421e-02 & -8.491269e-02 & -3.287660e-02 & -2.841848e-02 & -1.169766e-01\\\\\n",
       "\t4,Translation (GO:0006412) & -1.167416e-01 & -1.169561e-01 & -1.241410e-01 & -1.144214e-01 & -1.081250e-01 & -1.183666e-01 & -1.348015e-01 & -1.444428e-01 & -1.385527e-01 & -1.426251e-01 & ⋯ &  5.650564e-02 &  2.639246e-02 &  1.109185e-01 &  6.937041e-02 &  8.791064e-02 &  1.055854e-01 &  1.084018e-01 &  7.893540e-02 &  7.554681e-02 &  1.749875e-01\\\\\n",
       "\t5,Double-Strand Break Repair via Homologous Recombination (GO:0000724) & -1.475776e-02 & -2.136897e-02 & -2.183746e-02 & -1.868801e-02 & -1.880394e-02 & -1.911732e-02 & -2.733048e-02 & -3.572729e-02 & -3.150585e-02 & -2.717683e-02 & ⋯ &  4.954903e-03 &  2.586807e-02 &  2.185875e-02 &  4.275850e-02 &  4.369622e-02 &  5.298591e-02 & -1.144091e-02 &  5.217841e-02 & -1.841314e-02 &  2.890525e-02\\\\\n",
       "\tLV 6 &  1.137411e-02 &  1.100171e-02 &  2.021871e-02 &  2.901634e-02 &  1.232140e-02 &  1.205028e-02 &  9.152861e-03 &  1.060361e-02 & -6.413729e-04 &  6.352040e-03 & ⋯ & -7.302503e-02 & -5.922457e-02 & -7.198972e-02 & -5.402172e-02 & -6.231897e-02 & -6.095302e-02 & -5.806830e-02 & -6.060223e-02 & -7.126057e-02 & -5.891329e-02\\\\\n",
       "\\end{tabular}\n"
      ],
      "text/markdown": [
       "\n",
       "A matrix: 6 × 37032 of type dbl\n",
       "\n",
       "| LV 1 |  3.038562e-11 | -1.164697e-13 |  1.499369e-11 |  2.420048e-11 |  1.076099e-11 |  2.400729e-11 |  2.450469e-11 |  2.529211e-11 |  2.492415e-11 |  2.411303e-11 | ⋯ | -2.252487e-14 | -9.868426e-13 |  7.459374e-13 | -1.238694e-13 | -5.471264e-13 |  3.208637e-13 | -1.203242e-12 | -9.133111e-13 | -7.087071e-13 | -7.032934e-13 |\n",
       "| 2,Cells - Cultured Fibroblasts Female 70-79 Up | -3.281172e-02 | -3.819620e-02 | -4.021169e-02 | -4.102633e-02 | -3.925897e-02 | -3.957653e-02 | -9.111154e-03 | -7.944571e-03 | -1.111526e-02 | -5.022869e-03 | ⋯ |  3.445032e-02 |  9.405888e-02 |  5.244139e-02 |  9.127825e-02 |  8.897180e-02 |  6.534399e-02 |  7.464888e-02 |  1.037498e-01 |  4.380141e-02 |  9.150614e-02 |\n",
       "| 3,mRNA Splicing, via Spliceosome (GO:0000398) | -9.481710e-02 | -7.740678e-02 | -9.260198e-02 | -8.277387e-02 | -7.081893e-02 | -8.502113e-02 | -6.194781e-02 | -6.563719e-02 | -6.688297e-02 | -7.041583e-02 | ⋯ | -5.538873e-02 | -6.185108e-02 | -3.681471e-02 | -3.960329e-02 | -6.117308e-02 | -2.970421e-02 | -8.491269e-02 | -3.287660e-02 | -2.841848e-02 | -1.169766e-01 |\n",
       "| 4,Translation (GO:0006412) | -1.167416e-01 | -1.169561e-01 | -1.241410e-01 | -1.144214e-01 | -1.081250e-01 | -1.183666e-01 | -1.348015e-01 | -1.444428e-01 | -1.385527e-01 | -1.426251e-01 | ⋯ |  5.650564e-02 |  2.639246e-02 |  1.109185e-01 |  6.937041e-02 |  8.791064e-02 |  1.055854e-01 |  1.084018e-01 |  7.893540e-02 |  7.554681e-02 |  1.749875e-01 |\n",
       "| 5,Double-Strand Break Repair via Homologous Recombination (GO:0000724) | -1.475776e-02 | -2.136897e-02 | -2.183746e-02 | -1.868801e-02 | -1.880394e-02 | -1.911732e-02 | -2.733048e-02 | -3.572729e-02 | -3.150585e-02 | -2.717683e-02 | ⋯ |  4.954903e-03 |  2.586807e-02 |  2.185875e-02 |  4.275850e-02 |  4.369622e-02 |  5.298591e-02 | -1.144091e-02 |  5.217841e-02 | -1.841314e-02 |  2.890525e-02 |\n",
       "| LV 6 |  1.137411e-02 |  1.100171e-02 |  2.021871e-02 |  2.901634e-02 |  1.232140e-02 |  1.205028e-02 |  9.152861e-03 |  1.060361e-02 | -6.413729e-04 |  6.352040e-03 | ⋯ | -7.302503e-02 | -5.922457e-02 | -7.198972e-02 | -5.402172e-02 | -6.231897e-02 | -6.095302e-02 | -5.806830e-02 | -6.060223e-02 | -7.126057e-02 | -5.891329e-02 |\n",
       "\n"
      ],
      "text/plain": [
       "                                                                       [,1]         \n",
       "LV 1                                                                    3.038562e-11\n",
       "2,Cells - Cultured Fibroblasts Female 70-79 Up                         -3.281172e-02\n",
       "3,mRNA Splicing, via Spliceosome (GO:0000398)                          -9.481710e-02\n",
       "4,Translation (GO:0006412)                                             -1.167416e-01\n",
       "5,Double-Strand Break Repair via Homologous Recombination (GO:0000724) -1.475776e-02\n",
       "LV 6                                                                    1.137411e-02\n",
       "                                                                       [,2]         \n",
       "LV 1                                                                   -1.164697e-13\n",
       "2,Cells - Cultured Fibroblasts Female 70-79 Up                         -3.819620e-02\n",
       "3,mRNA Splicing, via Spliceosome (GO:0000398)                          -7.740678e-02\n",
       "4,Translation (GO:0006412)                                             -1.169561e-01\n",
       "5,Double-Strand Break Repair via Homologous Recombination (GO:0000724) -2.136897e-02\n",
       "LV 6                                                                    1.100171e-02\n",
       "                                                                       [,3]         \n",
       "LV 1                                                                    1.499369e-11\n",
       "2,Cells - Cultured Fibroblasts Female 70-79 Up                         -4.021169e-02\n",
       "3,mRNA Splicing, via Spliceosome (GO:0000398)                          -9.260198e-02\n",
       "4,Translation (GO:0006412)                                             -1.241410e-01\n",
       "5,Double-Strand Break Repair via Homologous Recombination (GO:0000724) -2.183746e-02\n",
       "LV 6                                                                    2.021871e-02\n",
       "                                                                       [,4]         \n",
       "LV 1                                                                    2.420048e-11\n",
       "2,Cells - Cultured Fibroblasts Female 70-79 Up                         -4.102633e-02\n",
       "3,mRNA Splicing, via Spliceosome (GO:0000398)                          -8.277387e-02\n",
       "4,Translation (GO:0006412)                                             -1.144214e-01\n",
       "5,Double-Strand Break Repair via Homologous Recombination (GO:0000724) -1.868801e-02\n",
       "LV 6                                                                    2.901634e-02\n",
       "                                                                       [,5]         \n",
       "LV 1                                                                    1.076099e-11\n",
       "2,Cells - Cultured Fibroblasts Female 70-79 Up                         -3.925897e-02\n",
       "3,mRNA Splicing, via Spliceosome (GO:0000398)                          -7.081893e-02\n",
       "4,Translation (GO:0006412)                                             -1.081250e-01\n",
       "5,Double-Strand Break Repair via Homologous Recombination (GO:0000724) -1.880394e-02\n",
       "LV 6                                                                    1.232140e-02\n",
       "                                                                       [,6]         \n",
       "LV 1                                                                    2.400729e-11\n",
       "2,Cells - Cultured Fibroblasts Female 70-79 Up                         -3.957653e-02\n",
       "3,mRNA Splicing, via Spliceosome (GO:0000398)                          -8.502113e-02\n",
       "4,Translation (GO:0006412)                                             -1.183666e-01\n",
       "5,Double-Strand Break Repair via Homologous Recombination (GO:0000724) -1.911732e-02\n",
       "LV 6                                                                    1.205028e-02\n",
       "                                                                       [,7]         \n",
       "LV 1                                                                    2.450469e-11\n",
       "2,Cells - Cultured Fibroblasts Female 70-79 Up                         -9.111154e-03\n",
       "3,mRNA Splicing, via Spliceosome (GO:0000398)                          -6.194781e-02\n",
       "4,Translation (GO:0006412)                                             -1.348015e-01\n",
       "5,Double-Strand Break Repair via Homologous Recombination (GO:0000724) -2.733048e-02\n",
       "LV 6                                                                    9.152861e-03\n",
       "                                                                       [,8]         \n",
       "LV 1                                                                    2.529211e-11\n",
       "2,Cells - Cultured Fibroblasts Female 70-79 Up                         -7.944571e-03\n",
       "3,mRNA Splicing, via Spliceosome (GO:0000398)                          -6.563719e-02\n",
       "4,Translation (GO:0006412)                                             -1.444428e-01\n",
       "5,Double-Strand Break Repair via Homologous Recombination (GO:0000724) -3.572729e-02\n",
       "LV 6                                                                    1.060361e-02\n",
       "                                                                       [,9]         \n",
       "LV 1                                                                    2.492415e-11\n",
       "2,Cells - Cultured Fibroblasts Female 70-79 Up                         -1.111526e-02\n",
       "3,mRNA Splicing, via Spliceosome (GO:0000398)                          -6.688297e-02\n",
       "4,Translation (GO:0006412)                                             -1.385527e-01\n",
       "5,Double-Strand Break Repair via Homologous Recombination (GO:0000724) -3.150585e-02\n",
       "LV 6                                                                   -6.413729e-04\n",
       "                                                                       [,10]        \n",
       "LV 1                                                                    2.411303e-11\n",
       "2,Cells - Cultured Fibroblasts Female 70-79 Up                         -5.022869e-03\n",
       "3,mRNA Splicing, via Spliceosome (GO:0000398)                          -7.041583e-02\n",
       "4,Translation (GO:0006412)                                             -1.426251e-01\n",
       "5,Double-Strand Break Repair via Homologous Recombination (GO:0000724) -2.717683e-02\n",
       "LV 6                                                                    6.352040e-03\n",
       "                                                                       [,11]\n",
       "LV 1                                                                   ⋯    \n",
       "2,Cells - Cultured Fibroblasts Female 70-79 Up                         ⋯    \n",
       "3,mRNA Splicing, via Spliceosome (GO:0000398)                          ⋯    \n",
       "4,Translation (GO:0006412)                                             ⋯    \n",
       "5,Double-Strand Break Repair via Homologous Recombination (GO:0000724) ⋯    \n",
       "LV 6                                                                   ⋯    \n",
       "                                                                       [,12]        \n",
       "LV 1                                                                   -2.252487e-14\n",
       "2,Cells - Cultured Fibroblasts Female 70-79 Up                          3.445032e-02\n",
       "3,mRNA Splicing, via Spliceosome (GO:0000398)                          -5.538873e-02\n",
       "4,Translation (GO:0006412)                                              5.650564e-02\n",
       "5,Double-Strand Break Repair via Homologous Recombination (GO:0000724)  4.954903e-03\n",
       "LV 6                                                                   -7.302503e-02\n",
       "                                                                       [,13]        \n",
       "LV 1                                                                   -9.868426e-13\n",
       "2,Cells - Cultured Fibroblasts Female 70-79 Up                          9.405888e-02\n",
       "3,mRNA Splicing, via Spliceosome (GO:0000398)                          -6.185108e-02\n",
       "4,Translation (GO:0006412)                                              2.639246e-02\n",
       "5,Double-Strand Break Repair via Homologous Recombination (GO:0000724)  2.586807e-02\n",
       "LV 6                                                                   -5.922457e-02\n",
       "                                                                       [,14]        \n",
       "LV 1                                                                    7.459374e-13\n",
       "2,Cells - Cultured Fibroblasts Female 70-79 Up                          5.244139e-02\n",
       "3,mRNA Splicing, via Spliceosome (GO:0000398)                          -3.681471e-02\n",
       "4,Translation (GO:0006412)                                              1.109185e-01\n",
       "5,Double-Strand Break Repair via Homologous Recombination (GO:0000724)  2.185875e-02\n",
       "LV 6                                                                   -7.198972e-02\n",
       "                                                                       [,15]        \n",
       "LV 1                                                                   -1.238694e-13\n",
       "2,Cells - Cultured Fibroblasts Female 70-79 Up                          9.127825e-02\n",
       "3,mRNA Splicing, via Spliceosome (GO:0000398)                          -3.960329e-02\n",
       "4,Translation (GO:0006412)                                              6.937041e-02\n",
       "5,Double-Strand Break Repair via Homologous Recombination (GO:0000724)  4.275850e-02\n",
       "LV 6                                                                   -5.402172e-02\n",
       "                                                                       [,16]        \n",
       "LV 1                                                                   -5.471264e-13\n",
       "2,Cells - Cultured Fibroblasts Female 70-79 Up                          8.897180e-02\n",
       "3,mRNA Splicing, via Spliceosome (GO:0000398)                          -6.117308e-02\n",
       "4,Translation (GO:0006412)                                              8.791064e-02\n",
       "5,Double-Strand Break Repair via Homologous Recombination (GO:0000724)  4.369622e-02\n",
       "LV 6                                                                   -6.231897e-02\n",
       "                                                                       [,17]        \n",
       "LV 1                                                                    3.208637e-13\n",
       "2,Cells - Cultured Fibroblasts Female 70-79 Up                          6.534399e-02\n",
       "3,mRNA Splicing, via Spliceosome (GO:0000398)                          -2.970421e-02\n",
       "4,Translation (GO:0006412)                                              1.055854e-01\n",
       "5,Double-Strand Break Repair via Homologous Recombination (GO:0000724)  5.298591e-02\n",
       "LV 6                                                                   -6.095302e-02\n",
       "                                                                       [,18]        \n",
       "LV 1                                                                   -1.203242e-12\n",
       "2,Cells - Cultured Fibroblasts Female 70-79 Up                          7.464888e-02\n",
       "3,mRNA Splicing, via Spliceosome (GO:0000398)                          -8.491269e-02\n",
       "4,Translation (GO:0006412)                                              1.084018e-01\n",
       "5,Double-Strand Break Repair via Homologous Recombination (GO:0000724) -1.144091e-02\n",
       "LV 6                                                                   -5.806830e-02\n",
       "                                                                       [,19]        \n",
       "LV 1                                                                   -9.133111e-13\n",
       "2,Cells - Cultured Fibroblasts Female 70-79 Up                          1.037498e-01\n",
       "3,mRNA Splicing, via Spliceosome (GO:0000398)                          -3.287660e-02\n",
       "4,Translation (GO:0006412)                                              7.893540e-02\n",
       "5,Double-Strand Break Repair via Homologous Recombination (GO:0000724)  5.217841e-02\n",
       "LV 6                                                                   -6.060223e-02\n",
       "                                                                       [,20]        \n",
       "LV 1                                                                   -7.087071e-13\n",
       "2,Cells - Cultured Fibroblasts Female 70-79 Up                          4.380141e-02\n",
       "3,mRNA Splicing, via Spliceosome (GO:0000398)                          -2.841848e-02\n",
       "4,Translation (GO:0006412)                                              7.554681e-02\n",
       "5,Double-Strand Break Repair via Homologous Recombination (GO:0000724) -1.841314e-02\n",
       "LV 6                                                                   -7.126057e-02\n",
       "                                                                       [,21]        \n",
       "LV 1                                                                   -7.032934e-13\n",
       "2,Cells - Cultured Fibroblasts Female 70-79 Up                          9.150614e-02\n",
       "3,mRNA Splicing, via Spliceosome (GO:0000398)                          -1.169766e-01\n",
       "4,Translation (GO:0006412)                                              1.749875e-01\n",
       "5,Double-Strand Break Repair via Homologous Recombination (GO:0000724)  2.890525e-02\n",
       "LV 6                                                                   -5.891329e-02"
      ]
     },
     "metadata": {},
     "output_type": "display_data"
    }
   ],
   "source": [
    "head(recount2_plier$B)"
   ]
  },
  {
   "cell_type": "code",
   "execution_count": 143,
   "metadata": {
    "vscode": {
     "languageId": "r"
    }
   },
   "outputs": [],
   "source": [
    "colnames(recount2_plier$Z) <- paste0('LV', seq_len(ncol(recount2_fullRes$Z)))"
   ]
  },
  {
   "cell_type": "code",
   "execution_count": 144,
   "id": "a143efb0",
   "metadata": {
    "vscode": {
     "languageId": "r"
    }
   },
   "outputs": [
    {
     "data": {
      "text/html": [
       "<table class=\"dataframe\">\n",
       "<caption>A matrix: 6 × 129 of type dbl</caption>\n",
       "<thead>\n",
       "\t<tr><th></th><th scope=col>LV1</th><th scope=col>LV2</th><th scope=col>LV3</th><th scope=col>LV4</th><th scope=col>LV5</th><th scope=col>LV6</th><th scope=col>LV7</th><th scope=col>LV8</th><th scope=col>LV9</th><th scope=col>LV10</th><th scope=col>⋯</th><th scope=col>LV120</th><th scope=col>LV121</th><th scope=col>LV122</th><th scope=col>LV123</th><th scope=col>LV124</th><th scope=col>LV125</th><th scope=col>LV126</th><th scope=col>LV127</th><th scope=col>LV128</th><th scope=col>LV129</th></tr>\n",
       "</thead>\n",
       "<tbody>\n",
       "\t<tr><th scope=row>GAS6</th><td>0</td><td>0.13030280</td><td>0.0000000</td><td>1.0117825</td><td>0.06469198</td><td>0.62891552</td><td>0.05223254</td><td>0.0000000000</td><td>0.0000000</td><td>0.05991932</td><td>⋯</td><td>0.3951229</td><td>0.04813642</td><td>0.25652596</td><td>0.0000000000</td><td>0.04389765</td><td>0.000000000</td><td>0.000000000</td><td>0.17037143</td><td>0.46255746</td><td>0.0000000</td></tr>\n",
       "\t<tr><th scope=row>MMP14</th><td>0</td><td>0.03662275</td><td>0.0000000</td><td>1.1923262</td><td>0.00000000</td><td>0.33187112</td><td>0.19684278</td><td>0.0005136506</td><td>0.0000000</td><td>0.00000000</td><td>⋯</td><td>0.0236564</td><td>0.00000000</td><td>0.02468694</td><td>0.0000000000</td><td>0.00000000</td><td>0.000000000</td><td>0.004685637</td><td>0.00000000</td><td>0.53684948</td><td>0.0000000</td></tr>\n",
       "\t<tr><th scope=row>DSP</th><td>0</td><td>0.13073012</td><td>0.0000000</td><td>0.0000000</td><td>0.00000000</td><td>0.04233393</td><td>0.59420422</td><td>0.0000000000</td><td>0.0000000</td><td>0.14368568</td><td>⋯</td><td>0.2656747</td><td>0.00000000</td><td>0.00000000</td><td>0.0009715591</td><td>0.00000000</td><td>0.000000000</td><td>0.000000000</td><td>0.00000000</td><td>0.17355439</td><td>0.0000000</td></tr>\n",
       "\t<tr><th scope=row>MARCKSL1</th><td>0</td><td>0.04233664</td><td>0.2503717</td><td>0.4627274</td><td>0.00000000</td><td>0.00000000</td><td>0.59996857</td><td>0.1305426424</td><td>0.4276414</td><td>0.06021881</td><td>⋯</td><td>0.8707375</td><td>0.03480199</td><td>0.00000000</td><td>1.4058449268</td><td>0.01264275</td><td>0.461875616</td><td>0.000000000</td><td>0.00000000</td><td>0.01256068</td><td>0.0000000</td></tr>\n",
       "\t<tr><th scope=row>SPARC</th><td>0</td><td>0.00000000</td><td>0.0000000</td><td>0.1280858</td><td>0.00000000</td><td>0.00000000</td><td>0.00000000</td><td>0.0000000000</td><td>0.1900638</td><td>0.00000000</td><td>⋯</td><td>0.0000000</td><td>0.00000000</td><td>0.13795806</td><td>0.5095597717</td><td>0.00000000</td><td>0.008475446</td><td>0.000000000</td><td>0.55539274</td><td>0.08980203</td><td>1.3738277</td></tr>\n",
       "\t<tr><th scope=row>CTSD</th><td>0</td><td>0.00000000</td><td>0.2271552</td><td>1.1253868</td><td>0.00000000</td><td>0.10498905</td><td>0.20927556</td><td>0.0066196885</td><td>0.4120490</td><td>0.00000000</td><td>⋯</td><td>0.6490549</td><td>0.00000000</td><td>0.00000000</td><td>0.1841587986</td><td>0.00000000</td><td>0.000000000</td><td>0.132311549</td><td>0.02588671</td><td>0.00000000</td><td>0.2489984</td></tr>\n",
       "</tbody>\n",
       "</table>\n"
      ],
      "text/latex": [
       "A matrix: 6 × 129 of type dbl\n",
       "\\begin{tabular}{r|lllllllllllllllllllll}\n",
       "  & LV1 & LV2 & LV3 & LV4 & LV5 & LV6 & LV7 & LV8 & LV9 & LV10 & ⋯ & LV120 & LV121 & LV122 & LV123 & LV124 & LV125 & LV126 & LV127 & LV128 & LV129\\\\\n",
       "\\hline\n",
       "\tGAS6 & 0 & 0.13030280 & 0.0000000 & 1.0117825 & 0.06469198 & 0.62891552 & 0.05223254 & 0.0000000000 & 0.0000000 & 0.05991932 & ⋯ & 0.3951229 & 0.04813642 & 0.25652596 & 0.0000000000 & 0.04389765 & 0.000000000 & 0.000000000 & 0.17037143 & 0.46255746 & 0.0000000\\\\\n",
       "\tMMP14 & 0 & 0.03662275 & 0.0000000 & 1.1923262 & 0.00000000 & 0.33187112 & 0.19684278 & 0.0005136506 & 0.0000000 & 0.00000000 & ⋯ & 0.0236564 & 0.00000000 & 0.02468694 & 0.0000000000 & 0.00000000 & 0.000000000 & 0.004685637 & 0.00000000 & 0.53684948 & 0.0000000\\\\\n",
       "\tDSP & 0 & 0.13073012 & 0.0000000 & 0.0000000 & 0.00000000 & 0.04233393 & 0.59420422 & 0.0000000000 & 0.0000000 & 0.14368568 & ⋯ & 0.2656747 & 0.00000000 & 0.00000000 & 0.0009715591 & 0.00000000 & 0.000000000 & 0.000000000 & 0.00000000 & 0.17355439 & 0.0000000\\\\\n",
       "\tMARCKSL1 & 0 & 0.04233664 & 0.2503717 & 0.4627274 & 0.00000000 & 0.00000000 & 0.59996857 & 0.1305426424 & 0.4276414 & 0.06021881 & ⋯ & 0.8707375 & 0.03480199 & 0.00000000 & 1.4058449268 & 0.01264275 & 0.461875616 & 0.000000000 & 0.00000000 & 0.01256068 & 0.0000000\\\\\n",
       "\tSPARC & 0 & 0.00000000 & 0.0000000 & 0.1280858 & 0.00000000 & 0.00000000 & 0.00000000 & 0.0000000000 & 0.1900638 & 0.00000000 & ⋯ & 0.0000000 & 0.00000000 & 0.13795806 & 0.5095597717 & 0.00000000 & 0.008475446 & 0.000000000 & 0.55539274 & 0.08980203 & 1.3738277\\\\\n",
       "\tCTSD & 0 & 0.00000000 & 0.2271552 & 1.1253868 & 0.00000000 & 0.10498905 & 0.20927556 & 0.0066196885 & 0.4120490 & 0.00000000 & ⋯ & 0.6490549 & 0.00000000 & 0.00000000 & 0.1841587986 & 0.00000000 & 0.000000000 & 0.132311549 & 0.02588671 & 0.00000000 & 0.2489984\\\\\n",
       "\\end{tabular}\n"
      ],
      "text/markdown": [
       "\n",
       "A matrix: 6 × 129 of type dbl\n",
       "\n",
       "| <!--/--> | LV1 | LV2 | LV3 | LV4 | LV5 | LV6 | LV7 | LV8 | LV9 | LV10 | ⋯ | LV120 | LV121 | LV122 | LV123 | LV124 | LV125 | LV126 | LV127 | LV128 | LV129 |\n",
       "|---|---|---|---|---|---|---|---|---|---|---|---|---|---|---|---|---|---|---|---|---|---|\n",
       "| GAS6 | 0 | 0.13030280 | 0.0000000 | 1.0117825 | 0.06469198 | 0.62891552 | 0.05223254 | 0.0000000000 | 0.0000000 | 0.05991932 | ⋯ | 0.3951229 | 0.04813642 | 0.25652596 | 0.0000000000 | 0.04389765 | 0.000000000 | 0.000000000 | 0.17037143 | 0.46255746 | 0.0000000 |\n",
       "| MMP14 | 0 | 0.03662275 | 0.0000000 | 1.1923262 | 0.00000000 | 0.33187112 | 0.19684278 | 0.0005136506 | 0.0000000 | 0.00000000 | ⋯ | 0.0236564 | 0.00000000 | 0.02468694 | 0.0000000000 | 0.00000000 | 0.000000000 | 0.004685637 | 0.00000000 | 0.53684948 | 0.0000000 |\n",
       "| DSP | 0 | 0.13073012 | 0.0000000 | 0.0000000 | 0.00000000 | 0.04233393 | 0.59420422 | 0.0000000000 | 0.0000000 | 0.14368568 | ⋯ | 0.2656747 | 0.00000000 | 0.00000000 | 0.0009715591 | 0.00000000 | 0.000000000 | 0.000000000 | 0.00000000 | 0.17355439 | 0.0000000 |\n",
       "| MARCKSL1 | 0 | 0.04233664 | 0.2503717 | 0.4627274 | 0.00000000 | 0.00000000 | 0.59996857 | 0.1305426424 | 0.4276414 | 0.06021881 | ⋯ | 0.8707375 | 0.03480199 | 0.00000000 | 1.4058449268 | 0.01264275 | 0.461875616 | 0.000000000 | 0.00000000 | 0.01256068 | 0.0000000 |\n",
       "| SPARC | 0 | 0.00000000 | 0.0000000 | 0.1280858 | 0.00000000 | 0.00000000 | 0.00000000 | 0.0000000000 | 0.1900638 | 0.00000000 | ⋯ | 0.0000000 | 0.00000000 | 0.13795806 | 0.5095597717 | 0.00000000 | 0.008475446 | 0.000000000 | 0.55539274 | 0.08980203 | 1.3738277 |\n",
       "| CTSD | 0 | 0.00000000 | 0.2271552 | 1.1253868 | 0.00000000 | 0.10498905 | 0.20927556 | 0.0066196885 | 0.4120490 | 0.00000000 | ⋯ | 0.6490549 | 0.00000000 | 0.00000000 | 0.1841587986 | 0.00000000 | 0.000000000 | 0.132311549 | 0.02588671 | 0.00000000 | 0.2489984 |\n",
       "\n"
      ],
      "text/plain": [
       "         LV1 LV2        LV3       LV4       LV5        LV6        LV7       \n",
       "GAS6     0   0.13030280 0.0000000 1.0117825 0.06469198 0.62891552 0.05223254\n",
       "MMP14    0   0.03662275 0.0000000 1.1923262 0.00000000 0.33187112 0.19684278\n",
       "DSP      0   0.13073012 0.0000000 0.0000000 0.00000000 0.04233393 0.59420422\n",
       "MARCKSL1 0   0.04233664 0.2503717 0.4627274 0.00000000 0.00000000 0.59996857\n",
       "SPARC    0   0.00000000 0.0000000 0.1280858 0.00000000 0.00000000 0.00000000\n",
       "CTSD     0   0.00000000 0.2271552 1.1253868 0.00000000 0.10498905 0.20927556\n",
       "         LV8          LV9       LV10       ⋯ LV120     LV121      LV122     \n",
       "GAS6     0.0000000000 0.0000000 0.05991932 ⋯ 0.3951229 0.04813642 0.25652596\n",
       "MMP14    0.0005136506 0.0000000 0.00000000 ⋯ 0.0236564 0.00000000 0.02468694\n",
       "DSP      0.0000000000 0.0000000 0.14368568 ⋯ 0.2656747 0.00000000 0.00000000\n",
       "MARCKSL1 0.1305426424 0.4276414 0.06021881 ⋯ 0.8707375 0.03480199 0.00000000\n",
       "SPARC    0.0000000000 0.1900638 0.00000000 ⋯ 0.0000000 0.00000000 0.13795806\n",
       "CTSD     0.0066196885 0.4120490 0.00000000 ⋯ 0.6490549 0.00000000 0.00000000\n",
       "         LV123        LV124      LV125       LV126       LV127      LV128     \n",
       "GAS6     0.0000000000 0.04389765 0.000000000 0.000000000 0.17037143 0.46255746\n",
       "MMP14    0.0000000000 0.00000000 0.000000000 0.004685637 0.00000000 0.53684948\n",
       "DSP      0.0009715591 0.00000000 0.000000000 0.000000000 0.00000000 0.17355439\n",
       "MARCKSL1 1.4058449268 0.01264275 0.461875616 0.000000000 0.00000000 0.01256068\n",
       "SPARC    0.5095597717 0.00000000 0.008475446 0.000000000 0.55539274 0.08980203\n",
       "CTSD     0.1841587986 0.00000000 0.000000000 0.132311549 0.02588671 0.00000000\n",
       "         LV129    \n",
       "GAS6     0.0000000\n",
       "MMP14    0.0000000\n",
       "DSP      0.0000000\n",
       "MARCKSL1 0.0000000\n",
       "SPARC    1.3738277\n",
       "CTSD     0.2489984"
      ]
     },
     "metadata": {},
     "output_type": "display_data"
    }
   ],
   "source": [
    "head(recount2_plier$Z)"
   ]
  },
  {
   "cell_type": "code",
   "execution_count": null,
   "id": "0cf820c9",
   "metadata": {
    "vscode": {
     "languageId": "r"
    }
   },
   "outputs": [],
   "source": [
    "recount2_plier$summary <- recount2_plier$summary %>%\n",
    "    dplyr::rename(LV = `LV index`)  %>% \n",
    "    dplyr::mutate(LV = paste0('LV', LV))"
   ]
  },
  {
   "cell_type": "code",
   "execution_count": null,
   "metadata": {
    "vscode": {
     "languageId": "r"
    }
   },
   "outputs": [],
   "source": [
    "head(recount2_plier$summary)"
   ]
  },
  {
   "cell_type": "code",
   "execution_count": null,
   "metadata": {
    "vscode": {
     "languageId": "r"
    }
   },
   "outputs": [],
   "source": [
    "recount2_plier$summary  %>% \n",
    "dplyr::filter(FDR < 0.05) %>% \n",
    "dplyr::filter(AUC > 0.7)  %>% \n",
    "head()"
   ]
  },
  {
   "cell_type": "code",
   "execution_count": 140,
   "id": "ea2d0430",
   "metadata": {
    "vscode": {
     "languageId": "r"
    }
   },
   "outputs": [],
   "source": [
    "saveRDS(recount2_plier, file = file.path(output_data_dir, \"recount2_PLIER.rds\"))"
   ]
  }
 ],
 "metadata": {
  "kernelspec": {
   "display_name": "R",
   "language": "R",
   "name": "ir"
  },
  "language_info": {
   "codemirror_mode": "r",
   "file_extension": ".r",
   "mimetype": "text/x-r-source",
   "name": "R",
   "pygments_lexer": "r",
   "version": "4.3.3"
  }
 },
 "nbformat": 4,
 "nbformat_minor": 5
}
