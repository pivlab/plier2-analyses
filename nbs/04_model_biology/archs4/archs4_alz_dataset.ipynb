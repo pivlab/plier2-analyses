{
 "cells": [
  {
   "cell_type": "markdown",
   "id": "de7756c8",
   "metadata": {},
   "source": [
    "# ARCHS4 Alz"
   ]
  },
  {
   "cell_type": "code",
   "execution_count": 1,
   "id": "0af2f0d6",
   "metadata": {
    "vscode": {
     "languageId": "r"
    }
   },
   "outputs": [
    {
     "name": "stderr",
     "output_type": "stream",
     "text": [
      "here() starts at /home/msubirana/Documents/pivlab/plier2-analyses\n",
      "\n",
      "\n",
      "Attaching package: ‘dplyr’\n",
      "\n",
      "\n",
      "The following objects are masked from ‘package:stats’:\n",
      "\n",
      "    filter, lag\n",
      "\n",
      "\n",
      "The following objects are masked from ‘package:base’:\n",
      "\n",
      "    intersect, setdiff, setequal, union\n",
      "\n",
      "\n"
     ]
    },
    {
     "name": "stderr",
     "output_type": "stream",
     "text": [
      "\n",
      "Attaching package: ‘rhdf5’\n",
      "\n",
      "\n",
      "The following object is masked from ‘package:hdf5r’:\n",
      "\n",
      "    h5version\n",
      "\n",
      "\n"
     ]
    }
   ],
   "source": [
    "library(here)\n",
    "library(dplyr)\n",
    "library(hdf5r)\n",
    "library(preprocessCore)\n",
    "library(rhdf5)"
   ]
  },
  {
   "cell_type": "code",
   "execution_count": 2,
   "id": "1d9ce92c",
   "metadata": {
    "vscode": {
     "languageId": "r"
    }
   },
   "outputs": [
    {
     "name": "stderr",
     "output_type": "stream",
     "text": [
      "'getOption(\"repos\")' replaces Bioconductor standard repositories, see\n",
      "'help(\"repositories\", package = \"BiocManager\")' for details.\n",
      "Replacement repositories:\n",
      "    CRAN: https://cran.r-project.org\n",
      "\n",
      "Bioconductor version 3.18 (BiocManager 1.30.22), R 4.3.3 (2024-02-29)\n",
      "\n",
      "Warning message:\n",
      "“package(s) not installed when version(s) same as or greater than current; use\n",
      "  `force = TRUE` to re-install: 'preprocessCore' 'rhdf5'”\n",
      "Old packages: 'abind', 'bigassertr', 'BiocFileCache', 'BiocManager', 'biomaRt',\n",
      "  'Biostrings', 'bookdown', 'BSgenome', 'curl', 'dqrng', 'evaluate',\n",
      "  'GenomeInfoDb', 'GenomicAlignments', 'gert', 'ggplot2', 'gh', 'glmnet',\n",
      "  'httpuv', 'igraph', 'leidenbase', 'parallelly', 'patchwork', 'pheatmap',\n",
      "  'pkgbuild', 'pkgdown', 'plotly', 'promises', 'RcppArmadillo', 'RCurl',\n",
      "  'restfulr', 'Rhdf5lib', 'Rhtslib', 'RSQLite', 'S4Arrays', 'shiny',\n",
      "  'SparseArray', 'systemfonts', 'XML', 'zip', 'zlibbioc'\n",
      "\n",
      "Skipping install of 'archs4r' from a github remote, the SHA1 (98080d38) has not changed since last install.\n",
      "  Use `force = TRUE` to force installation\n",
      "\n",
      "Loading required package: stringr\n",
      "\n",
      "Loading required package: bit64\n",
      "\n",
      "Loading required package: bit\n",
      "\n",
      "\n",
      "Attaching package: ‘bit’\n",
      "\n",
      "\n",
      "The following object is masked from ‘package:dplyr’:\n",
      "\n",
      "    symdiff\n",
      "\n",
      "\n",
      "The following object is masked from ‘package:base’:\n",
      "\n",
      "    xor\n",
      "\n",
      "\n",
      "Attaching package bit64\n",
      "\n",
      "package:bit64 (c) 2011-2017 Jens Oehlschlaegel\n",
      "\n",
      "creators: integer64 runif64 seq :\n",
      "\n",
      "coercion: as.integer64 as.vector as.logical as.integer as.double as.character as.bitstring\n",
      "\n",
      "logical operator: ! & | xor != == < <= >= >\n",
      "\n",
      "arithmetic operator: + - * / %/% %% ^\n",
      "\n",
      "math: sign abs sqrt log log2 log10\n",
      "\n",
      "math: floor ceiling trunc round\n",
      "\n",
      "querying: is.integer64 is.vector [is.atomic} [length] format print str\n",
      "\n",
      "values: is.na is.nan is.finite is.infinite\n",
      "\n",
      "aggregation: any all min max range sum prod\n",
      "\n",
      "cumulation: diff cummin cummax cumsum cumprod\n",
      "\n",
      "access: length<- [ [<- [[ [[<-\n",
      "\n",
      "combine: c rep cbind rbind as.data.frame\n",
      "\n",
      "WARNING don't use as subscripts\n",
      "\n",
      "WARNING semantics differ from integer\n",
      "\n",
      "for more help type ?bit64\n",
      "\n",
      "\n",
      "Attaching package: ‘bit64’\n",
      "\n",
      "\n",
      "The following object is masked from ‘package:utils’:\n",
      "\n",
      "    hashtab\n",
      "\n",
      "\n",
      "The following objects are masked from ‘package:base’:\n",
      "\n",
      "    :, %in%, colSums, is.double, match, order, rank, rowSums\n",
      "\n",
      "\n",
      "Loading required package: jsonlite\n",
      "\n"
     ]
    }
   ],
   "source": [
    "if (!requireNamespace(\"BiocManager\", quietly = TRUE))\n",
    "  install.packages(\"BiocManager\")\n",
    "\n",
    "BiocManager::install(c(\"preprocessCore\", \"rhdf5\"))\n",
    "\n",
    "if (!requireNamespace(\"remotes\", quietly = TRUE))\n",
    "  install.packages(\"remotes\")\n",
    "remotes::install_github(\"MaayanLab/archs4r\")\n",
    "\n",
    "library(archs4r)"
   ]
  },
  {
   "cell_type": "code",
   "execution_count": 3,
   "id": "1fd50fce",
   "metadata": {
    "vscode": {
     "languageId": "r"
    }
   },
   "outputs": [
    {
     "name": "stdout",
     "output_type": "stream",
     "text": [
      "           group                  name       otype  dclass            dim\n",
      "1          /data            expression H5I_DATASET INTEGER 67186 x 888821\n",
      "2     /meta/info                author H5I_DATASET  STRING          ( 0 )\n",
      "3     /meta/info               contact H5I_DATASET  STRING          ( 0 )\n",
      "4     /meta/info         creation-date H5I_DATASET  STRING          ( 0 )\n",
      "5     /meta/info            laboratory H5I_DATASET  STRING          ( 0 )\n",
      "6     /meta/info               version H5I_DATASET  STRING          ( 0 )\n",
      "7    /meta/genes               biotype H5I_DATASET  STRING          67186\n",
      "8    /meta/genes          ensembl_gene H5I_DATASET  STRING          67186\n",
      "9    /meta/genes                symbol H5I_DATASET  STRING          67186\n",
      "10 /meta/samples         channel_count H5I_DATASET  STRING         888821\n",
      "11 /meta/samples   characteristics_ch1 H5I_DATASET  STRING         888821\n",
      "12 /meta/samples       contact_address H5I_DATASET  STRING         888821\n",
      "13 /meta/samples          contact_city H5I_DATASET  STRING         888821\n",
      "14 /meta/samples       contact_country H5I_DATASET  STRING         888821\n",
      "15 /meta/samples     contact_institute H5I_DATASET  STRING         888821\n",
      "16 /meta/samples          contact_name H5I_DATASET  STRING         888821\n",
      "17 /meta/samples           contact_zip H5I_DATASET  STRING         888821\n",
      "18 /meta/samples       data_processing H5I_DATASET  STRING         888821\n",
      "19 /meta/samples  extract_protocol_ch1 H5I_DATASET  STRING         888821\n",
      "20 /meta/samples         geo_accession H5I_DATASET  STRING         888821\n",
      "21 /meta/samples      instrument_model H5I_DATASET  STRING         888821\n",
      "22 /meta/samples      last_update_date H5I_DATASET  STRING         888821\n",
      "23 /meta/samples     library_selection H5I_DATASET  STRING         888821\n",
      "24 /meta/samples        library_source H5I_DATASET  STRING         888821\n",
      "25 /meta/samples      library_strategy H5I_DATASET  STRING         888821\n",
      "26 /meta/samples          molecule_ch1 H5I_DATASET  STRING         888821\n",
      "27 /meta/samples          organism_ch1 H5I_DATASET  STRING         888821\n",
      "28 /meta/samples           platform_id H5I_DATASET  STRING         888821\n",
      "29 /meta/samples              relation H5I_DATASET  STRING         888821\n",
      "30 /meta/samples                sample H5I_DATASET  STRING         888821\n",
      "31 /meta/samples             series_id H5I_DATASET  STRING         888821\n",
      "32 /meta/samples singlecellprobability H5I_DATASET   FLOAT         888821\n",
      "33 /meta/samples       source_name_ch1 H5I_DATASET  STRING         888821\n",
      "34 /meta/samples                status H5I_DATASET  STRING         888821\n",
      "35 /meta/samples       submission_date H5I_DATASET  STRING         888821\n",
      "36 /meta/samples             taxid_ch1 H5I_DATASET  STRING         888821\n",
      "37 /meta/samples                 title H5I_DATASET  STRING         888821\n",
      "38 /meta/samples                  type H5I_DATASET  STRING         888821\n"
     ]
    }
   ],
   "source": [
    "h5file <- here(\"data/archs4/human_gene_v2.5.h5\")\n",
    "structure <- a4.ls(h5file)\n",
    "print(structure)"
   ]
  },
  {
   "cell_type": "code",
   "execution_count": 4,
   "id": "5843185b",
   "metadata": {
    "vscode": {
     "languageId": "r"
    }
   },
   "outputs": [
    {
     "name": "stderr",
     "output_type": "stream",
     "text": [
      "Warning message in h5checktypeOrOpenLoc(file, readonly = TRUE, fapl = NULL, native = native):\n",
      "“An open HDF5 file handle exists. If the file has changed on disk meanwhile, the function may not work properly. Run 'h5closeAll()' to close all open HDF5 object handles.”\n"
     ]
    },
    {
     "name": "stdout",
     "output_type": "stream",
     "text": [
      "Field 'title': found 719 matches\n"
     ]
    },
    {
     "data": {
      "text/html": [
       "<table class=\"dataframe\">\n",
       "<caption>A matrix: 100 × 1 of type chr</caption>\n",
       "<thead>\n",
       "\t<tr><th></th><th scope=col>title</th></tr>\n",
       "</thead>\n",
       "<tbody>\n",
       "\t<tr><th scope=row>GSM1101967</th><td>Brain                                </td></tr>\n",
       "\t<tr><th scope=row>GSM1131743</th><td>Normal Brain 1                       </td></tr>\n",
       "\t<tr><th scope=row>GSM1131744</th><td>Normal Brain 2                       </td></tr>\n",
       "\t<tr><th scope=row>GSM1131745</th><td>Normal Brain 3                       </td></tr>\n",
       "\t<tr><th scope=row>GSM1131746</th><td>Normal Brain 4                       </td></tr>\n",
       "\t<tr><th scope=row>GSM1131747</th><td>Normal Brain 5                       </td></tr>\n",
       "\t<tr><th scope=row>GSM1356710</th><td>mRNA from WT Day 17 (Forebrain)      </td></tr>\n",
       "\t<tr><th scope=row>GSM1356712</th><td>mRNA from WT Day 35 (Forebrain)      </td></tr>\n",
       "\t<tr><th scope=row>GSM1356716</th><td>mRNA from ADAR1 KD Day 17 (Forebrain)</td></tr>\n",
       "\t<tr><th scope=row>GSM1356718</th><td>mRNA from ADAR1 KD Day 35 (Forebrain)</td></tr>\n",
       "\t<tr><th scope=row>GSM1356722</th><td>sRNA from WT Day 17 (Forebrain)      </td></tr>\n",
       "\t<tr><th scope=row>GSM1356724</th><td>sRNA from WT Day 35 (Forebrain)      </td></tr>\n",
       "\t<tr><th scope=row>GSM1356728</th><td>sRNA from ADAR1 KD Day 17 (Forebrain)</td></tr>\n",
       "\t<tr><th scope=row>GSM1356730</th><td>sRNA from ADAR1 KD Day 35 (Forebrain)</td></tr>\n",
       "\t<tr><th scope=row>GSM1505577</th><td>Brain RUN1 L007                      </td></tr>\n",
       "\t<tr><th scope=row>GSM1505602</th><td>Brain RUN2 L005                      </td></tr>\n",
       "\t<tr><th scope=row>GSM1554463</th><td>Fetal_brain_RNA_seq_rep1             </td></tr>\n",
       "\t<tr><th scope=row>GSM1554464</th><td>Fetal_brain_RNA_seq_rep2             </td></tr>\n",
       "\t<tr><th scope=row>GSM1752948</th><td>Alzheimer's Brain Sample1            </td></tr>\n",
       "\t<tr><th scope=row>GSM1752949</th><td>Alzheimer's Brain Sample2            </td></tr>\n",
       "\t<tr><th scope=row>GSM1752950</th><td>Alzheimer's Brain Sample3            </td></tr>\n",
       "\t<tr><th scope=row>GSM1752951</th><td>Alzheimer's Brain Sample4            </td></tr>\n",
       "\t<tr><th scope=row>GSM1752953</th><td>Alzheimer's Brain Sample5            </td></tr>\n",
       "\t<tr><th scope=row>GSM1752954</th><td>Alzheimer's Brain Sample6            </td></tr>\n",
       "\t<tr><th scope=row>GSM1752955</th><td>Alzheimer's Brain Sample7            </td></tr>\n",
       "\t<tr><th scope=row>GSM1752956</th><td>Alzheimer's Brain Sample8            </td></tr>\n",
       "\t<tr><th scope=row>GSM1752957</th><td>Alzheimer's Brain Sample9            </td></tr>\n",
       "\t<tr><th scope=row>GSM1752958</th><td>Alzheimer's Brain Sample10           </td></tr>\n",
       "\t<tr><th scope=row>GSM1752960</th><td>Alzheimer's Brain Sample11           </td></tr>\n",
       "\t<tr><th scope=row>GSM1752961</th><td>Alzheimer's Brain Sample12           </td></tr>\n",
       "\t<tr><th scope=row>⋮</th><td>⋮</td></tr>\n",
       "\t<tr><th scope=row>GSM1753010</th><td>Alzheimer's Brain Sample54</td></tr>\n",
       "\t<tr><th scope=row>GSM1753011</th><td>Alzheimer's Brain Sample55</td></tr>\n",
       "\t<tr><th scope=row>GSM1753012</th><td>Alzheimer's Brain Sample56</td></tr>\n",
       "\t<tr><th scope=row>GSM1753013</th><td>Alzheimer's Brain Sample57</td></tr>\n",
       "\t<tr><th scope=row>GSM1753014</th><td>Alzheimer's Brain Sample58</td></tr>\n",
       "\t<tr><th scope=row>GSM1753016</th><td>Alzheimer's Brain Sample59</td></tr>\n",
       "\t<tr><th scope=row>GSM1753017</th><td>Alzheimer's Brain Sample60</td></tr>\n",
       "\t<tr><th scope=row>GSM1753019</th><td>Alzheimer's Brain Sample61</td></tr>\n",
       "\t<tr><th scope=row>GSM1753020</th><td>Alzheimer's Brain Sample62</td></tr>\n",
       "\t<tr><th scope=row>GSM1753021</th><td>Alzheimer's Brain Sample63</td></tr>\n",
       "\t<tr><th scope=row>GSM1753022</th><td>Alzheimer's Brain Sample64</td></tr>\n",
       "\t<tr><th scope=row>GSM1753023</th><td>Alzheimer's Brain Sample65</td></tr>\n",
       "\t<tr><th scope=row>GSM1753024</th><td>Alzheimer's Brain Sample66</td></tr>\n",
       "\t<tr><th scope=row>GSM1753025</th><td>Alzheimer's Brain Sample67</td></tr>\n",
       "\t<tr><th scope=row>GSM1753026</th><td>Alzheimer's Brain Sample68</td></tr>\n",
       "\t<tr><th scope=row>GSM1753027</th><td>Alzheimer's Brain Sample69</td></tr>\n",
       "\t<tr><th scope=row>GSM1753029</th><td>Alzheimer's Brain Sample70</td></tr>\n",
       "\t<tr><th scope=row>GSM1753030</th><td>Alzheimer's Brain Sample71</td></tr>\n",
       "\t<tr><th scope=row>GSM1753031</th><td>Alzheimer's Brain Sample72</td></tr>\n",
       "\t<tr><th scope=row>GSM2055779</th><td>Brain_rep1                </td></tr>\n",
       "\t<tr><th scope=row>GSM2055785</th><td>Brain_rep2                </td></tr>\n",
       "\t<tr><th scope=row>GSM2092510</th><td>N01-Brain-RNAseq_JJ014    </td></tr>\n",
       "\t<tr><th scope=row>GSM2092515</th><td>N02-Brain-RNAseq_JJ015    </td></tr>\n",
       "\t<tr><th scope=row>GSM2092520</th><td>N03-Brain-RNAseq_BJ025    </td></tr>\n",
       "\t<tr><th scope=row>GSM2092525</th><td>L04-Brain-RNAseq_JJ4      </td></tr>\n",
       "\t<tr><th scope=row>GSM2092530</th><td>L05-Brain-RNAseq_JJ9      </td></tr>\n",
       "\t<tr><th scope=row>GSM2092535</th><td>L06-Brain-RNAseq_JJ2      </td></tr>\n",
       "\t<tr><th scope=row>GSM2092540</th><td>G07-Brain-RNAseq_JJ021    </td></tr>\n",
       "\t<tr><th scope=row>GSM2092545</th><td>G08-Brain-RNAseq_PC048    </td></tr>\n",
       "\t<tr><th scope=row>GSM2092550</th><td>G09-Brain-RNAseq_JJ8      </td></tr>\n",
       "</tbody>\n",
       "</table>\n"
      ],
      "text/latex": [
       "A matrix: 100 × 1 of type chr\n",
       "\\begin{tabular}{r|l}\n",
       "  & title\\\\\n",
       "\\hline\n",
       "\tGSM1101967 & Brain                                \\\\\n",
       "\tGSM1131743 & Normal Brain 1                       \\\\\n",
       "\tGSM1131744 & Normal Brain 2                       \\\\\n",
       "\tGSM1131745 & Normal Brain 3                       \\\\\n",
       "\tGSM1131746 & Normal Brain 4                       \\\\\n",
       "\tGSM1131747 & Normal Brain 5                       \\\\\n",
       "\tGSM1356710 & mRNA from WT Day 17 (Forebrain)      \\\\\n",
       "\tGSM1356712 & mRNA from WT Day 35 (Forebrain)      \\\\\n",
       "\tGSM1356716 & mRNA from ADAR1 KD Day 17 (Forebrain)\\\\\n",
       "\tGSM1356718 & mRNA from ADAR1 KD Day 35 (Forebrain)\\\\\n",
       "\tGSM1356722 & sRNA from WT Day 17 (Forebrain)      \\\\\n",
       "\tGSM1356724 & sRNA from WT Day 35 (Forebrain)      \\\\\n",
       "\tGSM1356728 & sRNA from ADAR1 KD Day 17 (Forebrain)\\\\\n",
       "\tGSM1356730 & sRNA from ADAR1 KD Day 35 (Forebrain)\\\\\n",
       "\tGSM1505577 & Brain RUN1 L007                      \\\\\n",
       "\tGSM1505602 & Brain RUN2 L005                      \\\\\n",
       "\tGSM1554463 & Fetal\\_brain\\_RNA\\_seq\\_rep1             \\\\\n",
       "\tGSM1554464 & Fetal\\_brain\\_RNA\\_seq\\_rep2             \\\\\n",
       "\tGSM1752948 & Alzheimer's Brain Sample1            \\\\\n",
       "\tGSM1752949 & Alzheimer's Brain Sample2            \\\\\n",
       "\tGSM1752950 & Alzheimer's Brain Sample3            \\\\\n",
       "\tGSM1752951 & Alzheimer's Brain Sample4            \\\\\n",
       "\tGSM1752953 & Alzheimer's Brain Sample5            \\\\\n",
       "\tGSM1752954 & Alzheimer's Brain Sample6            \\\\\n",
       "\tGSM1752955 & Alzheimer's Brain Sample7            \\\\\n",
       "\tGSM1752956 & Alzheimer's Brain Sample8            \\\\\n",
       "\tGSM1752957 & Alzheimer's Brain Sample9            \\\\\n",
       "\tGSM1752958 & Alzheimer's Brain Sample10           \\\\\n",
       "\tGSM1752960 & Alzheimer's Brain Sample11           \\\\\n",
       "\tGSM1752961 & Alzheimer's Brain Sample12           \\\\\n",
       "\t⋮ & ⋮\\\\\n",
       "\tGSM1753010 & Alzheimer's Brain Sample54\\\\\n",
       "\tGSM1753011 & Alzheimer's Brain Sample55\\\\\n",
       "\tGSM1753012 & Alzheimer's Brain Sample56\\\\\n",
       "\tGSM1753013 & Alzheimer's Brain Sample57\\\\\n",
       "\tGSM1753014 & Alzheimer's Brain Sample58\\\\\n",
       "\tGSM1753016 & Alzheimer's Brain Sample59\\\\\n",
       "\tGSM1753017 & Alzheimer's Brain Sample60\\\\\n",
       "\tGSM1753019 & Alzheimer's Brain Sample61\\\\\n",
       "\tGSM1753020 & Alzheimer's Brain Sample62\\\\\n",
       "\tGSM1753021 & Alzheimer's Brain Sample63\\\\\n",
       "\tGSM1753022 & Alzheimer's Brain Sample64\\\\\n",
       "\tGSM1753023 & Alzheimer's Brain Sample65\\\\\n",
       "\tGSM1753024 & Alzheimer's Brain Sample66\\\\\n",
       "\tGSM1753025 & Alzheimer's Brain Sample67\\\\\n",
       "\tGSM1753026 & Alzheimer's Brain Sample68\\\\\n",
       "\tGSM1753027 & Alzheimer's Brain Sample69\\\\\n",
       "\tGSM1753029 & Alzheimer's Brain Sample70\\\\\n",
       "\tGSM1753030 & Alzheimer's Brain Sample71\\\\\n",
       "\tGSM1753031 & Alzheimer's Brain Sample72\\\\\n",
       "\tGSM2055779 & Brain\\_rep1                \\\\\n",
       "\tGSM2055785 & Brain\\_rep2                \\\\\n",
       "\tGSM2092510 & N01-Brain-RNAseq\\_JJ014    \\\\\n",
       "\tGSM2092515 & N02-Brain-RNAseq\\_JJ015    \\\\\n",
       "\tGSM2092520 & N03-Brain-RNAseq\\_BJ025    \\\\\n",
       "\tGSM2092525 & L04-Brain-RNAseq\\_JJ4      \\\\\n",
       "\tGSM2092530 & L05-Brain-RNAseq\\_JJ9      \\\\\n",
       "\tGSM2092535 & L06-Brain-RNAseq\\_JJ2      \\\\\n",
       "\tGSM2092540 & G07-Brain-RNAseq\\_JJ021    \\\\\n",
       "\tGSM2092545 & G08-Brain-RNAseq\\_PC048    \\\\\n",
       "\tGSM2092550 & G09-Brain-RNAseq\\_JJ8      \\\\\n",
       "\\end{tabular}\n"
      ],
      "text/markdown": [
       "\n",
       "A matrix: 100 × 1 of type chr\n",
       "\n",
       "| <!--/--> | title |\n",
       "|---|---|\n",
       "| GSM1101967 | Brain                                 |\n",
       "| GSM1131743 | Normal Brain 1                        |\n",
       "| GSM1131744 | Normal Brain 2                        |\n",
       "| GSM1131745 | Normal Brain 3                        |\n",
       "| GSM1131746 | Normal Brain 4                        |\n",
       "| GSM1131747 | Normal Brain 5                        |\n",
       "| GSM1356710 | mRNA from WT Day 17 (Forebrain)       |\n",
       "| GSM1356712 | mRNA from WT Day 35 (Forebrain)       |\n",
       "| GSM1356716 | mRNA from ADAR1 KD Day 17 (Forebrain) |\n",
       "| GSM1356718 | mRNA from ADAR1 KD Day 35 (Forebrain) |\n",
       "| GSM1356722 | sRNA from WT Day 17 (Forebrain)       |\n",
       "| GSM1356724 | sRNA from WT Day 35 (Forebrain)       |\n",
       "| GSM1356728 | sRNA from ADAR1 KD Day 17 (Forebrain) |\n",
       "| GSM1356730 | sRNA from ADAR1 KD Day 35 (Forebrain) |\n",
       "| GSM1505577 | Brain RUN1 L007                       |\n",
       "| GSM1505602 | Brain RUN2 L005                       |\n",
       "| GSM1554463 | Fetal_brain_RNA_seq_rep1              |\n",
       "| GSM1554464 | Fetal_brain_RNA_seq_rep2              |\n",
       "| GSM1752948 | Alzheimer's Brain Sample1             |\n",
       "| GSM1752949 | Alzheimer's Brain Sample2             |\n",
       "| GSM1752950 | Alzheimer's Brain Sample3             |\n",
       "| GSM1752951 | Alzheimer's Brain Sample4             |\n",
       "| GSM1752953 | Alzheimer's Brain Sample5             |\n",
       "| GSM1752954 | Alzheimer's Brain Sample6             |\n",
       "| GSM1752955 | Alzheimer's Brain Sample7             |\n",
       "| GSM1752956 | Alzheimer's Brain Sample8             |\n",
       "| GSM1752957 | Alzheimer's Brain Sample9             |\n",
       "| GSM1752958 | Alzheimer's Brain Sample10            |\n",
       "| GSM1752960 | Alzheimer's Brain Sample11            |\n",
       "| GSM1752961 | Alzheimer's Brain Sample12            |\n",
       "| ⋮ | ⋮ |\n",
       "| GSM1753010 | Alzheimer's Brain Sample54 |\n",
       "| GSM1753011 | Alzheimer's Brain Sample55 |\n",
       "| GSM1753012 | Alzheimer's Brain Sample56 |\n",
       "| GSM1753013 | Alzheimer's Brain Sample57 |\n",
       "| GSM1753014 | Alzheimer's Brain Sample58 |\n",
       "| GSM1753016 | Alzheimer's Brain Sample59 |\n",
       "| GSM1753017 | Alzheimer's Brain Sample60 |\n",
       "| GSM1753019 | Alzheimer's Brain Sample61 |\n",
       "| GSM1753020 | Alzheimer's Brain Sample62 |\n",
       "| GSM1753021 | Alzheimer's Brain Sample63 |\n",
       "| GSM1753022 | Alzheimer's Brain Sample64 |\n",
       "| GSM1753023 | Alzheimer's Brain Sample65 |\n",
       "| GSM1753024 | Alzheimer's Brain Sample66 |\n",
       "| GSM1753025 | Alzheimer's Brain Sample67 |\n",
       "| GSM1753026 | Alzheimer's Brain Sample68 |\n",
       "| GSM1753027 | Alzheimer's Brain Sample69 |\n",
       "| GSM1753029 | Alzheimer's Brain Sample70 |\n",
       "| GSM1753030 | Alzheimer's Brain Sample71 |\n",
       "| GSM1753031 | Alzheimer's Brain Sample72 |\n",
       "| GSM2055779 | Brain_rep1                 |\n",
       "| GSM2055785 | Brain_rep2                 |\n",
       "| GSM2092510 | N01-Brain-RNAseq_JJ014     |\n",
       "| GSM2092515 | N02-Brain-RNAseq_JJ015     |\n",
       "| GSM2092520 | N03-Brain-RNAseq_BJ025     |\n",
       "| GSM2092525 | L04-Brain-RNAseq_JJ4       |\n",
       "| GSM2092530 | L05-Brain-RNAseq_JJ9       |\n",
       "| GSM2092535 | L06-Brain-RNAseq_JJ2       |\n",
       "| GSM2092540 | G07-Brain-RNAseq_JJ021     |\n",
       "| GSM2092545 | G08-Brain-RNAseq_PC048     |\n",
       "| GSM2092550 | G09-Brain-RNAseq_JJ8       |\n",
       "\n"
      ],
      "text/plain": [
       "           title                                \n",
       "GSM1101967 Brain                                \n",
       "GSM1131743 Normal Brain 1                       \n",
       "GSM1131744 Normal Brain 2                       \n",
       "GSM1131745 Normal Brain 3                       \n",
       "GSM1131746 Normal Brain 4                       \n",
       "GSM1131747 Normal Brain 5                       \n",
       "GSM1356710 mRNA from WT Day 17 (Forebrain)      \n",
       "GSM1356712 mRNA from WT Day 35 (Forebrain)      \n",
       "GSM1356716 mRNA from ADAR1 KD Day 17 (Forebrain)\n",
       "GSM1356718 mRNA from ADAR1 KD Day 35 (Forebrain)\n",
       "GSM1356722 sRNA from WT Day 17 (Forebrain)      \n",
       "GSM1356724 sRNA from WT Day 35 (Forebrain)      \n",
       "GSM1356728 sRNA from ADAR1 KD Day 17 (Forebrain)\n",
       "GSM1356730 sRNA from ADAR1 KD Day 35 (Forebrain)\n",
       "GSM1505577 Brain RUN1 L007                      \n",
       "GSM1505602 Brain RUN2 L005                      \n",
       "GSM1554463 Fetal_brain_RNA_seq_rep1             \n",
       "GSM1554464 Fetal_brain_RNA_seq_rep2             \n",
       "GSM1752948 Alzheimer's Brain Sample1            \n",
       "GSM1752949 Alzheimer's Brain Sample2            \n",
       "GSM1752950 Alzheimer's Brain Sample3            \n",
       "GSM1752951 Alzheimer's Brain Sample4            \n",
       "GSM1752953 Alzheimer's Brain Sample5            \n",
       "GSM1752954 Alzheimer's Brain Sample6            \n",
       "GSM1752955 Alzheimer's Brain Sample7            \n",
       "GSM1752956 Alzheimer's Brain Sample8            \n",
       "GSM1752957 Alzheimer's Brain Sample9            \n",
       "GSM1752958 Alzheimer's Brain Sample10           \n",
       "GSM1752960 Alzheimer's Brain Sample11           \n",
       "GSM1752961 Alzheimer's Brain Sample12           \n",
       "⋮          ⋮                                    \n",
       "GSM1753010 Alzheimer's Brain Sample54           \n",
       "GSM1753011 Alzheimer's Brain Sample55           \n",
       "GSM1753012 Alzheimer's Brain Sample56           \n",
       "GSM1753013 Alzheimer's Brain Sample57           \n",
       "GSM1753014 Alzheimer's Brain Sample58           \n",
       "GSM1753016 Alzheimer's Brain Sample59           \n",
       "GSM1753017 Alzheimer's Brain Sample60           \n",
       "GSM1753019 Alzheimer's Brain Sample61           \n",
       "GSM1753020 Alzheimer's Brain Sample62           \n",
       "GSM1753021 Alzheimer's Brain Sample63           \n",
       "GSM1753022 Alzheimer's Brain Sample64           \n",
       "GSM1753023 Alzheimer's Brain Sample65           \n",
       "GSM1753024 Alzheimer's Brain Sample66           \n",
       "GSM1753025 Alzheimer's Brain Sample67           \n",
       "GSM1753026 Alzheimer's Brain Sample68           \n",
       "GSM1753027 Alzheimer's Brain Sample69           \n",
       "GSM1753029 Alzheimer's Brain Sample70           \n",
       "GSM1753030 Alzheimer's Brain Sample71           \n",
       "GSM1753031 Alzheimer's Brain Sample72           \n",
       "GSM2055779 Brain_rep1                           \n",
       "GSM2055785 Brain_rep2                           \n",
       "GSM2092510 N01-Brain-RNAseq_JJ014               \n",
       "GSM2092515 N02-Brain-RNAseq_JJ015               \n",
       "GSM2092520 N03-Brain-RNAseq_BJ025               \n",
       "GSM2092525 L04-Brain-RNAseq_JJ4                 \n",
       "GSM2092530 L05-Brain-RNAseq_JJ9                 \n",
       "GSM2092535 L06-Brain-RNAseq_JJ2                 \n",
       "GSM2092540 G07-Brain-RNAseq_JJ021               \n",
       "GSM2092545 G08-Brain-RNAseq_PC048               \n",
       "GSM2092550 G09-Brain-RNAseq_JJ8                 "
      ]
     },
     "metadata": {},
     "output_type": "display_data"
    }
   ],
   "source": [
    "df <- a4.meta.meta(h5file, 'brain', meta_fields = c(\"title\"), remove_sc = TRUE)\n",
    "head(df, 100)"
   ]
  },
  {
   "cell_type": "code",
   "execution_count": 6,
   "metadata": {
    "vscode": {
     "languageId": "r"
    }
   },
   "outputs": [],
   "source": [
    "df <- data.frame(df)\n",
    "selected_geo <- rownames(df)[grepl(\"^Alzheimer's Brain Sample\", df$title)]"
   ]
  },
  {
   "cell_type": "code",
   "execution_count": 7,
   "id": "38afeebc",
   "metadata": {
    "vscode": {
     "languageId": "r"
    }
   },
   "outputs": [
    {
     "data": {
      "text/html": [
       "<style>\n",
       ".list-inline {list-style: none; margin:0; padding: 0}\n",
       ".list-inline>li {display: inline-block}\n",
       ".list-inline>li:not(:last-child)::after {content: \"\\00b7\"; padding: 0 .5ex}\n",
       "</style>\n",
       "<ol class=list-inline><li>'GSM1752948'</li><li>'GSM1752949'</li><li>'GSM1752950'</li><li>'GSM1752951'</li><li>'GSM1752953'</li><li>'GSM1752954'</li><li>'GSM1752955'</li><li>'GSM1752956'</li><li>'GSM1752957'</li><li>'GSM1752958'</li><li>'GSM1752960'</li><li>'GSM1752961'</li><li>'GSM1752962'</li><li>'GSM1752963'</li><li>'GSM1752965'</li><li>'GSM1752966'</li><li>'GSM1752967'</li><li>'GSM1752968'</li><li>'GSM1752969'</li><li>'GSM1752970'</li><li>'GSM1752972'</li><li>'GSM1752973'</li><li>'GSM1752974'</li><li>'GSM1752975'</li><li>'GSM1752976'</li><li>'GSM1752977'</li><li>'GSM1752978'</li><li>'GSM1752981'</li><li>'GSM1752982'</li><li>'GSM1752983'</li><li>'GSM1752984'</li><li>'GSM1752985'</li><li>'GSM1752987'</li><li>'GSM1752988'</li><li>'GSM1752989'</li><li>'GSM1752990'</li><li>'GSM1752991'</li><li>'GSM1752992'</li><li>'GSM1752994'</li><li>'GSM1752995'</li><li>'GSM1752996'</li><li>'GSM1752997'</li><li>'GSM1752998'</li><li>'GSM1752999'</li><li>'GSM1753001'</li><li>'GSM1753002'</li><li>'GSM1753003'</li><li>'GSM1753004'</li><li>'GSM1753005'</li><li>'GSM1753007'</li><li>'GSM1753008'</li><li>'GSM1753009'</li><li>'GSM1753010'</li><li>'GSM1753011'</li><li>'GSM1753012'</li><li>'GSM1753013'</li><li>'GSM1753014'</li><li>'GSM1753016'</li><li>'GSM1753017'</li><li>'GSM1753019'</li><li>'GSM1753020'</li><li>'GSM1753021'</li><li>'GSM1753022'</li><li>'GSM1753023'</li><li>'GSM1753024'</li><li>'GSM1753025'</li><li>'GSM1753026'</li><li>'GSM1753027'</li><li>'GSM1753029'</li><li>'GSM1753030'</li><li>'GSM1753031'</li></ol>\n"
      ],
      "text/latex": [
       "\\begin{enumerate*}\n",
       "\\item 'GSM1752948'\n",
       "\\item 'GSM1752949'\n",
       "\\item 'GSM1752950'\n",
       "\\item 'GSM1752951'\n",
       "\\item 'GSM1752953'\n",
       "\\item 'GSM1752954'\n",
       "\\item 'GSM1752955'\n",
       "\\item 'GSM1752956'\n",
       "\\item 'GSM1752957'\n",
       "\\item 'GSM1752958'\n",
       "\\item 'GSM1752960'\n",
       "\\item 'GSM1752961'\n",
       "\\item 'GSM1752962'\n",
       "\\item 'GSM1752963'\n",
       "\\item 'GSM1752965'\n",
       "\\item 'GSM1752966'\n",
       "\\item 'GSM1752967'\n",
       "\\item 'GSM1752968'\n",
       "\\item 'GSM1752969'\n",
       "\\item 'GSM1752970'\n",
       "\\item 'GSM1752972'\n",
       "\\item 'GSM1752973'\n",
       "\\item 'GSM1752974'\n",
       "\\item 'GSM1752975'\n",
       "\\item 'GSM1752976'\n",
       "\\item 'GSM1752977'\n",
       "\\item 'GSM1752978'\n",
       "\\item 'GSM1752981'\n",
       "\\item 'GSM1752982'\n",
       "\\item 'GSM1752983'\n",
       "\\item 'GSM1752984'\n",
       "\\item 'GSM1752985'\n",
       "\\item 'GSM1752987'\n",
       "\\item 'GSM1752988'\n",
       "\\item 'GSM1752989'\n",
       "\\item 'GSM1752990'\n",
       "\\item 'GSM1752991'\n",
       "\\item 'GSM1752992'\n",
       "\\item 'GSM1752994'\n",
       "\\item 'GSM1752995'\n",
       "\\item 'GSM1752996'\n",
       "\\item 'GSM1752997'\n",
       "\\item 'GSM1752998'\n",
       "\\item 'GSM1752999'\n",
       "\\item 'GSM1753001'\n",
       "\\item 'GSM1753002'\n",
       "\\item 'GSM1753003'\n",
       "\\item 'GSM1753004'\n",
       "\\item 'GSM1753005'\n",
       "\\item 'GSM1753007'\n",
       "\\item 'GSM1753008'\n",
       "\\item 'GSM1753009'\n",
       "\\item 'GSM1753010'\n",
       "\\item 'GSM1753011'\n",
       "\\item 'GSM1753012'\n",
       "\\item 'GSM1753013'\n",
       "\\item 'GSM1753014'\n",
       "\\item 'GSM1753016'\n",
       "\\item 'GSM1753017'\n",
       "\\item 'GSM1753019'\n",
       "\\item 'GSM1753020'\n",
       "\\item 'GSM1753021'\n",
       "\\item 'GSM1753022'\n",
       "\\item 'GSM1753023'\n",
       "\\item 'GSM1753024'\n",
       "\\item 'GSM1753025'\n",
       "\\item 'GSM1753026'\n",
       "\\item 'GSM1753027'\n",
       "\\item 'GSM1753029'\n",
       "\\item 'GSM1753030'\n",
       "\\item 'GSM1753031'\n",
       "\\end{enumerate*}\n"
      ],
      "text/markdown": [
       "1. 'GSM1752948'\n",
       "2. 'GSM1752949'\n",
       "3. 'GSM1752950'\n",
       "4. 'GSM1752951'\n",
       "5. 'GSM1752953'\n",
       "6. 'GSM1752954'\n",
       "7. 'GSM1752955'\n",
       "8. 'GSM1752956'\n",
       "9. 'GSM1752957'\n",
       "10. 'GSM1752958'\n",
       "11. 'GSM1752960'\n",
       "12. 'GSM1752961'\n",
       "13. 'GSM1752962'\n",
       "14. 'GSM1752963'\n",
       "15. 'GSM1752965'\n",
       "16. 'GSM1752966'\n",
       "17. 'GSM1752967'\n",
       "18. 'GSM1752968'\n",
       "19. 'GSM1752969'\n",
       "20. 'GSM1752970'\n",
       "21. 'GSM1752972'\n",
       "22. 'GSM1752973'\n",
       "23. 'GSM1752974'\n",
       "24. 'GSM1752975'\n",
       "25. 'GSM1752976'\n",
       "26. 'GSM1752977'\n",
       "27. 'GSM1752978'\n",
       "28. 'GSM1752981'\n",
       "29. 'GSM1752982'\n",
       "30. 'GSM1752983'\n",
       "31. 'GSM1752984'\n",
       "32. 'GSM1752985'\n",
       "33. 'GSM1752987'\n",
       "34. 'GSM1752988'\n",
       "35. 'GSM1752989'\n",
       "36. 'GSM1752990'\n",
       "37. 'GSM1752991'\n",
       "38. 'GSM1752992'\n",
       "39. 'GSM1752994'\n",
       "40. 'GSM1752995'\n",
       "41. 'GSM1752996'\n",
       "42. 'GSM1752997'\n",
       "43. 'GSM1752998'\n",
       "44. 'GSM1752999'\n",
       "45. 'GSM1753001'\n",
       "46. 'GSM1753002'\n",
       "47. 'GSM1753003'\n",
       "48. 'GSM1753004'\n",
       "49. 'GSM1753005'\n",
       "50. 'GSM1753007'\n",
       "51. 'GSM1753008'\n",
       "52. 'GSM1753009'\n",
       "53. 'GSM1753010'\n",
       "54. 'GSM1753011'\n",
       "55. 'GSM1753012'\n",
       "56. 'GSM1753013'\n",
       "57. 'GSM1753014'\n",
       "58. 'GSM1753016'\n",
       "59. 'GSM1753017'\n",
       "60. 'GSM1753019'\n",
       "61. 'GSM1753020'\n",
       "62. 'GSM1753021'\n",
       "63. 'GSM1753022'\n",
       "64. 'GSM1753023'\n",
       "65. 'GSM1753024'\n",
       "66. 'GSM1753025'\n",
       "67. 'GSM1753026'\n",
       "68. 'GSM1753027'\n",
       "69. 'GSM1753029'\n",
       "70. 'GSM1753030'\n",
       "71. 'GSM1753031'\n",
       "\n",
       "\n"
      ],
      "text/plain": [
       " [1] \"GSM1752948\" \"GSM1752949\" \"GSM1752950\" \"GSM1752951\" \"GSM1752953\"\n",
       " [6] \"GSM1752954\" \"GSM1752955\" \"GSM1752956\" \"GSM1752957\" \"GSM1752958\"\n",
       "[11] \"GSM1752960\" \"GSM1752961\" \"GSM1752962\" \"GSM1752963\" \"GSM1752965\"\n",
       "[16] \"GSM1752966\" \"GSM1752967\" \"GSM1752968\" \"GSM1752969\" \"GSM1752970\"\n",
       "[21] \"GSM1752972\" \"GSM1752973\" \"GSM1752974\" \"GSM1752975\" \"GSM1752976\"\n",
       "[26] \"GSM1752977\" \"GSM1752978\" \"GSM1752981\" \"GSM1752982\" \"GSM1752983\"\n",
       "[31] \"GSM1752984\" \"GSM1752985\" \"GSM1752987\" \"GSM1752988\" \"GSM1752989\"\n",
       "[36] \"GSM1752990\" \"GSM1752991\" \"GSM1752992\" \"GSM1752994\" \"GSM1752995\"\n",
       "[41] \"GSM1752996\" \"GSM1752997\" \"GSM1752998\" \"GSM1752999\" \"GSM1753001\"\n",
       "[46] \"GSM1753002\" \"GSM1753003\" \"GSM1753004\" \"GSM1753005\" \"GSM1753007\"\n",
       "[51] \"GSM1753008\" \"GSM1753009\" \"GSM1753010\" \"GSM1753011\" \"GSM1753012\"\n",
       "[56] \"GSM1753013\" \"GSM1753014\" \"GSM1753016\" \"GSM1753017\" \"GSM1753019\"\n",
       "[61] \"GSM1753020\" \"GSM1753021\" \"GSM1753022\" \"GSM1753023\" \"GSM1753024\"\n",
       "[66] \"GSM1753025\" \"GSM1753026\" \"GSM1753027\" \"GSM1753029\" \"GSM1753030\"\n",
       "[71] \"GSM1753031\""
      ]
     },
     "metadata": {},
     "output_type": "display_data"
    }
   ],
   "source": [
    "selected_geo"
   ]
  },
  {
   "cell_type": "code",
   "execution_count": 8,
   "id": "ebd07b4f",
   "metadata": {
    "vscode": {
     "languageId": "r"
    }
   },
   "outputs": [],
   "source": [
    "library(hdf5r)\n",
    "h5 <- H5File$new(here('data/archs4/human_gene_v2.5.h5'), mode = \"r\")"
   ]
  },
  {
   "cell_type": "code",
   "execution_count": 9,
   "id": "4ba1dc0d",
   "metadata": {
    "vscode": {
     "languageId": "r"
    }
   },
   "outputs": [
    {
     "data": {
      "text/html": [
       "<table class=\"dataframe\">\n",
       "<caption>A data.frame_ext: 43 × 12</caption>\n",
       "<thead>\n",
       "\t<tr><th></th><th scope=col>name</th><th scope=col>link.type</th><th scope=col>obj_type</th><th scope=col>num_attrs</th><th scope=col>group.nlinks</th><th scope=col>group.mounted</th><th scope=col>dataset.rank</th><th scope=col>dataset.dims</th><th scope=col>dataset.maxdims</th><th scope=col>dataset.type_class</th><th scope=col>dataset.space_class</th><th scope=col>committed_type</th></tr>\n",
       "\t<tr><th></th><th scope=col>&lt;chr&gt;</th><th scope=col>&lt;factr_xt&gt;</th><th scope=col>&lt;factr_xt&gt;</th><th scope=col>&lt;int&gt;</th><th scope=col>&lt;int&gt;</th><th scope=col>&lt;int&gt;</th><th scope=col>&lt;int&gt;</th><th scope=col>&lt;chr&gt;</th><th scope=col>&lt;chr&gt;</th><th scope=col>&lt;factr_xt&gt;</th><th scope=col>&lt;factr_xt&gt;</th><th scope=col>&lt;factr_xt&gt;</th></tr>\n",
       "</thead>\n",
       "<tbody>\n",
       "\t<tr><th scope=row>1</th><td>data                              </td><td>0</td><td>2</td><td>0</td><td> 1</td><td> 0</td><td>NA</td><td>NA            </td><td>NA         </td><td>NA</td><td>NA</td><td>NA</td></tr>\n",
       "\t<tr><th scope=row>2</th><td>data/expression                   </td><td>0</td><td>5</td><td>0</td><td>NA</td><td>NA</td><td> 2</td><td>888821 x 67186</td><td>Inf x 67186</td><td> 0</td><td> 1</td><td>NA</td></tr>\n",
       "\t<tr><th scope=row>3</th><td>meta                              </td><td>0</td><td>2</td><td>0</td><td> 3</td><td> 0</td><td>NA</td><td>NA            </td><td>NA         </td><td>NA</td><td>NA</td><td>NA</td></tr>\n",
       "\t<tr><th scope=row>4</th><td>meta/genes                        </td><td>0</td><td>2</td><td>0</td><td> 3</td><td> 0</td><td>NA</td><td>NA            </td><td>NA         </td><td>NA</td><td>NA</td><td>NA</td></tr>\n",
       "\t<tr><th scope=row>5</th><td>meta/genes/biotype                </td><td>0</td><td>5</td><td>0</td><td>NA</td><td>NA</td><td> 1</td><td>67186         </td><td>67186      </td><td> 3</td><td> 1</td><td>NA</td></tr>\n",
       "\t<tr><th scope=row>6</th><td>meta/genes/ensembl_gene           </td><td>0</td><td>5</td><td>0</td><td>NA</td><td>NA</td><td> 1</td><td>67186         </td><td>67186      </td><td> 3</td><td> 1</td><td>NA</td></tr>\n",
       "\t<tr><th scope=row>7</th><td>meta/genes/symbol                 </td><td>0</td><td>5</td><td>0</td><td>NA</td><td>NA</td><td> 1</td><td>67186         </td><td>67186      </td><td> 3</td><td> 1</td><td>NA</td></tr>\n",
       "\t<tr><th scope=row>8</th><td>meta/info                         </td><td>0</td><td>2</td><td>0</td><td> 5</td><td> 0</td><td>NA</td><td>NA            </td><td>NA         </td><td>NA</td><td>NA</td><td>NA</td></tr>\n",
       "\t<tr><th scope=row>9</th><td>meta/info/author                  </td><td>0</td><td>5</td><td>0</td><td>NA</td><td>NA</td><td> 0</td><td>0             </td><td>0          </td><td> 3</td><td> 0</td><td>NA</td></tr>\n",
       "\t<tr><th scope=row>10</th><td>meta/info/contact                 </td><td>0</td><td>5</td><td>0</td><td>NA</td><td>NA</td><td> 0</td><td>0             </td><td>0          </td><td> 3</td><td> 0</td><td>NA</td></tr>\n",
       "\t<tr><th scope=row>11</th><td>meta/info/creation-date           </td><td>0</td><td>5</td><td>0</td><td>NA</td><td>NA</td><td> 0</td><td>0             </td><td>0          </td><td> 3</td><td> 0</td><td>NA</td></tr>\n",
       "\t<tr><th scope=row>12</th><td>meta/info/laboratory              </td><td>0</td><td>5</td><td>0</td><td>NA</td><td>NA</td><td> 0</td><td>0             </td><td>0          </td><td> 3</td><td> 0</td><td>NA</td></tr>\n",
       "\t<tr><th scope=row>13</th><td>meta/info/version                 </td><td>0</td><td>5</td><td>0</td><td>NA</td><td>NA</td><td> 0</td><td>0             </td><td>0          </td><td> 3</td><td> 0</td><td>NA</td></tr>\n",
       "\t<tr><th scope=row>14</th><td>meta/samples                      </td><td>0</td><td>2</td><td>0</td><td>29</td><td> 0</td><td>NA</td><td>NA            </td><td>NA         </td><td>NA</td><td>NA</td><td>NA</td></tr>\n",
       "\t<tr><th scope=row>15</th><td>meta/samples/channel_count        </td><td>0</td><td>5</td><td>0</td><td>NA</td><td>NA</td><td> 1</td><td>888821        </td><td>888821     </td><td> 3</td><td> 1</td><td>NA</td></tr>\n",
       "\t<tr><th scope=row>16</th><td>meta/samples/characteristics_ch1  </td><td>0</td><td>5</td><td>0</td><td>NA</td><td>NA</td><td> 1</td><td>888821        </td><td>888821     </td><td> 3</td><td> 1</td><td>NA</td></tr>\n",
       "\t<tr><th scope=row>17</th><td>meta/samples/contact_address      </td><td>0</td><td>5</td><td>0</td><td>NA</td><td>NA</td><td> 1</td><td>888821        </td><td>888821     </td><td> 3</td><td> 1</td><td>NA</td></tr>\n",
       "\t<tr><th scope=row>18</th><td>meta/samples/contact_city         </td><td>0</td><td>5</td><td>0</td><td>NA</td><td>NA</td><td> 1</td><td>888821        </td><td>888821     </td><td> 3</td><td> 1</td><td>NA</td></tr>\n",
       "\t<tr><th scope=row>19</th><td>meta/samples/contact_country      </td><td>0</td><td>5</td><td>0</td><td>NA</td><td>NA</td><td> 1</td><td>888821        </td><td>888821     </td><td> 3</td><td> 1</td><td>NA</td></tr>\n",
       "\t<tr><th scope=row>20</th><td>meta/samples/contact_institute    </td><td>0</td><td>5</td><td>0</td><td>NA</td><td>NA</td><td> 1</td><td>888821        </td><td>888821     </td><td> 3</td><td> 1</td><td>NA</td></tr>\n",
       "\t<tr><th scope=row>21</th><td>meta/samples/contact_name         </td><td>0</td><td>5</td><td>0</td><td>NA</td><td>NA</td><td> 1</td><td>888821        </td><td>888821     </td><td> 3</td><td> 1</td><td>NA</td></tr>\n",
       "\t<tr><th scope=row>22</th><td>meta/samples/contact_zip          </td><td>0</td><td>5</td><td>0</td><td>NA</td><td>NA</td><td> 1</td><td>888821        </td><td>888821     </td><td> 3</td><td> 1</td><td>NA</td></tr>\n",
       "\t<tr><th scope=row>23</th><td>meta/samples/data_processing      </td><td>0</td><td>5</td><td>0</td><td>NA</td><td>NA</td><td> 1</td><td>888821        </td><td>888821     </td><td> 3</td><td> 1</td><td>NA</td></tr>\n",
       "\t<tr><th scope=row>24</th><td>meta/samples/extract_protocol_ch1 </td><td>0</td><td>5</td><td>0</td><td>NA</td><td>NA</td><td> 1</td><td>888821        </td><td>888821     </td><td> 3</td><td> 1</td><td>NA</td></tr>\n",
       "\t<tr><th scope=row>25</th><td>meta/samples/geo_accession        </td><td>0</td><td>5</td><td>0</td><td>NA</td><td>NA</td><td> 1</td><td>888821        </td><td>888821     </td><td> 3</td><td> 1</td><td>NA</td></tr>\n",
       "\t<tr><th scope=row>26</th><td>meta/samples/instrument_model     </td><td>0</td><td>5</td><td>0</td><td>NA</td><td>NA</td><td> 1</td><td>888821        </td><td>888821     </td><td> 3</td><td> 1</td><td>NA</td></tr>\n",
       "\t<tr><th scope=row>27</th><td>meta/samples/last_update_date     </td><td>0</td><td>5</td><td>0</td><td>NA</td><td>NA</td><td> 1</td><td>888821        </td><td>888821     </td><td> 3</td><td> 1</td><td>NA</td></tr>\n",
       "\t<tr><th scope=row>28</th><td>meta/samples/library_selection    </td><td>0</td><td>5</td><td>0</td><td>NA</td><td>NA</td><td> 1</td><td>888821        </td><td>888821     </td><td> 3</td><td> 1</td><td>NA</td></tr>\n",
       "\t<tr><th scope=row>29</th><td>meta/samples/library_source       </td><td>0</td><td>5</td><td>0</td><td>NA</td><td>NA</td><td> 1</td><td>888821        </td><td>888821     </td><td> 3</td><td> 1</td><td>NA</td></tr>\n",
       "\t<tr><th scope=row>30</th><td>meta/samples/library_strategy     </td><td>0</td><td>5</td><td>0</td><td>NA</td><td>NA</td><td> 1</td><td>888821        </td><td>888821     </td><td> 3</td><td> 1</td><td>NA</td></tr>\n",
       "\t<tr><th scope=row>31</th><td>meta/samples/molecule_ch1         </td><td>0</td><td>5</td><td>0</td><td>NA</td><td>NA</td><td> 1</td><td>888821        </td><td>888821     </td><td> 3</td><td> 1</td><td>NA</td></tr>\n",
       "\t<tr><th scope=row>32</th><td>meta/samples/organism_ch1         </td><td>0</td><td>5</td><td>0</td><td>NA</td><td>NA</td><td> 1</td><td>888821        </td><td>888821     </td><td> 3</td><td> 1</td><td>NA</td></tr>\n",
       "\t<tr><th scope=row>33</th><td>meta/samples/platform_id          </td><td>0</td><td>5</td><td>0</td><td>NA</td><td>NA</td><td> 1</td><td>888821        </td><td>888821     </td><td> 3</td><td> 1</td><td>NA</td></tr>\n",
       "\t<tr><th scope=row>34</th><td>meta/samples/relation             </td><td>0</td><td>5</td><td>0</td><td>NA</td><td>NA</td><td> 1</td><td>888821        </td><td>888821     </td><td> 3</td><td> 1</td><td>NA</td></tr>\n",
       "\t<tr><th scope=row>35</th><td>meta/samples/sample               </td><td>0</td><td>5</td><td>0</td><td>NA</td><td>NA</td><td> 1</td><td>888821        </td><td>Inf        </td><td> 3</td><td> 1</td><td>NA</td></tr>\n",
       "\t<tr><th scope=row>36</th><td>meta/samples/series_id            </td><td>0</td><td>5</td><td>0</td><td>NA</td><td>NA</td><td> 1</td><td>888821        </td><td>888821     </td><td> 3</td><td> 1</td><td>NA</td></tr>\n",
       "\t<tr><th scope=row>37</th><td>meta/samples/singlecellprobability</td><td>0</td><td>5</td><td>0</td><td>NA</td><td>NA</td><td> 1</td><td>888821        </td><td>888821     </td><td> 1</td><td> 1</td><td>NA</td></tr>\n",
       "\t<tr><th scope=row>38</th><td>meta/samples/source_name_ch1      </td><td>0</td><td>5</td><td>0</td><td>NA</td><td>NA</td><td> 1</td><td>888821        </td><td>888821     </td><td> 3</td><td> 1</td><td>NA</td></tr>\n",
       "\t<tr><th scope=row>39</th><td>meta/samples/status               </td><td>0</td><td>5</td><td>0</td><td>NA</td><td>NA</td><td> 1</td><td>888821        </td><td>888821     </td><td> 3</td><td> 1</td><td>NA</td></tr>\n",
       "\t<tr><th scope=row>40</th><td>meta/samples/submission_date      </td><td>0</td><td>5</td><td>0</td><td>NA</td><td>NA</td><td> 1</td><td>888821        </td><td>888821     </td><td> 3</td><td> 1</td><td>NA</td></tr>\n",
       "\t<tr><th scope=row>41</th><td>meta/samples/taxid_ch1            </td><td>0</td><td>5</td><td>0</td><td>NA</td><td>NA</td><td> 1</td><td>888821        </td><td>888821     </td><td> 3</td><td> 1</td><td>NA</td></tr>\n",
       "\t<tr><th scope=row>42</th><td>meta/samples/title                </td><td>0</td><td>5</td><td>0</td><td>NA</td><td>NA</td><td> 1</td><td>888821        </td><td>888821     </td><td> 3</td><td> 1</td><td>NA</td></tr>\n",
       "\t<tr><th scope=row>43</th><td>meta/samples/type                 </td><td>0</td><td>5</td><td>0</td><td>NA</td><td>NA</td><td> 1</td><td>888821        </td><td>888821     </td><td> 3</td><td> 1</td><td>NA</td></tr>\n",
       "</tbody>\n",
       "</table>\n"
      ],
      "text/latex": [
       "A data.frame\\_ext: 43 × 12\n",
       "\\begin{tabular}{r|llllllllllll}\n",
       "  & name & link.type & obj\\_type & num\\_attrs & group.nlinks & group.mounted & dataset.rank & dataset.dims & dataset.maxdims & dataset.type\\_class & dataset.space\\_class & committed\\_type\\\\\n",
       "  & <chr> & <factr\\_xt> & <factr\\_xt> & <int> & <int> & <int> & <int> & <chr> & <chr> & <factr\\_xt> & <factr\\_xt> & <factr\\_xt>\\\\\n",
       "\\hline\n",
       "\t1 & data                               & 0 & 2 & 0 &  1 &  0 & NA & NA             & NA          & NA & NA & NA\\\\\n",
       "\t2 & data/expression                    & 0 & 5 & 0 & NA & NA &  2 & 888821 x 67186 & Inf x 67186 &  0 &  1 & NA\\\\\n",
       "\t3 & meta                               & 0 & 2 & 0 &  3 &  0 & NA & NA             & NA          & NA & NA & NA\\\\\n",
       "\t4 & meta/genes                         & 0 & 2 & 0 &  3 &  0 & NA & NA             & NA          & NA & NA & NA\\\\\n",
       "\t5 & meta/genes/biotype                 & 0 & 5 & 0 & NA & NA &  1 & 67186          & 67186       &  3 &  1 & NA\\\\\n",
       "\t6 & meta/genes/ensembl\\_gene            & 0 & 5 & 0 & NA & NA &  1 & 67186          & 67186       &  3 &  1 & NA\\\\\n",
       "\t7 & meta/genes/symbol                  & 0 & 5 & 0 & NA & NA &  1 & 67186          & 67186       &  3 &  1 & NA\\\\\n",
       "\t8 & meta/info                          & 0 & 2 & 0 &  5 &  0 & NA & NA             & NA          & NA & NA & NA\\\\\n",
       "\t9 & meta/info/author                   & 0 & 5 & 0 & NA & NA &  0 & 0              & 0           &  3 &  0 & NA\\\\\n",
       "\t10 & meta/info/contact                  & 0 & 5 & 0 & NA & NA &  0 & 0              & 0           &  3 &  0 & NA\\\\\n",
       "\t11 & meta/info/creation-date            & 0 & 5 & 0 & NA & NA &  0 & 0              & 0           &  3 &  0 & NA\\\\\n",
       "\t12 & meta/info/laboratory               & 0 & 5 & 0 & NA & NA &  0 & 0              & 0           &  3 &  0 & NA\\\\\n",
       "\t13 & meta/info/version                  & 0 & 5 & 0 & NA & NA &  0 & 0              & 0           &  3 &  0 & NA\\\\\n",
       "\t14 & meta/samples                       & 0 & 2 & 0 & 29 &  0 & NA & NA             & NA          & NA & NA & NA\\\\\n",
       "\t15 & meta/samples/channel\\_count         & 0 & 5 & 0 & NA & NA &  1 & 888821         & 888821      &  3 &  1 & NA\\\\\n",
       "\t16 & meta/samples/characteristics\\_ch1   & 0 & 5 & 0 & NA & NA &  1 & 888821         & 888821      &  3 &  1 & NA\\\\\n",
       "\t17 & meta/samples/contact\\_address       & 0 & 5 & 0 & NA & NA &  1 & 888821         & 888821      &  3 &  1 & NA\\\\\n",
       "\t18 & meta/samples/contact\\_city          & 0 & 5 & 0 & NA & NA &  1 & 888821         & 888821      &  3 &  1 & NA\\\\\n",
       "\t19 & meta/samples/contact\\_country       & 0 & 5 & 0 & NA & NA &  1 & 888821         & 888821      &  3 &  1 & NA\\\\\n",
       "\t20 & meta/samples/contact\\_institute     & 0 & 5 & 0 & NA & NA &  1 & 888821         & 888821      &  3 &  1 & NA\\\\\n",
       "\t21 & meta/samples/contact\\_name          & 0 & 5 & 0 & NA & NA &  1 & 888821         & 888821      &  3 &  1 & NA\\\\\n",
       "\t22 & meta/samples/contact\\_zip           & 0 & 5 & 0 & NA & NA &  1 & 888821         & 888821      &  3 &  1 & NA\\\\\n",
       "\t23 & meta/samples/data\\_processing       & 0 & 5 & 0 & NA & NA &  1 & 888821         & 888821      &  3 &  1 & NA\\\\\n",
       "\t24 & meta/samples/extract\\_protocol\\_ch1  & 0 & 5 & 0 & NA & NA &  1 & 888821         & 888821      &  3 &  1 & NA\\\\\n",
       "\t25 & meta/samples/geo\\_accession         & 0 & 5 & 0 & NA & NA &  1 & 888821         & 888821      &  3 &  1 & NA\\\\\n",
       "\t26 & meta/samples/instrument\\_model      & 0 & 5 & 0 & NA & NA &  1 & 888821         & 888821      &  3 &  1 & NA\\\\\n",
       "\t27 & meta/samples/last\\_update\\_date      & 0 & 5 & 0 & NA & NA &  1 & 888821         & 888821      &  3 &  1 & NA\\\\\n",
       "\t28 & meta/samples/library\\_selection     & 0 & 5 & 0 & NA & NA &  1 & 888821         & 888821      &  3 &  1 & NA\\\\\n",
       "\t29 & meta/samples/library\\_source        & 0 & 5 & 0 & NA & NA &  1 & 888821         & 888821      &  3 &  1 & NA\\\\\n",
       "\t30 & meta/samples/library\\_strategy      & 0 & 5 & 0 & NA & NA &  1 & 888821         & 888821      &  3 &  1 & NA\\\\\n",
       "\t31 & meta/samples/molecule\\_ch1          & 0 & 5 & 0 & NA & NA &  1 & 888821         & 888821      &  3 &  1 & NA\\\\\n",
       "\t32 & meta/samples/organism\\_ch1          & 0 & 5 & 0 & NA & NA &  1 & 888821         & 888821      &  3 &  1 & NA\\\\\n",
       "\t33 & meta/samples/platform\\_id           & 0 & 5 & 0 & NA & NA &  1 & 888821         & 888821      &  3 &  1 & NA\\\\\n",
       "\t34 & meta/samples/relation              & 0 & 5 & 0 & NA & NA &  1 & 888821         & 888821      &  3 &  1 & NA\\\\\n",
       "\t35 & meta/samples/sample                & 0 & 5 & 0 & NA & NA &  1 & 888821         & Inf         &  3 &  1 & NA\\\\\n",
       "\t36 & meta/samples/series\\_id             & 0 & 5 & 0 & NA & NA &  1 & 888821         & 888821      &  3 &  1 & NA\\\\\n",
       "\t37 & meta/samples/singlecellprobability & 0 & 5 & 0 & NA & NA &  1 & 888821         & 888821      &  1 &  1 & NA\\\\\n",
       "\t38 & meta/samples/source\\_name\\_ch1       & 0 & 5 & 0 & NA & NA &  1 & 888821         & 888821      &  3 &  1 & NA\\\\\n",
       "\t39 & meta/samples/status                & 0 & 5 & 0 & NA & NA &  1 & 888821         & 888821      &  3 &  1 & NA\\\\\n",
       "\t40 & meta/samples/submission\\_date       & 0 & 5 & 0 & NA & NA &  1 & 888821         & 888821      &  3 &  1 & NA\\\\\n",
       "\t41 & meta/samples/taxid\\_ch1             & 0 & 5 & 0 & NA & NA &  1 & 888821         & 888821      &  3 &  1 & NA\\\\\n",
       "\t42 & meta/samples/title                 & 0 & 5 & 0 & NA & NA &  1 & 888821         & 888821      &  3 &  1 & NA\\\\\n",
       "\t43 & meta/samples/type                  & 0 & 5 & 0 & NA & NA &  1 & 888821         & 888821      &  3 &  1 & NA\\\\\n",
       "\\end{tabular}\n"
      ],
      "text/markdown": [
       "\n",
       "A data.frame_ext: 43 × 12\n",
       "\n",
       "| <!--/--> | name &lt;chr&gt; | link.type &lt;factr_xt&gt; | obj_type &lt;factr_xt&gt; | num_attrs &lt;int&gt; | group.nlinks &lt;int&gt; | group.mounted &lt;int&gt; | dataset.rank &lt;int&gt; | dataset.dims &lt;chr&gt; | dataset.maxdims &lt;chr&gt; | dataset.type_class &lt;factr_xt&gt; | dataset.space_class &lt;factr_xt&gt; | committed_type &lt;factr_xt&gt; |\n",
       "|---|---|---|---|---|---|---|---|---|---|---|---|---|\n",
       "| 1 | data                               | 0 | 2 | 0 |  1 |  0 | NA | NA             | NA          | NA | NA | NA |\n",
       "| 2 | data/expression                    | 0 | 5 | 0 | NA | NA |  2 | 888821 x 67186 | Inf x 67186 |  0 |  1 | NA |\n",
       "| 3 | meta                               | 0 | 2 | 0 |  3 |  0 | NA | NA             | NA          | NA | NA | NA |\n",
       "| 4 | meta/genes                         | 0 | 2 | 0 |  3 |  0 | NA | NA             | NA          | NA | NA | NA |\n",
       "| 5 | meta/genes/biotype                 | 0 | 5 | 0 | NA | NA |  1 | 67186          | 67186       |  3 |  1 | NA |\n",
       "| 6 | meta/genes/ensembl_gene            | 0 | 5 | 0 | NA | NA |  1 | 67186          | 67186       |  3 |  1 | NA |\n",
       "| 7 | meta/genes/symbol                  | 0 | 5 | 0 | NA | NA |  1 | 67186          | 67186       |  3 |  1 | NA |\n",
       "| 8 | meta/info                          | 0 | 2 | 0 |  5 |  0 | NA | NA             | NA          | NA | NA | NA |\n",
       "| 9 | meta/info/author                   | 0 | 5 | 0 | NA | NA |  0 | 0              | 0           |  3 |  0 | NA |\n",
       "| 10 | meta/info/contact                  | 0 | 5 | 0 | NA | NA |  0 | 0              | 0           |  3 |  0 | NA |\n",
       "| 11 | meta/info/creation-date            | 0 | 5 | 0 | NA | NA |  0 | 0              | 0           |  3 |  0 | NA |\n",
       "| 12 | meta/info/laboratory               | 0 | 5 | 0 | NA | NA |  0 | 0              | 0           |  3 |  0 | NA |\n",
       "| 13 | meta/info/version                  | 0 | 5 | 0 | NA | NA |  0 | 0              | 0           |  3 |  0 | NA |\n",
       "| 14 | meta/samples                       | 0 | 2 | 0 | 29 |  0 | NA | NA             | NA          | NA | NA | NA |\n",
       "| 15 | meta/samples/channel_count         | 0 | 5 | 0 | NA | NA |  1 | 888821         | 888821      |  3 |  1 | NA |\n",
       "| 16 | meta/samples/characteristics_ch1   | 0 | 5 | 0 | NA | NA |  1 | 888821         | 888821      |  3 |  1 | NA |\n",
       "| 17 | meta/samples/contact_address       | 0 | 5 | 0 | NA | NA |  1 | 888821         | 888821      |  3 |  1 | NA |\n",
       "| 18 | meta/samples/contact_city          | 0 | 5 | 0 | NA | NA |  1 | 888821         | 888821      |  3 |  1 | NA |\n",
       "| 19 | meta/samples/contact_country       | 0 | 5 | 0 | NA | NA |  1 | 888821         | 888821      |  3 |  1 | NA |\n",
       "| 20 | meta/samples/contact_institute     | 0 | 5 | 0 | NA | NA |  1 | 888821         | 888821      |  3 |  1 | NA |\n",
       "| 21 | meta/samples/contact_name          | 0 | 5 | 0 | NA | NA |  1 | 888821         | 888821      |  3 |  1 | NA |\n",
       "| 22 | meta/samples/contact_zip           | 0 | 5 | 0 | NA | NA |  1 | 888821         | 888821      |  3 |  1 | NA |\n",
       "| 23 | meta/samples/data_processing       | 0 | 5 | 0 | NA | NA |  1 | 888821         | 888821      |  3 |  1 | NA |\n",
       "| 24 | meta/samples/extract_protocol_ch1  | 0 | 5 | 0 | NA | NA |  1 | 888821         | 888821      |  3 |  1 | NA |\n",
       "| 25 | meta/samples/geo_accession         | 0 | 5 | 0 | NA | NA |  1 | 888821         | 888821      |  3 |  1 | NA |\n",
       "| 26 | meta/samples/instrument_model      | 0 | 5 | 0 | NA | NA |  1 | 888821         | 888821      |  3 |  1 | NA |\n",
       "| 27 | meta/samples/last_update_date      | 0 | 5 | 0 | NA | NA |  1 | 888821         | 888821      |  3 |  1 | NA |\n",
       "| 28 | meta/samples/library_selection     | 0 | 5 | 0 | NA | NA |  1 | 888821         | 888821      |  3 |  1 | NA |\n",
       "| 29 | meta/samples/library_source        | 0 | 5 | 0 | NA | NA |  1 | 888821         | 888821      |  3 |  1 | NA |\n",
       "| 30 | meta/samples/library_strategy      | 0 | 5 | 0 | NA | NA |  1 | 888821         | 888821      |  3 |  1 | NA |\n",
       "| 31 | meta/samples/molecule_ch1          | 0 | 5 | 0 | NA | NA |  1 | 888821         | 888821      |  3 |  1 | NA |\n",
       "| 32 | meta/samples/organism_ch1          | 0 | 5 | 0 | NA | NA |  1 | 888821         | 888821      |  3 |  1 | NA |\n",
       "| 33 | meta/samples/platform_id           | 0 | 5 | 0 | NA | NA |  1 | 888821         | 888821      |  3 |  1 | NA |\n",
       "| 34 | meta/samples/relation              | 0 | 5 | 0 | NA | NA |  1 | 888821         | 888821      |  3 |  1 | NA |\n",
       "| 35 | meta/samples/sample                | 0 | 5 | 0 | NA | NA |  1 | 888821         | Inf         |  3 |  1 | NA |\n",
       "| 36 | meta/samples/series_id             | 0 | 5 | 0 | NA | NA |  1 | 888821         | 888821      |  3 |  1 | NA |\n",
       "| 37 | meta/samples/singlecellprobability | 0 | 5 | 0 | NA | NA |  1 | 888821         | 888821      |  1 |  1 | NA |\n",
       "| 38 | meta/samples/source_name_ch1       | 0 | 5 | 0 | NA | NA |  1 | 888821         | 888821      |  3 |  1 | NA |\n",
       "| 39 | meta/samples/status                | 0 | 5 | 0 | NA | NA |  1 | 888821         | 888821      |  3 |  1 | NA |\n",
       "| 40 | meta/samples/submission_date       | 0 | 5 | 0 | NA | NA |  1 | 888821         | 888821      |  3 |  1 | NA |\n",
       "| 41 | meta/samples/taxid_ch1             | 0 | 5 | 0 | NA | NA |  1 | 888821         | 888821      |  3 |  1 | NA |\n",
       "| 42 | meta/samples/title                 | 0 | 5 | 0 | NA | NA |  1 | 888821         | 888821      |  3 |  1 | NA |\n",
       "| 43 | meta/samples/type                  | 0 | 5 | 0 | NA | NA |  1 | 888821         | 888821      |  3 |  1 | NA |\n",
       "\n"
      ],
      "text/plain": [
       "   name                               link.type obj_type num_attrs group.nlinks\n",
       "1  data                               0         2        0          1          \n",
       "2  data/expression                    0         5        0         NA          \n",
       "3  meta                               0         2        0          3          \n",
       "4  meta/genes                         0         2        0          3          \n",
       "5  meta/genes/biotype                 0         5        0         NA          \n",
       "6  meta/genes/ensembl_gene            0         5        0         NA          \n",
       "7  meta/genes/symbol                  0         5        0         NA          \n",
       "8  meta/info                          0         2        0          5          \n",
       "9  meta/info/author                   0         5        0         NA          \n",
       "10 meta/info/contact                  0         5        0         NA          \n",
       "11 meta/info/creation-date            0         5        0         NA          \n",
       "12 meta/info/laboratory               0         5        0         NA          \n",
       "13 meta/info/version                  0         5        0         NA          \n",
       "14 meta/samples                       0         2        0         29          \n",
       "15 meta/samples/channel_count         0         5        0         NA          \n",
       "16 meta/samples/characteristics_ch1   0         5        0         NA          \n",
       "17 meta/samples/contact_address       0         5        0         NA          \n",
       "18 meta/samples/contact_city          0         5        0         NA          \n",
       "19 meta/samples/contact_country       0         5        0         NA          \n",
       "20 meta/samples/contact_institute     0         5        0         NA          \n",
       "21 meta/samples/contact_name          0         5        0         NA          \n",
       "22 meta/samples/contact_zip           0         5        0         NA          \n",
       "23 meta/samples/data_processing       0         5        0         NA          \n",
       "24 meta/samples/extract_protocol_ch1  0         5        0         NA          \n",
       "25 meta/samples/geo_accession         0         5        0         NA          \n",
       "26 meta/samples/instrument_model      0         5        0         NA          \n",
       "27 meta/samples/last_update_date      0         5        0         NA          \n",
       "28 meta/samples/library_selection     0         5        0         NA          \n",
       "29 meta/samples/library_source        0         5        0         NA          \n",
       "30 meta/samples/library_strategy      0         5        0         NA          \n",
       "31 meta/samples/molecule_ch1          0         5        0         NA          \n",
       "32 meta/samples/organism_ch1          0         5        0         NA          \n",
       "33 meta/samples/platform_id           0         5        0         NA          \n",
       "34 meta/samples/relation              0         5        0         NA          \n",
       "35 meta/samples/sample                0         5        0         NA          \n",
       "36 meta/samples/series_id             0         5        0         NA          \n",
       "37 meta/samples/singlecellprobability 0         5        0         NA          \n",
       "38 meta/samples/source_name_ch1       0         5        0         NA          \n",
       "39 meta/samples/status                0         5        0         NA          \n",
       "40 meta/samples/submission_date       0         5        0         NA          \n",
       "41 meta/samples/taxid_ch1             0         5        0         NA          \n",
       "42 meta/samples/title                 0         5        0         NA          \n",
       "43 meta/samples/type                  0         5        0         NA          \n",
       "   group.mounted dataset.rank dataset.dims   dataset.maxdims dataset.type_class\n",
       "1   0            NA           NA             NA              NA                \n",
       "2  NA             2           888821 x 67186 Inf x 67186      0                \n",
       "3   0            NA           NA             NA              NA                \n",
       "4   0            NA           NA             NA              NA                \n",
       "5  NA             1           67186          67186            3                \n",
       "6  NA             1           67186          67186            3                \n",
       "7  NA             1           67186          67186            3                \n",
       "8   0            NA           NA             NA              NA                \n",
       "9  NA             0           0              0                3                \n",
       "10 NA             0           0              0                3                \n",
       "11 NA             0           0              0                3                \n",
       "12 NA             0           0              0                3                \n",
       "13 NA             0           0              0                3                \n",
       "14  0            NA           NA             NA              NA                \n",
       "15 NA             1           888821         888821           3                \n",
       "16 NA             1           888821         888821           3                \n",
       "17 NA             1           888821         888821           3                \n",
       "18 NA             1           888821         888821           3                \n",
       "19 NA             1           888821         888821           3                \n",
       "20 NA             1           888821         888821           3                \n",
       "21 NA             1           888821         888821           3                \n",
       "22 NA             1           888821         888821           3                \n",
       "23 NA             1           888821         888821           3                \n",
       "24 NA             1           888821         888821           3                \n",
       "25 NA             1           888821         888821           3                \n",
       "26 NA             1           888821         888821           3                \n",
       "27 NA             1           888821         888821           3                \n",
       "28 NA             1           888821         888821           3                \n",
       "29 NA             1           888821         888821           3                \n",
       "30 NA             1           888821         888821           3                \n",
       "31 NA             1           888821         888821           3                \n",
       "32 NA             1           888821         888821           3                \n",
       "33 NA             1           888821         888821           3                \n",
       "34 NA             1           888821         888821           3                \n",
       "35 NA             1           888821         Inf              3                \n",
       "36 NA             1           888821         888821           3                \n",
       "37 NA             1           888821         888821           1                \n",
       "38 NA             1           888821         888821           3                \n",
       "39 NA             1           888821         888821           3                \n",
       "40 NA             1           888821         888821           3                \n",
       "41 NA             1           888821         888821           3                \n",
       "42 NA             1           888821         888821           3                \n",
       "43 NA             1           888821         888821           3                \n",
       "   dataset.space_class committed_type\n",
       "1  NA                  NA            \n",
       "2   1                  NA            \n",
       "3  NA                  NA            \n",
       "4  NA                  NA            \n",
       "5   1                  NA            \n",
       "6   1                  NA            \n",
       "7   1                  NA            \n",
       "8  NA                  NA            \n",
       "9   0                  NA            \n",
       "10  0                  NA            \n",
       "11  0                  NA            \n",
       "12  0                  NA            \n",
       "13  0                  NA            \n",
       "14 NA                  NA            \n",
       "15  1                  NA            \n",
       "16  1                  NA            \n",
       "17  1                  NA            \n",
       "18  1                  NA            \n",
       "19  1                  NA            \n",
       "20  1                  NA            \n",
       "21  1                  NA            \n",
       "22  1                  NA            \n",
       "23  1                  NA            \n",
       "24  1                  NA            \n",
       "25  1                  NA            \n",
       "26  1                  NA            \n",
       "27  1                  NA            \n",
       "28  1                  NA            \n",
       "29  1                  NA            \n",
       "30  1                  NA            \n",
       "31  1                  NA            \n",
       "32  1                  NA            \n",
       "33  1                  NA            \n",
       "34  1                  NA            \n",
       "35  1                  NA            \n",
       "36  1                  NA            \n",
       "37  1                  NA            \n",
       "38  1                  NA            \n",
       "39  1                  NA            \n",
       "40  1                  NA            \n",
       "41  1                  NA            \n",
       "42  1                  NA            \n",
       "43  1                  NA            "
      ]
     },
     "metadata": {},
     "output_type": "display_data"
    }
   ],
   "source": [
    "h5$ls(recursive = TRUE)"
   ]
  },
  {
   "cell_type": "code",
   "execution_count": 10,
   "id": "1571fde6",
   "metadata": {
    "vscode": {
     "languageId": "r"
    }
   },
   "outputs": [
    {
     "data": {
      "text/html": [
       "<style>\n",
       ".list-inline {list-style: none; margin:0; padding: 0}\n",
       ".list-inline>li {display: inline-block}\n",
       ".list-inline>li:not(:last-child)::after {content: \"\\00b7\"; padding: 0 .5ex}\n",
       "</style>\n",
       "<ol class=list-inline><li>'GSM1000981'</li><li>'GSM1000982'</li><li>'GSM1000983'</li><li>'GSM1000984'</li><li>'GSM1000985'</li><li>'GSM1000986'</li></ol>\n"
      ],
      "text/latex": [
       "\\begin{enumerate*}\n",
       "\\item 'GSM1000981'\n",
       "\\item 'GSM1000982'\n",
       "\\item 'GSM1000983'\n",
       "\\item 'GSM1000984'\n",
       "\\item 'GSM1000985'\n",
       "\\item 'GSM1000986'\n",
       "\\end{enumerate*}\n"
      ],
      "text/markdown": [
       "1. 'GSM1000981'\n",
       "2. 'GSM1000982'\n",
       "3. 'GSM1000983'\n",
       "4. 'GSM1000984'\n",
       "5. 'GSM1000985'\n",
       "6. 'GSM1000986'\n",
       "\n",
       "\n"
      ],
      "text/plain": [
       "[1] \"GSM1000981\" \"GSM1000982\" \"GSM1000983\" \"GSM1000984\" \"GSM1000985\"\n",
       "[6] \"GSM1000986\""
      ]
     },
     "metadata": {},
     "output_type": "display_data"
    },
    {
     "data": {
      "text/html": [
       "<style>\n",
       ".list-inline {list-style: none; margin:0; padding: 0}\n",
       ".list-inline>li {display: inline-block}\n",
       ".list-inline>li:not(:last-child)::after {content: \"\\00b7\"; padding: 0 .5ex}\n",
       "</style>\n",
       "<ol class=list-inline><li>'TSPAN6'</li><li>'TNMD'</li><li>'DPM1'</li><li>'SCYL3'</li><li>'C1orf112'</li><li>'FGR'</li></ol>\n"
      ],
      "text/latex": [
       "\\begin{enumerate*}\n",
       "\\item 'TSPAN6'\n",
       "\\item 'TNMD'\n",
       "\\item 'DPM1'\n",
       "\\item 'SCYL3'\n",
       "\\item 'C1orf112'\n",
       "\\item 'FGR'\n",
       "\\end{enumerate*}\n"
      ],
      "text/markdown": [
       "1. 'TSPAN6'\n",
       "2. 'TNMD'\n",
       "3. 'DPM1'\n",
       "4. 'SCYL3'\n",
       "5. 'C1orf112'\n",
       "6. 'FGR'\n",
       "\n",
       "\n"
      ],
      "text/plain": [
       "[1] \"TSPAN6\"   \"TNMD\"     \"DPM1\"     \"SCYL3\"    \"C1orf112\" \"FGR\"     "
      ]
     },
     "metadata": {},
     "output_type": "display_data"
    },
    {
     "data": {
      "text/html": [
       "<table class=\"dataframe\">\n",
       "<caption>A matrix: 5 × 5 of type int</caption>\n",
       "<tbody>\n",
       "\t<tr><td>105</td><td>0</td><td>3028</td><td>705</td><td>2426</td></tr>\n",
       "\t<tr><td> 77</td><td>0</td><td>2173</td><td>600</td><td>1804</td></tr>\n",
       "\t<tr><td> 90</td><td>0</td><td>2915</td><td>782</td><td>2211</td></tr>\n",
       "\t<tr><td>203</td><td>0</td><td>3525</td><td>931</td><td>3099</td></tr>\n",
       "\t<tr><td>174</td><td>1</td><td>3082</td><td>854</td><td>2944</td></tr>\n",
       "</tbody>\n",
       "</table>\n"
      ],
      "text/latex": [
       "A matrix: 5 × 5 of type int\n",
       "\\begin{tabular}{lllll}\n",
       "\t 105 & 0 & 3028 & 705 & 2426\\\\\n",
       "\t  77 & 0 & 2173 & 600 & 1804\\\\\n",
       "\t  90 & 0 & 2915 & 782 & 2211\\\\\n",
       "\t 203 & 0 & 3525 & 931 & 3099\\\\\n",
       "\t 174 & 1 & 3082 & 854 & 2944\\\\\n",
       "\\end{tabular}\n"
      ],
      "text/markdown": [
       "\n",
       "A matrix: 5 × 5 of type int\n",
       "\n",
       "| 105 | 0 | 3028 | 705 | 2426 |\n",
       "|  77 | 0 | 2173 | 600 | 1804 |\n",
       "|  90 | 0 | 2915 | 782 | 2211 |\n",
       "| 203 | 0 | 3525 | 931 | 3099 |\n",
       "| 174 | 1 | 3082 | 854 | 2944 |\n",
       "\n"
      ],
      "text/plain": [
       "     [,1] [,2] [,3] [,4] [,5]\n",
       "[1,] 105  0    3028 705  2426\n",
       "[2,]  77  0    2173 600  1804\n",
       "[3,]  90  0    2915 782  2211\n",
       "[4,] 203  0    3525 931  3099\n",
       "[5,] 174  1    3082 854  2944"
      ]
     },
     "metadata": {},
     "output_type": "display_data"
    }
   ],
   "source": [
    "geo_df <- h5[[\"/meta/samples/geo_accession\"]]$read()\n",
    "head(geo_df)\n",
    "\n",
    "genes_df <- h5[[\"/meta/genes/symbol\"]]$read()\n",
    "head(genes_df)\n",
    "\n",
    "expression_subset <- h5[[\"/data/expression\"]][1:100, 1:100]\n",
    "expression_subset[1:5, 1:5]"
   ]
  },
  {
   "cell_type": "code",
   "execution_count": 11,
   "id": "d2014f79",
   "metadata": {
    "vscode": {
     "languageId": "r"
    }
   },
   "outputs": [
    {
     "data": {
      "text/html": [
       "<style>\n",
       ".list-inline {list-style: none; margin:0; padding: 0}\n",
       ".list-inline>li {display: inline-block}\n",
       ".list-inline>li:not(:last-child)::after {content: \"\\00b7\"; padding: 0 .5ex}\n",
       "</style>\n",
       "<ol class=list-inline><li>'GSM1000981'</li><li>'GSM1000982'</li><li>'GSM1000983'</li><li>'GSM1000984'</li><li>'GSM1000985'</li><li>'GSM1000986'</li></ol>\n"
      ],
      "text/latex": [
       "\\begin{enumerate*}\n",
       "\\item 'GSM1000981'\n",
       "\\item 'GSM1000982'\n",
       "\\item 'GSM1000983'\n",
       "\\item 'GSM1000984'\n",
       "\\item 'GSM1000985'\n",
       "\\item 'GSM1000986'\n",
       "\\end{enumerate*}\n"
      ],
      "text/markdown": [
       "1. 'GSM1000981'\n",
       "2. 'GSM1000982'\n",
       "3. 'GSM1000983'\n",
       "4. 'GSM1000984'\n",
       "5. 'GSM1000985'\n",
       "6. 'GSM1000986'\n",
       "\n",
       "\n"
      ],
      "text/plain": [
       "[1] \"GSM1000981\" \"GSM1000982\" \"GSM1000983\" \"GSM1000984\" \"GSM1000985\"\n",
       "[6] \"GSM1000986\""
      ]
     },
     "metadata": {},
     "output_type": "display_data"
    }
   ],
   "source": [
    "head(geo_df)"
   ]
  },
  {
   "cell_type": "code",
   "execution_count": 12,
   "id": "4fbcd9d2",
   "metadata": {
    "vscode": {
     "languageId": "r"
    }
   },
   "outputs": [],
   "source": [
    "library(here)\n",
    "library(hdf5r)\n",
    "orig_h5 <- H5File$new(here(\"data/archs4/human_gene_v2.5.h5\"), mode=\"r\")\n",
    "all_geo <- orig_h5[[\"/meta/samples/geo_accession\"]]$read()\n",
    "selected_geo <- c(\n",
    "  'GSM1752948','GSM1752949','GSM1752950','GSM1752951','GSM1752953','GSM1752954',\n",
    "  'GSM1752955','GSM1752956','GSM1752957','GSM1752958','GSM1752960','GSM1752961',\n",
    "  'GSM1752962','GSM1752963','GSM1752965','GSM1752966','GSM1752967','GSM1752968',\n",
    "  'GSM1752969','GSM1752970','GSM1752972','GSM1752973','GSM1752974','GSM1752975',\n",
    "  'GSM1752976','GSM1752977','GSM1752978','GSM1752981','GSM1752982','GSM1752983',\n",
    "  'GSM1752984','GSM1752985','GSM1752987','GSM1752988','GSM1752989','GSM1752990',\n",
    "  'GSM1752991','GSM1752992','GSM1752994','GSM1752995','GSM1752996','GSM1752997',\n",
    "  'GSM1752998','GSM1752999','GSM1753001','GSM1753002','GSM1753003','GSM1753004',\n",
    "  'GSM1753005','GSM1753007','GSM1753008','GSM1753009','GSM1753010','GSM1753011',\n",
    "  'GSM1753012','GSM1753013','GSM1753014','GSM1753016','GSM1753017','GSM1753019',\n",
    "  'GSM1753020','GSM1753021','GSM1753022','GSM1753023','GSM1753024','GSM1753025',\n",
    "  'GSM1753026','GSM1753027','GSM1753029','GSM1753030','GSM1753031'\n",
    ")\n",
    "\n",
    "sel_idx <- match(selected_geo, all_geo)\n",
    "gene_symbols <- orig_h5[[\"/meta/genes/symbol\"]]$read()\n"
   ]
  },
  {
   "cell_type": "code",
   "execution_count": 13,
   "id": "0bc2ebf5",
   "metadata": {
    "vscode": {
     "languageId": "r"
    }
   },
   "outputs": [
    {
     "data": {
      "text/html": [
       "<style>\n",
       ".list-inline {list-style: none; margin:0; padding: 0}\n",
       ".list-inline>li {display: inline-block}\n",
       ".list-inline>li:not(:last-child)::after {content: \"\\00b7\"; padding: 0 .5ex}\n",
       "</style>\n",
       "<ol class=list-inline><li>'TSPAN6'</li><li>'TNMD'</li><li>'DPM1'</li><li>'SCYL3'</li><li>'C1orf112'</li><li>'FGR'</li></ol>\n"
      ],
      "text/latex": [
       "\\begin{enumerate*}\n",
       "\\item 'TSPAN6'\n",
       "\\item 'TNMD'\n",
       "\\item 'DPM1'\n",
       "\\item 'SCYL3'\n",
       "\\item 'C1orf112'\n",
       "\\item 'FGR'\n",
       "\\end{enumerate*}\n"
      ],
      "text/markdown": [
       "1. 'TSPAN6'\n",
       "2. 'TNMD'\n",
       "3. 'DPM1'\n",
       "4. 'SCYL3'\n",
       "5. 'C1orf112'\n",
       "6. 'FGR'\n",
       "\n",
       "\n"
      ],
      "text/plain": [
       "[1] \"TSPAN6\"   \"TNMD\"     \"DPM1\"     \"SCYL3\"    \"C1orf112\" \"FGR\"     "
      ]
     },
     "metadata": {},
     "output_type": "display_data"
    }
   ],
   "source": [
    "head(gene_symbols)"
   ]
  },
  {
   "cell_type": "code",
   "execution_count": 14,
   "id": "c20b21c3",
   "metadata": {
    "vscode": {
     "languageId": "r"
    }
   },
   "outputs": [],
   "source": [
    "expr_dset <- orig_h5[[\"/data/expression\"]]\n",
    "expr_sub <- expr_dset[sel_idx, , drop=FALSE]"
   ]
  },
  {
   "cell_type": "code",
   "execution_count": 15,
   "id": "ea949754",
   "metadata": {
    "vscode": {
     "languageId": "r"
    }
   },
   "outputs": [
    {
     "data": {
      "text/html": [
       "<table class=\"dataframe\">\n",
       "<caption>A matrix: 6 × 67186 of type int</caption>\n",
       "<tbody>\n",
       "\t<tr><td>16</td><td>0</td><td>14</td><td> 5</td><td>0</td><td>21</td><td>24</td><td> 8</td><td>12</td><td> 4</td><td>⋯</td><td> 0</td><td>0</td><td>2</td><td>0</td><td>0</td><td>0</td><td>0</td><td>0</td><td>0</td><td>0</td></tr>\n",
       "\t<tr><td> 9</td><td>2</td><td>42</td><td>12</td><td>0</td><td> 1</td><td>14</td><td>12</td><td>37</td><td>47</td><td>⋯</td><td> 0</td><td>6</td><td>3</td><td>0</td><td>0</td><td>0</td><td>0</td><td>0</td><td>0</td><td>0</td></tr>\n",
       "\t<tr><td>19</td><td>0</td><td>39</td><td>34</td><td>0</td><td>11</td><td>30</td><td>20</td><td>36</td><td>18</td><td>⋯</td><td> 0</td><td>4</td><td>1</td><td>0</td><td>0</td><td>0</td><td>0</td><td>0</td><td>0</td><td>0</td></tr>\n",
       "\t<tr><td>21</td><td>0</td><td>29</td><td>28</td><td>0</td><td>10</td><td>30</td><td>71</td><td>94</td><td>26</td><td>⋯</td><td>11</td><td>0</td><td>1</td><td>0</td><td>0</td><td>0</td><td>0</td><td>0</td><td>0</td><td>0</td></tr>\n",
       "\t<tr><td> 7</td><td>0</td><td>13</td><td>30</td><td>0</td><td> 2</td><td>32</td><td>12</td><td>21</td><td> 8</td><td>⋯</td><td> 0</td><td>0</td><td>0</td><td>0</td><td>0</td><td>0</td><td>0</td><td>0</td><td>0</td><td>0</td></tr>\n",
       "\t<tr><td>24</td><td>0</td><td>24</td><td> 3</td><td>0</td><td> 9</td><td>29</td><td>11</td><td>18</td><td>17</td><td>⋯</td><td> 0</td><td>0</td><td>0</td><td>0</td><td>0</td><td>0</td><td>0</td><td>0</td><td>0</td><td>0</td></tr>\n",
       "</tbody>\n",
       "</table>\n"
      ],
      "text/latex": [
       "A matrix: 6 × 67186 of type int\n",
       "\\begin{tabular}{lllllllllllllllllllll}\n",
       "\t 16 & 0 & 14 &  5 & 0 & 21 & 24 &  8 & 12 &  4 & ⋯ &  0 & 0 & 2 & 0 & 0 & 0 & 0 & 0 & 0 & 0\\\\\n",
       "\t  9 & 2 & 42 & 12 & 0 &  1 & 14 & 12 & 37 & 47 & ⋯ &  0 & 6 & 3 & 0 & 0 & 0 & 0 & 0 & 0 & 0\\\\\n",
       "\t 19 & 0 & 39 & 34 & 0 & 11 & 30 & 20 & 36 & 18 & ⋯ &  0 & 4 & 1 & 0 & 0 & 0 & 0 & 0 & 0 & 0\\\\\n",
       "\t 21 & 0 & 29 & 28 & 0 & 10 & 30 & 71 & 94 & 26 & ⋯ & 11 & 0 & 1 & 0 & 0 & 0 & 0 & 0 & 0 & 0\\\\\n",
       "\t  7 & 0 & 13 & 30 & 0 &  2 & 32 & 12 & 21 &  8 & ⋯ &  0 & 0 & 0 & 0 & 0 & 0 & 0 & 0 & 0 & 0\\\\\n",
       "\t 24 & 0 & 24 &  3 & 0 &  9 & 29 & 11 & 18 & 17 & ⋯ &  0 & 0 & 0 & 0 & 0 & 0 & 0 & 0 & 0 & 0\\\\\n",
       "\\end{tabular}\n"
      ],
      "text/markdown": [
       "\n",
       "A matrix: 6 × 67186 of type int\n",
       "\n",
       "| 16 | 0 | 14 |  5 | 0 | 21 | 24 |  8 | 12 |  4 | ⋯ |  0 | 0 | 2 | 0 | 0 | 0 | 0 | 0 | 0 | 0 |\n",
       "|  9 | 2 | 42 | 12 | 0 |  1 | 14 | 12 | 37 | 47 | ⋯ |  0 | 6 | 3 | 0 | 0 | 0 | 0 | 0 | 0 | 0 |\n",
       "| 19 | 0 | 39 | 34 | 0 | 11 | 30 | 20 | 36 | 18 | ⋯ |  0 | 4 | 1 | 0 | 0 | 0 | 0 | 0 | 0 | 0 |\n",
       "| 21 | 0 | 29 | 28 | 0 | 10 | 30 | 71 | 94 | 26 | ⋯ | 11 | 0 | 1 | 0 | 0 | 0 | 0 | 0 | 0 | 0 |\n",
       "|  7 | 0 | 13 | 30 | 0 |  2 | 32 | 12 | 21 |  8 | ⋯ |  0 | 0 | 0 | 0 | 0 | 0 | 0 | 0 | 0 | 0 |\n",
       "| 24 | 0 | 24 |  3 | 0 |  9 | 29 | 11 | 18 | 17 | ⋯ |  0 | 0 | 0 | 0 | 0 | 0 | 0 | 0 | 0 | 0 |\n",
       "\n"
      ],
      "text/plain": [
       "     [,1] [,2] [,3] [,4] [,5] [,6] [,7] [,8] [,9] [,10] [,11] [,12] [,13] [,14]\n",
       "[1,] 16   0    14    5   0    21   24    8   12    4    ⋯      0    0     2    \n",
       "[2,]  9   2    42   12   0     1   14   12   37   47    ⋯      0    6     3    \n",
       "[3,] 19   0    39   34   0    11   30   20   36   18    ⋯      0    4     1    \n",
       "[4,] 21   0    29   28   0    10   30   71   94   26    ⋯     11    0     1    \n",
       "[5,]  7   0    13   30   0     2   32   12   21    8    ⋯      0    0     0    \n",
       "[6,] 24   0    24    3   0     9   29   11   18   17    ⋯      0    0     0    \n",
       "     [,15] [,16] [,17] [,18] [,19] [,20] [,21]\n",
       "[1,] 0     0     0     0     0     0     0    \n",
       "[2,] 0     0     0     0     0     0     0    \n",
       "[3,] 0     0     0     0     0     0     0    \n",
       "[4,] 0     0     0     0     0     0     0    \n",
       "[5,] 0     0     0     0     0     0     0    \n",
       "[6,] 0     0     0     0     0     0     0    "
      ]
     },
     "metadata": {},
     "output_type": "display_data"
    }
   ],
   "source": [
    "head(expr_sub)"
   ]
  },
  {
   "cell_type": "code",
   "execution_count": 16,
   "id": "992f3631",
   "metadata": {
    "vscode": {
     "languageId": "r"
    }
   },
   "outputs": [
    {
     "data": {
      "text/html": [
       "TRUE"
      ],
      "text/latex": [
       "TRUE"
      ],
      "text/markdown": [
       "TRUE"
      ],
      "text/plain": [
       "[1] TRUE"
      ]
     },
     "metadata": {},
     "output_type": "display_data"
    }
   ],
   "source": [
    "out_path <- here(\"data/archs4/human_gene_v2.5_alz.h5\")\n",
    "dir.create(dirname(out_path), recursive = TRUE, showWarnings = FALSE)\n",
    "if (file.exists(out_path)) file.remove(out_path)\n",
    "\n",
    "alz_h5 <- H5File$new(out_path, mode = \"w\")"
   ]
  },
  {
   "cell_type": "code",
   "execution_count": 17,
   "metadata": {
    "vscode": {
     "languageId": "r"
    }
   },
   "outputs": [
    {
     "data": {
      "text/plain": [
       "Class: H5Group\n",
       "Filename: /home/msubirana/Documents/pivlab/plier2-analyses/data/archs4/human_gene_v2.5_alz.h5\n",
       "Group: /meta/samples"
      ]
     },
     "metadata": {},
     "output_type": "display_data"
    },
    {
     "data": {
      "text/plain": [
       "Class: H5Group\n",
       "Filename: /home/msubirana/Documents/pivlab/plier2-analyses/data/archs4/human_gene_v2.5_alz.h5\n",
       "Group: /meta/genes"
      ]
     },
     "metadata": {},
     "output_type": "display_data"
    },
    {
     "data": {
      "text/plain": [
       "Class: H5Group\n",
       "Filename: /home/msubirana/Documents/pivlab/plier2-analyses/data/archs4/human_gene_v2.5_alz.h5\n",
       "Group: /data"
      ]
     },
     "metadata": {},
     "output_type": "display_data"
    }
   ],
   "source": [
    "meta_grp <- alz_h5$create_group(\"meta\")\n",
    "meta_grp$create_group(\"samples\")\n",
    "meta_grp$create_group(\"genes\")\n",
    "alz_h5$create_group(\"data\")"
   ]
  },
  {
   "cell_type": "code",
   "execution_count": 18,
   "id": "f1bbaf32",
   "metadata": {
    "vscode": {
     "languageId": "r"
    }
   },
   "outputs": [
    {
     "data": {
      "text/html": [
       "<style>\n",
       ".list-inline {list-style: none; margin:0; padding: 0}\n",
       ".list-inline>li {display: inline-block}\n",
       ".list-inline>li:not(:last-child)::after {content: \"\\00b7\"; padding: 0 .5ex}\n",
       "</style>\n",
       "<ol class=list-inline><li>'GSM1752948'</li><li>'GSM1752949'</li><li>'GSM1752950'</li><li>'GSM1752951'</li><li>'GSM1752953'</li><li>'GSM1752954'</li><li>'GSM1752955'</li><li>'GSM1752956'</li><li>'GSM1752957'</li><li>'GSM1752958'</li><li>'GSM1752960'</li><li>'GSM1752961'</li><li>'GSM1752962'</li><li>'GSM1752963'</li><li>'GSM1752965'</li><li>'GSM1752966'</li><li>'GSM1752967'</li><li>'GSM1752968'</li><li>'GSM1752969'</li><li>'GSM1752970'</li><li>'GSM1752972'</li><li>'GSM1752973'</li><li>'GSM1752974'</li><li>'GSM1752975'</li><li>'GSM1752976'</li><li>'GSM1752977'</li><li>'GSM1752978'</li><li>'GSM1752981'</li><li>'GSM1752982'</li><li>'GSM1752983'</li><li>'GSM1752984'</li><li>'GSM1752985'</li><li>'GSM1752987'</li><li>'GSM1752988'</li><li>'GSM1752989'</li><li>'GSM1752990'</li><li>'GSM1752991'</li><li>'GSM1752992'</li><li>'GSM1752994'</li><li>'GSM1752995'</li><li>'GSM1752996'</li><li>'GSM1752997'</li><li>'GSM1752998'</li><li>'GSM1752999'</li><li>'GSM1753001'</li><li>'GSM1753002'</li><li>'GSM1753003'</li><li>'GSM1753004'</li><li>'GSM1753005'</li><li>'GSM1753007'</li><li>'GSM1753008'</li><li>'GSM1753009'</li><li>'GSM1753010'</li><li>'GSM1753011'</li><li>'GSM1753012'</li><li>'GSM1753013'</li><li>'GSM1753014'</li><li>'GSM1753016'</li><li>'GSM1753017'</li><li>'GSM1753019'</li><li>'GSM1753020'</li><li>'GSM1753021'</li><li>'GSM1753022'</li><li>'GSM1753023'</li><li>'GSM1753024'</li><li>'GSM1753025'</li><li>'GSM1753026'</li><li>'GSM1753027'</li><li>'GSM1753029'</li><li>'GSM1753030'</li><li>'GSM1753031'</li></ol>\n"
      ],
      "text/latex": [
       "\\begin{enumerate*}\n",
       "\\item 'GSM1752948'\n",
       "\\item 'GSM1752949'\n",
       "\\item 'GSM1752950'\n",
       "\\item 'GSM1752951'\n",
       "\\item 'GSM1752953'\n",
       "\\item 'GSM1752954'\n",
       "\\item 'GSM1752955'\n",
       "\\item 'GSM1752956'\n",
       "\\item 'GSM1752957'\n",
       "\\item 'GSM1752958'\n",
       "\\item 'GSM1752960'\n",
       "\\item 'GSM1752961'\n",
       "\\item 'GSM1752962'\n",
       "\\item 'GSM1752963'\n",
       "\\item 'GSM1752965'\n",
       "\\item 'GSM1752966'\n",
       "\\item 'GSM1752967'\n",
       "\\item 'GSM1752968'\n",
       "\\item 'GSM1752969'\n",
       "\\item 'GSM1752970'\n",
       "\\item 'GSM1752972'\n",
       "\\item 'GSM1752973'\n",
       "\\item 'GSM1752974'\n",
       "\\item 'GSM1752975'\n",
       "\\item 'GSM1752976'\n",
       "\\item 'GSM1752977'\n",
       "\\item 'GSM1752978'\n",
       "\\item 'GSM1752981'\n",
       "\\item 'GSM1752982'\n",
       "\\item 'GSM1752983'\n",
       "\\item 'GSM1752984'\n",
       "\\item 'GSM1752985'\n",
       "\\item 'GSM1752987'\n",
       "\\item 'GSM1752988'\n",
       "\\item 'GSM1752989'\n",
       "\\item 'GSM1752990'\n",
       "\\item 'GSM1752991'\n",
       "\\item 'GSM1752992'\n",
       "\\item 'GSM1752994'\n",
       "\\item 'GSM1752995'\n",
       "\\item 'GSM1752996'\n",
       "\\item 'GSM1752997'\n",
       "\\item 'GSM1752998'\n",
       "\\item 'GSM1752999'\n",
       "\\item 'GSM1753001'\n",
       "\\item 'GSM1753002'\n",
       "\\item 'GSM1753003'\n",
       "\\item 'GSM1753004'\n",
       "\\item 'GSM1753005'\n",
       "\\item 'GSM1753007'\n",
       "\\item 'GSM1753008'\n",
       "\\item 'GSM1753009'\n",
       "\\item 'GSM1753010'\n",
       "\\item 'GSM1753011'\n",
       "\\item 'GSM1753012'\n",
       "\\item 'GSM1753013'\n",
       "\\item 'GSM1753014'\n",
       "\\item 'GSM1753016'\n",
       "\\item 'GSM1753017'\n",
       "\\item 'GSM1753019'\n",
       "\\item 'GSM1753020'\n",
       "\\item 'GSM1753021'\n",
       "\\item 'GSM1753022'\n",
       "\\item 'GSM1753023'\n",
       "\\item 'GSM1753024'\n",
       "\\item 'GSM1753025'\n",
       "\\item 'GSM1753026'\n",
       "\\item 'GSM1753027'\n",
       "\\item 'GSM1753029'\n",
       "\\item 'GSM1753030'\n",
       "\\item 'GSM1753031'\n",
       "\\end{enumerate*}\n"
      ],
      "text/markdown": [
       "1. 'GSM1752948'\n",
       "2. 'GSM1752949'\n",
       "3. 'GSM1752950'\n",
       "4. 'GSM1752951'\n",
       "5. 'GSM1752953'\n",
       "6. 'GSM1752954'\n",
       "7. 'GSM1752955'\n",
       "8. 'GSM1752956'\n",
       "9. 'GSM1752957'\n",
       "10. 'GSM1752958'\n",
       "11. 'GSM1752960'\n",
       "12. 'GSM1752961'\n",
       "13. 'GSM1752962'\n",
       "14. 'GSM1752963'\n",
       "15. 'GSM1752965'\n",
       "16. 'GSM1752966'\n",
       "17. 'GSM1752967'\n",
       "18. 'GSM1752968'\n",
       "19. 'GSM1752969'\n",
       "20. 'GSM1752970'\n",
       "21. 'GSM1752972'\n",
       "22. 'GSM1752973'\n",
       "23. 'GSM1752974'\n",
       "24. 'GSM1752975'\n",
       "25. 'GSM1752976'\n",
       "26. 'GSM1752977'\n",
       "27. 'GSM1752978'\n",
       "28. 'GSM1752981'\n",
       "29. 'GSM1752982'\n",
       "30. 'GSM1752983'\n",
       "31. 'GSM1752984'\n",
       "32. 'GSM1752985'\n",
       "33. 'GSM1752987'\n",
       "34. 'GSM1752988'\n",
       "35. 'GSM1752989'\n",
       "36. 'GSM1752990'\n",
       "37. 'GSM1752991'\n",
       "38. 'GSM1752992'\n",
       "39. 'GSM1752994'\n",
       "40. 'GSM1752995'\n",
       "41. 'GSM1752996'\n",
       "42. 'GSM1752997'\n",
       "43. 'GSM1752998'\n",
       "44. 'GSM1752999'\n",
       "45. 'GSM1753001'\n",
       "46. 'GSM1753002'\n",
       "47. 'GSM1753003'\n",
       "48. 'GSM1753004'\n",
       "49. 'GSM1753005'\n",
       "50. 'GSM1753007'\n",
       "51. 'GSM1753008'\n",
       "52. 'GSM1753009'\n",
       "53. 'GSM1753010'\n",
       "54. 'GSM1753011'\n",
       "55. 'GSM1753012'\n",
       "56. 'GSM1753013'\n",
       "57. 'GSM1753014'\n",
       "58. 'GSM1753016'\n",
       "59. 'GSM1753017'\n",
       "60. 'GSM1753019'\n",
       "61. 'GSM1753020'\n",
       "62. 'GSM1753021'\n",
       "63. 'GSM1753022'\n",
       "64. 'GSM1753023'\n",
       "65. 'GSM1753024'\n",
       "66. 'GSM1753025'\n",
       "67. 'GSM1753026'\n",
       "68. 'GSM1753027'\n",
       "69. 'GSM1753029'\n",
       "70. 'GSM1753030'\n",
       "71. 'GSM1753031'\n",
       "\n",
       "\n"
      ],
      "text/plain": [
       " [1] \"GSM1752948\" \"GSM1752949\" \"GSM1752950\" \"GSM1752951\" \"GSM1752953\"\n",
       " [6] \"GSM1752954\" \"GSM1752955\" \"GSM1752956\" \"GSM1752957\" \"GSM1752958\"\n",
       "[11] \"GSM1752960\" \"GSM1752961\" \"GSM1752962\" \"GSM1752963\" \"GSM1752965\"\n",
       "[16] \"GSM1752966\" \"GSM1752967\" \"GSM1752968\" \"GSM1752969\" \"GSM1752970\"\n",
       "[21] \"GSM1752972\" \"GSM1752973\" \"GSM1752974\" \"GSM1752975\" \"GSM1752976\"\n",
       "[26] \"GSM1752977\" \"GSM1752978\" \"GSM1752981\" \"GSM1752982\" \"GSM1752983\"\n",
       "[31] \"GSM1752984\" \"GSM1752985\" \"GSM1752987\" \"GSM1752988\" \"GSM1752989\"\n",
       "[36] \"GSM1752990\" \"GSM1752991\" \"GSM1752992\" \"GSM1752994\" \"GSM1752995\"\n",
       "[41] \"GSM1752996\" \"GSM1752997\" \"GSM1752998\" \"GSM1752999\" \"GSM1753001\"\n",
       "[46] \"GSM1753002\" \"GSM1753003\" \"GSM1753004\" \"GSM1753005\" \"GSM1753007\"\n",
       "[51] \"GSM1753008\" \"GSM1753009\" \"GSM1753010\" \"GSM1753011\" \"GSM1753012\"\n",
       "[56] \"GSM1753013\" \"GSM1753014\" \"GSM1753016\" \"GSM1753017\" \"GSM1753019\"\n",
       "[61] \"GSM1753020\" \"GSM1753021\" \"GSM1753022\" \"GSM1753023\" \"GSM1753024\"\n",
       "[66] \"GSM1753025\" \"GSM1753026\" \"GSM1753027\" \"GSM1753029\" \"GSM1753030\"\n",
       "[71] \"GSM1753031\""
      ]
     },
     "metadata": {},
     "output_type": "display_data"
    }
   ],
   "source": [
    "selected_geo"
   ]
  },
  {
   "cell_type": "code",
   "execution_count": 28,
   "id": "03e2cec9",
   "metadata": {
    "vscode": {
     "languageId": "r"
    }
   },
   "outputs": [
    {
     "data": {
      "text/html": [
       "TRUE"
      ],
      "text/latex": [
       "TRUE"
      ],
      "text/markdown": [
       "TRUE"
      ],
      "text/plain": [
       "[1] TRUE"
      ]
     },
     "metadata": {},
     "output_type": "display_data"
    }
   ],
   "source": [
    "library(here)\n",
    "library(hdf5r)\n",
    "\n",
    "orig_h5 <- H5File$new(here(\"data/archs4/human_gene_v2.5.h5\"), mode = \"r\")\n",
    "all_geo <- orig_h5[[\"/meta/samples/geo_accession\"]]$read()\n",
    "gene_syms <- orig_h5[[\"/meta/genes/symbol\"]]$read()\n",
    "\n",
    "selected_geo <- c(\n",
    "  'GSM1752948','GSM1752949','GSM1752950','GSM1752951','GSM1752953','GSM1752954',\n",
    "  'GSM1752955','GSM1752956','GSM1752977','GSM1752978','GSM1752981','GSM1752982',\n",
    "  'GSM1752983','GSM1752984','GSM1752985','GSM1752987','GSM1752988','GSM1752989',\n",
    "  'GSM1752990','GSM1752991','GSM1752992','GSM1752994','GSM1752995','GSM1752996',\n",
    "  'GSM1752997','GSM1752998','GSM1752999','GSM1753001','GSM1753002','GSM1753003',\n",
    "  'GSM1753004','GSM1753005','GSM1753007','GSM1753008','GSM1753009','GSM1753010',\n",
    "  'GSM1753011','GSM1753012','GSM1753013','GSM1753014','GSM1753016','GSM1753017',\n",
    "  'GSM1753019','GSM1753020','GSM1753021','GSM1753022','GSM1753023','GSM1753024',\n",
    "  'GSM1753025','GSM1753026','GSM1753027','GSM1753029','GSM1753030','GSM1753031'\n",
    ")\n",
    "sel_idx <- match(selected_geo, all_geo)\n",
    "expr_sub <- orig_h5[[\"/data/expression\"]][sel_idx, , drop = FALSE]\n",
    "orig_h5$close_all()\n",
    "\n",
    "out_path <- here(\"data/archs4/human_gene_v2.5_alz.h5\")\n",
    "dir.create(dirname(out_path), recursive = TRUE, showWarnings = FALSE)\n",
    "if (file.exists(out_path)) file.remove(out_path)\n",
    "\n",
    "new_h5 <- H5File$new(out_path, mode = \"w\")\n",
    "meta_grp    <- new_h5$create_group(\"meta\")\n",
    "samples_grp <- meta_grp$create_group(\"samples\")\n",
    "genes_grp   <- meta_grp$create_group(\"genes\")\n",
    "data_grp    <- new_h5$create_group(\"data\")\n",
    "\n",
    "samples_grp[[\"geo_accession\"]] <- selected_geo\n",
    "genes_grp[[\"symbol\"]]         <- gene_syms\n",
    "data_grp[[\"expression\"]]      <- expr_sub"
   ]
  },
  {
   "cell_type": "code",
   "execution_count": 29,
   "id": "e16ed4aa",
   "metadata": {
    "vscode": {
     "languageId": "r"
    }
   },
   "outputs": [
    {
     "data": {
      "text/html": [
       "<table class=\"dataframe\">\n",
       "<caption>A data.frame_ext: 7 × 12</caption>\n",
       "<thead>\n",
       "\t<tr><th></th><th scope=col>name</th><th scope=col>link.type</th><th scope=col>obj_type</th><th scope=col>num_attrs</th><th scope=col>group.nlinks</th><th scope=col>group.mounted</th><th scope=col>dataset.rank</th><th scope=col>dataset.dims</th><th scope=col>dataset.maxdims</th><th scope=col>dataset.type_class</th><th scope=col>dataset.space_class</th><th scope=col>committed_type</th></tr>\n",
       "\t<tr><th></th><th scope=col>&lt;chr&gt;</th><th scope=col>&lt;factr_xt&gt;</th><th scope=col>&lt;factr_xt&gt;</th><th scope=col>&lt;int&gt;</th><th scope=col>&lt;int&gt;</th><th scope=col>&lt;int&gt;</th><th scope=col>&lt;int&gt;</th><th scope=col>&lt;chr&gt;</th><th scope=col>&lt;chr&gt;</th><th scope=col>&lt;factr_xt&gt;</th><th scope=col>&lt;factr_xt&gt;</th><th scope=col>&lt;factr_xt&gt;</th></tr>\n",
       "</thead>\n",
       "<tbody>\n",
       "\t<tr><th scope=row>1</th><td>data                      </td><td>0</td><td>2</td><td>0</td><td> 1</td><td> 0</td><td>NA</td><td>NA        </td><td>NA       </td><td>NA</td><td>NA</td><td>NA</td></tr>\n",
       "\t<tr><th scope=row>2</th><td>data/expression           </td><td>0</td><td>5</td><td>0</td><td>NA</td><td>NA</td><td> 2</td><td>54 x 67186</td><td>Inf x Inf</td><td> 0</td><td> 1</td><td>NA</td></tr>\n",
       "\t<tr><th scope=row>3</th><td>meta                      </td><td>0</td><td>2</td><td>0</td><td> 2</td><td> 0</td><td>NA</td><td>NA        </td><td>NA       </td><td>NA</td><td>NA</td><td>NA</td></tr>\n",
       "\t<tr><th scope=row>4</th><td>meta/genes                </td><td>0</td><td>2</td><td>0</td><td> 1</td><td> 0</td><td>NA</td><td>NA        </td><td>NA       </td><td>NA</td><td>NA</td><td>NA</td></tr>\n",
       "\t<tr><th scope=row>5</th><td>meta/genes/symbol         </td><td>0</td><td>5</td><td>0</td><td>NA</td><td>NA</td><td> 1</td><td>67186     </td><td>Inf      </td><td> 3</td><td> 1</td><td>NA</td></tr>\n",
       "\t<tr><th scope=row>6</th><td>meta/samples              </td><td>0</td><td>2</td><td>0</td><td> 1</td><td> 0</td><td>NA</td><td>NA        </td><td>NA       </td><td>NA</td><td>NA</td><td>NA</td></tr>\n",
       "\t<tr><th scope=row>7</th><td>meta/samples/geo_accession</td><td>0</td><td>5</td><td>0</td><td>NA</td><td>NA</td><td> 1</td><td>54        </td><td>Inf      </td><td> 3</td><td> 1</td><td>NA</td></tr>\n",
       "</tbody>\n",
       "</table>\n"
      ],
      "text/latex": [
       "A data.frame\\_ext: 7 × 12\n",
       "\\begin{tabular}{r|llllllllllll}\n",
       "  & name & link.type & obj\\_type & num\\_attrs & group.nlinks & group.mounted & dataset.rank & dataset.dims & dataset.maxdims & dataset.type\\_class & dataset.space\\_class & committed\\_type\\\\\n",
       "  & <chr> & <factr\\_xt> & <factr\\_xt> & <int> & <int> & <int> & <int> & <chr> & <chr> & <factr\\_xt> & <factr\\_xt> & <factr\\_xt>\\\\\n",
       "\\hline\n",
       "\t1 & data                       & 0 & 2 & 0 &  1 &  0 & NA & NA         & NA        & NA & NA & NA\\\\\n",
       "\t2 & data/expression            & 0 & 5 & 0 & NA & NA &  2 & 54 x 67186 & Inf x Inf &  0 &  1 & NA\\\\\n",
       "\t3 & meta                       & 0 & 2 & 0 &  2 &  0 & NA & NA         & NA        & NA & NA & NA\\\\\n",
       "\t4 & meta/genes                 & 0 & 2 & 0 &  1 &  0 & NA & NA         & NA        & NA & NA & NA\\\\\n",
       "\t5 & meta/genes/symbol          & 0 & 5 & 0 & NA & NA &  1 & 67186      & Inf       &  3 &  1 & NA\\\\\n",
       "\t6 & meta/samples               & 0 & 2 & 0 &  1 &  0 & NA & NA         & NA        & NA & NA & NA\\\\\n",
       "\t7 & meta/samples/geo\\_accession & 0 & 5 & 0 & NA & NA &  1 & 54         & Inf       &  3 &  1 & NA\\\\\n",
       "\\end{tabular}\n"
      ],
      "text/markdown": [
       "\n",
       "A data.frame_ext: 7 × 12\n",
       "\n",
       "| <!--/--> | name &lt;chr&gt; | link.type &lt;factr_xt&gt; | obj_type &lt;factr_xt&gt; | num_attrs &lt;int&gt; | group.nlinks &lt;int&gt; | group.mounted &lt;int&gt; | dataset.rank &lt;int&gt; | dataset.dims &lt;chr&gt; | dataset.maxdims &lt;chr&gt; | dataset.type_class &lt;factr_xt&gt; | dataset.space_class &lt;factr_xt&gt; | committed_type &lt;factr_xt&gt; |\n",
       "|---|---|---|---|---|---|---|---|---|---|---|---|---|\n",
       "| 1 | data                       | 0 | 2 | 0 |  1 |  0 | NA | NA         | NA        | NA | NA | NA |\n",
       "| 2 | data/expression            | 0 | 5 | 0 | NA | NA |  2 | 54 x 67186 | Inf x Inf |  0 |  1 | NA |\n",
       "| 3 | meta                       | 0 | 2 | 0 |  2 |  0 | NA | NA         | NA        | NA | NA | NA |\n",
       "| 4 | meta/genes                 | 0 | 2 | 0 |  1 |  0 | NA | NA         | NA        | NA | NA | NA |\n",
       "| 5 | meta/genes/symbol          | 0 | 5 | 0 | NA | NA |  1 | 67186      | Inf       |  3 |  1 | NA |\n",
       "| 6 | meta/samples               | 0 | 2 | 0 |  1 |  0 | NA | NA         | NA        | NA | NA | NA |\n",
       "| 7 | meta/samples/geo_accession | 0 | 5 | 0 | NA | NA |  1 | 54         | Inf       |  3 |  1 | NA |\n",
       "\n"
      ],
      "text/plain": [
       "  name                       link.type obj_type num_attrs group.nlinks\n",
       "1 data                       0         2        0          1          \n",
       "2 data/expression            0         5        0         NA          \n",
       "3 meta                       0         2        0          2          \n",
       "4 meta/genes                 0         2        0          1          \n",
       "5 meta/genes/symbol          0         5        0         NA          \n",
       "6 meta/samples               0         2        0          1          \n",
       "7 meta/samples/geo_accession 0         5        0         NA          \n",
       "  group.mounted dataset.rank dataset.dims dataset.maxdims dataset.type_class\n",
       "1  0            NA           NA           NA              NA                \n",
       "2 NA             2           54 x 67186   Inf x Inf        0                \n",
       "3  0            NA           NA           NA              NA                \n",
       "4  0            NA           NA           NA              NA                \n",
       "5 NA             1           67186        Inf              3                \n",
       "6  0            NA           NA           NA              NA                \n",
       "7 NA             1           54           Inf              3                \n",
       "  dataset.space_class committed_type\n",
       "1 NA                  NA            \n",
       "2  1                  NA            \n",
       "3 NA                  NA            \n",
       "4 NA                  NA            \n",
       "5  1                  NA            \n",
       "6 NA                  NA            \n",
       "7  1                  NA            "
      ]
     },
     "metadata": {},
     "output_type": "display_data"
    },
    {
     "data": {
      "text/html": [
       "<style>\n",
       ".list-inline {list-style: none; margin:0; padding: 0}\n",
       ".list-inline>li {display: inline-block}\n",
       ".list-inline>li:not(:last-child)::after {content: \"\\00b7\"; padding: 0 .5ex}\n",
       "</style>\n",
       "<ol class=list-inline><li>'GSM1752948'</li><li>'GSM1752949'</li><li>'GSM1752950'</li><li>'GSM1752951'</li><li>'GSM1752953'</li><li>'GSM1752954'</li></ol>\n"
      ],
      "text/latex": [
       "\\begin{enumerate*}\n",
       "\\item 'GSM1752948'\n",
       "\\item 'GSM1752949'\n",
       "\\item 'GSM1752950'\n",
       "\\item 'GSM1752951'\n",
       "\\item 'GSM1752953'\n",
       "\\item 'GSM1752954'\n",
       "\\end{enumerate*}\n"
      ],
      "text/markdown": [
       "1. 'GSM1752948'\n",
       "2. 'GSM1752949'\n",
       "3. 'GSM1752950'\n",
       "4. 'GSM1752951'\n",
       "5. 'GSM1752953'\n",
       "6. 'GSM1752954'\n",
       "\n",
       "\n"
      ],
      "text/plain": [
       "[1] \"GSM1752948\" \"GSM1752949\" \"GSM1752950\" \"GSM1752951\" \"GSM1752953\"\n",
       "[6] \"GSM1752954\""
      ]
     },
     "metadata": {},
     "output_type": "display_data"
    },
    {
     "data": {
      "text/html": [
       "<style>\n",
       ".list-inline {list-style: none; margin:0; padding: 0}\n",
       ".list-inline>li {display: inline-block}\n",
       ".list-inline>li:not(:last-child)::after {content: \"\\00b7\"; padding: 0 .5ex}\n",
       "</style>\n",
       "<ol class=list-inline><li>'TSPAN6'</li><li>'TNMD'</li><li>'DPM1'</li><li>'SCYL3'</li><li>'C1orf112'</li><li>'FGR'</li></ol>\n"
      ],
      "text/latex": [
       "\\begin{enumerate*}\n",
       "\\item 'TSPAN6'\n",
       "\\item 'TNMD'\n",
       "\\item 'DPM1'\n",
       "\\item 'SCYL3'\n",
       "\\item 'C1orf112'\n",
       "\\item 'FGR'\n",
       "\\end{enumerate*}\n"
      ],
      "text/markdown": [
       "1. 'TSPAN6'\n",
       "2. 'TNMD'\n",
       "3. 'DPM1'\n",
       "4. 'SCYL3'\n",
       "5. 'C1orf112'\n",
       "6. 'FGR'\n",
       "\n",
       "\n"
      ],
      "text/plain": [
       "[1] \"TSPAN6\"   \"TNMD\"     \"DPM1\"     \"SCYL3\"    \"C1orf112\" \"FGR\"     "
      ]
     },
     "metadata": {},
     "output_type": "display_data"
    },
    {
     "data": {
      "text/html": [
       "<table class=\"dataframe\">\n",
       "<caption>A matrix: 5 × 5 of type int</caption>\n",
       "<tbody>\n",
       "\t<tr><td>16</td><td>0</td><td>14</td><td> 5</td><td>0</td></tr>\n",
       "\t<tr><td> 9</td><td>2</td><td>42</td><td>12</td><td>0</td></tr>\n",
       "\t<tr><td>19</td><td>0</td><td>39</td><td>34</td><td>0</td></tr>\n",
       "\t<tr><td>21</td><td>0</td><td>29</td><td>28</td><td>0</td></tr>\n",
       "\t<tr><td> 7</td><td>0</td><td>13</td><td>30</td><td>0</td></tr>\n",
       "</tbody>\n",
       "</table>\n"
      ],
      "text/latex": [
       "A matrix: 5 × 5 of type int\n",
       "\\begin{tabular}{lllll}\n",
       "\t 16 & 0 & 14 &  5 & 0\\\\\n",
       "\t  9 & 2 & 42 & 12 & 0\\\\\n",
       "\t 19 & 0 & 39 & 34 & 0\\\\\n",
       "\t 21 & 0 & 29 & 28 & 0\\\\\n",
       "\t  7 & 0 & 13 & 30 & 0\\\\\n",
       "\\end{tabular}\n"
      ],
      "text/markdown": [
       "\n",
       "A matrix: 5 × 5 of type int\n",
       "\n",
       "| 16 | 0 | 14 |  5 | 0 |\n",
       "|  9 | 2 | 42 | 12 | 0 |\n",
       "| 19 | 0 | 39 | 34 | 0 |\n",
       "| 21 | 0 | 29 | 28 | 0 |\n",
       "|  7 | 0 | 13 | 30 | 0 |\n",
       "\n"
      ],
      "text/plain": [
       "     [,1] [,2] [,3] [,4] [,5]\n",
       "[1,] 16   0    14    5   0   \n",
       "[2,]  9   2    42   12   0   \n",
       "[3,] 19   0    39   34   0   \n",
       "[4,] 21   0    29   28   0   \n",
       "[5,]  7   0    13   30   0   "
      ]
     },
     "metadata": {},
     "output_type": "display_data"
    }
   ],
   "source": [
    "new_h5$ls(recursive = TRUE)\n",
    "\n",
    "geo_df <- new_h5[[\"/meta/samples/geo_accession\"]]$read()\n",
    "head(geo_df)\n",
    "\n",
    "genes_df <- new_h5[[\"/meta/genes/symbol\"]]$read()\n",
    "head(genes_df)\n",
    "\n",
    "expression_subset <- new_h5[[\"/data/expression\"]][1:20, 1:20]\n",
    "expression_subset[1:5, 1:5]\n",
    "\n",
    "new_h5$close_all()"
   ]
  }
 ],
 "metadata": {
  "kernelspec": {
   "display_name": "R",
   "language": "R",
   "name": "ir"
  },
  "language_info": {
   "codemirror_mode": "r",
   "file_extension": ".r",
   "mimetype": "text/x-r-source",
   "name": "R",
   "pygments_lexer": "r",
   "version": "4.3.3"
  }
 },
 "nbformat": 4,
 "nbformat_minor": 5
}
