{
 "cells": [
  {
   "cell_type": "markdown",
   "id": "de7756c8",
   "metadata": {},
   "source": [
    "# Project GTEx into ARCHS4 model"
   ]
  },
  {
   "cell_type": "code",
   "execution_count": 86,
   "id": "0af2f0d6",
   "metadata": {
    "vscode": {
     "languageId": "r"
    }
   },
   "outputs": [],
   "source": [
    "library(here)\n",
    "library(dplyr)\n",
    "library(hdf5r)\n",
    "library(data.table)\n",
    "library(tibble)\n",
    "library(Rtsne)\n",
    "library(ggplot2)\n",
    "library(scales)\n",
    "\n",
    "source(here(\"config.R\"))"
   ]
  },
  {
   "cell_type": "code",
   "execution_count": 2,
   "id": "14d787ff",
   "metadata": {
    "vscode": {
     "languageId": "r"
    }
   },
   "outputs": [],
   "source": [
    "archs4_traits  <- readRDS(here('data/archs4/traits/archs4-phenoplier.rds'))\n",
    "archs4_plier2 <- readRDS(here('data/archs4/model/archs4/archs4_PLIER2.rds'))"
   ]
  },
  {
   "cell_type": "code",
   "execution_count": 3,
   "id": "4ef389e4",
   "metadata": {
    "vscode": {
     "languageId": "r"
    }
   },
   "outputs": [
    {
     "name": "stderr",
     "output_type": "stream",
     "text": [
      "Loading required package: Matrix\n",
      "\n"
     ]
    }
   ],
   "source": [
    "archs4_b <- as.data.frame(as.matrix(archs4_plier2$B))"
   ]
  },
  {
   "cell_type": "code",
   "execution_count": null,
   "id": "35ab2eb2",
   "metadata": {
    "vscode": {
     "languageId": "r"
    }
   },
   "outputs": [],
   "source": [
    "source(here(\"config.R\"))\n",
    "\n",
    "output_dir <- config$ARCHS4$DATASET_FOLDER\n",
    "dir.create(output_dir, showWarnings = FALSE, recursive = TRUE)\n",
    "\n",
    "h5 <- H5File$new(here('data/archs4/human_gene_v2.5.h5'), mode = \"r\")\n",
    "sc_samples <- h5[[\"/meta/samples/singlecellprobability\"]]$read()\n",
    "samples_idx <- which(sc_samples < 0.5)\n",
    "id_samples <- h5[[\"/meta/samples/geo_accession\"]]$read()\n",
    "filtered_ids <- id_samples[samples_idx]\n",
    "saveRDS(filtered_ids, here(output_dir, 'samples_archs4.rds'))\n",
    "h5$close_all()"
   ]
  },
  {
   "cell_type": "code",
   "execution_count": 5,
   "id": "0de7d40b",
   "metadata": {
    "vscode": {
     "languageId": "r"
    }
   },
   "outputs": [
    {
     "data": {
      "text/html": [
       "TRUE"
      ],
      "text/latex": [
       "TRUE"
      ],
      "text/markdown": [
       "TRUE"
      ],
      "text/plain": [
       "[1] TRUE"
      ]
     },
     "metadata": {},
     "output_type": "display_data"
    }
   ],
   "source": [
    "length(filtered_ids)==length(colnames(archs4_b))"
   ]
  },
  {
   "cell_type": "code",
   "execution_count": 6,
   "id": "f0302f82",
   "metadata": {
    "vscode": {
     "languageId": "r"
    }
   },
   "outputs": [],
   "source": [
    "colnames(archs4_b) <- filtered_ids"
   ]
  },
  {
   "cell_type": "code",
   "execution_count": 7,
   "id": "fe76960b",
   "metadata": {
    "vscode": {
     "languageId": "r"
    }
   },
   "outputs": [
    {
     "data": {
      "text/html": [
       "<table class=\"dataframe\">\n",
       "<caption>A data.frame: 5 × 5</caption>\n",
       "<thead>\n",
       "\t<tr><th></th><th scope=col>GSM1000981</th><th scope=col>GSM1000982</th><th scope=col>GSM1000983</th><th scope=col>GSM1000984</th><th scope=col>GSM1000985</th></tr>\n",
       "\t<tr><th></th><th scope=col>&lt;dbl&gt;</th><th scope=col>&lt;dbl&gt;</th><th scope=col>&lt;dbl&gt;</th><th scope=col>&lt;dbl&gt;</th><th scope=col>&lt;dbl&gt;</th></tr>\n",
       "</thead>\n",
       "<tbody>\n",
       "\t<tr><th scope=row>LV1</th><td> 0.07398552</td><td> 0.06549906</td><td> 0.08115003</td><td> 0.07502413</td><td> 0.06739754</td></tr>\n",
       "\t<tr><th scope=row>LV2</th><td>-0.03746596</td><td>-0.03999266</td><td>-0.03714191</td><td>-0.03785702</td><td>-0.03428144</td></tr>\n",
       "\t<tr><th scope=row>LV3</th><td>-0.13033351</td><td>-0.13065868</td><td>-0.13684181</td><td>-0.14037599</td><td>-0.13831017</td></tr>\n",
       "\t<tr><th scope=row>LV4</th><td>-0.08857614</td><td>-0.08829065</td><td>-0.08617926</td><td>-0.09295446</td><td>-0.09596845</td></tr>\n",
       "\t<tr><th scope=row>LV5</th><td> 0.04987766</td><td> 0.04897318</td><td> 0.04881013</td><td> 0.05693444</td><td> 0.05454549</td></tr>\n",
       "</tbody>\n",
       "</table>\n"
      ],
      "text/latex": [
       "A data.frame: 5 × 5\n",
       "\\begin{tabular}{r|lllll}\n",
       "  & GSM1000981 & GSM1000982 & GSM1000983 & GSM1000984 & GSM1000985\\\\\n",
       "  & <dbl> & <dbl> & <dbl> & <dbl> & <dbl>\\\\\n",
       "\\hline\n",
       "\tLV1 &  0.07398552 &  0.06549906 &  0.08115003 &  0.07502413 &  0.06739754\\\\\n",
       "\tLV2 & -0.03746596 & -0.03999266 & -0.03714191 & -0.03785702 & -0.03428144\\\\\n",
       "\tLV3 & -0.13033351 & -0.13065868 & -0.13684181 & -0.14037599 & -0.13831017\\\\\n",
       "\tLV4 & -0.08857614 & -0.08829065 & -0.08617926 & -0.09295446 & -0.09596845\\\\\n",
       "\tLV5 &  0.04987766 &  0.04897318 &  0.04881013 &  0.05693444 &  0.05454549\\\\\n",
       "\\end{tabular}\n"
      ],
      "text/markdown": [
       "\n",
       "A data.frame: 5 × 5\n",
       "\n",
       "| <!--/--> | GSM1000981 &lt;dbl&gt; | GSM1000982 &lt;dbl&gt; | GSM1000983 &lt;dbl&gt; | GSM1000984 &lt;dbl&gt; | GSM1000985 &lt;dbl&gt; |\n",
       "|---|---|---|---|---|---|\n",
       "| LV1 |  0.07398552 |  0.06549906 |  0.08115003 |  0.07502413 |  0.06739754 |\n",
       "| LV2 | -0.03746596 | -0.03999266 | -0.03714191 | -0.03785702 | -0.03428144 |\n",
       "| LV3 | -0.13033351 | -0.13065868 | -0.13684181 | -0.14037599 | -0.13831017 |\n",
       "| LV4 | -0.08857614 | -0.08829065 | -0.08617926 | -0.09295446 | -0.09596845 |\n",
       "| LV5 |  0.04987766 |  0.04897318 |  0.04881013 |  0.05693444 |  0.05454549 |\n",
       "\n"
      ],
      "text/plain": [
       "    GSM1000981  GSM1000982  GSM1000983  GSM1000984  GSM1000985 \n",
       "LV1  0.07398552  0.06549906  0.08115003  0.07502413  0.06739754\n",
       "LV2 -0.03746596 -0.03999266 -0.03714191 -0.03785702 -0.03428144\n",
       "LV3 -0.13033351 -0.13065868 -0.13684181 -0.14037599 -0.13831017\n",
       "LV4 -0.08857614 -0.08829065 -0.08617926 -0.09295446 -0.09596845\n",
       "LV5  0.04987766  0.04897318  0.04881013  0.05693444  0.05454549"
      ]
     },
     "metadata": {},
     "output_type": "display_data"
    }
   ],
   "source": [
    "archs4_b[1:5, 1:5]"
   ]
  },
  {
   "cell_type": "code",
   "execution_count": null,
   "id": "0fc64660",
   "metadata": {
    "vscode": {
     "languageId": "r"
    }
   },
   "outputs": [],
   "source": [
    "archs4_genes <- rownames(archs4_plier2$Z)\n",
    "head(archs4_genes)"
   ]
  },
  {
   "cell_type": "markdown",
   "id": "03969ec5",
   "metadata": {},
   "source": [
    "## Load GTEx"
   ]
  },
  {
   "cell_type": "code",
   "execution_count": 24,
   "id": "1aa25f73",
   "metadata": {
    "vscode": {
     "languageId": "r"
    }
   },
   "outputs": [
    {
     "name": "stderr",
     "output_type": "stream",
     "text": [
      "File already exists, skipping download.\n",
      "\n",
      "Output file already exists. Skipping.\n",
      "\n"
     ]
    }
   ],
   "source": [
    "url <- config$GTEx$URL\n",
    "dest_dir <-  config$GTEx$DATASET_FOLDER\n",
    "dest_gz  <- file.path(dest_dir, basename(url))\n",
    "\n",
    "if (!file.exists(dest_gz)) {\n",
    "  dir.create(dest_dir, recursive = TRUE, showWarnings = FALSE)\n",
    "  download.file(url, dest_gz, mode = \"wb\")\n",
    "  message(\"Downloaded to: \", dest_gz)\n",
    "} else {\n",
    "  message(\"File already exists, skipping download.\")\n",
    "}\n",
    "\n",
    "exprs_path  <- file.path(config$GTEx$DATASET_FOLDER, 'GTEx_Analysis_2017-06-05_v8_RNASeQCv1.1.9_gene_tpm.gct.gz')\n",
    "output_file <- config$GTEx$DATASET_FILE\n",
    "\n",
    "if (!file.exists(output_file)) {\n",
    "  dir.create(dirname(output_file), recursive = TRUE, showWarnings = FALSE)\n",
    "  exprs_data <- read.table(exprs_path, header = TRUE, sep = \"\\t\", skip = 2, check.names = FALSE)\n",
    "  saveRDS(exprs_data, config$GTEx$DATASET_FILE)\n",
    "  message(\"File successfully written to: \", config$GTEx$DATASET_FILE)\n",
    "} else {\n",
    "  message(\"Output file already exists. Skipping.\")\n",
    "}\n",
    "\n",
    "# Aggregate in-place by 'description'\n",
    "gtex <- readRDS(here(config$GTEx$DATASET_FILE))\n",
    "gtex <- as.data.table(gtex)\n",
    "aggregated_gtex <- gtex[, lapply(.SD, sum), by = Description, .SDcols = is.numeric]\n",
    "\n",
    "genes <- aggregated_gtex$Description\n",
    "samples <- colnames(aggregated_gtex[, -1])\n",
    "gtex_data_mat <- as.matrix(aggregated_gtex[, -1])"
   ]
  },
  {
   "cell_type": "code",
   "execution_count": 25,
   "id": "28c3ecb2",
   "metadata": {
    "vscode": {
     "languageId": "r"
    }
   },
   "outputs": [],
   "source": [
    "rownames(gtex_data_mat) <- genes"
   ]
  },
  {
   "cell_type": "markdown",
   "id": "21c0d341",
   "metadata": {},
   "source": [
    "## Filter genes"
   ]
  },
  {
   "cell_type": "code",
   "execution_count": null,
   "id": "1d9aee8c",
   "metadata": {
    "vscode": {
     "languageId": "r"
    }
   },
   "outputs": [],
   "source": [
    "common_genes <- intersect(archs4_genes, rownames(gtex_data_mat))\n",
    "gtex_data_mat_filtered <- gtex_data_mat[common_genes, , drop = FALSE]"
   ]
  },
  {
   "cell_type": "code",
   "execution_count": null,
   "id": "720068d6",
   "metadata": {
    "vscode": {
     "languageId": "r"
    }
   },
   "outputs": [],
   "source": [
    "gtex_data_mat_filtered <- archs4_plier2$Z[common_genes, , drop = FALSE]"
   ]
  },
  {
   "cell_type": "code",
   "execution_count": 34,
   "id": "212ae2e9",
   "metadata": {
    "vscode": {
     "languageId": "r"
    }
   },
   "outputs": [],
   "source": [
    "archs4_Z_filtered <- archs4_plier2$Z[common_genes, , drop = FALSE]\n",
    "archs4_plier2_filtered <- archs4_plier2\n",
    "archs4_plier2_filtered$Z <- archs4_Z_filtered"
   ]
  },
  {
   "cell_type": "markdown",
   "id": "e33d0b06",
   "metadata": {},
   "source": [
    "## Project GTEx into ARCHS4 model"
   ]
  },
  {
   "cell_type": "code",
   "execution_count": 10,
   "id": "f6b6dc02",
   "metadata": {
    "vscode": {
     "languageId": "r"
    }
   },
   "outputs": [],
   "source": [
    "library(PLIER2)"
   ]
  },
  {
   "cell_type": "code",
   "execution_count": 30,
   "id": "d265bde2",
   "metadata": {
    "vscode": {
     "languageId": "r"
    }
   },
   "outputs": [
    {
     "data": {
      "text/html": [
       "16619"
      ],
      "text/latex": [
       "16619"
      ],
      "text/markdown": [
       "16619"
      ],
      "text/plain": [
       "[1] 16619"
      ]
     },
     "metadata": {},
     "output_type": "display_data"
    }
   ],
   "source": [
    "nrow(gtex_data_mat_filtered)"
   ]
  },
  {
   "cell_type": "code",
   "execution_count": 35,
   "id": "49444ec6",
   "metadata": {
    "vscode": {
     "languageId": "r"
    }
   },
   "outputs": [
    {
     "data": {
      "text/html": [
       "16619"
      ],
      "text/latex": [
       "16619"
      ],
      "text/markdown": [
       "16619"
      ],
      "text/plain": [
       "[1] 16619"
      ]
     },
     "metadata": {},
     "output_type": "display_data"
    }
   ],
   "source": [
    "nrow(archs4_plier2_filtered$Z)"
   ]
  },
  {
   "cell_type": "code",
   "execution_count": 70,
   "id": "fa7eca49",
   "metadata": {
    "vscode": {
     "languageId": "r"
    }
   },
   "outputs": [],
   "source": [
    "gtex_archs4_projection <- projectPLIER(archs4_plier2_filtered, gtex_data_mat_filtered)"
   ]
  },
  {
   "cell_type": "code",
   "execution_count": 71,
   "id": "c88ed045",
   "metadata": {
    "vscode": {
     "languageId": "r"
    }
   },
   "outputs": [
    {
     "data": {
      "text/html": [
       "<table class=\"dataframe\">\n",
       "<caption>A matrix: 6 × 17382 of type dbl</caption>\n",
       "<thead>\n",
       "\t<tr><th></th><th scope=col>GTEX-1117F-0226-SM-5GZZ7</th><th scope=col>GTEX-1117F-0426-SM-5EGHI</th><th scope=col>GTEX-1117F-0526-SM-5EGHJ</th><th scope=col>GTEX-1117F-0626-SM-5N9CS</th><th scope=col>GTEX-1117F-0726-SM-5GIEN</th><th scope=col>GTEX-1117F-1326-SM-5EGHH</th><th scope=col>GTEX-1117F-2426-SM-5EGGH</th><th scope=col>GTEX-1117F-2526-SM-5GZY6</th><th scope=col>GTEX-1117F-2826-SM-5GZXL</th><th scope=col>GTEX-1117F-2926-SM-5GZYI</th><th scope=col>⋯</th><th scope=col>GTEX-ZZPU-1126-SM-5N9CW</th><th scope=col>GTEX-ZZPU-1226-SM-5N9CK</th><th scope=col>GTEX-ZZPU-1326-SM-5GZWS</th><th scope=col>GTEX-ZZPU-1426-SM-5GZZ6</th><th scope=col>GTEX-ZZPU-1826-SM-5E43L</th><th scope=col>GTEX-ZZPU-2126-SM-5EGIU</th><th scope=col>GTEX-ZZPU-2226-SM-5EGIV</th><th scope=col>GTEX-ZZPU-2426-SM-5E44I</th><th scope=col>GTEX-ZZPU-2626-SM-5E45Y</th><th scope=col>GTEX-ZZPU-2726-SM-5NQ8O</th></tr>\n",
       "</thead>\n",
       "<tbody>\n",
       "\t<tr><th scope=row>LV 1</th><td>-10.589027</td><td>-14.64281971</td><td> -9.064855</td><td> -3.801207</td><td>-3.3356457</td><td> 0.2029424</td><td> -7.247347</td><td> -4.876037</td><td>-2.0989028</td><td>-7.5754996</td><td>⋯</td><td>-10.2324669</td><td>-6.8742954</td><td>-7.588997</td><td>-7.1581058</td><td>-6.76621145</td><td>-9.029300</td><td> -4.4761640</td><td>-10.187978</td><td>-11.564694</td><td>-6.427916</td></tr>\n",
       "\t<tr><th scope=row>LV 2</th><td>  3.459603</td><td>  8.06594762</td><td>  7.211450</td><td>  3.122184</td><td> 4.3657242</td><td> 5.1479000</td><td>  4.830309</td><td> -1.273722</td><td> 8.9023561</td><td>-1.3133951</td><td>⋯</td><td>  0.9414166</td><td> 5.4092998</td><td> 5.420099</td><td> 4.9922998</td><td> 0.03035671</td><td> 8.004829</td><td> -0.9540288</td><td>  5.708420</td><td>  9.940002</td><td> 6.350229</td></tr>\n",
       "\t<tr><th scope=row>LV 3</th><td>-14.334404</td><td> -0.04179137</td><td>-13.093453</td><td>-10.863356</td><td> 0.1565231</td><td>-3.1737093</td><td>-12.930763</td><td> -1.861638</td><td> 4.5570217</td><td>-1.0657303</td><td>⋯</td><td> -4.5867668</td><td>-1.4738001</td><td>-3.355430</td><td>-0.9476843</td><td>-5.51947902</td><td>-5.015832</td><td> -1.3551791</td><td>-16.900343</td><td> -0.378750</td><td>-2.109437</td></tr>\n",
       "\t<tr><th scope=row>LV 4</th><td>  5.664438</td><td> -3.71890002</td><td>  7.659477</td><td>  7.024201</td><td> 5.1392727</td><td>-7.9123321</td><td>  8.353613</td><td>-10.529646</td><td>-0.8117049</td><td>-1.6262067</td><td>⋯</td><td>  7.7050968</td><td> 1.7348322</td><td> 3.140392</td><td>-1.2318803</td><td> 4.10270176</td><td> 8.842482</td><td>-17.1392495</td><td>  9.392775</td><td>-10.255381</td><td> 1.045551</td></tr>\n",
       "\t<tr><th scope=row>LV 5</th><td> -2.526532</td><td>  2.99495871</td><td> -4.124941</td><td> -3.495563</td><td> 2.2371354</td><td>-2.1989246</td><td>  1.256028</td><td>  5.268567</td><td>-5.5482976</td><td> 0.7153978</td><td>⋯</td><td>  3.0901286</td><td> 0.9475235</td><td> 2.592560</td><td> 0.5905050</td><td>-0.26678222</td><td> 1.393789</td><td>  1.2546738</td><td>  1.520363</td><td>  4.730265</td><td>-1.910161</td></tr>\n",
       "\t<tr><th scope=row>LV 6</th><td> 57.109306</td><td> -2.56155320</td><td> 36.543495</td><td> 45.959927</td><td>10.2836796</td><td>26.5271033</td><td> 60.323767</td><td> 18.990593</td><td>15.0875426</td><td>29.5871176</td><td>⋯</td><td>  9.4588626</td><td> 5.7282534</td><td> 6.560442</td><td> 7.9495432</td><td>24.27239045</td><td>58.883947</td><td>  2.7132251</td><td> 44.400482</td><td> -4.458813</td><td>18.413333</td></tr>\n",
       "</tbody>\n",
       "</table>\n"
      ],
      "text/latex": [
       "A matrix: 6 × 17382 of type dbl\n",
       "\\begin{tabular}{r|lllllllllllllllllllll}\n",
       "  & GTEX-1117F-0226-SM-5GZZ7 & GTEX-1117F-0426-SM-5EGHI & GTEX-1117F-0526-SM-5EGHJ & GTEX-1117F-0626-SM-5N9CS & GTEX-1117F-0726-SM-5GIEN & GTEX-1117F-1326-SM-5EGHH & GTEX-1117F-2426-SM-5EGGH & GTEX-1117F-2526-SM-5GZY6 & GTEX-1117F-2826-SM-5GZXL & GTEX-1117F-2926-SM-5GZYI & ⋯ & GTEX-ZZPU-1126-SM-5N9CW & GTEX-ZZPU-1226-SM-5N9CK & GTEX-ZZPU-1326-SM-5GZWS & GTEX-ZZPU-1426-SM-5GZZ6 & GTEX-ZZPU-1826-SM-5E43L & GTEX-ZZPU-2126-SM-5EGIU & GTEX-ZZPU-2226-SM-5EGIV & GTEX-ZZPU-2426-SM-5E44I & GTEX-ZZPU-2626-SM-5E45Y & GTEX-ZZPU-2726-SM-5NQ8O\\\\\n",
       "\\hline\n",
       "\tLV 1 & -10.589027 & -14.64281971 &  -9.064855 &  -3.801207 & -3.3356457 &  0.2029424 &  -7.247347 &  -4.876037 & -2.0989028 & -7.5754996 & ⋯ & -10.2324669 & -6.8742954 & -7.588997 & -7.1581058 & -6.76621145 & -9.029300 &  -4.4761640 & -10.187978 & -11.564694 & -6.427916\\\\\n",
       "\tLV 2 &   3.459603 &   8.06594762 &   7.211450 &   3.122184 &  4.3657242 &  5.1479000 &   4.830309 &  -1.273722 &  8.9023561 & -1.3133951 & ⋯ &   0.9414166 &  5.4092998 &  5.420099 &  4.9922998 &  0.03035671 &  8.004829 &  -0.9540288 &   5.708420 &   9.940002 &  6.350229\\\\\n",
       "\tLV 3 & -14.334404 &  -0.04179137 & -13.093453 & -10.863356 &  0.1565231 & -3.1737093 & -12.930763 &  -1.861638 &  4.5570217 & -1.0657303 & ⋯ &  -4.5867668 & -1.4738001 & -3.355430 & -0.9476843 & -5.51947902 & -5.015832 &  -1.3551791 & -16.900343 &  -0.378750 & -2.109437\\\\\n",
       "\tLV 4 &   5.664438 &  -3.71890002 &   7.659477 &   7.024201 &  5.1392727 & -7.9123321 &   8.353613 & -10.529646 & -0.8117049 & -1.6262067 & ⋯ &   7.7050968 &  1.7348322 &  3.140392 & -1.2318803 &  4.10270176 &  8.842482 & -17.1392495 &   9.392775 & -10.255381 &  1.045551\\\\\n",
       "\tLV 5 &  -2.526532 &   2.99495871 &  -4.124941 &  -3.495563 &  2.2371354 & -2.1989246 &   1.256028 &   5.268567 & -5.5482976 &  0.7153978 & ⋯ &   3.0901286 &  0.9475235 &  2.592560 &  0.5905050 & -0.26678222 &  1.393789 &   1.2546738 &   1.520363 &   4.730265 & -1.910161\\\\\n",
       "\tLV 6 &  57.109306 &  -2.56155320 &  36.543495 &  45.959927 & 10.2836796 & 26.5271033 &  60.323767 &  18.990593 & 15.0875426 & 29.5871176 & ⋯ &   9.4588626 &  5.7282534 &  6.560442 &  7.9495432 & 24.27239045 & 58.883947 &   2.7132251 &  44.400482 &  -4.458813 & 18.413333\\\\\n",
       "\\end{tabular}\n"
      ],
      "text/markdown": [
       "\n",
       "A matrix: 6 × 17382 of type dbl\n",
       "\n",
       "| <!--/--> | GTEX-1117F-0226-SM-5GZZ7 | GTEX-1117F-0426-SM-5EGHI | GTEX-1117F-0526-SM-5EGHJ | GTEX-1117F-0626-SM-5N9CS | GTEX-1117F-0726-SM-5GIEN | GTEX-1117F-1326-SM-5EGHH | GTEX-1117F-2426-SM-5EGGH | GTEX-1117F-2526-SM-5GZY6 | GTEX-1117F-2826-SM-5GZXL | GTEX-1117F-2926-SM-5GZYI | ⋯ | GTEX-ZZPU-1126-SM-5N9CW | GTEX-ZZPU-1226-SM-5N9CK | GTEX-ZZPU-1326-SM-5GZWS | GTEX-ZZPU-1426-SM-5GZZ6 | GTEX-ZZPU-1826-SM-5E43L | GTEX-ZZPU-2126-SM-5EGIU | GTEX-ZZPU-2226-SM-5EGIV | GTEX-ZZPU-2426-SM-5E44I | GTEX-ZZPU-2626-SM-5E45Y | GTEX-ZZPU-2726-SM-5NQ8O |\n",
       "|---|---|---|---|---|---|---|---|---|---|---|---|---|---|---|---|---|---|---|---|---|---|\n",
       "| LV 1 | -10.589027 | -14.64281971 |  -9.064855 |  -3.801207 | -3.3356457 |  0.2029424 |  -7.247347 |  -4.876037 | -2.0989028 | -7.5754996 | ⋯ | -10.2324669 | -6.8742954 | -7.588997 | -7.1581058 | -6.76621145 | -9.029300 |  -4.4761640 | -10.187978 | -11.564694 | -6.427916 |\n",
       "| LV 2 |   3.459603 |   8.06594762 |   7.211450 |   3.122184 |  4.3657242 |  5.1479000 |   4.830309 |  -1.273722 |  8.9023561 | -1.3133951 | ⋯ |   0.9414166 |  5.4092998 |  5.420099 |  4.9922998 |  0.03035671 |  8.004829 |  -0.9540288 |   5.708420 |   9.940002 |  6.350229 |\n",
       "| LV 3 | -14.334404 |  -0.04179137 | -13.093453 | -10.863356 |  0.1565231 | -3.1737093 | -12.930763 |  -1.861638 |  4.5570217 | -1.0657303 | ⋯ |  -4.5867668 | -1.4738001 | -3.355430 | -0.9476843 | -5.51947902 | -5.015832 |  -1.3551791 | -16.900343 |  -0.378750 | -2.109437 |\n",
       "| LV 4 |   5.664438 |  -3.71890002 |   7.659477 |   7.024201 |  5.1392727 | -7.9123321 |   8.353613 | -10.529646 | -0.8117049 | -1.6262067 | ⋯ |   7.7050968 |  1.7348322 |  3.140392 | -1.2318803 |  4.10270176 |  8.842482 | -17.1392495 |   9.392775 | -10.255381 |  1.045551 |\n",
       "| LV 5 |  -2.526532 |   2.99495871 |  -4.124941 |  -3.495563 |  2.2371354 | -2.1989246 |   1.256028 |   5.268567 | -5.5482976 |  0.7153978 | ⋯ |   3.0901286 |  0.9475235 |  2.592560 |  0.5905050 | -0.26678222 |  1.393789 |   1.2546738 |   1.520363 |   4.730265 | -1.910161 |\n",
       "| LV 6 |  57.109306 |  -2.56155320 |  36.543495 |  45.959927 | 10.2836796 | 26.5271033 |  60.323767 |  18.990593 | 15.0875426 | 29.5871176 | ⋯ |   9.4588626 |  5.7282534 |  6.560442 |  7.9495432 | 24.27239045 | 58.883947 |   2.7132251 |  44.400482 |  -4.458813 | 18.413333 |\n",
       "\n"
      ],
      "text/plain": [
       "     GTEX-1117F-0226-SM-5GZZ7 GTEX-1117F-0426-SM-5EGHI GTEX-1117F-0526-SM-5EGHJ\n",
       "LV 1 -10.589027               -14.64281971              -9.064855              \n",
       "LV 2   3.459603                 8.06594762               7.211450              \n",
       "LV 3 -14.334404                -0.04179137             -13.093453              \n",
       "LV 4   5.664438                -3.71890002               7.659477              \n",
       "LV 5  -2.526532                 2.99495871              -4.124941              \n",
       "LV 6  57.109306                -2.56155320              36.543495              \n",
       "     GTEX-1117F-0626-SM-5N9CS GTEX-1117F-0726-SM-5GIEN GTEX-1117F-1326-SM-5EGHH\n",
       "LV 1  -3.801207               -3.3356457                0.2029424              \n",
       "LV 2   3.122184                4.3657242                5.1479000              \n",
       "LV 3 -10.863356                0.1565231               -3.1737093              \n",
       "LV 4   7.024201                5.1392727               -7.9123321              \n",
       "LV 5  -3.495563                2.2371354               -2.1989246              \n",
       "LV 6  45.959927               10.2836796               26.5271033              \n",
       "     GTEX-1117F-2426-SM-5EGGH GTEX-1117F-2526-SM-5GZY6 GTEX-1117F-2826-SM-5GZXL\n",
       "LV 1  -7.247347                -4.876037               -2.0989028              \n",
       "LV 2   4.830309                -1.273722                8.9023561              \n",
       "LV 3 -12.930763                -1.861638                4.5570217              \n",
       "LV 4   8.353613               -10.529646               -0.8117049              \n",
       "LV 5   1.256028                 5.268567               -5.5482976              \n",
       "LV 6  60.323767                18.990593               15.0875426              \n",
       "     GTEX-1117F-2926-SM-5GZYI ⋯ GTEX-ZZPU-1126-SM-5N9CW GTEX-ZZPU-1226-SM-5N9CK\n",
       "LV 1 -7.5754996               ⋯ -10.2324669             -6.8742954             \n",
       "LV 2 -1.3133951               ⋯   0.9414166              5.4092998             \n",
       "LV 3 -1.0657303               ⋯  -4.5867668             -1.4738001             \n",
       "LV 4 -1.6262067               ⋯   7.7050968              1.7348322             \n",
       "LV 5  0.7153978               ⋯   3.0901286              0.9475235             \n",
       "LV 6 29.5871176               ⋯   9.4588626              5.7282534             \n",
       "     GTEX-ZZPU-1326-SM-5GZWS GTEX-ZZPU-1426-SM-5GZZ6 GTEX-ZZPU-1826-SM-5E43L\n",
       "LV 1 -7.588997               -7.1581058              -6.76621145            \n",
       "LV 2  5.420099                4.9922998               0.03035671            \n",
       "LV 3 -3.355430               -0.9476843              -5.51947902            \n",
       "LV 4  3.140392               -1.2318803               4.10270176            \n",
       "LV 5  2.592560                0.5905050              -0.26678222            \n",
       "LV 6  6.560442                7.9495432              24.27239045            \n",
       "     GTEX-ZZPU-2126-SM-5EGIU GTEX-ZZPU-2226-SM-5EGIV GTEX-ZZPU-2426-SM-5E44I\n",
       "LV 1 -9.029300                -4.4761640             -10.187978             \n",
       "LV 2  8.004829                -0.9540288               5.708420             \n",
       "LV 3 -5.015832                -1.3551791             -16.900343             \n",
       "LV 4  8.842482               -17.1392495               9.392775             \n",
       "LV 5  1.393789                 1.2546738               1.520363             \n",
       "LV 6 58.883947                 2.7132251              44.400482             \n",
       "     GTEX-ZZPU-2626-SM-5E45Y GTEX-ZZPU-2726-SM-5NQ8O\n",
       "LV 1 -11.564694              -6.427916              \n",
       "LV 2   9.940002               6.350229              \n",
       "LV 3  -0.378750              -2.109437              \n",
       "LV 4 -10.255381               1.045551              \n",
       "LV 5   4.730265              -1.910161              \n",
       "LV 6  -4.458813              18.413333              "
      ]
     },
     "metadata": {},
     "output_type": "display_data"
    }
   ],
   "source": [
    "head(gtex_archs4_projection)"
   ]
  },
  {
   "cell_type": "markdown",
   "id": "64bbe7d3",
   "metadata": {},
   "source": [
    "## Clustering projection"
   ]
  },
  {
   "cell_type": "code",
   "execution_count": 72,
   "id": "51d3cdf0",
   "metadata": {
    "vscode": {
     "languageId": "r"
    }
   },
   "outputs": [],
   "source": [
    "gtex_archs4_projection <- as.data.frame(gtex_archs4_projection)"
   ]
  },
  {
   "cell_type": "code",
   "execution_count": 73,
   "id": "3be9279b",
   "metadata": {
    "vscode": {
     "languageId": "r"
    }
   },
   "outputs": [],
   "source": [
    "gtex_meta <- read.table(\n",
    "    here('data/gtex/GTEx_Analysis_v8_Annotations_SampleAttributesDS.txt'), \n",
    "    sep = '\\t', \n",
    "    header = TRUE,\n",
    "    quote = \"\", \n",
    "    fill = TRUE,\n",
    "    comment.char = \"\" \n",
    ")"
   ]
  },
  {
   "cell_type": "code",
   "execution_count": 74,
   "id": "3de009ab",
   "metadata": {
    "vscode": {
     "languageId": "r"
    }
   },
   "outputs": [
    {
     "data": {
      "text/plain": [
       "\n",
       " TRUE \n",
       "17382 "
      ]
     },
     "metadata": {},
     "output_type": "display_data"
    }
   ],
   "source": [
    "table(colnames(gtex_archs4_projection) %in% gtex_meta$SAMPID)"
   ]
  },
  {
   "cell_type": "code",
   "execution_count": 89,
   "id": "2ac92ffc",
   "metadata": {
    "vscode": {
     "languageId": "r"
    }
   },
   "outputs": [
    {
     "data": {
      "text/html": [
       "<table class=\"dataframe\">\n",
       "<caption>A data.frame: 6 × 63</caption>\n",
       "<thead>\n",
       "\t<tr><th></th><th scope=col>SAMPID</th><th scope=col>SMATSSCR</th><th scope=col>SMCENTER</th><th scope=col>SMPTHNTS</th><th scope=col>SMRIN</th><th scope=col>SMTS</th><th scope=col>SMTSD</th><th scope=col>SMUBRID</th><th scope=col>SMTSISCH</th><th scope=col>SMTSPAX</th><th scope=col>⋯</th><th scope=col>SME1ANTI</th><th scope=col>SMSPLTRD</th><th scope=col>SMBSMMRT</th><th scope=col>SME1SNSE</th><th scope=col>SME1PCTS</th><th scope=col>SMRRNART</th><th scope=col>SME1MPRT</th><th scope=col>SMNUM5CD</th><th scope=col>SMDPMPRT</th><th scope=col>SME2PCTS</th></tr>\n",
       "\t<tr><th></th><th scope=col>&lt;chr&gt;</th><th scope=col>&lt;int&gt;</th><th scope=col>&lt;chr&gt;</th><th scope=col>&lt;chr&gt;</th><th scope=col>&lt;dbl&gt;</th><th scope=col>&lt;chr&gt;</th><th scope=col>&lt;chr&gt;</th><th scope=col>&lt;chr&gt;</th><th scope=col>&lt;int&gt;</th><th scope=col>&lt;int&gt;</th><th scope=col>⋯</th><th scope=col>&lt;dbl&gt;</th><th scope=col>&lt;dbl&gt;</th><th scope=col>&lt;dbl&gt;</th><th scope=col>&lt;dbl&gt;</th><th scope=col>&lt;dbl&gt;</th><th scope=col>&lt;dbl&gt;</th><th scope=col>&lt;dbl&gt;</th><th scope=col>&lt;lgl&gt;</th><th scope=col>&lt;int&gt;</th><th scope=col>&lt;dbl&gt;</th></tr>\n",
       "</thead>\n",
       "<tbody>\n",
       "\t<tr><th scope=row>1</th><td>GTEX-1117F-0003-SM-58Q7G     </td><td>NA</td><td>B1    </td><td>                                            </td><td> NA</td><td>Blood         </td><td>Whole Blood                 </td><td>0013756</td><td>1188</td><td>  NA</td><td>⋯</td><td>      NA</td><td>      NA</td><td>        NA</td><td>      NA</td><td>     NA</td><td>        NA</td><td>     NA</td><td>NA</td><td>NA</td><td>     NA</td></tr>\n",
       "\t<tr><th scope=row>2</th><td>GTEX-1117F-0003-SM-5DWSB     </td><td>NA</td><td>B1    </td><td>                                            </td><td> NA</td><td>Blood         </td><td>Whole Blood                 </td><td>0013756</td><td>1188</td><td>  NA</td><td>⋯</td><td>      NA</td><td>      NA</td><td>        NA</td><td>      NA</td><td>     NA</td><td>        NA</td><td>     NA</td><td>NA</td><td>NA</td><td>     NA</td></tr>\n",
       "\t<tr><th scope=row>3</th><td>GTEX-1117F-0003-SM-6WBT7     </td><td>NA</td><td>B1    </td><td>                                            </td><td> NA</td><td>Blood         </td><td>Whole Blood                 </td><td>0013756</td><td>1188</td><td>  NA</td><td>⋯</td><td>      NA</td><td>      NA</td><td>        NA</td><td>      NA</td><td>     NA</td><td>        NA</td><td>     NA</td><td>NA</td><td>NA</td><td>     NA</td></tr>\n",
       "\t<tr><th scope=row>4</th><td>GTEX-1117F-0011-R10a-SM-AHZ7F</td><td>NA</td><td>B1, A1</td><td>                                            </td><td> NA</td><td>Brain         </td><td>Brain - Frontal Cortex (BA9)</td><td>0009834</td><td>1193</td><td>  NA</td><td>⋯</td><td>      NA</td><td>      NA</td><td>        NA</td><td>      NA</td><td>     NA</td><td>        NA</td><td>     NA</td><td>NA</td><td>NA</td><td>     NA</td></tr>\n",
       "\t<tr><th scope=row>5</th><td>GTEX-1117F-0011-R10b-SM-CYKQ8</td><td>NA</td><td>B1, A1</td><td>                                            </td><td>7.2</td><td>Brain         </td><td>Brain - Frontal Cortex (BA9)</td><td>0009834</td><td>1193</td><td>  NA</td><td>⋯</td><td>      NA</td><td>      NA</td><td>        NA</td><td>      NA</td><td>     NA</td><td>        NA</td><td>     NA</td><td>NA</td><td>NA</td><td>     NA</td></tr>\n",
       "\t<tr><th scope=row>6</th><td>GTEX-1117F-0226-SM-5GZZ7     </td><td> 0</td><td>B1    </td><td>2 pieces, ~15% vessel stroma, rep delineated</td><td>6.8</td><td>Adipose Tissue</td><td>Adipose - Subcutaneous      </td><td>0002190</td><td>1214</td><td>1125</td><td>⋯</td><td>14648800</td><td>11999300</td><td>0.00315785</td><td>14669500</td><td>50.0354</td><td>0.00310538</td><td>0.99474</td><td>NA</td><td> 0</td><td>50.1944</td></tr>\n",
       "</tbody>\n",
       "</table>\n"
      ],
      "text/latex": [
       "A data.frame: 6 × 63\n",
       "\\begin{tabular}{r|lllllllllllllllllllll}\n",
       "  & SAMPID & SMATSSCR & SMCENTER & SMPTHNTS & SMRIN & SMTS & SMTSD & SMUBRID & SMTSISCH & SMTSPAX & ⋯ & SME1ANTI & SMSPLTRD & SMBSMMRT & SME1SNSE & SME1PCTS & SMRRNART & SME1MPRT & SMNUM5CD & SMDPMPRT & SME2PCTS\\\\\n",
       "  & <chr> & <int> & <chr> & <chr> & <dbl> & <chr> & <chr> & <chr> & <int> & <int> & ⋯ & <dbl> & <dbl> & <dbl> & <dbl> & <dbl> & <dbl> & <dbl> & <lgl> & <int> & <dbl>\\\\\n",
       "\\hline\n",
       "\t1 & GTEX-1117F-0003-SM-58Q7G      & NA & B1     &                                              &  NA & Blood          & Whole Blood                  & 0013756 & 1188 &   NA & ⋯ &       NA &       NA &         NA &       NA &      NA &         NA &      NA & NA & NA &      NA\\\\\n",
       "\t2 & GTEX-1117F-0003-SM-5DWSB      & NA & B1     &                                              &  NA & Blood          & Whole Blood                  & 0013756 & 1188 &   NA & ⋯ &       NA &       NA &         NA &       NA &      NA &         NA &      NA & NA & NA &      NA\\\\\n",
       "\t3 & GTEX-1117F-0003-SM-6WBT7      & NA & B1     &                                              &  NA & Blood          & Whole Blood                  & 0013756 & 1188 &   NA & ⋯ &       NA &       NA &         NA &       NA &      NA &         NA &      NA & NA & NA &      NA\\\\\n",
       "\t4 & GTEX-1117F-0011-R10a-SM-AHZ7F & NA & B1, A1 &                                              &  NA & Brain          & Brain - Frontal Cortex (BA9) & 0009834 & 1193 &   NA & ⋯ &       NA &       NA &         NA &       NA &      NA &         NA &      NA & NA & NA &      NA\\\\\n",
       "\t5 & GTEX-1117F-0011-R10b-SM-CYKQ8 & NA & B1, A1 &                                              & 7.2 & Brain          & Brain - Frontal Cortex (BA9) & 0009834 & 1193 &   NA & ⋯ &       NA &       NA &         NA &       NA &      NA &         NA &      NA & NA & NA &      NA\\\\\n",
       "\t6 & GTEX-1117F-0226-SM-5GZZ7      &  0 & B1     & 2 pieces, \\textasciitilde{}15\\% vessel stroma, rep delineated & 6.8 & Adipose Tissue & Adipose - Subcutaneous       & 0002190 & 1214 & 1125 & ⋯ & 14648800 & 11999300 & 0.00315785 & 14669500 & 50.0354 & 0.00310538 & 0.99474 & NA &  0 & 50.1944\\\\\n",
       "\\end{tabular}\n"
      ],
      "text/markdown": [
       "\n",
       "A data.frame: 6 × 63\n",
       "\n",
       "| <!--/--> | SAMPID &lt;chr&gt; | SMATSSCR &lt;int&gt; | SMCENTER &lt;chr&gt; | SMPTHNTS &lt;chr&gt; | SMRIN &lt;dbl&gt; | SMTS &lt;chr&gt; | SMTSD &lt;chr&gt; | SMUBRID &lt;chr&gt; | SMTSISCH &lt;int&gt; | SMTSPAX &lt;int&gt; | ⋯ ⋯ | SME1ANTI &lt;dbl&gt; | SMSPLTRD &lt;dbl&gt; | SMBSMMRT &lt;dbl&gt; | SME1SNSE &lt;dbl&gt; | SME1PCTS &lt;dbl&gt; | SMRRNART &lt;dbl&gt; | SME1MPRT &lt;dbl&gt; | SMNUM5CD &lt;lgl&gt; | SMDPMPRT &lt;int&gt; | SME2PCTS &lt;dbl&gt; |\n",
       "|---|---|---|---|---|---|---|---|---|---|---|---|---|---|---|---|---|---|---|---|---|---|\n",
       "| 1 | GTEX-1117F-0003-SM-58Q7G      | NA | B1     | <!----> |  NA | Blood          | Whole Blood                  | 0013756 | 1188 |   NA | ⋯ |       NA |       NA |         NA |       NA |      NA |         NA |      NA | NA | NA |      NA |\n",
       "| 2 | GTEX-1117F-0003-SM-5DWSB      | NA | B1     | <!----> |  NA | Blood          | Whole Blood                  | 0013756 | 1188 |   NA | ⋯ |       NA |       NA |         NA |       NA |      NA |         NA |      NA | NA | NA |      NA |\n",
       "| 3 | GTEX-1117F-0003-SM-6WBT7      | NA | B1     | <!----> |  NA | Blood          | Whole Blood                  | 0013756 | 1188 |   NA | ⋯ |       NA |       NA |         NA |       NA |      NA |         NA |      NA | NA | NA |      NA |\n",
       "| 4 | GTEX-1117F-0011-R10a-SM-AHZ7F | NA | B1, A1 | <!----> |  NA | Brain          | Brain - Frontal Cortex (BA9) | 0009834 | 1193 |   NA | ⋯ |       NA |       NA |         NA |       NA |      NA |         NA |      NA | NA | NA |      NA |\n",
       "| 5 | GTEX-1117F-0011-R10b-SM-CYKQ8 | NA | B1, A1 | <!----> | 7.2 | Brain          | Brain - Frontal Cortex (BA9) | 0009834 | 1193 |   NA | ⋯ |       NA |       NA |         NA |       NA |      NA |         NA |      NA | NA | NA |      NA |\n",
       "| 6 | GTEX-1117F-0226-SM-5GZZ7      |  0 | B1     | 2 pieces, ~15% vessel stroma, rep delineated | 6.8 | Adipose Tissue | Adipose - Subcutaneous       | 0002190 | 1214 | 1125 | ⋯ | 14648800 | 11999300 | 0.00315785 | 14669500 | 50.0354 | 0.00310538 | 0.99474 | NA |  0 | 50.1944 |\n",
       "\n"
      ],
      "text/plain": [
       "  SAMPID                        SMATSSCR SMCENTER\n",
       "1 GTEX-1117F-0003-SM-58Q7G      NA       B1      \n",
       "2 GTEX-1117F-0003-SM-5DWSB      NA       B1      \n",
       "3 GTEX-1117F-0003-SM-6WBT7      NA       B1      \n",
       "4 GTEX-1117F-0011-R10a-SM-AHZ7F NA       B1, A1  \n",
       "5 GTEX-1117F-0011-R10b-SM-CYKQ8 NA       B1, A1  \n",
       "6 GTEX-1117F-0226-SM-5GZZ7       0       B1      \n",
       "  SMPTHNTS                                     SMRIN SMTS          \n",
       "1                                               NA   Blood         \n",
       "2                                               NA   Blood         \n",
       "3                                               NA   Blood         \n",
       "4                                               NA   Brain         \n",
       "5                                              7.2   Brain         \n",
       "6 2 pieces, ~15% vessel stroma, rep delineated 6.8   Adipose Tissue\n",
       "  SMTSD                        SMUBRID SMTSISCH SMTSPAX ⋯ SME1ANTI SMSPLTRD\n",
       "1 Whole Blood                  0013756 1188       NA    ⋯       NA       NA\n",
       "2 Whole Blood                  0013756 1188       NA    ⋯       NA       NA\n",
       "3 Whole Blood                  0013756 1188       NA    ⋯       NA       NA\n",
       "4 Brain - Frontal Cortex (BA9) 0009834 1193       NA    ⋯       NA       NA\n",
       "5 Brain - Frontal Cortex (BA9) 0009834 1193       NA    ⋯       NA       NA\n",
       "6 Adipose - Subcutaneous       0002190 1214     1125    ⋯ 14648800 11999300\n",
       "  SMBSMMRT   SME1SNSE SME1PCTS SMRRNART   SME1MPRT SMNUM5CD SMDPMPRT SME2PCTS\n",
       "1         NA       NA      NA          NA      NA  NA       NA            NA \n",
       "2         NA       NA      NA          NA      NA  NA       NA            NA \n",
       "3         NA       NA      NA          NA      NA  NA       NA            NA \n",
       "4         NA       NA      NA          NA      NA  NA       NA            NA \n",
       "5         NA       NA      NA          NA      NA  NA       NA            NA \n",
       "6 0.00315785 14669500 50.0354  0.00310538 0.99474  NA        0       50.1944 "
      ]
     },
     "metadata": {},
     "output_type": "display_data"
    }
   ],
   "source": [
    "head(gtex_meta)"
   ]
  },
  {
   "cell_type": "code",
   "execution_count": 75,
   "id": "8d409179",
   "metadata": {
    "vscode": {
     "languageId": "r"
    }
   },
   "outputs": [
    {
     "data": {
      "text/plain": [
       "\n",
       "Adipose Tissue  Adrenal Gland          Blood   Blood Vessel    Bone Marrow \n",
       "          1327            275           3480           1473            217 \n",
       "         Brain         Breast          Colon      Esophagus          Heart \n",
       "          3326            480            821           1582           1141 \n",
       "         Liver           Lung         Muscle          Nerve       Pancreas \n",
       "           251            867           1132            722            360 \n",
       "     Pituitary       Prostate           Skin         Spleen        Stomach \n",
       "           301            262           2014            260            381 \n",
       "        Testis        Thyroid \n",
       "           406            812 "
      ]
     },
     "metadata": {},
     "output_type": "display_data"
    }
   ],
   "source": [
    "tissues_to_keep <- names(table(gtex_meta$SMTS)[table(gtex_meta$SMTS) >= 200])\n",
    "\n",
    "gtex_meta_filtered <- gtex_meta %>% dplyr::filter(SMTS %in% tissues_to_keep)\n",
    "\n",
    "table(gtex_meta_filtered$SMTS)"
   ]
  },
  {
   "cell_type": "code",
   "execution_count": 76,
   "id": "bcbfe83d",
   "metadata": {
    "vscode": {
     "languageId": "r"
    }
   },
   "outputs": [],
   "source": [
    "gtex_archs4_projection <- gtex_archs4_projection %>%\n",
    "    dplyr::select(any_of(gtex_meta_filtered$SAMPID))"
   ]
  },
  {
   "cell_type": "markdown",
   "id": "fe4b4023",
   "metadata": {},
   "source": [
    "Filter LVs"
   ]
  },
  {
   "cell_type": "code",
   "execution_count": 77,
   "id": "4ea05873",
   "metadata": {
    "vscode": {
     "languageId": "r"
    }
   },
   "outputs": [
    {
     "data": {
      "text/html": [
       "<table class=\"dataframe\">\n",
       "<caption>A data.frame: 6 × 5</caption>\n",
       "<thead>\n",
       "\t<tr><th></th><th scope=col>pathway</th><th scope=col>LV index</th><th scope=col>AUC</th><th scope=col>p-value</th><th scope=col>FDR</th></tr>\n",
       "\t<tr><th></th><th scope=col>&lt;chr&gt;</th><th scope=col>&lt;chr&gt;</th><th scope=col>&lt;dbl&gt;</th><th scope=col>&lt;dbl&gt;</th><th scope=col>&lt;dbl&gt;</th></tr>\n",
       "</thead>\n",
       "<tbody>\n",
       "\t<tr><th scope=row>1</th><td>Fibroblast Skin Mouse                               </td><td>4</td><td>0.7017548</td><td>2.561277e-04</td><td>2.694104e-03</td></tr>\n",
       "\t<tr><th scope=row>2</th><td>DCLK1+ Progenitor Cell Large Intestine Human        </td><td>6</td><td>0.9450704</td><td>1.587106e-11</td><td>8.505215e-10</td></tr>\n",
       "\t<tr><th scope=row>3</th><td>Fibroblast Skin Mouse                               </td><td>6</td><td>0.9121861</td><td>1.152203e-09</td><td>4.292596e-08</td></tr>\n",
       "\t<tr><th scope=row>4</th><td>Fibrocartilage Chondrocyte Articular Cartilage Human</td><td>6</td><td>0.8203644</td><td>6.392203e-08</td><td>1.681793e-06</td></tr>\n",
       "\t<tr><th scope=row>5</th><td>Leydig Precursor Cell Fetal Gonad Human             </td><td>6</td><td>0.9048556</td><td>1.524913e-20</td><td>2.186854e-18</td></tr>\n",
       "\t<tr><th scope=row>6</th><td>Medullary Cell Kidney Mouse                         </td><td>6</td><td>0.8333685</td><td>1.713542e-11</td><td>9.134705e-10</td></tr>\n",
       "</tbody>\n",
       "</table>\n"
      ],
      "text/latex": [
       "A data.frame: 6 × 5\n",
       "\\begin{tabular}{r|lllll}\n",
       "  & pathway & LV index & AUC & p-value & FDR\\\\\n",
       "  & <chr> & <chr> & <dbl> & <dbl> & <dbl>\\\\\n",
       "\\hline\n",
       "\t1 & Fibroblast Skin Mouse                                & 4 & 0.7017548 & 2.561277e-04 & 2.694104e-03\\\\\n",
       "\t2 & DCLK1+ Progenitor Cell Large Intestine Human         & 6 & 0.9450704 & 1.587106e-11 & 8.505215e-10\\\\\n",
       "\t3 & Fibroblast Skin Mouse                                & 6 & 0.9121861 & 1.152203e-09 & 4.292596e-08\\\\\n",
       "\t4 & Fibrocartilage Chondrocyte Articular Cartilage Human & 6 & 0.8203644 & 6.392203e-08 & 1.681793e-06\\\\\n",
       "\t5 & Leydig Precursor Cell Fetal Gonad Human              & 6 & 0.9048556 & 1.524913e-20 & 2.186854e-18\\\\\n",
       "\t6 & Medullary Cell Kidney Mouse                          & 6 & 0.8333685 & 1.713542e-11 & 9.134705e-10\\\\\n",
       "\\end{tabular}\n"
      ],
      "text/markdown": [
       "\n",
       "A data.frame: 6 × 5\n",
       "\n",
       "| <!--/--> | pathway &lt;chr&gt; | LV index &lt;chr&gt; | AUC &lt;dbl&gt; | p-value &lt;dbl&gt; | FDR &lt;dbl&gt; |\n",
       "|---|---|---|---|---|---|\n",
       "| 1 | Fibroblast Skin Mouse                                | 4 | 0.7017548 | 2.561277e-04 | 2.694104e-03 |\n",
       "| 2 | DCLK1+ Progenitor Cell Large Intestine Human         | 6 | 0.9450704 | 1.587106e-11 | 8.505215e-10 |\n",
       "| 3 | Fibroblast Skin Mouse                                | 6 | 0.9121861 | 1.152203e-09 | 4.292596e-08 |\n",
       "| 4 | Fibrocartilage Chondrocyte Articular Cartilage Human | 6 | 0.8203644 | 6.392203e-08 | 1.681793e-06 |\n",
       "| 5 | Leydig Precursor Cell Fetal Gonad Human              | 6 | 0.9048556 | 1.524913e-20 | 2.186854e-18 |\n",
       "| 6 | Medullary Cell Kidney Mouse                          | 6 | 0.8333685 | 1.713542e-11 | 9.134705e-10 |\n",
       "\n"
      ],
      "text/plain": [
       "  pathway                                              LV index AUC      \n",
       "1 Fibroblast Skin Mouse                                4        0.7017548\n",
       "2 DCLK1+ Progenitor Cell Large Intestine Human         6        0.9450704\n",
       "3 Fibroblast Skin Mouse                                6        0.9121861\n",
       "4 Fibrocartilage Chondrocyte Articular Cartilage Human 6        0.8203644\n",
       "5 Leydig Precursor Cell Fetal Gonad Human              6        0.9048556\n",
       "6 Medullary Cell Kidney Mouse                          6        0.8333685\n",
       "  p-value      FDR         \n",
       "1 2.561277e-04 2.694104e-03\n",
       "2 1.587106e-11 8.505215e-10\n",
       "3 1.152203e-09 4.292596e-08\n",
       "4 6.392203e-08 1.681793e-06\n",
       "5 1.524913e-20 2.186854e-18\n",
       "6 1.713542e-11 9.134705e-10"
      ]
     },
     "metadata": {},
     "output_type": "display_data"
    },
    {
     "data": {
      "text/html": [
       "<style>\n",
       ".list-inline {list-style: none; margin:0; padding: 0}\n",
       ".list-inline>li {display: inline-block}\n",
       ".list-inline>li:not(:last-child)::after {content: \"\\00b7\"; padding: 0 .5ex}\n",
       "</style>\n",
       "<ol class=list-inline><li>530</li><li>5</li></ol>\n"
      ],
      "text/latex": [
       "\\begin{enumerate*}\n",
       "\\item 530\n",
       "\\item 5\n",
       "\\end{enumerate*}\n"
      ],
      "text/markdown": [
       "1. 530\n",
       "2. 5\n",
       "\n",
       "\n"
      ],
      "text/plain": [
       "[1] 530   5"
      ]
     },
     "metadata": {},
     "output_type": "display_data"
    },
    {
     "data": {
      "text/html": [
       "<style>\n",
       ".list-inline {list-style: none; margin:0; padding: 0}\n",
       ".list-inline>li {display: inline-block}\n",
       ".list-inline>li:not(:last-child)::after {content: \"\\00b7\"; padding: 0 .5ex}\n",
       "</style>\n",
       "<ol class=list-inline><li>'LV4'</li><li>'LV6'</li><li>'LV6'</li><li>'LV6'</li><li>'LV6'</li><li>'LV6'</li></ol>\n"
      ],
      "text/latex": [
       "\\begin{enumerate*}\n",
       "\\item 'LV4'\n",
       "\\item 'LV6'\n",
       "\\item 'LV6'\n",
       "\\item 'LV6'\n",
       "\\item 'LV6'\n",
       "\\item 'LV6'\n",
       "\\end{enumerate*}\n"
      ],
      "text/markdown": [
       "1. 'LV4'\n",
       "2. 'LV6'\n",
       "3. 'LV6'\n",
       "4. 'LV6'\n",
       "5. 'LV6'\n",
       "6. 'LV6'\n",
       "\n",
       "\n"
      ],
      "text/plain": [
       "[1] \"LV4\" \"LV6\" \"LV6\" \"LV6\" \"LV6\" \"LV6\""
      ]
     },
     "metadata": {},
     "output_type": "display_data"
    }
   ],
   "source": [
    "archs4_summary_sig  <- archs4_plier2$summary %>% \n",
    "dplyr::filter(FDR < 0.05)  %>% \n",
    "dplyr::filter(AUC > 0.7)\n",
    "\n",
    "head(archs4_summary_sig)\n",
    "dim(archs4_summary_sig)\n",
    "\n",
    "archs4_sig_lvs <- paste0('LV', archs4_summary_sig$LV)\n",
    "head(archs4_sig_lvs)"
   ]
  },
  {
   "cell_type": "code",
   "execution_count": null,
   "id": "526c5fdb",
   "metadata": {
    "vscode": {
     "languageId": "r"
    }
   },
   "outputs": [
    {
     "data": {
      "text/html": [
       "<table class=\"dataframe\">\n",
       "<caption>A data.frame: 6 × 16417</caption>\n",
       "<thead>\n",
       "\t<tr><th></th><th scope=col>GTEX-1117F-0226-SM-5GZZ7</th><th scope=col>GTEX-1117F-0426-SM-5EGHI</th><th scope=col>GTEX-1117F-0526-SM-5EGHJ</th><th scope=col>GTEX-1117F-0626-SM-5N9CS</th><th scope=col>GTEX-1117F-0726-SM-5GIEN</th><th scope=col>GTEX-1117F-1326-SM-5EGHH</th><th scope=col>GTEX-1117F-2826-SM-5GZXL</th><th scope=col>GTEX-1117F-2926-SM-5GZYI</th><th scope=col>GTEX-1117F-3226-SM-5N9CT</th><th scope=col>GTEX-111CU-0126-SM-5GZWZ</th><th scope=col>⋯</th><th scope=col>GTEX-ZZPU-0926-SM-5GZYT</th><th scope=col>GTEX-ZZPU-1026-SM-5E457</th><th scope=col>GTEX-ZZPU-1126-SM-5N9CW</th><th scope=col>GTEX-ZZPU-1226-SM-5N9CK</th><th scope=col>GTEX-ZZPU-1326-SM-5GZWS</th><th scope=col>GTEX-ZZPU-1426-SM-5GZZ6</th><th scope=col>GTEX-ZZPU-1826-SM-5E43L</th><th scope=col>GTEX-ZZPU-2426-SM-5E44I</th><th scope=col>GTEX-ZZPU-2626-SM-5E45Y</th><th scope=col>GTEX-ZZPU-2726-SM-5NQ8O</th></tr>\n",
       "\t<tr><th></th><th scope=col>&lt;dbl&gt;</th><th scope=col>&lt;dbl&gt;</th><th scope=col>&lt;dbl&gt;</th><th scope=col>&lt;dbl&gt;</th><th scope=col>&lt;dbl&gt;</th><th scope=col>&lt;dbl&gt;</th><th scope=col>&lt;dbl&gt;</th><th scope=col>&lt;dbl&gt;</th><th scope=col>&lt;dbl&gt;</th><th scope=col>&lt;dbl&gt;</th><th scope=col>⋯</th><th scope=col>&lt;dbl&gt;</th><th scope=col>&lt;dbl&gt;</th><th scope=col>&lt;dbl&gt;</th><th scope=col>&lt;dbl&gt;</th><th scope=col>&lt;dbl&gt;</th><th scope=col>&lt;dbl&gt;</th><th scope=col>&lt;dbl&gt;</th><th scope=col>&lt;dbl&gt;</th><th scope=col>&lt;dbl&gt;</th><th scope=col>&lt;dbl&gt;</th></tr>\n",
       "</thead>\n",
       "<tbody>\n",
       "\t<tr><th scope=row>LV1</th><td>-10.589027</td><td>-14.64281971</td><td> -9.064855</td><td> -3.801207</td><td>-3.3356457</td><td> 0.2029424</td><td>-2.0989028</td><td>-7.5754996</td><td> -5.6685199</td><td>-6.3119247</td><td>⋯</td><td>-12.001647</td><td>-6.0974733</td><td>-10.2324669</td><td>-6.8742954</td><td>-7.588997</td><td>-7.1581058</td><td>-6.76621145</td><td>-10.187978</td><td>-11.564694</td><td>-6.427916</td></tr>\n",
       "\t<tr><th scope=row>LV2</th><td>  3.459603</td><td>  8.06594762</td><td>  7.211450</td><td>  3.122184</td><td> 4.3657242</td><td> 5.1479000</td><td> 8.9023561</td><td>-1.3133951</td><td> 10.8377067</td><td> 7.7543710</td><td>⋯</td><td>  5.276786</td><td> 5.3923146</td><td>  0.9414166</td><td> 5.4092998</td><td> 5.420099</td><td> 4.9922998</td><td> 0.03035671</td><td>  5.708420</td><td>  9.940002</td><td> 6.350229</td></tr>\n",
       "\t<tr><th scope=row>LV3</th><td>-14.334404</td><td> -0.04179137</td><td>-13.093453</td><td>-10.863356</td><td> 0.1565231</td><td>-3.1737093</td><td> 4.5570217</td><td>-1.0657303</td><td>  1.4417610</td><td>-0.5003182</td><td>⋯</td><td> -1.952572</td><td>-5.7389424</td><td> -4.5867668</td><td>-1.4738001</td><td>-3.355430</td><td>-0.9476843</td><td>-5.51947902</td><td>-16.900343</td><td> -0.378750</td><td>-2.109437</td></tr>\n",
       "\t<tr><th scope=row>LV4</th><td>  5.664438</td><td> -3.71890002</td><td>  7.659477</td><td>  7.024201</td><td> 5.1392727</td><td>-7.9123321</td><td>-0.8117049</td><td>-1.6262067</td><td> -0.1055743</td><td> 0.6813731</td><td>⋯</td><td>  3.803885</td><td> 0.5608233</td><td>  7.7050968</td><td> 1.7348322</td><td> 3.140392</td><td>-1.2318803</td><td> 4.10270176</td><td>  9.392775</td><td>-10.255381</td><td> 1.045551</td></tr>\n",
       "\t<tr><th scope=row>LV5</th><td> -2.526532</td><td>  2.99495871</td><td> -4.124941</td><td> -3.495563</td><td> 2.2371354</td><td>-2.1989246</td><td>-5.5482976</td><td> 0.7153978</td><td>-11.6247845</td><td>-0.1748736</td><td>⋯</td><td>  7.432149</td><td> 0.5656654</td><td>  3.0901286</td><td> 0.9475235</td><td> 2.592560</td><td> 0.5905050</td><td>-0.26678222</td><td>  1.520363</td><td>  4.730265</td><td>-1.910161</td></tr>\n",
       "\t<tr><th scope=row>LV6</th><td> 57.109306</td><td> -2.56155320</td><td> 36.543495</td><td> 45.959927</td><td>10.2836796</td><td>26.5271033</td><td>15.0875426</td><td>29.5871176</td><td> -4.8994037</td><td> 0.2797221</td><td>⋯</td><td> -1.798534</td><td>12.2832666</td><td>  9.4588626</td><td> 5.7282534</td><td> 6.560442</td><td> 7.9495432</td><td>24.27239045</td><td> 44.400482</td><td> -4.458813</td><td>18.413333</td></tr>\n",
       "</tbody>\n",
       "</table>\n"
      ],
      "text/latex": [
       "A data.frame: 6 × 16417\n",
       "\\begin{tabular}{r|lllllllllllllllllllll}\n",
       "  & GTEX-1117F-0226-SM-5GZZ7 & GTEX-1117F-0426-SM-5EGHI & GTEX-1117F-0526-SM-5EGHJ & GTEX-1117F-0626-SM-5N9CS & GTEX-1117F-0726-SM-5GIEN & GTEX-1117F-1326-SM-5EGHH & GTEX-1117F-2826-SM-5GZXL & GTEX-1117F-2926-SM-5GZYI & GTEX-1117F-3226-SM-5N9CT & GTEX-111CU-0126-SM-5GZWZ & ⋯ & GTEX-ZZPU-0926-SM-5GZYT & GTEX-ZZPU-1026-SM-5E457 & GTEX-ZZPU-1126-SM-5N9CW & GTEX-ZZPU-1226-SM-5N9CK & GTEX-ZZPU-1326-SM-5GZWS & GTEX-ZZPU-1426-SM-5GZZ6 & GTEX-ZZPU-1826-SM-5E43L & GTEX-ZZPU-2426-SM-5E44I & GTEX-ZZPU-2626-SM-5E45Y & GTEX-ZZPU-2726-SM-5NQ8O\\\\\n",
       "  & <dbl> & <dbl> & <dbl> & <dbl> & <dbl> & <dbl> & <dbl> & <dbl> & <dbl> & <dbl> & ⋯ & <dbl> & <dbl> & <dbl> & <dbl> & <dbl> & <dbl> & <dbl> & <dbl> & <dbl> & <dbl>\\\\\n",
       "\\hline\n",
       "\tLV1 & -10.589027 & -14.64281971 &  -9.064855 &  -3.801207 & -3.3356457 &  0.2029424 & -2.0989028 & -7.5754996 &  -5.6685199 & -6.3119247 & ⋯ & -12.001647 & -6.0974733 & -10.2324669 & -6.8742954 & -7.588997 & -7.1581058 & -6.76621145 & -10.187978 & -11.564694 & -6.427916\\\\\n",
       "\tLV2 &   3.459603 &   8.06594762 &   7.211450 &   3.122184 &  4.3657242 &  5.1479000 &  8.9023561 & -1.3133951 &  10.8377067 &  7.7543710 & ⋯ &   5.276786 &  5.3923146 &   0.9414166 &  5.4092998 &  5.420099 &  4.9922998 &  0.03035671 &   5.708420 &   9.940002 &  6.350229\\\\\n",
       "\tLV3 & -14.334404 &  -0.04179137 & -13.093453 & -10.863356 &  0.1565231 & -3.1737093 &  4.5570217 & -1.0657303 &   1.4417610 & -0.5003182 & ⋯ &  -1.952572 & -5.7389424 &  -4.5867668 & -1.4738001 & -3.355430 & -0.9476843 & -5.51947902 & -16.900343 &  -0.378750 & -2.109437\\\\\n",
       "\tLV4 &   5.664438 &  -3.71890002 &   7.659477 &   7.024201 &  5.1392727 & -7.9123321 & -0.8117049 & -1.6262067 &  -0.1055743 &  0.6813731 & ⋯ &   3.803885 &  0.5608233 &   7.7050968 &  1.7348322 &  3.140392 & -1.2318803 &  4.10270176 &   9.392775 & -10.255381 &  1.045551\\\\\n",
       "\tLV5 &  -2.526532 &   2.99495871 &  -4.124941 &  -3.495563 &  2.2371354 & -2.1989246 & -5.5482976 &  0.7153978 & -11.6247845 & -0.1748736 & ⋯ &   7.432149 &  0.5656654 &   3.0901286 &  0.9475235 &  2.592560 &  0.5905050 & -0.26678222 &   1.520363 &   4.730265 & -1.910161\\\\\n",
       "\tLV6 &  57.109306 &  -2.56155320 &  36.543495 &  45.959927 & 10.2836796 & 26.5271033 & 15.0875426 & 29.5871176 &  -4.8994037 &  0.2797221 & ⋯ &  -1.798534 & 12.2832666 &   9.4588626 &  5.7282534 &  6.560442 &  7.9495432 & 24.27239045 &  44.400482 &  -4.458813 & 18.413333\\\\\n",
       "\\end{tabular}\n"
      ],
      "text/markdown": [
       "\n",
       "A data.frame: 6 × 16417\n",
       "\n",
       "| <!--/--> | GTEX-1117F-0226-SM-5GZZ7 &lt;dbl&gt; | GTEX-1117F-0426-SM-5EGHI &lt;dbl&gt; | GTEX-1117F-0526-SM-5EGHJ &lt;dbl&gt; | GTEX-1117F-0626-SM-5N9CS &lt;dbl&gt; | GTEX-1117F-0726-SM-5GIEN &lt;dbl&gt; | GTEX-1117F-1326-SM-5EGHH &lt;dbl&gt; | GTEX-1117F-2826-SM-5GZXL &lt;dbl&gt; | GTEX-1117F-2926-SM-5GZYI &lt;dbl&gt; | GTEX-1117F-3226-SM-5N9CT &lt;dbl&gt; | GTEX-111CU-0126-SM-5GZWZ &lt;dbl&gt; | ⋯ ⋯ | GTEX-ZZPU-0926-SM-5GZYT &lt;dbl&gt; | GTEX-ZZPU-1026-SM-5E457 &lt;dbl&gt; | GTEX-ZZPU-1126-SM-5N9CW &lt;dbl&gt; | GTEX-ZZPU-1226-SM-5N9CK &lt;dbl&gt; | GTEX-ZZPU-1326-SM-5GZWS &lt;dbl&gt; | GTEX-ZZPU-1426-SM-5GZZ6 &lt;dbl&gt; | GTEX-ZZPU-1826-SM-5E43L &lt;dbl&gt; | GTEX-ZZPU-2426-SM-5E44I &lt;dbl&gt; | GTEX-ZZPU-2626-SM-5E45Y &lt;dbl&gt; | GTEX-ZZPU-2726-SM-5NQ8O &lt;dbl&gt; |\n",
       "|---|---|---|---|---|---|---|---|---|---|---|---|---|---|---|---|---|---|---|---|---|---|\n",
       "| LV1 | -10.589027 | -14.64281971 |  -9.064855 |  -3.801207 | -3.3356457 |  0.2029424 | -2.0989028 | -7.5754996 |  -5.6685199 | -6.3119247 | ⋯ | -12.001647 | -6.0974733 | -10.2324669 | -6.8742954 | -7.588997 | -7.1581058 | -6.76621145 | -10.187978 | -11.564694 | -6.427916 |\n",
       "| LV2 |   3.459603 |   8.06594762 |   7.211450 |   3.122184 |  4.3657242 |  5.1479000 |  8.9023561 | -1.3133951 |  10.8377067 |  7.7543710 | ⋯ |   5.276786 |  5.3923146 |   0.9414166 |  5.4092998 |  5.420099 |  4.9922998 |  0.03035671 |   5.708420 |   9.940002 |  6.350229 |\n",
       "| LV3 | -14.334404 |  -0.04179137 | -13.093453 | -10.863356 |  0.1565231 | -3.1737093 |  4.5570217 | -1.0657303 |   1.4417610 | -0.5003182 | ⋯ |  -1.952572 | -5.7389424 |  -4.5867668 | -1.4738001 | -3.355430 | -0.9476843 | -5.51947902 | -16.900343 |  -0.378750 | -2.109437 |\n",
       "| LV4 |   5.664438 |  -3.71890002 |   7.659477 |   7.024201 |  5.1392727 | -7.9123321 | -0.8117049 | -1.6262067 |  -0.1055743 |  0.6813731 | ⋯ |   3.803885 |  0.5608233 |   7.7050968 |  1.7348322 |  3.140392 | -1.2318803 |  4.10270176 |   9.392775 | -10.255381 |  1.045551 |\n",
       "| LV5 |  -2.526532 |   2.99495871 |  -4.124941 |  -3.495563 |  2.2371354 | -2.1989246 | -5.5482976 |  0.7153978 | -11.6247845 | -0.1748736 | ⋯ |   7.432149 |  0.5656654 |   3.0901286 |  0.9475235 |  2.592560 |  0.5905050 | -0.26678222 |   1.520363 |   4.730265 | -1.910161 |\n",
       "| LV6 |  57.109306 |  -2.56155320 |  36.543495 |  45.959927 | 10.2836796 | 26.5271033 | 15.0875426 | 29.5871176 |  -4.8994037 |  0.2797221 | ⋯ |  -1.798534 | 12.2832666 |   9.4588626 |  5.7282534 |  6.560442 |  7.9495432 | 24.27239045 |  44.400482 |  -4.458813 | 18.413333 |\n",
       "\n"
      ],
      "text/plain": [
       "    GTEX-1117F-0226-SM-5GZZ7 GTEX-1117F-0426-SM-5EGHI GTEX-1117F-0526-SM-5EGHJ\n",
       "LV1 -10.589027               -14.64281971              -9.064855              \n",
       "LV2   3.459603                 8.06594762               7.211450              \n",
       "LV3 -14.334404                -0.04179137             -13.093453              \n",
       "LV4   5.664438                -3.71890002               7.659477              \n",
       "LV5  -2.526532                 2.99495871              -4.124941              \n",
       "LV6  57.109306                -2.56155320              36.543495              \n",
       "    GTEX-1117F-0626-SM-5N9CS GTEX-1117F-0726-SM-5GIEN GTEX-1117F-1326-SM-5EGHH\n",
       "LV1  -3.801207               -3.3356457                0.2029424              \n",
       "LV2   3.122184                4.3657242                5.1479000              \n",
       "LV3 -10.863356                0.1565231               -3.1737093              \n",
       "LV4   7.024201                5.1392727               -7.9123321              \n",
       "LV5  -3.495563                2.2371354               -2.1989246              \n",
       "LV6  45.959927               10.2836796               26.5271033              \n",
       "    GTEX-1117F-2826-SM-5GZXL GTEX-1117F-2926-SM-5GZYI GTEX-1117F-3226-SM-5N9CT\n",
       "LV1 -2.0989028               -7.5754996                -5.6685199             \n",
       "LV2  8.9023561               -1.3133951                10.8377067             \n",
       "LV3  4.5570217               -1.0657303                 1.4417610             \n",
       "LV4 -0.8117049               -1.6262067                -0.1055743             \n",
       "LV5 -5.5482976                0.7153978               -11.6247845             \n",
       "LV6 15.0875426               29.5871176                -4.8994037             \n",
       "    GTEX-111CU-0126-SM-5GZWZ ⋯ GTEX-ZZPU-0926-SM-5GZYT GTEX-ZZPU-1026-SM-5E457\n",
       "LV1 -6.3119247               ⋯ -12.001647              -6.0974733             \n",
       "LV2  7.7543710               ⋯   5.276786               5.3923146             \n",
       "LV3 -0.5003182               ⋯  -1.952572              -5.7389424             \n",
       "LV4  0.6813731               ⋯   3.803885               0.5608233             \n",
       "LV5 -0.1748736               ⋯   7.432149               0.5656654             \n",
       "LV6  0.2797221               ⋯  -1.798534              12.2832666             \n",
       "    GTEX-ZZPU-1126-SM-5N9CW GTEX-ZZPU-1226-SM-5N9CK GTEX-ZZPU-1326-SM-5GZWS\n",
       "LV1 -10.2324669             -6.8742954              -7.588997              \n",
       "LV2   0.9414166              5.4092998               5.420099              \n",
       "LV3  -4.5867668             -1.4738001              -3.355430              \n",
       "LV4   7.7050968              1.7348322               3.140392              \n",
       "LV5   3.0901286              0.9475235               2.592560              \n",
       "LV6   9.4588626              5.7282534               6.560442              \n",
       "    GTEX-ZZPU-1426-SM-5GZZ6 GTEX-ZZPU-1826-SM-5E43L GTEX-ZZPU-2426-SM-5E44I\n",
       "LV1 -7.1581058              -6.76621145             -10.187978             \n",
       "LV2  4.9922998               0.03035671               5.708420             \n",
       "LV3 -0.9476843              -5.51947902             -16.900343             \n",
       "LV4 -1.2318803               4.10270176               9.392775             \n",
       "LV5  0.5905050              -0.26678222               1.520363             \n",
       "LV6  7.9495432              24.27239045              44.400482             \n",
       "    GTEX-ZZPU-2626-SM-5E45Y GTEX-ZZPU-2726-SM-5NQ8O\n",
       "LV1 -11.564694              -6.427916              \n",
       "LV2   9.940002               6.350229              \n",
       "LV3  -0.378750              -2.109437              \n",
       "LV4 -10.255381               1.045551              \n",
       "LV5   4.730265              -1.910161              \n",
       "LV6  -4.458813              18.413333              "
      ]
     },
     "metadata": {},
     "output_type": "display_data"
    }
   ],
   "source": [
    "rownames(gtex_archs4_projection) <- gsub(' ', '', rownames(gtex_archs4_projection))\n",
    "head(gtex_archs4_projection[, 1:5])"
   ]
  },
  {
   "cell_type": "code",
   "execution_count": 83,
   "id": "af9f28e8",
   "metadata": {
    "vscode": {
     "languageId": "r"
    }
   },
   "outputs": [],
   "source": [
    "gtex_archs4_projection_filtered <- gtex_archs4_projection %>%\n",
    "  rownames_to_column(\"LV\") %>%\n",
    "  dplyr::filter(LV %in% archs4_sig_lvs) %>%\n",
    "  column_to_rownames(\"LV\")"
   ]
  },
  {
   "cell_type": "code",
   "execution_count": 84,
   "id": "215887f4",
   "metadata": {
    "vscode": {
     "languageId": "r"
    }
   },
   "outputs": [
    {
     "data": {
      "text/html": [
       "<table class=\"dataframe\">\n",
       "<caption>A data.frame: 6 × 16417</caption>\n",
       "<thead>\n",
       "\t<tr><th></th><th scope=col>GTEX-1117F-0226-SM-5GZZ7</th><th scope=col>GTEX-1117F-0426-SM-5EGHI</th><th scope=col>GTEX-1117F-0526-SM-5EGHJ</th><th scope=col>GTEX-1117F-0626-SM-5N9CS</th><th scope=col>GTEX-1117F-0726-SM-5GIEN</th><th scope=col>GTEX-1117F-1326-SM-5EGHH</th><th scope=col>GTEX-1117F-2826-SM-5GZXL</th><th scope=col>GTEX-1117F-2926-SM-5GZYI</th><th scope=col>GTEX-1117F-3226-SM-5N9CT</th><th scope=col>GTEX-111CU-0126-SM-5GZWZ</th><th scope=col>⋯</th><th scope=col>GTEX-ZZPU-0926-SM-5GZYT</th><th scope=col>GTEX-ZZPU-1026-SM-5E457</th><th scope=col>GTEX-ZZPU-1126-SM-5N9CW</th><th scope=col>GTEX-ZZPU-1226-SM-5N9CK</th><th scope=col>GTEX-ZZPU-1326-SM-5GZWS</th><th scope=col>GTEX-ZZPU-1426-SM-5GZZ6</th><th scope=col>GTEX-ZZPU-1826-SM-5E43L</th><th scope=col>GTEX-ZZPU-2426-SM-5E44I</th><th scope=col>GTEX-ZZPU-2626-SM-5E45Y</th><th scope=col>GTEX-ZZPU-2726-SM-5NQ8O</th></tr>\n",
       "\t<tr><th></th><th scope=col>&lt;dbl&gt;</th><th scope=col>&lt;dbl&gt;</th><th scope=col>&lt;dbl&gt;</th><th scope=col>&lt;dbl&gt;</th><th scope=col>&lt;dbl&gt;</th><th scope=col>&lt;dbl&gt;</th><th scope=col>&lt;dbl&gt;</th><th scope=col>&lt;dbl&gt;</th><th scope=col>&lt;dbl&gt;</th><th scope=col>&lt;dbl&gt;</th><th scope=col>⋯</th><th scope=col>&lt;dbl&gt;</th><th scope=col>&lt;dbl&gt;</th><th scope=col>&lt;dbl&gt;</th><th scope=col>&lt;dbl&gt;</th><th scope=col>&lt;dbl&gt;</th><th scope=col>&lt;dbl&gt;</th><th scope=col>&lt;dbl&gt;</th><th scope=col>&lt;dbl&gt;</th><th scope=col>&lt;dbl&gt;</th><th scope=col>&lt;dbl&gt;</th></tr>\n",
       "</thead>\n",
       "<tbody>\n",
       "\t<tr><th scope=row>LV4</th><td>  5.664438</td><td>-3.7189000</td><td> 7.659477</td><td>  7.024201</td><td> 5.1392727</td><td>-7.9123321</td><td>-0.8117049</td><td>-1.6262067</td><td>-0.1055743</td><td> 0.6813731</td><td>⋯</td><td> 3.803885</td><td> 0.5608233</td><td> 7.705097</td><td> 1.7348322</td><td> 3.1403920</td><td>-1.231880</td><td> 4.102702</td><td> 9.392775</td><td>-10.255381</td><td> 1.045551</td></tr>\n",
       "\t<tr><th scope=row>LV6</th><td> 57.109306</td><td>-2.5615532</td><td>36.543495</td><td> 45.959927</td><td>10.2836796</td><td>26.5271033</td><td>15.0875426</td><td>29.5871176</td><td>-4.8994037</td><td> 0.2797221</td><td>⋯</td><td>-1.798534</td><td>12.2832666</td><td> 9.458863</td><td> 5.7282534</td><td> 6.5604422</td><td> 7.949543</td><td>24.272390</td><td>44.400482</td><td> -4.458813</td><td>18.413333</td></tr>\n",
       "\t<tr><th scope=row>LV10</th><td>-12.357593</td><td> 6.0309447</td><td>-6.331369</td><td>-13.107697</td><td> 6.6758267</td><td>-0.8704793</td><td>-1.5362578</td><td>-2.0871119</td><td> 9.0422606</td><td> 6.0102113</td><td>⋯</td><td> 9.566702</td><td>-2.8308538</td><td> 3.976866</td><td>-0.1183651</td><td> 3.4032250</td><td> 3.390500</td><td>-1.322968</td><td>-7.883405</td><td>  9.423927</td><td>-9.426970</td></tr>\n",
       "\t<tr><th scope=row>LV11</th><td>  1.913863</td><td>18.8529745</td><td>-1.458616</td><td> -3.888647</td><td>24.5626785</td><td>-1.4206931</td><td> 4.0589378</td><td> 3.3194414</td><td>22.3400172</td><td>19.1905583</td><td>⋯</td><td>18.519646</td><td>10.8834511</td><td>17.943840</td><td>14.1542859</td><td>12.7934349</td><td>14.333880</td><td> 6.436627</td><td> 2.565905</td><td> 17.576864</td><td> 8.625206</td></tr>\n",
       "\t<tr><th scope=row>LV13</th><td> 12.663101</td><td>-0.6241795</td><td>11.823197</td><td>  7.839718</td><td> 4.1458186</td><td> 7.2825359</td><td> 3.2281302</td><td>-5.0525464</td><td> 5.4352274</td><td>16.8851218</td><td>⋯</td><td>-2.402965</td><td>11.2052561</td><td> 1.422812</td><td>21.5521889</td><td> 0.5379011</td><td> 3.727253</td><td> 6.410183</td><td>11.610667</td><td>  1.020207</td><td> 7.143310</td></tr>\n",
       "\t<tr><th scope=row>LV14</th><td>  6.290361</td><td>-7.1444886</td><td> 2.867832</td><td> 13.755431</td><td> 0.7846897</td><td> 8.4420012</td><td> 5.1620606</td><td>-0.6550316</td><td> 2.3879174</td><td> 3.4650653</td><td>⋯</td><td> 5.917638</td><td> 3.1768501</td><td> 7.234432</td><td> 4.1104308</td><td>-1.3200760</td><td> 3.109167</td><td>23.076713</td><td>11.831553</td><td> -6.562454</td><td> 4.590573</td></tr>\n",
       "</tbody>\n",
       "</table>\n"
      ],
      "text/latex": [
       "A data.frame: 6 × 16417\n",
       "\\begin{tabular}{r|lllllllllllllllllllll}\n",
       "  & GTEX-1117F-0226-SM-5GZZ7 & GTEX-1117F-0426-SM-5EGHI & GTEX-1117F-0526-SM-5EGHJ & GTEX-1117F-0626-SM-5N9CS & GTEX-1117F-0726-SM-5GIEN & GTEX-1117F-1326-SM-5EGHH & GTEX-1117F-2826-SM-5GZXL & GTEX-1117F-2926-SM-5GZYI & GTEX-1117F-3226-SM-5N9CT & GTEX-111CU-0126-SM-5GZWZ & ⋯ & GTEX-ZZPU-0926-SM-5GZYT & GTEX-ZZPU-1026-SM-5E457 & GTEX-ZZPU-1126-SM-5N9CW & GTEX-ZZPU-1226-SM-5N9CK & GTEX-ZZPU-1326-SM-5GZWS & GTEX-ZZPU-1426-SM-5GZZ6 & GTEX-ZZPU-1826-SM-5E43L & GTEX-ZZPU-2426-SM-5E44I & GTEX-ZZPU-2626-SM-5E45Y & GTEX-ZZPU-2726-SM-5NQ8O\\\\\n",
       "  & <dbl> & <dbl> & <dbl> & <dbl> & <dbl> & <dbl> & <dbl> & <dbl> & <dbl> & <dbl> & ⋯ & <dbl> & <dbl> & <dbl> & <dbl> & <dbl> & <dbl> & <dbl> & <dbl> & <dbl> & <dbl>\\\\\n",
       "\\hline\n",
       "\tLV4 &   5.664438 & -3.7189000 &  7.659477 &   7.024201 &  5.1392727 & -7.9123321 & -0.8117049 & -1.6262067 & -0.1055743 &  0.6813731 & ⋯ &  3.803885 &  0.5608233 &  7.705097 &  1.7348322 &  3.1403920 & -1.231880 &  4.102702 &  9.392775 & -10.255381 &  1.045551\\\\\n",
       "\tLV6 &  57.109306 & -2.5615532 & 36.543495 &  45.959927 & 10.2836796 & 26.5271033 & 15.0875426 & 29.5871176 & -4.8994037 &  0.2797221 & ⋯ & -1.798534 & 12.2832666 &  9.458863 &  5.7282534 &  6.5604422 &  7.949543 & 24.272390 & 44.400482 &  -4.458813 & 18.413333\\\\\n",
       "\tLV10 & -12.357593 &  6.0309447 & -6.331369 & -13.107697 &  6.6758267 & -0.8704793 & -1.5362578 & -2.0871119 &  9.0422606 &  6.0102113 & ⋯ &  9.566702 & -2.8308538 &  3.976866 & -0.1183651 &  3.4032250 &  3.390500 & -1.322968 & -7.883405 &   9.423927 & -9.426970\\\\\n",
       "\tLV11 &   1.913863 & 18.8529745 & -1.458616 &  -3.888647 & 24.5626785 & -1.4206931 &  4.0589378 &  3.3194414 & 22.3400172 & 19.1905583 & ⋯ & 18.519646 & 10.8834511 & 17.943840 & 14.1542859 & 12.7934349 & 14.333880 &  6.436627 &  2.565905 &  17.576864 &  8.625206\\\\\n",
       "\tLV13 &  12.663101 & -0.6241795 & 11.823197 &   7.839718 &  4.1458186 &  7.2825359 &  3.2281302 & -5.0525464 &  5.4352274 & 16.8851218 & ⋯ & -2.402965 & 11.2052561 &  1.422812 & 21.5521889 &  0.5379011 &  3.727253 &  6.410183 & 11.610667 &   1.020207 &  7.143310\\\\\n",
       "\tLV14 &   6.290361 & -7.1444886 &  2.867832 &  13.755431 &  0.7846897 &  8.4420012 &  5.1620606 & -0.6550316 &  2.3879174 &  3.4650653 & ⋯ &  5.917638 &  3.1768501 &  7.234432 &  4.1104308 & -1.3200760 &  3.109167 & 23.076713 & 11.831553 &  -6.562454 &  4.590573\\\\\n",
       "\\end{tabular}\n"
      ],
      "text/markdown": [
       "\n",
       "A data.frame: 6 × 16417\n",
       "\n",
       "| <!--/--> | GTEX-1117F-0226-SM-5GZZ7 &lt;dbl&gt; | GTEX-1117F-0426-SM-5EGHI &lt;dbl&gt; | GTEX-1117F-0526-SM-5EGHJ &lt;dbl&gt; | GTEX-1117F-0626-SM-5N9CS &lt;dbl&gt; | GTEX-1117F-0726-SM-5GIEN &lt;dbl&gt; | GTEX-1117F-1326-SM-5EGHH &lt;dbl&gt; | GTEX-1117F-2826-SM-5GZXL &lt;dbl&gt; | GTEX-1117F-2926-SM-5GZYI &lt;dbl&gt; | GTEX-1117F-3226-SM-5N9CT &lt;dbl&gt; | GTEX-111CU-0126-SM-5GZWZ &lt;dbl&gt; | ⋯ ⋯ | GTEX-ZZPU-0926-SM-5GZYT &lt;dbl&gt; | GTEX-ZZPU-1026-SM-5E457 &lt;dbl&gt; | GTEX-ZZPU-1126-SM-5N9CW &lt;dbl&gt; | GTEX-ZZPU-1226-SM-5N9CK &lt;dbl&gt; | GTEX-ZZPU-1326-SM-5GZWS &lt;dbl&gt; | GTEX-ZZPU-1426-SM-5GZZ6 &lt;dbl&gt; | GTEX-ZZPU-1826-SM-5E43L &lt;dbl&gt; | GTEX-ZZPU-2426-SM-5E44I &lt;dbl&gt; | GTEX-ZZPU-2626-SM-5E45Y &lt;dbl&gt; | GTEX-ZZPU-2726-SM-5NQ8O &lt;dbl&gt; |\n",
       "|---|---|---|---|---|---|---|---|---|---|---|---|---|---|---|---|---|---|---|---|---|---|\n",
       "| LV4 |   5.664438 | -3.7189000 |  7.659477 |   7.024201 |  5.1392727 | -7.9123321 | -0.8117049 | -1.6262067 | -0.1055743 |  0.6813731 | ⋯ |  3.803885 |  0.5608233 |  7.705097 |  1.7348322 |  3.1403920 | -1.231880 |  4.102702 |  9.392775 | -10.255381 |  1.045551 |\n",
       "| LV6 |  57.109306 | -2.5615532 | 36.543495 |  45.959927 | 10.2836796 | 26.5271033 | 15.0875426 | 29.5871176 | -4.8994037 |  0.2797221 | ⋯ | -1.798534 | 12.2832666 |  9.458863 |  5.7282534 |  6.5604422 |  7.949543 | 24.272390 | 44.400482 |  -4.458813 | 18.413333 |\n",
       "| LV10 | -12.357593 |  6.0309447 | -6.331369 | -13.107697 |  6.6758267 | -0.8704793 | -1.5362578 | -2.0871119 |  9.0422606 |  6.0102113 | ⋯ |  9.566702 | -2.8308538 |  3.976866 | -0.1183651 |  3.4032250 |  3.390500 | -1.322968 | -7.883405 |   9.423927 | -9.426970 |\n",
       "| LV11 |   1.913863 | 18.8529745 | -1.458616 |  -3.888647 | 24.5626785 | -1.4206931 |  4.0589378 |  3.3194414 | 22.3400172 | 19.1905583 | ⋯ | 18.519646 | 10.8834511 | 17.943840 | 14.1542859 | 12.7934349 | 14.333880 |  6.436627 |  2.565905 |  17.576864 |  8.625206 |\n",
       "| LV13 |  12.663101 | -0.6241795 | 11.823197 |   7.839718 |  4.1458186 |  7.2825359 |  3.2281302 | -5.0525464 |  5.4352274 | 16.8851218 | ⋯ | -2.402965 | 11.2052561 |  1.422812 | 21.5521889 |  0.5379011 |  3.727253 |  6.410183 | 11.610667 |   1.020207 |  7.143310 |\n",
       "| LV14 |   6.290361 | -7.1444886 |  2.867832 |  13.755431 |  0.7846897 |  8.4420012 |  5.1620606 | -0.6550316 |  2.3879174 |  3.4650653 | ⋯ |  5.917638 |  3.1768501 |  7.234432 |  4.1104308 | -1.3200760 |  3.109167 | 23.076713 | 11.831553 |  -6.562454 |  4.590573 |\n",
       "\n"
      ],
      "text/plain": [
       "     GTEX-1117F-0226-SM-5GZZ7 GTEX-1117F-0426-SM-5EGHI GTEX-1117F-0526-SM-5EGHJ\n",
       "LV4    5.664438               -3.7189000                7.659477               \n",
       "LV6   57.109306               -2.5615532               36.543495               \n",
       "LV10 -12.357593                6.0309447               -6.331369               \n",
       "LV11   1.913863               18.8529745               -1.458616               \n",
       "LV13  12.663101               -0.6241795               11.823197               \n",
       "LV14   6.290361               -7.1444886                2.867832               \n",
       "     GTEX-1117F-0626-SM-5N9CS GTEX-1117F-0726-SM-5GIEN GTEX-1117F-1326-SM-5EGHH\n",
       "LV4    7.024201                5.1392727               -7.9123321              \n",
       "LV6   45.959927               10.2836796               26.5271033              \n",
       "LV10 -13.107697                6.6758267               -0.8704793              \n",
       "LV11  -3.888647               24.5626785               -1.4206931              \n",
       "LV13   7.839718                4.1458186                7.2825359              \n",
       "LV14  13.755431                0.7846897                8.4420012              \n",
       "     GTEX-1117F-2826-SM-5GZXL GTEX-1117F-2926-SM-5GZYI GTEX-1117F-3226-SM-5N9CT\n",
       "LV4  -0.8117049               -1.6262067               -0.1055743              \n",
       "LV6  15.0875426               29.5871176               -4.8994037              \n",
       "LV10 -1.5362578               -2.0871119                9.0422606              \n",
       "LV11  4.0589378                3.3194414               22.3400172              \n",
       "LV13  3.2281302               -5.0525464                5.4352274              \n",
       "LV14  5.1620606               -0.6550316                2.3879174              \n",
       "     GTEX-111CU-0126-SM-5GZWZ ⋯ GTEX-ZZPU-0926-SM-5GZYT GTEX-ZZPU-1026-SM-5E457\n",
       "LV4   0.6813731               ⋯  3.803885                0.5608233             \n",
       "LV6   0.2797221               ⋯ -1.798534               12.2832666             \n",
       "LV10  6.0102113               ⋯  9.566702               -2.8308538             \n",
       "LV11 19.1905583               ⋯ 18.519646               10.8834511             \n",
       "LV13 16.8851218               ⋯ -2.402965               11.2052561             \n",
       "LV14  3.4650653               ⋯  5.917638                3.1768501             \n",
       "     GTEX-ZZPU-1126-SM-5N9CW GTEX-ZZPU-1226-SM-5N9CK GTEX-ZZPU-1326-SM-5GZWS\n",
       "LV4   7.705097                1.7348322               3.1403920             \n",
       "LV6   9.458863                5.7282534               6.5604422             \n",
       "LV10  3.976866               -0.1183651               3.4032250             \n",
       "LV11 17.943840               14.1542859              12.7934349             \n",
       "LV13  1.422812               21.5521889               0.5379011             \n",
       "LV14  7.234432                4.1104308              -1.3200760             \n",
       "     GTEX-ZZPU-1426-SM-5GZZ6 GTEX-ZZPU-1826-SM-5E43L GTEX-ZZPU-2426-SM-5E44I\n",
       "LV4  -1.231880                4.102702                9.392775              \n",
       "LV6   7.949543               24.272390               44.400482              \n",
       "LV10  3.390500               -1.322968               -7.883405              \n",
       "LV11 14.333880                6.436627                2.565905              \n",
       "LV13  3.727253                6.410183               11.610667              \n",
       "LV14  3.109167               23.076713               11.831553              \n",
       "     GTEX-ZZPU-2626-SM-5E45Y GTEX-ZZPU-2726-SM-5NQ8O\n",
       "LV4  -10.255381               1.045551              \n",
       "LV6   -4.458813              18.413333              \n",
       "LV10   9.423927              -9.426970              \n",
       "LV11  17.576864               8.625206              \n",
       "LV13   1.020207               7.143310              \n",
       "LV14  -6.562454               4.590573              "
      ]
     },
     "metadata": {},
     "output_type": "display_data"
    },
    {
     "data": {
      "text/html": [
       "<style>\n",
       ".list-inline {list-style: none; margin:0; padding: 0}\n",
       ".list-inline>li {display: inline-block}\n",
       ".list-inline>li:not(:last-child)::after {content: \"\\00b7\"; padding: 0 .5ex}\n",
       "</style>\n",
       "<ol class=list-inline><li>272</li><li>16417</li></ol>\n"
      ],
      "text/latex": [
       "\\begin{enumerate*}\n",
       "\\item 272\n",
       "\\item 16417\n",
       "\\end{enumerate*}\n"
      ],
      "text/markdown": [
       "1. 272\n",
       "2. 16417\n",
       "\n",
       "\n"
      ],
      "text/plain": [
       "[1]   272 16417"
      ]
     },
     "metadata": {},
     "output_type": "display_data"
    }
   ],
   "source": [
    "head(gtex_archs4_projection_filtered)\n",
    "dim(gtex_archs4_projection_filtered)"
   ]
  },
  {
   "cell_type": "code",
   "execution_count": 91,
   "id": "0e0ef7f9",
   "metadata": {
    "vscode": {
     "languageId": "r"
    }
   },
   "outputs": [],
   "source": [
    "write.csv(gtex_archs4_projection_filtered, here('output/archs4/gtex_archs4_projection_filtered.csv'), row.names = TRUE, quote = FALSE)"
   ]
  }
 ],
 "metadata": {
  "kernelspec": {
   "display_name": "R",
   "language": "R",
   "name": "ir"
  },
  "language_info": {
   "codemirror_mode": "r",
   "file_extension": ".r",
   "mimetype": "text/x-r-source",
   "name": "R",
   "pygments_lexer": "r",
   "version": "4.3.3"
  }
 },
 "nbformat": 4,
 "nbformat_minor": 5
}
